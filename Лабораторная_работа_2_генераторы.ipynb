{
 "cells": [
  {
   "cell_type": "markdown",
   "metadata": {
    "id": "33qZMC5ctb-E"
   },
   "source": [
    "# Генераторы"
   ]
  },
  {
   "cell_type": "markdown",
   "metadata": {
    "id": "YwrsihSoPkxh"
   },
   "source": [
    "## Теоретическая часть\n",
    "\n",
    "Под генераторами в Python понимается два различных объекта с разной реализацией, которые однако, преследуют одну цель.\n",
    "\n",
    "В целом, генераторы это итераторы, которые не хранят всю коллекцию, которую необходимо обойти, целиком. Генераторы ленивы по своей природе. Такой подход имеет как свои плюсы так и минусы. \n",
    "\n",
    "| Генератор             | Итератор                 |\n",
    "| -------------         |------------------        |\n",
    "| Потребляет мало памяти| Потребляет много памяти  |\n",
    "| Быстрый старт     | Перед стартом работы требуется много времени |\n",
    "| Требует время для генерации элемента(+ переключение контекста на сам генератор)| Очередной элемент получается быстро|\n",
    "| Возможно прекратить генерацию после определенного элемента| Вся коллекция будет сгенерирована|\n",
    "|Можно пройти один раз| Можно пройти один раз|\n",
    "\n",
    "### Выражение-генератор\n",
    "Выражение генератор выглядит как известные нам генераторы списков, множеств, словарей, но определяется в круглых скобках. В отличие от прочих генераторов, он возвращает не объект необходимого списка, а объект генератора, по которому можно итерироваться. \n",
    "\n",
    "Общий синтаксис: \n",
    "```python\n",
    "(operation for element1 in iterable1 for element2 in iterable2... if conditions)\n",
    "```\n",
    "\n",
    "### Функция-генератор\n",
    "Чтобы создать генератор, необходимо определить фнкцию, но вместо `return` указать `yield`. `уield` приостанавливает функцию и сохраняет локальное состояние, чтобы работу функции можно было возобновить с места, где она была остановлена. Функция, определенная таким образом, после вызова вернет генератор.\n",
    "\n",
    "\n",
    "\n"
   ]
  },
  {
   "cell_type": "markdown",
   "metadata": {
    "id": "8uXSV40Dr7Ga"
   },
   "source": [
    "## Code Snippets"
   ]
  },
  {
   "cell_type": "code",
   "execution_count": 2,
   "metadata": {
    "ExecuteTime": {
     "end_time": "2025-03-22T07:16:00.981817Z",
     "start_time": "2025-03-22T07:16:00.979570Z"
    },
    "id": "Mhz7zbfzBHgq"
   },
   "outputs": [
    {
     "name": "stdout",
     "output_type": "stream",
     "text": [
      "<class 'generator'>\n",
      "0\n",
      "going to next iteration\n",
      "after yield\n",
      "1\n",
      "going to next iteration\n",
      "after yield\n",
      "2\n",
      "going to next iteration\n",
      "after yield\n"
     ]
    }
   ],
   "source": [
    "# Создание функции генератора.\n",
    "def my_generator():\n",
    "    for i in range(3):\n",
    "        yield i\n",
    "        print(\"after yield\")\n",
    "\n",
    "gen = my_generator()  # получаем генератор из нашей функции\n",
    "print(type(gen))\n",
    "\n",
    "for i in gen:\n",
    "    print(i)\n",
    "    print(\"going to next iteration\")"
   ]
  },
  {
   "cell_type": "code",
   "execution_count": 6,
   "metadata": {
    "ExecuteTime": {
     "end_time": "2025-03-22T07:20:48.619110Z",
     "start_time": "2025-03-22T07:20:48.497271Z"
    },
    "id": "ykTyTjqasj8v"
   },
   "outputs": [
    {
     "name": "stdout",
     "output_type": "stream",
     "text": [
      "0\n",
      "1\n",
      "2\n"
     ]
    },
    {
     "ename": "StopIteration",
     "evalue": "",
     "output_type": "error",
     "traceback": [
      "\u001b[31m---------------------------------------------------------------------------\u001b[39m",
      "\u001b[31mStopIteration\u001b[39m                             Traceback (most recent call last)",
      "\u001b[36mCell\u001b[39m\u001b[36m \u001b[39m\u001b[32mIn[6]\u001b[39m\u001b[32m, line 10\u001b[39m\n\u001b[32m      8\u001b[39m \u001b[38;5;28mprint\u001b[39m(\u001b[38;5;28mnext\u001b[39m(gen))\n\u001b[32m      9\u001b[39m \u001b[38;5;28mprint\u001b[39m(\u001b[38;5;28mnext\u001b[39m(gen))\n\u001b[32m---> \u001b[39m\u001b[32m10\u001b[39m \u001b[38;5;28mprint\u001b[39m(\u001b[38;5;28;43mnext\u001b[39;49m\u001b[43m(\u001b[49m\u001b[43mgen\u001b[49m\u001b[43m)\u001b[49m)\n\u001b[32m     11\u001b[39m \u001b[38;5;66;03m# У нас тут все атрибуты итератора: __iter__ и __next__.\u001b[39;00m\n\u001b[32m     12\u001b[39m \u001b[38;5;66;03m# print(*dir(gen), sep='\\n')\u001b[39;00m\n",
      "\u001b[31mStopIteration\u001b[39m: "
     ]
    }
   ],
   "source": [
    "# Убеждаемся что наш генератор - итератор.\n",
    "def my_generator():\n",
    "    for i in range(100):\n",
    "        yield i\n",
    "        if i == 50:\n",
    "            break\n",
    "    # StopIteration\n",
    "\n",
    "gen = my_generator()\n",
    "print(next(gen))\n",
    "print(next(gen))\n",
    "print(next(gen))\n",
    "print(next(gen))\n",
    "# У нас тут все атрибуты итератора: __iter__ и __next__.\n",
    "# print(*dir(gen), sep='\\n')"
   ]
  },
  {
   "cell_type": "code",
   "execution_count": 7,
   "metadata": {
    "ExecuteTime": {
     "end_time": "2025-03-22T07:23:24.461769Z",
     "start_time": "2025-03-22T07:23:24.458343Z"
    },
    "id": "oF8Kp1qptAZQ"
   },
   "outputs": [
    {
     "name": "stdout",
     "output_type": "stream",
     "text": [
      "<class 'generator'>\n",
      "0\n",
      "1\n",
      "2\n"
     ]
    }
   ],
   "source": [
    "# Простейшее выражение-генератор.\n",
    "gen = (_ for _ in range(3))\n",
    "print(type(gen))\n",
    "for el in gen:\n",
    "    print(el)"
   ]
  },
  {
   "cell_type": "code",
   "execution_count": null,
   "metadata": {
    "id": "6TJ_980oIbrH"
   },
   "outputs": [],
   "source": [
    "# И в таком случае получаем тот же самый генератор, который является итератором.\n",
    "print (*dir((a for a in range(2))), sep='\\n')"
   ]
  },
  {
   "cell_type": "code",
   "execution_count": 12,
   "metadata": {
    "ExecuteTime": {
     "end_time": "2025-03-22T07:26:52.481531Z",
     "start_time": "2025-03-22T07:26:52.458771Z"
    },
    "id": "Lh6rHO4AcG4R"
   },
   "outputs": [
    {
     "name": "stdout",
     "output_type": "stream",
     "text": [
      "Generator size: 192\n",
      "List size: 8448728\n"
     ]
    }
   ],
   "source": [
    "# Проверим использование памяти выражением-генератором и генератором списков.\n",
    "import sys\n",
    "\n",
    "def my_generator():\n",
    "    for i in range(1_000_000):\n",
    "        yield i\n",
    "\n",
    "gen = my_generator()\n",
    "\n",
    "lst_ = [_ for _ in range(1_000_000)]\n",
    "\n",
    "print(\"Generator size:\", sys.getsizeof(gen))\n",
    "print(\"List size:\", sys.getsizeof(lst_))"
   ]
  }
 ],
 "metadata": {
  "colab": {
   "collapsed_sections": [],
   "name": "5.Итерируемые_объекты_v1.ipynb",
   "provenance": []
  },
  "kernelspec": {
   "display_name": "Python 3 (ipykernel)",
   "language": "python",
   "name": "python3"
  }
 },
 "nbformat": 4,
 "nbformat_minor": 0
}
