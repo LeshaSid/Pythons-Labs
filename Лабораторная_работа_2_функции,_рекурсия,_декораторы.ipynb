{
 "cells": [
  {
   "cell_type": "markdown",
   "metadata": {
    "id": "H5GeJ2hOkoY2"
   },
   "source": [
    "# Функции и модульность"
   ]
  },
  {
   "cell_type": "markdown",
   "metadata": {
    "id": "R6wS4eE5qMrd"
   },
   "source": [
    "## Базовое понятие функций\n"
   ]
  },
  {
   "cell_type": "markdown",
   "metadata": {
    "id": "PdgX7UKkp2Rv"
   },
   "source": [
    "### Теоретические сведения\n"
   ]
  },
  {
   "cell_type": "markdown",
   "metadata": {
    "id": "oLNQuAohqX6s"
   },
   "source": [
    "#### Определения\n",
    "\n",
    "Функция в Python - фактически способ создать подпрограмму. Подпрограмма - именованная или иным образом идентифицированная последовательность команд. \n",
    "\n",
    "Простыми словами - функция это объект, который может принимать входные параметры, и возвращать результат после выполнения определенных инструкций. \n",
    "\n",
    "**Базовый синтаксис для задания функции:** \n",
    "```python\n",
    "def function_name(parameters):\n",
    "  # тело функции - команды, которые необходимо выполнить с входными параметрами\n",
    "  pass\n",
    "  return result  # после оператора return ставится возвращаемое функцией значение\n",
    "```\n",
    "\n",
    "**Примечания:**\n",
    "\n",
    "- Функции именуются в snake_case.\n",
    "- Функция может принимать любое количество параметров (от 0 до произвольного количества).\n",
    "- Функция всегда возвращает значение - если оператор `return` не указан - функция автоматически вернет `None`.\n",
    "\n",
    "**Вызов функций**\n",
    "\n",
    "`function_name(parameters)` - вызов функции осуществляется указанием ее имени, за которым идут скобки, в которые при необходимости передаются параметры. Вы уже встречались с функция - например, `print`.\n",
    "\n"
   ]
  },
  {
   "cell_type": "markdown",
   "metadata": {
    "id": "Os4hgcz9U5dS"
   },
   "source": [
    "#### Назначение функций\n",
    "\n",
    "Функции необходимы для:\n",
    "- Увеличения индекса переиспользования кода (принцип DRY - don't repeat yourself).\n",
    "- Структурирования кода (в процедурных языках именно подпрограммы организуют структуру программы). В Python тажке вполне возможна реализация приложений в процедурном стиле. \n",
    "- Реализация рекурсивных алгоритмов.\n",
    "- Функции создают области видимости. (Об этом подробнее в разделе про LEGB). \n",
    "- С помощью функций реализуются методы в ООП.\n",
    "- С помощью функций в Python просто реализуется паттерн 'Декоратор'.\n",
    "\n"
   ]
  },
  {
   "cell_type": "markdown",
   "metadata": {
    "id": "F9hvjnFt46sK"
   },
   "source": [
    "#### Типы аргументов при задании функций \n",
    "\n",
    "**До версии 3.8**\n",
    "\n",
    "Рассмотрим следующее задание функции:\n",
    "```python\n",
    "def all_type_args(a, b=0, *args, c, d=1, **kwargs):\n",
    "  pass\n",
    "```\n",
    "В ней представлены все типы аргументов функции при ее задании:\n",
    "- `a` - позиционный аргумент (positional).\n",
    "- `b` - позиционный аргумент со значением по умолчанию.\n",
    "- `args` - запакованные в кортеж позиционные аргументы, оставшиеся после определения всех аргументов, указанных до него. Специальный синтаксис - `*name`. Традиционное имя - `args`. При задании функции может быть только один аргумент такого типа. \n",
    "- `с` - аргумент, передаваемый только по имени (keyword).\n",
    "- `d` - аргумент, передаваемый только по имени, со значением по умолчанию.\n",
    "- `kwargs` - запакованные в словарь аргументы, переданные по имени, оставшиеся после определения всех аргументов, указанных до него. При задании функции может быть только один аргумент такого типа.\n",
    "\n",
    "**Примечания**:\n",
    "- Порядок аргументов при задании функции имеет значение: Сначала задаются все позиционные аргументы, потом все позиционные со значением по умолчанию и т.д.\n",
    "- В определении функции очевидно могут быть представлены не все типы аргументов.\n",
    "- `*args` и `**kwargs` позволяют функции принимать неограниченное количество аргументов (и при этом каждый раз разное).\n",
    "- Без веской необходимости не давайте `*` и `**` аргументам имена, отличные от `args` и `kwargs`.\n",
    "- Позиционные аргументы могут быть переданы как по позиции, так и по имени, поэтому корректное их назнвание, хоть и немного длинное - `positional or keyword` аргумент, т.е. аргумент, передаваемый по позиции или имени.  \n",
    "- Функции можно задавать внутри других функций.\n",
    "- `args` и `kwargs` очевидно являются необязательными параметрами. Если не будет передано 'лишних' параметров, они просто останутся пустым кортежем и словарем соответственно. \n",
    "- В случае, если аргументам со значениями по умолчанию, не передано никакое значение, будет использовано значение по умолчанию. \n",
    "- Значения по умолчанию создаются один раз, при создании объекта функции, а значит необходимо быть аккуратным со значениями по умолчанию изменяемых типов (см. примеры).\n",
    "\n",
    "\n",
    "**В версии Python 3.8 и более поздних**\n",
    "\n",
    "В версии 3.8 был добавлен новый тип аргументов - `positional only` аргументы, т.е. передаваемые только по позиции. \n",
    "\n",
    "Базовый синтаксис:\n",
    "```python\n",
    "def name(positional_only_parameters, /, positional_or_keyword_parameters,\n",
    "         *, keyword_only_parameters):\n",
    "```\n",
    "Аргументы, передаваемые только по позиции, отделены от позиционных специальным символом `/`.\n",
    "\n",
    "Данное решение имеет как плюсы так и минусы.\n",
    "# +:\n",
    "- Позволяет авторам библиотек сильнее контролировать, как используется их API.\n",
    "- Из-за особенностей реализации, обработка таких аргументов в CPython производится быстрее. \n",
    "\n",
    "# -:\n",
    "- Схема задания функции стала объективно сложнее. Сейчас, у нас не могут одновременно быть заданы аргументы, передаваемые только по позиции со значением по умолчанию, а после них задать `positional_or_keyword_parameters`, а также еще некоторые особенности. Прочитать про инх можно тут https://deepsource.io/blog/python-positional-only-arguments/.\n",
    "\n",
    "В целом, PEP на ввод positional only параметров находится тут: https://www.python.org/dev/peps/pep-0570/#rationale.\n",
    "\n",
    "Это особенность нового Python, и еще неизвестно насколько эти возможности приживутся в языке. \n",
    "\n",
    "В целом, даже наши ipynb файлы на данный момент запускаются на 3.6 версии (ноябрь, 2020) и мы не будем рассматривать примеры на этот функционал. \n",
    "\n",
    "\n"
   ]
  },
  {
   "cell_type": "markdown",
   "metadata": {
    "id": "UUgVg8fsBQmd"
   },
   "source": [
    "#### Типы параметров, передаваемых при вызове функций\n",
    "\n",
    "Рассмотрим следующий вызов функции: \n",
    "\n",
    "`some_function(a, *collection, b=10, **some_dict)`.\n",
    "\n",
    "В ней представлены все типы аргументов которые могут быть переданы в функцию:\n",
    "- `a` - передается по позиции. \n",
    "- `collection` - любой итерируемый объект. При передаче в функцию с `*` - итерируемый обект распаковывается, и его элементы передаются внутрь функции как позиционные параметры.\n",
    "- `b` - параметр, передаваемый по имени. Слева от знака `=` указывается имя аргумента (указанного при задании функции), а слева - значение, которое будет передано этому аргументу. \n",
    "- `some_dict` - словарь. При передаче в функцию с `**` - словарь разворачивается в пары где ключ - имя аргумента функции, а значение - то, что будет передано в этот аргумент. Очевидно, ключами словаря должны быть строки.  \n",
    "\n",
    "**Примечания:**\n",
    "- Суть `*` и `**` при вызове функций. обратна к заданию функций: в первом случае происходит распаковка, во втором - упаковка параметров. \n",
    "- Эта особенность `*` и `**` позволяет например легко пробросить любой набор параметров в вызов функции, осуществляемый внутри другой функции, что мы увидим в декораторах. \n",
    "- В отличие от случая с заданием функции, `*` и `**` могут встречаться несколько раз при вызове функции. \n",
    "- В функцию как параметр, может быть передан абсолютно любой Python объект.\n",
    "\n",
    "\n"
   ]
  },
  {
   "cell_type": "markdown",
   "metadata": {
    "id": "02HkIFlbWVSF"
   },
   "source": [
    "#### Функции как объекты первого класса\n",
    "\n",
    "Объекты первого класса - это объекты в языке программирования, которые могут быть:\n",
    "- Переданы как параметр в функцию.\n",
    "- Возвращены из функции.\n",
    "- Присвоены переменной.\n",
    "- Может быть создан в процессе выполнения программы.\n",
    "\n",
    "В Python абсолютно все объекты являются объектами первого класса. Имеются ввиду все объекты, которые нам уже известны, и все, которые мы изучим позднее (например, классы). \n",
    "\n",
    "Не являются исключением и функции. Любая функция может быть передана как обычный аргумент в другую функцию, и точно также возвращена из нее. "
   ]
  },
  {
   "cell_type": "markdown",
   "metadata": {
    "id": "YITPWzYzqDdv"
   },
   "source": [
    "### Code Snippets"
   ]
  },
  {
   "cell_type": "markdown",
   "metadata": {
    "id": "ZLq1eq3le8Y9"
   },
   "source": [
    "#### Задание и вызов функций"
   ]
  },
  {
   "cell_type": "code",
   "execution_count": null,
   "metadata": {
    "colab": {
     "base_uri": "https://localhost:8080/"
    },
    "executionInfo": {
     "elapsed": 745,
     "status": "ok",
     "timestamp": 1608134205293,
     "user": {
      "displayName": "Максим Белов",
      "photoUrl": "",
      "userId": "02014007940964761986"
     },
     "user_tz": -180
    },
    "id": "E6xSZMy2T-wW",
    "outputId": "d024b003-a364-41af-9d33-338f2df1cb80"
   },
   "outputs": [
    {
     "name": "stdout",
     "output_type": "stream",
     "text": [
      "3.5\n"
     ]
    }
   ],
   "source": [
    "# Задаем простейшую функцию. Она просто складывает переданные ей значения.\n",
    "# Имена функциям даются в snake_case.\n",
    "def add(a, b):\n",
    "    print(a + b)\n",
    "\n",
    "# Вызываем функцию\n",
    "add(1, 2.5)"
   ]
  },
  {
   "cell_type": "code",
   "execution_count": 2,
   "metadata": {
    "colab": {
     "base_uri": "https://localhost:8080/"
    },
    "executionInfo": {
     "elapsed": 798,
     "status": "ok",
     "timestamp": 1608134222034,
     "user": {
      "displayName": "Максим Белов",
      "photoUrl": "",
      "userId": "02014007940964761986"
     },
     "user_tz": -180
    },
    "id": "h0DklS2tUiRN",
    "outputId": "069760c8-0174-4d75-fd40-4b87408ca440"
   },
   "outputs": [
    {
     "name": "stdout",
     "output_type": "stream",
     "text": [
      "3.5\n"
     ]
    }
   ],
   "source": [
    "# Если в функции не задано возвращаемое значение, она возвращает None .\n",
    "def add(a, b):\n",
    "    result = a + b\n",
    "    return result\n",
    "\n",
    "# Вызываем функцию.\n",
    "result = add(1, 2.5)\n",
    "print(result)"
   ]
  },
  {
   "cell_type": "markdown",
   "metadata": {
    "id": "YoBOe1kefElX"
   },
   "source": [
    "#### Типы аргументов при задании функции"
   ]
  },
  {
   "cell_type": "code",
   "execution_count": 8,
   "metadata": {
    "colab": {
     "base_uri": "https://localhost:8080/"
    },
    "executionInfo": {
     "elapsed": 3727,
     "status": "ok",
     "timestamp": 1608135836860,
     "user": {
      "displayName": "Максим Белов",
      "photoUrl": "",
      "userId": "02014007940964761986"
     },
     "user_tz": -180
    },
    "id": "jN8rCjAVXWIu",
    "outputId": "3d551e0f-35dc-483b-8a25-f815732c3a19"
   },
   "outputs": [
    {
     "name": "stdout",
     "output_type": "stream",
     "text": [
      "1 22 () 5 5 {'e': 7, 'f': '6', 'g': 10}\n"
     ]
    }
   ],
   "source": [
    "# Функция, у которой при задании есть все типы аргументов.\n",
    "def very_big_func(a, b=10, *args, c, d=1, **kwargs):\n",
    "    print(a, b, args, c, d, kwargs)\n",
    "\n",
    "very_big_func(a=1, b=22, e=7, c=5, d=5, f='6', g=10)\n",
    "# 3 идет в args, е - в kwargs."
   ]
  },
  {
   "cell_type": "code",
   "execution_count": 9,
   "metadata": {
    "colab": {
     "base_uri": "https://localhost:8080/",
     "height": 130
    },
    "executionInfo": {
     "elapsed": 667,
     "status": "error",
     "timestamp": 1608135609603,
     "user": {
      "displayName": "Максим Белов",
      "photoUrl": "",
      "userId": "02014007940964761986"
     },
     "user_tz": -180
    },
    "id": "ov8r4tubbLYg",
    "outputId": "b2d68f53-7584-421d-b86c-e21601d2b2d8"
   },
   "outputs": [
    {
     "ename": "SyntaxError",
     "evalue": "parameter without a default follows parameter with a default (1660103765.py, line 6)",
     "output_type": "error",
     "traceback": [
      "  \u001b[36mCell\u001b[39m\u001b[36m \u001b[39m\u001b[32mIn[9]\u001b[39m\u001b[32m, line 6\u001b[39m\n\u001b[31m    \u001b[39m\u001b[31mdef func_with_error(a=10, b):\u001b[39m\n                              ^\n\u001b[31mSyntaxError\u001b[39m\u001b[31m:\u001b[39m parameter without a default follows parameter with a default\n"
     ]
    }
   ],
   "source": [
    "# Порядок задания параметров имеет значение. \n",
    "# В случае его нарушения, будет ошибка.\n",
    "\n",
    "# В данном случае позиционный аргумент со значением по умолчанию идет раньше\n",
    "# позиционного аргумента.\n",
    "def func_with_error(a=10, b):\n",
    "    pass\n",
    "\n",
    "func_with_error(1, 1)"
   ]
  },
  {
   "cell_type": "code",
   "execution_count": 10,
   "metadata": {
    "colab": {
     "base_uri": "https://localhost:8080/",
     "height": 232
    },
    "executionInfo": {
     "elapsed": 678,
     "status": "error",
     "timestamp": 1608136001800,
     "user": {
      "displayName": "Максим Белов",
      "photoUrl": "",
      "userId": "02014007940964761986"
     },
     "user_tz": -180
    },
    "id": "e05t_2Pfbx_n",
    "outputId": "89524926-2cde-4e6c-c75a-4b2f7a3ac59e"
   },
   "outputs": [
    {
     "ename": "TypeError",
     "evalue": "very_big_func() got multiple values for argument 'b'",
     "output_type": "error",
     "traceback": [
      "\u001b[31m---------------------------------------------------------------------------\u001b[39m",
      "\u001b[31mTypeError\u001b[39m                                 Traceback (most recent call last)",
      "\u001b[36mCell\u001b[39m\u001b[36m \u001b[39m\u001b[32mIn[10]\u001b[39m\u001b[32m, line 7\u001b[39m\n\u001b[32m      4\u001b[39m \u001b[38;5;28;01mdef\u001b[39;00m\u001b[38;5;250m \u001b[39m\u001b[34mvery_big_func\u001b[39m(a, b, *args, c, d=\u001b[32m1\u001b[39m, **kwargs):\n\u001b[32m      5\u001b[39m     \u001b[38;5;28mprint\u001b[39m(a, b, args, c, d, kwargs)\n\u001b[32m----> \u001b[39m\u001b[32m7\u001b[39m \u001b[43mvery_big_func\u001b[49m\u001b[43m(\u001b[49m\u001b[32;43m1\u001b[39;49m\u001b[43m,\u001b[49m\u001b[43m \u001b[49m\u001b[32;43m2\u001b[39;49m\u001b[43m,\u001b[49m\u001b[43m \u001b[49m\u001b[32;43m3\u001b[39;49m\u001b[43m,\u001b[49m\u001b[43m \u001b[49m\u001b[43mb\u001b[49m\u001b[43m=\u001b[49m\u001b[32;43m8\u001b[39;49m\u001b[43m,\u001b[49m\u001b[43m \u001b[49m\u001b[43mc\u001b[49m\u001b[43m=\u001b[49m\u001b[32;43m5\u001b[39;49m\u001b[43m,\u001b[49m\u001b[43m \u001b[49m\u001b[43me\u001b[49m\u001b[43m=\u001b[49m\u001b[32;43m7\u001b[39;49m\u001b[43m)\u001b[49m\n\u001b[32m      9\u001b[39m \u001b[38;5;66;03m# Идея присвоения значений аргументов в Python(и, соответственно, суть ошибки)\u001b[39;00m\n\u001b[32m     10\u001b[39m \u001b[38;5;66;03m# Заключается в том, что сначала все, что передано по позиции, присваивается\u001b[39;00m\n\u001b[32m     11\u001b[39m \u001b[38;5;66;03m# поочередно всем позиционным аргументам, после чего оставшиеся заворачиваются в \u001b[39;00m\n\u001b[32m   (...)\u001b[39m\u001b[32m     15\u001b[39m \u001b[38;5;66;03m# Очевидно, такого эффекта не будет для аргументов, передаваемых только\u001b[39;00m\n\u001b[32m     16\u001b[39m \u001b[38;5;66;03m# по имени.\u001b[39;00m\n",
      "\u001b[31mTypeError\u001b[39m: very_big_func() got multiple values for argument 'b'"
     ]
    }
   ],
   "source": [
    "# В случае, если у нас есть позиционные аргументы со значением по умолчанию, \n",
    "# и есть *args, следует быть осторожным и не передавать позиционный аргумент \n",
    "# по имени.\n",
    "def very_big_func(a, b, *args, c, d=1, **kwargs):\n",
    "    print(a, b, args, c, d, kwargs)\n",
    "\n",
    "very_big_func(1, 2, 3, b=8, c=5, e=7)\n",
    "\n",
    "# Идея присвоения значений аргументов в Python(и, соответственно, суть ошибки)\n",
    "# Заключается в том, что сначала все, что передано по позиции, присваивается\n",
    "# поочередно всем позиционным аргументам, после чего оставшиеся заворачиваются в \n",
    "# args. В данном случае мы присвоили значения и a, и b, положили 3 в args, \n",
    "# и после этого получаем b, переданный уже по имени.\n",
    "\n",
    "# Очевидно, такого эффекта не будет для аргументов, передаваемых только\n",
    "# по имени."
   ]
  },
  {
   "cell_type": "code",
   "execution_count": 11,
   "metadata": {
    "colab": {
     "base_uri": "https://localhost:8080/"
    },
    "executionInfo": {
     "elapsed": 676,
     "status": "ok",
     "timestamp": 1608136160497,
     "user": {
      "displayName": "Максим Белов",
      "photoUrl": "",
      "userId": "02014007940964761986"
     },
     "user_tz": -180
    },
    "id": "aLqa_NyndVil",
    "outputId": "75353c1e-4acf-4133-b925-8da690a36a8c"
   },
   "outputs": [
    {
     "name": "stdout",
     "output_type": "stream",
     "text": [
      "3 10\n"
     ]
    }
   ],
   "source": [
    "# Задание аргументов, передаваемых только по позиции, в случае, если нет *args.\n",
    "def func(a, *, c):\n",
    "  print(a, c)\n",
    "\n",
    "func(3, c=10)\n",
    "\n",
    "# В случае если мы не хотим принимать неограниченное количество позиционных\n",
    "# аргументов, мы можем просто указать оператор *, и все переменные, которые \n",
    "# будут стоять после нее, будут передаваемыми только по имени."
   ]
  },
  {
   "cell_type": "code",
   "execution_count": null,
   "metadata": {
    "colab": {
     "base_uri": "https://localhost:8080/"
    },
    "executionInfo": {
     "elapsed": 676,
     "status": "ok",
     "timestamp": 1608136186815,
     "user": {
      "displayName": "Максим Белов",
      "photoUrl": "",
      "userId": "02014007940964761986"
     },
     "user_tz": -180
    },
    "id": "OeWbv6wod79t",
    "outputId": "9470273e-128e-465e-b76f-4375fcb91866"
   },
   "outputs": [
    {
     "name": "stdout",
     "output_type": "stream",
     "text": [
      "10\n"
     ]
    }
   ],
   "source": [
    "# Убедимся, что c не может быть передано по позиции.\n",
    "def func(a, *, c):\n",
    "    print(a, c)\n",
    "\n",
    "func(3, 10)"
   ]
  },
  {
   "cell_type": "code",
   "execution_count": 12,
   "metadata": {},
   "outputs": [
    {
     "name": "stdout",
     "output_type": "stream",
     "text": [
      "1 2\n"
     ]
    }
   ],
   "source": [
    "def only_named_args(*, a, b):\n",
    "    print(a, b)\n",
    "\n",
    "only_named_args(a=1, b=2)"
   ]
  },
  {
   "cell_type": "code",
   "execution_count": null,
   "metadata": {},
   "outputs": [
    {
     "ename": "TypeError",
     "evalue": "only_positional_args() got some positional-only arguments passed as keyword arguments: 'b'",
     "output_type": "error",
     "traceback": [
      "\u001b[31m---------------------------------------------------------------------------\u001b[39m",
      "\u001b[31mTypeError\u001b[39m                                 Traceback (most recent call last)",
      "\u001b[36mCell\u001b[39m\u001b[36m \u001b[39m\u001b[32mIn[14]\u001b[39m\u001b[32m, line 5\u001b[39m\n\u001b[32m      1\u001b[39m \u001b[38;5;28;01mdef\u001b[39;00m\u001b[38;5;250m \u001b[39m\u001b[34monly_positional_args\u001b[39m(a, b, /):\n\u001b[32m      2\u001b[39m     \u001b[38;5;28mprint\u001b[39m(a, b)\n\u001b[32m----> \u001b[39m\u001b[32m5\u001b[39m \u001b[43monly_positional_args\u001b[49m\u001b[43m(\u001b[49m\u001b[32;43m1\u001b[39;49m\u001b[43m,\u001b[49m\u001b[43m \u001b[49m\u001b[43mb\u001b[49m\u001b[43m=\u001b[49m\u001b[32;43m2\u001b[39;49m\u001b[43m)\u001b[49m\n",
      "\u001b[31mTypeError\u001b[39m: only_positional_args() got some positional-only arguments passed as keyword arguments: 'b'"
     ]
    }
   ],
   "source": [
    "def only_positional_args(a, b, /):\n",
    "    print(a, b)\n",
    "\n",
    "\n",
    "only_positional_args(1, 2)"
   ]
  },
  {
   "cell_type": "markdown",
   "metadata": {
    "id": "jmnapU9cfIj9"
   },
   "source": [
    "#### Передача аргументов в функцию"
   ]
  },
  {
   "cell_type": "code",
   "execution_count": 15,
   "metadata": {
    "colab": {
     "base_uri": "https://localhost:8080/"
    },
    "executionInfo": {
     "elapsed": 672,
     "status": "ok",
     "timestamp": 1608136659100,
     "user": {
      "displayName": "Максим Белов",
      "photoUrl": "",
      "userId": "02014007940964761986"
     },
     "user_tz": -180
    },
    "id": "LvfZMHq0dBHG",
    "outputId": "e9acc0da-c428-4608-90ee-781c33302e31"
   },
   "outputs": [
    {
     "name": "stdout",
     "output_type": "stream",
     "text": [
      "1 2 5 7\n"
     ]
    }
   ],
   "source": [
    "# Распаковка итерируемых объектов и словарей при вызове функций. \n",
    "def func(a, b, *, c, d):\n",
    "    print(a, b, c, d)\n",
    "\n",
    "iterable = [1, 2]\n",
    "dict_ = {'c': 5, 'd': 7}\n",
    "\n",
    "func(*iterable, **dict_) # func(1, 2, c=5, d=7)"
   ]
  },
  {
   "cell_type": "code",
   "execution_count": 20,
   "metadata": {
    "colab": {
     "base_uri": "https://localhost:8080/",
     "height": 198
    },
    "executionInfo": {
     "elapsed": 633,
     "status": "error",
     "timestamp": 1608139718117,
     "user": {
      "displayName": "Максим Белов",
      "photoUrl": "",
      "userId": "02014007940964761986"
     },
     "user_tz": -180
    },
    "id": "_w0mlL_IfPzT",
    "outputId": "bb400a30-3cc5-4e6c-9ea4-e356fd23c407"
   },
   "outputs": [
    {
     "ename": "TypeError",
     "evalue": "func() takes 2 positional arguments but 3 were given",
     "output_type": "error",
     "traceback": [
      "\u001b[31m---------------------------------------------------------------------------\u001b[39m",
      "\u001b[31mTypeError\u001b[39m                                 Traceback (most recent call last)",
      "\u001b[36mCell\u001b[39m\u001b[36m \u001b[39m\u001b[32mIn[20]\u001b[39m\u001b[32m, line 7\u001b[39m\n\u001b[32m      4\u001b[39m     \u001b[38;5;28mprint\u001b[39m(a, b)\n\u001b[32m      6\u001b[39m iterable = [\u001b[32m1\u001b[39m, \u001b[32m2\u001b[39m, \u001b[32m3\u001b[39m]\n\u001b[32m----> \u001b[39m\u001b[32m7\u001b[39m \u001b[43mfunc\u001b[49m\u001b[43m(\u001b[49m\u001b[43m*\u001b[49m\u001b[43miterable\u001b[49m\u001b[43m)\u001b[49m\n",
      "\u001b[31mTypeError\u001b[39m: func() takes 2 positional arguments but 3 were given"
     ]
    }
   ],
   "source": [
    "# Если не указан *args, в распаковываемом объекте количество объектов должно\n",
    "# быть равно количеству аргументов функций. Иначе - ошибка.\n",
    "def func(a, b):\n",
    "    print(a, b)\n",
    "\n",
    "iterable = [1, 2, 3]\n",
    "func(*iterable)"
   ]
  },
  {
   "cell_type": "code",
   "execution_count": 23,
   "metadata": {
    "id": "Fi87pHfYfiu2"
   },
   "outputs": [
    {
     "ename": "TypeError",
     "evalue": "func() got an unexpected keyword argument 'e'",
     "output_type": "error",
     "traceback": [
      "\u001b[31m---------------------------------------------------------------------------\u001b[39m",
      "\u001b[31mTypeError\u001b[39m                                 Traceback (most recent call last)",
      "\u001b[36mCell\u001b[39m\u001b[36m \u001b[39m\u001b[32mIn[23]\u001b[39m\u001b[32m, line 7\u001b[39m\n\u001b[32m      3\u001b[39m     \u001b[38;5;28mprint\u001b[39m(c, d)\n\u001b[32m      5\u001b[39m dict_ = {\u001b[33m'\u001b[39m\u001b[33mc\u001b[39m\u001b[33m'\u001b[39m: \u001b[32m5\u001b[39m, \u001b[33m'\u001b[39m\u001b[33md\u001b[39m\u001b[33m'\u001b[39m: \u001b[32m7\u001b[39m, \u001b[33m'\u001b[39m\u001b[33me\u001b[39m\u001b[33m'\u001b[39m: \u001b[32m10\u001b[39m}\n\u001b[32m----> \u001b[39m\u001b[32m7\u001b[39m \u001b[43mfunc\u001b[49m\u001b[43m(\u001b[49m\u001b[43m*\u001b[49m\u001b[43m*\u001b[49m\u001b[43mdict_\u001b[49m\u001b[43m)\u001b[49m\n",
      "\u001b[31mTypeError\u001b[39m: func() got an unexpected keyword argument 'e'"
     ]
    }
   ],
   "source": [
    "# То же самое со словарями.\n",
    "def func(*, c, d):\n",
    "    print(c, d)\n",
    "\n",
    "dict_ = {'c': 5, 'd': 7, 'e': 10}\n",
    "\n",
    "func(**dict_)"
   ]
  },
  {
   "cell_type": "code",
   "execution_count": 24,
   "metadata": {
    "colab": {
     "base_uri": "https://localhost:8080/"
    },
    "executionInfo": {
     "elapsed": 631,
     "status": "ok",
     "timestamp": 1608136851712,
     "user": {
      "displayName": "Максим Белов",
      "photoUrl": "",
      "userId": "02014007940964761986"
     },
     "user_tz": -180
    },
    "id": "QGi6gLZ7ft-W",
    "outputId": "76ddbac4-a94f-4978-cada-9b570f66c950"
   },
   "outputs": [
    {
     "name": "stdout",
     "output_type": "stream",
     "text": [
      "5 7\n"
     ]
    }
   ],
   "source": [
    "# Обратите внимание, что словари можно распаковывать не только если аргументы\n",
    "# с соответствующими именами заданы как передаваемые только по значению. \n",
    "def func(c, d):\n",
    "    print(c, d)\n",
    "\n",
    "dict_ = {'c': 5, 'd': 7}\n",
    "\n",
    "func(**dict_)"
   ]
  },
  {
   "cell_type": "code",
   "execution_count": 25,
   "metadata": {
    "colab": {
     "base_uri": "https://localhost:8080/"
    },
    "executionInfo": {
     "elapsed": 1206,
     "status": "ok",
     "timestamp": 1608136906987,
     "user": {
      "displayName": "Максим Белов",
      "photoUrl": "",
      "userId": "02014007940964761986"
     },
     "user_tz": -180
    },
    "id": "8T4QCd4Rf_RN",
    "outputId": "8a18bf2e-6581-458c-d3b6-cc698a5a9976"
   },
   "outputs": [
    {
     "name": "stdout",
     "output_type": "stream",
     "text": [
      "(1, 3, 4) {'c': 5, 'd': 7, 'e': 5, 'f': 7}\n"
     ]
    }
   ],
   "source": [
    "# В отличие от задания функции, * и ** при вызове может встречаться несколько\n",
    "# раз.\n",
    "def func(*args, **kwargs):  # функция, которая принимает любой набор аргументов\n",
    "  print(args, kwargs)\n",
    "\n",
    "iterable_1 = (1, )\n",
    "iterable_2 = [3, 4]\n",
    "dict_1 = {'c': 5, 'd': 7}\n",
    "dict_2 = {'e': 5, 'f': 7}\n",
    "\n",
    "func(*iterable_1, *iterable_2, **dict_1, **dict_2)\n",
    "# Главное, чтобы вначале передавались позиционные аргументы, а потом аргументы,\n",
    "# передаваемые по имени. Т.е. Сначала идут все распаковки *, а потом все **. "
   ]
  },
  {
   "cell_type": "code",
   "execution_count": null,
   "metadata": {
    "colab": {
     "base_uri": "https://localhost:8080/"
    },
    "executionInfo": {
     "elapsed": 724,
     "status": "ok",
     "timestamp": 1608136971973,
     "user": {
      "displayName": "Максим Белов",
      "photoUrl": "",
      "userId": "02014007940964761986"
     },
     "user_tz": -180
    },
    "id": "P9idEOo7hTvx",
    "outputId": "90a4ded1-a702-4316-a8ce-80d705a296d1"
   },
   "outputs": [
    {
     "name": "stdout",
     "output_type": "stream",
     "text": [
      "('s', 't', 'r', 'i', 'n', 'g')\n"
     ]
    }
   ],
   "source": [
    "# Не забываем, что строка - тоже итерируемый объект :) \n",
    "def func(*args):  # функция, которая принимает любой набор аргументов\n",
    "    print(args)\n",
    "\n",
    "str_ = 'string'\n",
    "func(*str_)"
   ]
  },
  {
   "cell_type": "markdown",
   "metadata": {
    "id": "VNB5eSKvg18d"
   },
   "source": [
    "#### Объекты, передаваемые в функции"
   ]
  },
  {
   "cell_type": "code",
   "execution_count": 27,
   "metadata": {
    "colab": {
     "base_uri": "https://localhost:8080/"
    },
    "executionInfo": {
     "elapsed": 731,
     "status": "ok",
     "timestamp": 1608137228942,
     "user": {
      "displayName": "Максим Белов",
      "photoUrl": "",
      "userId": "02014007940964761986"
     },
     "user_tz": -180
    },
    "id": "YuEMufcng9XC",
    "outputId": "6dbdb827-47dd-4c04-cdc3-ca1780348d2a"
   },
   "outputs": [
    {
     "name": "stdout",
     "output_type": "stream",
     "text": [
      "1 <class 'int'>\n",
      "[1, 2] <class 'list'>\n",
      "{3, 4} <class 'set'>\n"
     ]
    }
   ],
   "source": [
    "# попробуем передать в функцию объекты разных типов.\n",
    "\n",
    "def func(a):\n",
    "    print(a, type(a))\n",
    "\n",
    "# Передадим некоторые стандартные типы данных.\n",
    "func(1)  # целое число\n",
    "func([1, 2])  # список\n",
    "func({3, 4})  # множество"
   ]
  },
  {
   "cell_type": "code",
   "execution_count": 28,
   "metadata": {
    "colab": {
     "base_uri": "https://localhost:8080/"
    },
    "executionInfo": {
     "elapsed": 1146,
     "status": "ok",
     "timestamp": 1608137275717,
     "user": {
      "displayName": "Максим Белов",
      "photoUrl": "",
      "userId": "02014007940964761986"
     },
     "user_tz": -180
    },
    "id": "DcPmTSuwhrek",
    "outputId": "3f573e80-0ed1-42d5-95c8-2fa36ff4a56e"
   },
   "outputs": [
    {
     "name": "stdout",
     "output_type": "stream",
     "text": [
      "<function fun_func at 0x10876d760> <class 'function'>\n"
     ]
    }
   ],
   "source": [
    "# Пример посложнее - передаем функцию в функцию.\n",
    "\n",
    "def func(a):\n",
    "    print(a, type(a))\n",
    "\n",
    "def fun_func():\n",
    "    print('fun')\n",
    "\n",
    "func(fun_func)"
   ]
  },
  {
   "cell_type": "code",
   "execution_count": 29,
   "metadata": {
    "colab": {
     "base_uri": "https://localhost:8080/"
    },
    "executionInfo": {
     "elapsed": 1073,
     "status": "ok",
     "timestamp": 1608137287914,
     "user": {
      "displayName": "Максим Белов",
      "photoUrl": "",
      "userId": "02014007940964761986"
     },
     "user_tz": -180
    },
    "id": "oGcGeCThh3nm",
    "outputId": "e9e2c2bd-4fe5-467f-e761-412d733b5902"
   },
   "outputs": [
    {
     "name": "stdout",
     "output_type": "stream",
     "text": [
      "fun\n",
      "None <class 'NoneType'>\n"
     ]
    }
   ],
   "source": [
    "# Мы можем передать как фнукцию, так и результат ее работы.\n",
    "# Пример посложнее - передаем функцию в функцию.\n",
    "def func(a):\n",
    "  print(a, type(a))\n",
    "\n",
    "def fun_func():\n",
    "  print('fun')\n",
    "\n",
    "func(fun_func())\n",
    "# Интерпретируйте полученный результат."
   ]
  },
  {
   "cell_type": "markdown",
   "metadata": {
    "id": "1-EXYdPtiJQS"
   },
   "source": [
    "#### Работа с изменяемыми и неизменяемыми значениями по умолчанию\n"
   ]
  },
  {
   "cell_type": "code",
   "execution_count": 30,
   "metadata": {
    "colab": {
     "base_uri": "https://localhost:8080/"
    },
    "executionInfo": {
     "elapsed": 647,
     "status": "ok",
     "timestamp": 1608138324403,
     "user": {
      "displayName": "Максим Белов",
      "photoUrl": "",
      "userId": "02014007940964761986"
     },
     "user_tz": -180
    },
    "id": "-bnzPmyJiN_9",
    "outputId": "1568ad34-692a-4e72-f1d5-4929683662b3"
   },
   "outputs": [
    {
     "name": "stdout",
     "output_type": "stream",
     "text": [
      "2\n",
      "2\n"
     ]
    }
   ],
   "source": [
    "# Неизменяемое значение по умолчанию.\n",
    "def func(a=1):\n",
    "    a += 1\n",
    "    return a\n",
    "\n",
    "print(func())\n",
    "print(func())"
   ]
  },
  {
   "cell_type": "code",
   "execution_count": null,
   "metadata": {
    "colab": {
     "base_uri": "https://localhost:8080/"
    },
    "executionInfo": {
     "elapsed": 1111,
     "status": "ok",
     "timestamp": 1608138477881,
     "user": {
      "displayName": "Максим Белов",
      "photoUrl": "",
      "userId": "02014007940964761986"
     },
     "user_tz": -180
    },
    "id": "gFdVqMy-idiM",
    "outputId": "60059b63-00ad-4c30-b24e-fd2f0b60c03f"
   },
   "outputs": [
    {
     "name": "stdout",
     "output_type": "stream",
     "text": [
      "[1]\n",
      "[1, 1]\n",
      "[1, 1, 1]\n"
     ]
    }
   ],
   "source": [
    "# Изменяемое значение по умолчанию.\n",
    "def func(a=[]):\n",
    "    a.append(1)\n",
    "    return a\n",
    "\n",
    "print(func())\n",
    "print(func())\n",
    "print(func())"
   ]
  },
  {
   "cell_type": "code",
   "execution_count": 32,
   "metadata": {
    "colab": {
     "base_uri": "https://localhost:8080/"
    },
    "executionInfo": {
     "elapsed": 647,
     "status": "ok",
     "timestamp": 1608139157524,
     "user": {
      "displayName": "Максим Белов",
      "photoUrl": "",
      "userId": "02014007940964761986"
     },
     "user_tz": -180
    },
    "id": "HrmTvdoEipV1",
    "outputId": "e1860a4a-9c7f-4d58-8b06-73a5bef4bcdc"
   },
   "outputs": [
    {
     "name": "stdout",
     "output_type": "stream",
     "text": [
      "[1]\n",
      "[1]\n",
      "[1]\n"
     ]
    }
   ],
   "source": [
    "# Стандартный способ обработки таких ситуаций(и заодно пример boilerplate кода).\n",
    "\n",
    "# Изменяемое значение по умолчанию.\n",
    "def func(a=None):\n",
    "    if a is None:\n",
    "        a = []\n",
    "    a += [1]\n",
    "    return(a)\n",
    "\n",
    "print(func())\n",
    "print(func())\n",
    "print(func())\n",
    "\n",
    "# Проверка 'if' a будет в большинстве случаев недостаточна, потому что нам может\n",
    "# быть передан пустой список, и наш код в таком случае его перезапишет другим."
   ]
  },
  {
   "cell_type": "code",
   "execution_count": 34,
   "metadata": {},
   "outputs": [
    {
     "name": "stdout",
     "output_type": "stream",
     "text": [
      "(1,)\n",
      "(1,)\n",
      "(1,)\n"
     ]
    }
   ],
   "source": [
    "def func(a=()):\n",
    "    a += (1,)\n",
    "    return a\n",
    "\n",
    "print(func())\n",
    "print(func())\n",
    "print(func())"
   ]
  },
  {
   "cell_type": "code",
   "execution_count": 35,
   "metadata": {},
   "outputs": [
    {
     "name": "stdout",
     "output_type": "stream",
     "text": [
      "[1]\n",
      "[1]\n",
      "[1]\n"
     ]
    }
   ],
   "source": [
    "def func(a=[]):\n",
    "    a = a.copy()\n",
    "    a.append(1)\n",
    "    return a\n",
    "\n",
    "print(func())\n",
    "print(func())\n",
    "print(func())"
   ]
  },
  {
   "cell_type": "markdown",
   "metadata": {
    "id": "w1-cLQ7CjpBl"
   },
   "source": [
    "## Встроенные (built-in) функции"
   ]
  },
  {
   "cell_type": "markdown",
   "metadata": {
    "id": "oy5ddJo5pomk"
   },
   "source": [
    "### Теоретические сведения\n",
    "\n",
    "В Python присутствует большое количество встроенных функций, необходимых нам для работы и отладки. \n",
    "\n",
    "\n",
    "**Функции, преобразующие типы**\n",
    "\n",
    "`dict()`, `list()`, `int()`, `set()`, `float()`, ...\n",
    "\n",
    "Так как Python строго типизированный язык, нам необходимо преобразовывать типы вручную. Каждому встроенному типу в Python соответствует своя функция(фактически, конструктор типа, но об этом немного позже), которая позволяет создать необходимый нам объект из другого.\n",
    "\n",
    "\n",
    "**Функции `any`, `all`**\n",
    "\n",
    "Две полезные функции, которые позволяют сделать код более 'pythonic': \n",
    "\n",
    "- `any(iterable)` - возвращает `True`, если в итерируемом объекте находится хотя бы один истинный объект, и `False` в противном случае. \n",
    "\n",
    "- `all(iterable)` - возвращает `False`, если в итерируемом объекте находится хотя бы один ложный объект, и `True` в противном случае. \n",
    "\n",
    "Функции any и all реализуют идею ленивых вычислений (lazy computation), позволяя экономить время. \n",
    "\n",
    "Кроме того, данные функции часто позволяют писать меньше кода, и избавляют нас от необходимости написания \"boiler-plate\" кода. \n",
    "\n",
    "\n",
    "**Агрегирующие функции**\n",
    "\n",
    "- `max(iterable)` - возвращает максимальный элемент итерируемого объекта. \n",
    "- `min(iterable)` - возвращает минимальный элемент итерируемого объекта. \n",
    "- `sum(iterable)` - возвращает сумму элементов итерируемого объекта. \n",
    "\n",
    "**Вспомогательные функции**\n",
    "\n",
    "- `print(object1, [object2, ... ]])` - печатает переданные объекты.\n",
    "- `range(end)`, `range(start, end, [step])` - возвращает итерируемый объект, состоящий из чисел, в зависимости от переданных параметров.\n",
    "- `type(object)` - возвращает тип переданного объекта.\n",
    "- `dir(object)` - возвращает перечень атрибутов любого объекта.  \n",
    "- `chr(int)` - возвращает символ(строку длинной 1) по коду этого символа.\n",
    "- `ord(symbol)` - возвращает код символа(строки длинной 1).\n",
    "\n",
    "\n",
    "И многие, многие другие встроенные функции. "
   ]
  },
  {
   "cell_type": "markdown",
   "metadata": {
    "id": "qTW7jf2ovXwk"
   },
   "source": [
    "### Code Snippets"
   ]
  },
  {
   "cell_type": "code",
   "execution_count": 37,
   "metadata": {
    "colab": {
     "base_uri": "https://localhost:8080/"
    },
    "executionInfo": {
     "elapsed": 662,
     "status": "ok",
     "timestamp": 1608141049709,
     "user": {
      "displayName": "Максим Белов",
      "photoUrl": "",
      "userId": "02014007940964761986"
     },
     "user_tz": -180
    },
    "id": "lrPNWAyAwP1j",
    "outputId": "728b8519-a6a0-4f34-9a52-a1bdd878faaa"
   },
   "outputs": [
    {
     "name": "stdout",
     "output_type": "stream",
     "text": [
      "10\n",
      "4\n",
      "1\n",
      "45\n"
     ]
    }
   ],
   "source": [
    "# Пример работы агрегирующих функции. \n",
    "iterable = {1, 2, 3, 4, 1, 2, 3, 4}\n",
    "\n",
    "print(sum(iterable))  # интерпретируйте пожалуйста резулльтат выполнения\n",
    "print(max(iterable))\n",
    "print(min(iterable))\n",
    "\n",
    "print(sum(i for i in range(10)))"
   ]
  },
  {
   "cell_type": "code",
   "execution_count": 38,
   "metadata": {
    "colab": {
     "base_uri": "https://localhost:8080/",
     "height": 198
    },
    "executionInfo": {
     "elapsed": 661,
     "status": "error",
     "timestamp": 1608141100807,
     "user": {
      "displayName": "Максим Белов",
      "photoUrl": "",
      "userId": "02014007940964761986"
     },
     "user_tz": -180
    },
    "id": "FqqJibx4hCTH",
    "outputId": "d13fa68f-68de-4221-da6b-602fc44c7648"
   },
   "outputs": [
    {
     "ename": "TypeError",
     "evalue": "'>' not supported between instances of 'int' and 'function'",
     "output_type": "error",
     "traceback": [
      "\u001b[31m---------------------------------------------------------------------------\u001b[39m",
      "\u001b[31mTypeError\u001b[39m                                 Traceback (most recent call last)",
      "\u001b[36mCell\u001b[39m\u001b[36m \u001b[39m\u001b[32mIn[38]\u001b[39m\u001b[32m, line 6\u001b[39m\n\u001b[32m      3\u001b[39m   \u001b[38;5;28;01mpass\u001b[39;00m\n\u001b[32m      5\u001b[39m a = [func, \u001b[32m3\u001b[39m]\n\u001b[32m----> \u001b[39m\u001b[32m6\u001b[39m \u001b[38;5;28mprint\u001b[39m(\u001b[38;5;28;43mmax\u001b[39;49m\u001b[43m(\u001b[49m\u001b[43ma\u001b[49m\u001b[43m)\u001b[49m)\n",
      "\u001b[31mTypeError\u001b[39m: '>' not supported between instances of 'int' and 'function'"
     ]
    }
   ],
   "source": [
    "# Важно, чтобы все элементы итерируемого объекта были сравнимы!\n",
    "def func(): \n",
    "  pass\n",
    "\n",
    "a = [func, 3]\n",
    "print(max(a))"
   ]
  },
  {
   "cell_type": "code",
   "execution_count": 39,
   "metadata": {
    "colab": {
     "base_uri": "https://localhost:8080/"
    },
    "executionInfo": {
     "elapsed": 1123,
     "status": "ok",
     "timestamp": 1608141111051,
     "user": {
      "displayName": "Максим Белов",
      "photoUrl": "",
      "userId": "02014007940964761986"
     },
     "user_tz": -180
    },
    "id": "8JNksFYXgMDi",
    "outputId": "ac7b33d0-f20e-4bab-f7cf-d7c50cd340a8"
   },
   "outputs": [
    {
     "name": "stdout",
     "output_type": "stream",
     "text": [
      "<class 'tuple'> ('s', 't', 'r', 'i', 'n', 'g')\n"
     ]
    }
   ],
   "source": [
    "# Пример функции преобразования типа и type.\n",
    "a = tuple('string')\n",
    "print(type(a), a)"
   ]
  },
  {
   "cell_type": "code",
   "execution_count": null,
   "metadata": {
    "colab": {
     "base_uri": "https://localhost:8080/"
    },
    "executionInfo": {
     "elapsed": 816,
     "status": "ok",
     "timestamp": 1608141117013,
     "user": {
      "displayName": "Максим Белов",
      "photoUrl": "",
      "userId": "02014007940964761986"
     },
     "user_tz": -180
    },
    "id": "cNN0dT_7xEsM",
    "outputId": "12e2cd8e-4204-4f05-c06d-7d3303399047"
   },
   "outputs": [
    {
     "name": "stdout",
     "output_type": "stream",
     "text": [
      "['__add__', '__class__', '__contains__', '__delattr__', '__delitem__', '__dir__', '__doc__', '__eq__', '__format__', '__ge__', '__getattribute__', '__getitem__', '__gt__', '__hash__', '__iadd__', '__imul__', '__init__', '__init_subclass__', '__iter__', '__le__', '__len__', '__lt__', '__mul__', '__ne__', '__new__', '__reduce__', '__reduce_ex__', '__repr__', '__reversed__', '__rmul__', '__setattr__', '__setitem__', '__sizeof__', '__str__', '__subclasshook__', 'append', 'clear', 'copy', 'count', 'extend', 'index', 'insert', 'pop', 'remove', 'reverse', 'sort']\n"
     ]
    }
   ],
   "source": [
    "# Пример работы dir. Он пригодится нам когда мы будем изучать классы.\n",
    "print(dir([1, 2]))"
   ]
  },
  {
   "cell_type": "code",
   "execution_count": null,
   "metadata": {
    "colab": {
     "base_uri": "https://localhost:8080/"
    },
    "executionInfo": {
     "elapsed": 7378,
     "status": "ok",
     "timestamp": 1608141282189,
     "user": {
      "displayName": "Максим Белов",
      "photoUrl": "",
      "userId": "02014007940964761986"
     },
     "user_tz": -180
    },
    "id": "k72iHGWj77iG",
    "outputId": "b34d87f9-bf45-4e7c-8044-b79f72ba64aa"
   },
   "outputs": [
    {
     "name": "stdout",
     "output_type": "stream",
     "text": [
      "False\n"
     ]
    }
   ],
   "source": [
    "\"\"\"\n",
    "В функцию передается итерируемый объект состоящий из словарей. Проверить, \n",
    "есть ли в этом итерируемом объекте словарь в котором есть непустое (истинное)\n",
    "значение для ключа key.\n",
    "\"\"\"\n",
    "\n",
    "def func(iterable):\n",
    "  \"\"\"Checks if we have dict with non-empty \"key\": value pair.\n",
    "\n",
    "  Args:\n",
    "    iterable = [{}, {}, ...] - list of dicts\n",
    "  Return:\n",
    "    True/False\n",
    "  \"\"\"\n",
    "  # рассмотрим решение стандартными методами. \n",
    "  for dct in iterable:\n",
    "      if dct.get(\"key\"):\n",
    "          return True\n",
    "  return False\n",
    "\n",
    "dct1 = [{1: 1}, {\"key\": None}, ]  # False\n",
    "print(func(dct1))"
   ]
  },
  {
   "cell_type": "code",
   "execution_count": 40,
   "metadata": {
    "colab": {
     "base_uri": "https://localhost:8080/"
    },
    "executionInfo": {
     "elapsed": 651,
     "status": "ok",
     "timestamp": 1608141322127,
     "user": {
      "displayName": "Максим Белов",
      "photoUrl": "",
      "userId": "02014007940964761986"
     },
     "user_tz": -180
    },
    "id": "2E0WXYUdx2xk",
    "outputId": "3f14449a-3d02-4bf6-bafd-0138574fbb3a"
   },
   "outputs": [
    {
     "name": "stdout",
     "output_type": "stream",
     "text": [
      "False\n"
     ]
    }
   ],
   "source": [
    "# Решение с помощью any.\n",
    "def func(iterable):\n",
    "  \"\"\"Checks if we have dict with non-empty \"key\": value pair.\n",
    "\n",
    "  Args:\n",
    "    itr = [{}, {}, ...] - list of dicts\n",
    "  Return:\n",
    "    True/False\n",
    "  \"\"\"\n",
    "  return any(dct.get(\"key\") for dct in iterable)\n",
    "\n",
    "dct1 = [{1: 1}, {\"key\": None}, ]  # False\n",
    "print(func(dct1))"
   ]
  },
  {
   "cell_type": "code",
   "execution_count": null,
   "metadata": {
    "colab": {
     "base_uri": "https://localhost:8080/"
    },
    "executionInfo": {
     "elapsed": 775,
     "status": "ok",
     "timestamp": 1608141342276,
     "user": {
      "displayName": "Максим Белов",
      "photoUrl": "",
      "userId": "02014007940964761986"
     },
     "user_tz": -180
    },
    "id": "n9X2KjkKoecs",
    "outputId": "649f7b20-73dd-408f-8f64-a4a881962c18"
   },
   "outputs": [
    {
     "name": "stdout",
     "output_type": "stream",
     "text": [
      "True\n"
     ]
    }
   ],
   "source": [
    "# Вызов той же функции но с ожидаемым ответом True.\n",
    "def func(iterable):\n",
    "  \"\"\"Checks if we have dict with non-empty \"key\": value pair.\n",
    "\n",
    "  Args:\n",
    "    itr = [{}, {}, ...] - list of dicts\n",
    "  Return:\n",
    "    True/False\n",
    "  \"\"\"\n",
    "  return any(dct.get(\"key\") for dct in iterable)\n",
    "\n",
    "dct1 = [{1:1}, {\"key\": 1},]\n",
    "print(func(dct1))"
   ]
  },
  {
   "cell_type": "code",
   "execution_count": 42,
   "metadata": {
    "colab": {
     "base_uri": "https://localhost:8080/"
    },
    "executionInfo": {
     "elapsed": 679,
     "status": "ok",
     "timestamp": 1608141506136,
     "user": {
      "displayName": "Максим Белов",
      "photoUrl": "",
      "userId": "02014007940964761986"
     },
     "user_tz": -180
    },
    "id": "cfiNsY2O8j80",
    "outputId": "21cefe45-953e-43dc-ccf8-cdc8240c58d5"
   },
   "outputs": [
    {
     "name": "stdout",
     "output_type": "stream",
     "text": [
      "False\n"
     ]
    }
   ],
   "source": [
    "\"\"\"\n",
    "Переформулируем задачу. \n",
    "Проверить, содержат ли все словари в переданном итерируемом объекте пары\n",
    "ключ-значение с непустым(истинным) значением \n",
    "\"\"\"\n",
    "\n",
    "def func(iterable):\n",
    "  return all(dct.get(\"key\") for dct in iterable)\n",
    "\n",
    "dct = [{1:1},{\"key\": 1},]\n",
    "print(func(dct))"
   ]
  },
  {
   "cell_type": "code",
   "execution_count": null,
   "metadata": {
    "colab": {
     "base_uri": "https://localhost:8080/"
    },
    "executionInfo": {
     "elapsed": 680,
     "status": "ok",
     "timestamp": 1608142206726,
     "user": {
      "displayName": "Максим Белов",
      "photoUrl": "",
      "userId": "02014007940964761986"
     },
     "user_tz": -180
    },
    "id": "ecsAuqtb7uDM",
    "outputId": "e978c207-3d8b-4607-d819-30ce9d0540f8"
   },
   "outputs": [
    {
     "name": "stdout",
     "output_type": "stream",
     "text": [
      "all: True\n",
      "any: False\n"
     ]
    }
   ],
   "source": [
    "# Важный момент, напрямую следующий из определения.\n",
    "print('all:', all([]))\n",
    "print('any:', any([]))\n",
    "# Из этого следует, что изменение формулировки в определении критично.\n",
    "\n",
    "# all([a, b, c]) = a and all(b, c) = a and b and c and all([]) -> 1 = all([]) -> True"
   ]
  },
  {
   "cell_type": "markdown",
   "metadata": {
    "id": "rHmsbzkB8bXF"
   },
   "source": [
    "## Рекурсия "
   ]
  },
  {
   "cell_type": "markdown",
   "metadata": {
    "id": "kaJirROHom5o"
   },
   "source": [
    "####  Теоретические сведения\n",
    "\n",
    "Функция внутри своего тела может вызывать саму себя. В таком случае Она будет называться рекурсивной, а прием называется рекурсией. \n",
    "\n",
    "**Замечания при работе с рекурсивными функциями:**\n",
    "- В случае реализации рекурсивной функции стоит обратить внимание на момент выхода из рекурсии - мы обязательно должны добавить в тело функции блок, который будет останавливать рекурсию при выполнении определенных условий. \n",
    "- Если функция реализует линейную рекуррентную последовательность (последовательность, в которой следующий член представляет собой линейную комбинацию  определенного количества предыдущих членов), всегда есть возможность построить формулу общего члена, избежать расчета всех предыдущих значений. Например, для чисел Фибоначчи это формула Бине. \n",
    "- Многие рекурсивные функции (которые идут сверху вниз - от последнего искомого члена к предыдущим) могут быть переписаны с использованием цикла который идет снизу вверх, без рекурсии. \n",
    "- В случае если рекурсия зависит от нескольких предыдущих значений стоит быть осторожным чтобы количество вызовов функции для одного и того же значения не начало резко расти, замедляя работу (см. примеры). "
   ]
  },
  {
   "cell_type": "markdown",
   "metadata": {
    "id": "QPntqG7Uq6uj"
   },
   "source": [
    "#### Code snippets"
   ]
  },
  {
   "cell_type": "code",
   "execution_count": 49,
   "metadata": {
    "id": "ud4P7dy36nYo"
   },
   "outputs": [
    {
     "name": "stdout",
     "output_type": "stream",
     "text": [
      "120\n"
     ]
    }
   ],
   "source": [
    "# Простейшая рекурсивная функция - считает факториал. \n",
    "# 5! = 5 * 4 * 3 * 2 * 1\n",
    "def factorial(n):\n",
    "  if n != 1:\n",
    "    return n * factorial(n-1) # 3 * factorial(2) -> 3 * 2 * factorial(1) -> 3 * 2 * 1\n",
    "  else:  # условия выхода из рекурсии\n",
    "    return 1\n",
    "\n",
    "print(factorial(5))"
   ]
  },
  {
   "cell_type": "code",
   "execution_count": 50,
   "metadata": {},
   "outputs": [
    {
     "data": {
      "text/plain": [
       "120"
      ]
     },
     "execution_count": 50,
     "metadata": {},
     "output_type": "execute_result"
    }
   ],
   "source": [
    "# Простейшая рекурсивная функция - считает факториал. \n",
    "# 5! = 5 * 4 * 3 * 2 * 1\n",
    "def factorial_loop(n):\n",
    "    result = 1\n",
    "    for i in range(1, n + 1):\n",
    "       result *= i\n",
    "    return result\n",
    "\n",
    "factorial_loop(5)"
   ]
  },
  {
   "cell_type": "code",
   "execution_count": 51,
   "metadata": {
    "id": "LJsEWPaO8hAF"
   },
   "outputs": [
    {
     "name": "stdout",
     "output_type": "stream",
     "text": [
      "354224848179261915075\n",
      "Execution time: 0.00010919570922851562\n"
     ]
    }
   ],
   "source": [
    "# Расчет n-го числа Фибоначчи без использования рекурсии (начиная с второго)\n",
    "# Замерим время исполнения программы.\n",
    "# 1, 1, 2, 3, 5, 8, 13\n",
    "def fib(n):\n",
    "  a1 = a2 = 1\n",
    "  for el in range(3, n+1):\n",
    "    a1, a2 = a2, a1 + a2\n",
    "  return a2\n",
    "\n",
    "import time\n",
    "start = time.time()\n",
    "print(fib(100))\n",
    "print('Execution time:', time.time() - start)\n"
   ]
  },
  {
   "cell_type": "code",
   "execution_count": 53,
   "metadata": {
    "id": "NA9X8F-E8Okv"
   },
   "outputs": [
    {
     "ename": "KeyboardInterrupt",
     "evalue": "",
     "output_type": "error",
     "traceback": [
      "\u001b[31m---------------------------------------------------------------------------\u001b[39m",
      "\u001b[31mKeyboardInterrupt\u001b[39m                         Traceback (most recent call last)",
      "\u001b[36mCell\u001b[39m\u001b[36m \u001b[39m\u001b[32mIn[53]\u001b[39m\u001b[32m, line 11\u001b[39m\n\u001b[32m      9\u001b[39m \u001b[38;5;28;01mimport\u001b[39;00m\u001b[38;5;250m \u001b[39m\u001b[34;01mtime\u001b[39;00m\n\u001b[32m     10\u001b[39m start = time.time()\n\u001b[32m---> \u001b[39m\u001b[32m11\u001b[39m \u001b[38;5;28mprint\u001b[39m(\u001b[43mfib\u001b[49m\u001b[43m(\u001b[49m\u001b[32;43m100\u001b[39;49m\u001b[43m)\u001b[49m)  \u001b[38;5;66;03m# Обратите внимание, что здесь число в 3 раза меньше! \u001b[39;00m\n\u001b[32m     12\u001b[39m \u001b[38;5;28mprint\u001b[39m(\u001b[33m'\u001b[39m\u001b[33mExecution time:\u001b[39m\u001b[33m'\u001b[39m, time.time() - start)\n",
      "\u001b[36mCell\u001b[39m\u001b[36m \u001b[39m\u001b[32mIn[53]\u001b[39m\u001b[32m, line 7\u001b[39m, in \u001b[36mfib\u001b[39m\u001b[34m(n)\u001b[39m\n\u001b[32m      5\u001b[39m   \u001b[38;5;28;01mreturn\u001b[39;00m \u001b[32m1\u001b[39m\n\u001b[32m      6\u001b[39m \u001b[38;5;28;01melse\u001b[39;00m:\n\u001b[32m----> \u001b[39m\u001b[32m7\u001b[39m   \u001b[38;5;28;01mreturn\u001b[39;00m \u001b[43mfib\u001b[49m\u001b[43m(\u001b[49m\u001b[43mn\u001b[49m\u001b[43m-\u001b[49m\u001b[32;43m1\u001b[39;49m\u001b[43m)\u001b[49m + fib(n-\u001b[32m2\u001b[39m)\n",
      "\u001b[36mCell\u001b[39m\u001b[36m \u001b[39m\u001b[32mIn[53]\u001b[39m\u001b[32m, line 7\u001b[39m, in \u001b[36mfib\u001b[39m\u001b[34m(n)\u001b[39m\n\u001b[32m      5\u001b[39m   \u001b[38;5;28;01mreturn\u001b[39;00m \u001b[32m1\u001b[39m\n\u001b[32m      6\u001b[39m \u001b[38;5;28;01melse\u001b[39;00m:\n\u001b[32m----> \u001b[39m\u001b[32m7\u001b[39m   \u001b[38;5;28;01mreturn\u001b[39;00m \u001b[43mfib\u001b[49m\u001b[43m(\u001b[49m\u001b[43mn\u001b[49m\u001b[43m-\u001b[49m\u001b[32;43m1\u001b[39;49m\u001b[43m)\u001b[49m + fib(n-\u001b[32m2\u001b[39m)\n",
      "    \u001b[31m[... skipping similar frames: fib at line 7 (83 times)]\u001b[39m\n",
      "\u001b[36mCell\u001b[39m\u001b[36m \u001b[39m\u001b[32mIn[53]\u001b[39m\u001b[32m, line 7\u001b[39m, in \u001b[36mfib\u001b[39m\u001b[34m(n)\u001b[39m\n\u001b[32m      5\u001b[39m   \u001b[38;5;28;01mreturn\u001b[39;00m \u001b[32m1\u001b[39m\n\u001b[32m      6\u001b[39m \u001b[38;5;28;01melse\u001b[39;00m:\n\u001b[32m----> \u001b[39m\u001b[32m7\u001b[39m   \u001b[38;5;28;01mreturn\u001b[39;00m fib(n-\u001b[32m1\u001b[39m) + \u001b[43mfib\u001b[49m\u001b[43m(\u001b[49m\u001b[43mn\u001b[49m\u001b[43m-\u001b[49m\u001b[32;43m2\u001b[39;49m\u001b[43m)\u001b[49m\n",
      "\u001b[36mCell\u001b[39m\u001b[36m \u001b[39m\u001b[32mIn[53]\u001b[39m\u001b[32m, line 3\u001b[39m, in \u001b[36mfib\u001b[39m\u001b[34m(n)\u001b[39m\n\u001b[32m      1\u001b[39m \u001b[38;5;66;03m# А сейчас то же самое но для рекурсии написанной в лоб.\u001b[39;00m\n\u001b[32m----> \u001b[39m\u001b[32m3\u001b[39m \u001b[38;5;28;01mdef\u001b[39;00m\u001b[38;5;250m \u001b[39m\u001b[34mfib\u001b[39m(n):\n\u001b[32m      4\u001b[39m   \u001b[38;5;28;01mif\u001b[39;00m n \u001b[38;5;129;01min\u001b[39;00m (\u001b[32m1\u001b[39m, \u001b[32m2\u001b[39m):  \u001b[38;5;66;03m# Условие выхода из рекурсии. Скобки здесь не обязательны\u001b[39;00m\n\u001b[32m      5\u001b[39m     \u001b[38;5;28;01mreturn\u001b[39;00m \u001b[32m1\u001b[39m\n",
      "\u001b[31mKeyboardInterrupt\u001b[39m: "
     ]
    }
   ],
   "source": [
    "# А сейчас то же самое но для рекурсии написанной в лоб.\n",
    "\n",
    "def fib(n):\n",
    "  if n in (1, 2):  # Условие выхода из рекурсии. Скобки здесь не обязательны\n",
    "    return 1\n",
    "  else:\n",
    "    return fib(n-1) + fib(n-2)\n",
    "\n",
    "import time\n",
    "start = time.time()\n",
    "print(fib(100))  # Обратите внимание, что здесь число в 3 раза меньше! \n",
    "print('Execution time:', time.time() - start)"
   ]
  },
  {
   "cell_type": "code",
   "execution_count": 55,
   "metadata": {
    "id": "5Ej8RCkSA8Jd"
   },
   "outputs": [
    {
     "name": "stdout",
     "output_type": "stream",
     "text": [
      "354224848179261915075\n",
      "Execution time: 0.00013494491577148438\n",
      "Cache size: 99\n"
     ]
    }
   ],
   "source": [
    "# Реализуем кэширование чтобы избежать ситуации из прошлого примера.\n",
    "cache = {}\n",
    "def fib(n):\n",
    "  if n in (1, 2):\n",
    "    return 1\n",
    "  else:\n",
    "    if not cache.get(n-1):\n",
    "      cache[n-1] = fib(n-1)\n",
    "    if not cache.get(n-2):\n",
    "      cache[n-2] = fib(n-2)\n",
    "    return cache.get(n-1) + cache.get(n-2)\n",
    "\n",
    "import time\n",
    "start = time.time()\n",
    "print(fib(100))\n",
    "print('Execution time:', time.time() - start)\n",
    "print(\"Cache size:\", len(cache))"
   ]
  },
  {
   "cell_type": "code",
   "execution_count": 56,
   "metadata": {
    "id": "UWR1072JtVOg"
   },
   "outputs": [
    {
     "name": "stdout",
     "output_type": "stream",
     "text": [
      "Execution time (for loop): 0.026432037353515625\n",
      "Execution time (recursive): 0.0018551349639892578\n"
     ]
    }
   ],
   "source": [
    "# Стоит обратить внимание на следующее:\n",
    "# 1. Мы не можем использовать, например, setdefault к нашему кэшу, потому что\n",
    "#    попадем в похожую ситуацию - ключ в словарь будет добавляться очень поздно. \n",
    "# 2. На одном запуске сложно оценить производительность первого и второго\n",
    "#    решения, но проведя тест например на 10000 зпусков можно получить более-менее\n",
    "#    релевантные результаты для оценки производительности. \n",
    "# 3. Рекурсия имеет максимальную глубину, обусловленную стэком вызовов.\n",
    "#    например, на данный момент(декабрь 2020) посчитать 1000 число мы не можем.\n",
    "# 4. Производительность зависит от реализации интерпретатора, и результаты могут\n",
    "#    разительно отличаться в двух разных реализациях интерпретатора (и даже в \n",
    "#    разных его версиях).\n",
    "import time\n",
    "\n",
    "def fib_for(n):\n",
    "  a1 = a2 = 1\n",
    "  for el in range(3, n+1):\n",
    "    a1, a2 = a2, a1 + a2\n",
    "  return a2\n",
    "\n",
    "start = time.time()\n",
    "for _ in range(10000):\n",
    "  fib_for(100)\n",
    "print('Execution time (for loop):', time.time() - start)\n",
    "\n",
    "\n",
    "cache = {}\n",
    "def fib_recur(n):\n",
    "  if n in (1, 2):\n",
    "    return 1\n",
    "  else:\n",
    "    if not cache.get(n-1):\n",
    "      cache[n-1] = fib(n-1)\n",
    "    if not cache.get(n-2):\n",
    "      cache[n-2] = fib(n-2)\n",
    "    return cache.get(n-1) + cache.get(n-2)\n",
    "\n",
    "start = time.time()\n",
    "for _ in range(10000):\n",
    "  fib_recur(100)\n",
    "print('Execution time (recursive):', time.time() - start)\n"
   ]
  },
  {
   "cell_type": "markdown",
   "metadata": {
    "id": "8Pfmte-RCsBL"
   },
   "source": [
    "## Lambda функции"
   ]
  },
  {
   "cell_type": "markdown",
   "metadata": {
    "id": "ynbsuI4JBC10"
   },
   "source": [
    "### Теоретические сведения"
   ]
  },
  {
   "cell_type": "markdown",
   "metadata": {
    "id": "Q15QxFbG1obE"
   },
   "source": [
    "#### Базовое понятие о лямбда функциях\n",
    "\n",
    "В целом, существует два подхода в программировании - функциональный подход, основанный на лямбда-исчислении (математическая теория), и императивное программирование, основанное на концепции машины Тьюринга. \n",
    "Обе модели на самом деле являются эквивалентными, для этого существует доказанная теорема Чёрча-Тьюринга, и различие состоит лишь в подходах к программиованию. \n",
    "\n",
    "Впрочем, от истинных лямбда функций в Python у нас только название, и они в Python являются не более чем сокращенной записью обычных функций. (Если интересно: https://docs.python.org/3/faq/design.html#why-can-t-lambda-expressions-contain-statements, кроме того там еще много интересных ответов на интересные вопросы).\n",
    "\n",
    "Синтаксис лямбда-функции в Python: \n",
    "\n",
    "`lamdba args: body`\n",
    "\n",
    "Определение лямбда функции состоит из ключевого слова `lambda`, перечня связанных аргументов `args` (аргументы, которые будет принимать функция), и тела функции `body`.\n",
    "\n",
    "Результат работы функции - значение получившееся после вычисления выражения в теле функции. \n",
    "\n",
    "Особенности задания лямбда функций:\n",
    "- Может содержать только выражения и не может включать операторы присвоения в свое тело.\n",
    "- Пишется как одна строка исполнения.\n",
    "- Не поддерживает аннотации типов.\n",
    "- Может быть немедленно вызвана.\n",
    "\n",
    "Фактически, лямбда в Python - обычная функция, у которой нет имени.\n"
   ]
  },
  {
   "cell_type": "markdown",
   "metadata": {
    "id": "V3R3W-gTBHkc"
   },
   "source": [
    "#### Некоторые функции высшего порядка\n",
    "\n",
    "- `map(function_to_apply, list_of_inputs)` - формирует итерируемый объект, применяя функцию `function_to_apply` к каждому элементу списка `list_of_inputs`.\n",
    "\n",
    "- `filter(function_to_check, list_of_inputs)` - формирует итерируемый объект, забирая элементы списка `list_of_inputs`, удовлетворяющих условию `function_to_check`. \n",
    "\n",
    "- `reduce(reduce_function, list_of_inputs)` - применяет указанную функцию `reduce_function` к элементам последовательности `list_of_inputs`, сводя её к единственному значению. \n",
    "> Принцип работы: берет первые два элемента и применяет к ним функцию `reduce_function`. Далее применяет `reduce_function` к результату предыдущего вычисления и следующему элементу.\n",
    "\n"
   ]
  },
  {
   "cell_type": "markdown",
   "metadata": {
    "id": "7UHaLH-g11xs"
   },
   "source": [
    "### Code Snippets"
   ]
  },
  {
   "cell_type": "markdown",
   "metadata": {
    "id": "f30OoFPeChFU"
   },
   "source": [
    "#### Использование лямбда-функций"
   ]
  },
  {
   "cell_type": "code",
   "execution_count": 59,
   "metadata": {
    "id": "MEZOnnue5320"
   },
   "outputs": [
    {
     "name": "stdout",
     "output_type": "stream",
     "text": [
      "25\n"
     ]
    }
   ],
   "source": [
    "# Зададим простейшую лямбда-функцию.\n",
    "power_2 = lambda x: x ** 2\n",
    "print(power_2(5))"
   ]
  },
  {
   "cell_type": "code",
   "execution_count": 60,
   "metadata": {
    "id": "zeR9yh2ACvmo"
   },
   "outputs": [
    {
     "name": "stdout",
     "output_type": "stream",
     "text": [
      "6\n"
     ]
    }
   ],
   "source": [
    "# Лямбда функция может быть задана и сразу вызвана. Кроме того ее необязательно\n",
    "# присваивать какой бы то ни было переменной.\n",
    "print((lambda x: x+1)(5))"
   ]
  },
  {
   "cell_type": "code",
   "execution_count": 61,
   "metadata": {
    "id": "yE9G7uO3eJLR"
   },
   "outputs": [
    {
     "name": "stdout",
     "output_type": "stream",
     "text": [
      "1\n",
      "2\n"
     ]
    }
   ],
   "source": [
    "# Это считается плохой практикой, но в Python можно записывать несколько\n",
    "# инструкций на одной строке, используя ;.\n",
    "print(1); print(2)"
   ]
  },
  {
   "cell_type": "code",
   "execution_count": 62,
   "metadata": {
    "id": "Up2Qv2RS6a1M"
   },
   "outputs": [
    {
     "ename": "SyntaxError",
     "evalue": "invalid syntax (295396733.py, line 2)",
     "output_type": "error",
     "traceback": [
      "  \u001b[36mCell\u001b[39m\u001b[36m \u001b[39m\u001b[32mIn[62]\u001b[39m\u001b[32m, line 2\u001b[39m\n\u001b[31m    \u001b[39m\u001b[31ml = (lambda x: print(1); print(2))\u001b[39m\n                           ^\n\u001b[31mSyntaxError\u001b[39m\u001b[31m:\u001b[39m invalid syntax\n"
     ]
    }
   ],
   "source": [
    "# Но с лямбдой такого фокуса не выйдет.\n",
    "l = (lambda x: print(1); print(2))\n",
    "print(l(5))"
   ]
  },
  {
   "cell_type": "code",
   "execution_count": 63,
   "metadata": {
    "id": "tzOemJdXC0en"
   },
   "outputs": [
    {
     "name": "stdout",
     "output_type": "stream",
     "text": [
      "[3, 4]\n"
     ]
    }
   ],
   "source": [
    "# Немного более сложное выражение в лямбде.\n",
    "l = lambda a: [element + 1 for element in a]\n",
    "print(l([2,3]))"
   ]
  },
  {
   "cell_type": "code",
   "execution_count": 64,
   "metadata": {
    "id": "_5aZ1JYse-rP"
   },
   "outputs": [
    {
     "name": "stdout",
     "output_type": "stream",
     "text": [
      "2\n",
      "None\n"
     ]
    }
   ],
   "source": [
    "# Лямбда всегда возвращает результат выполнения body.\n",
    "l = lambda a: print(a)\n",
    "print(l(a=2))"
   ]
  },
  {
   "cell_type": "code",
   "execution_count": 65,
   "metadata": {
    "id": "pVil9wsbDB-z"
   },
   "outputs": [
    {
     "name": "stdout",
     "output_type": "stream",
     "text": [
      "don't do in this manner\n",
      "don't do in this manner\n",
      "don't do in this manner\n",
      "don't do in this manner\n"
     ]
    }
   ],
   "source": [
    "# Самый простой способ сделать более сложные вычисления в лямбде - поместить в \n",
    "# тело функцию. Однако возникает вопрос зачем нам тогда лямбда.\n",
    "def func(a, b):\n",
    "    print(\"don't do in this manner\")\n",
    "    print(\"don't do in this manner\")\n",
    "    print(\"don't do in this manner\")\n",
    "    print(\"don't do in this manner\")\n",
    "\n",
    "l = lambda a, b: func(a, b)\n",
    "l(2,3)"
   ]
  },
  {
   "cell_type": "code",
   "execution_count": 66,
   "metadata": {
    "id": "d-D1DPcN5DTP"
   },
   "outputs": [
    {
     "name": "stdout",
     "output_type": "stream",
     "text": [
      "<lambda>\n",
      "func\n"
     ]
    }
   ],
   "source": [
    "# Фактически, одно из главных отличий лямбды в Python от обычной функции.\n",
    "l = lambda arg: arg + 1\n",
    "\n",
    "def func(): \n",
    "  pass\n",
    "\n",
    "print(l.__name__)\n",
    "print(func.__name__)\n"
   ]
  },
  {
   "cell_type": "code",
   "execution_count": 68,
   "metadata": {
    "id": "_1KUJbvK75A-"
   },
   "outputs": [
    {
     "name": "stdout",
     "output_type": "stream",
     "text": [
      "func\n"
     ]
    }
   ],
   "source": [
    "# Кстати функция сохраняет свое имя.\n",
    "def func(): \n",
    "  pass\n",
    "\n",
    "b = func\n",
    "func = 1\n",
    "print(b.__name__)"
   ]
  },
  {
   "cell_type": "code",
   "execution_count": 69,
   "metadata": {
    "id": "Q4xbGNjp5o6t"
   },
   "outputs": [
    {
     "name": "stdout",
     "output_type": "stream",
     "text": [
      "1 2 (3, 4) 7 {}\n"
     ]
    }
   ],
   "source": [
    "# Так как лямбда фактически таже самая функция, в ней могут присутствовать все\n",
    "# доступные в функции типы аргументов.\n",
    "l = lambda a, b=0, *args, c=7, **kwargs: print(a, b, args, c, kwargs)\n",
    "l(1, 2, 3, 4 )"
   ]
  },
  {
   "cell_type": "code",
   "execution_count": 70,
   "metadata": {
    "id": "hrhfsRdfDSvs"
   },
   "outputs": [
    {
     "name": "stdout",
     "output_type": "stream",
     "text": [
      "24\n"
     ]
    }
   ],
   "source": [
    "# Рекурсия на лямбде. Она не совсем честная, потому что мы фактически именуем\n",
    "# нашу лямбду и используем это имя.\n",
    "factorial = lambda a: a * factorial(a-1) if a>1 else 1\n",
    "print(factorial(4))"
   ]
  },
  {
   "cell_type": "code",
   "execution_count": null,
   "metadata": {
    "id": "WotdYivM9AW8"
   },
   "outputs": [
    {
     "name": "stdout",
     "output_type": "stream",
     "text": [
      "24\n"
     ]
    }
   ],
   "source": [
    "# Есть возможность реализовать рекурсию и без этого трюка, но тут нужно\n",
    "# использовать Y-комбинатор и все это выглядит очень плохо. Мое личное мнение - \n",
    "# забейте. Но если очень любопытно: \n",
    "# https://en.wikipedia.org/wiki/Fixed-point_combinator - теория.\n",
    "# Попытка объяснения на русском https://habr.com/ru/post/50354/ (но без лямбд).\n",
    "\n",
    "# Сам комбинатор:\n",
    "Y = lambda g: ((lambda f: g(lambda *x: f(f) (*x))) ((lambda f: g(lambda *x: f(f)(*x)))))\n",
    "\n",
    "# Вычисление факториала рекурсивно с помощью комбинатора.\n",
    "print(Y(lambda f: (lambda num: num*f(num-1) if num else 1))(4))\n",
    "\n",
    "# Очевидно можно Y подставить в print и записать все в одну строку, но это\n",
    "# будет вообще нечитаемо."
   ]
  },
  {
   "cell_type": "markdown",
   "metadata": {
    "id": "DL_5AHTUCmxL"
   },
   "source": [
    "#### Некоторые функции высшего порядка"
   ]
  },
  {
   "cell_type": "code",
   "execution_count": 72,
   "metadata": {
    "id": "uh5gc9OWHFJO"
   },
   "outputs": [
    {
     "name": "stdout",
     "output_type": "stream",
     "text": [
      "<map object at 0x1081ae380>\n",
      "[0, 1, 2]\n"
     ]
    }
   ],
   "source": [
    "# Функция, уменьшающая значение каждого элемента переданного аргумента на 1.\n",
    "ito = (1, 2, 3)\n",
    "dec = lambda x: x-1\n",
    "result = map(dec, ito)\n",
    "print(result)  # обратите внимание, map возвращает итерируемый объект\n",
    "print(list(result))"
   ]
  },
  {
   "cell_type": "code",
   "execution_count": 73,
   "metadata": {
    "id": "STvymv2fHmac"
   },
   "outputs": [
    {
     "name": "stdout",
     "output_type": "stream",
     "text": [
      "[0, 1, 2]\n"
     ]
    }
   ],
   "source": [
    "# Все то же самое, но изрядно сокращенное.\n",
    "x = map(lambda x: x-1, [1, 2, 3])\n",
    "print(list(x))"
   ]
  },
  {
   "cell_type": "code",
   "execution_count": 76,
   "metadata": {
    "id": "yLkxvhsg7jHj"
   },
   "outputs": [
    {
     "name": "stdout",
     "output_type": "stream",
     "text": [
      "{0: 1, 1: 2, 2: 3}\n"
     ]
    }
   ],
   "source": [
    "# Результат map можно применять, как и любой итерируемый объект, для любых \n",
    "# наших целей. \n",
    "x = map(lambda x: x-1, [1, 2, 3])\n",
    "print({el: el+1 for el in x})"
   ]
  },
  {
   "cell_type": "code",
   "execution_count": 77,
   "metadata": {
    "id": "AxzjzoWn8G4b"
   },
   "outputs": [
    {
     "name": "stdout",
     "output_type": "stream",
     "text": [
      "[0]\n"
     ]
    }
   ],
   "source": [
    "# Лямбды часто применяются в map, filter, reduce, однако можно применять и\n",
    "# обычные функции.\n",
    "def dec(x):\n",
    "  # some operations \n",
    "  return x-1\n",
    "\n",
    "ito = [1]\n",
    "x = map(dec, ito)\n",
    "\n",
    "print(list(x))"
   ]
  },
  {
   "cell_type": "code",
   "execution_count": null,
   "metadata": {
    "id": "gbbKcYDwIguX"
   },
   "outputs": [],
   "source": [
    "# Однако, перед применением map, стоит понимать, что у нас есть гораздо более\n",
    "# pythonic альтернатива: list comprehensions.\n",
    "def f(x):\n",
    "  return x+1\n",
    "\n",
    "iterable = [1, 2, 3]\n",
    "print([f(x) for x in iterable])"
   ]
  },
  {
   "cell_type": "code",
   "execution_count": 78,
   "metadata": {
    "id": "T5wKSJfCHqCi"
   },
   "outputs": [
    {
     "name": "stdout",
     "output_type": "stream",
     "text": [
      "len: 1\n",
      "[-1]\n"
     ]
    }
   ],
   "source": [
    "# Применение функции filter.\n",
    "result = filter(lambda x: x if x<0 else None, [-1, 2, 3])\n",
    "result = list(result)\n",
    "print('len:', len(result))\n",
    "print(result)"
   ]
  },
  {
   "cell_type": "code",
   "execution_count": 79,
   "metadata": {
    "id": "fvCYBfzRIKcB"
   },
   "outputs": [
    {
     "name": "stdout",
     "output_type": "stream",
     "text": [
      "<filter object at 0x1082bb940>\n",
      "[-1]\n"
     ]
    }
   ],
   "source": [
    "# Обратите внимание, filter также возвращает специальный итерируемый объект.\n",
    "x = filter(lambda x: x<0, [-1, 2, 3])\n",
    "print(x)\n",
    "print(list(x))"
   ]
  },
  {
   "cell_type": "code",
   "execution_count": 80,
   "metadata": {
    "id": "DlM2Zr_cHm3e"
   },
   "outputs": [
    {
     "name": "stdout",
     "output_type": "stream",
     "text": [
      "Map:\n",
      "[2, 3, 4]\n",
      "[]\n",
      "Filter:\n",
      "[-1]\n",
      "[]\n"
     ]
    }
   ],
   "source": [
    "# И еще один важный момент: по результату filter и map можно пройти только \n",
    "# один раз.\n",
    "a = map(lambda x: x+1, [1,2,3])\n",
    "x = filter(lambda x: x<0, [-1, 2, 3])\n",
    "\n",
    "print('Map:')\n",
    "print(list(a))\n",
    "print(list(a))\n",
    "\n",
    "print('Filter:')\n",
    "print(list(x))\n",
    "print(list(x))"
   ]
  },
  {
   "cell_type": "code",
   "execution_count": 81,
   "metadata": {
    "id": "D3QeKuZmJPbj"
   },
   "outputs": [
    {
     "ename": "NameError",
     "evalue": "name 'f' is not defined",
     "output_type": "error",
     "traceback": [
      "\u001b[31m---------------------------------------------------------------------------\u001b[39m",
      "\u001b[31mNameError\u001b[39m                                 Traceback (most recent call last)",
      "\u001b[36mCell\u001b[39m\u001b[36m \u001b[39m\u001b[32mIn[81]\u001b[39m\u001b[32m, line 2\u001b[39m\n\u001b[32m      1\u001b[39m \u001b[38;5;66;03m# Альтернатива filter - те же самые генераторы.\u001b[39;00m\n\u001b[32m----> \u001b[39m\u001b[32m2\u001b[39m [x \u001b[38;5;28;01mfor\u001b[39;00m x \u001b[38;5;129;01min\u001b[39;00m iterable \u001b[38;5;28;01mif\u001b[39;00m \u001b[43mf\u001b[49m(x)]\n",
      "\u001b[31mNameError\u001b[39m: name 'f' is not defined"
     ]
    }
   ],
   "source": [
    "# Альтернатива filter - те же самые генераторы.\n",
    "[x for x in iterable if f(x)]"
   ]
  },
  {
   "cell_type": "code",
   "execution_count": 82,
   "metadata": {
    "id": "UhzNaC-GFJfA"
   },
   "outputs": [
    {
     "name": "stdout",
     "output_type": "stream",
     "text": [
      "1\n"
     ]
    }
   ],
   "source": [
    "# Пример использования reduce.\n",
    "from functools import reduce\n",
    "pows = reduce(lambda x, y: x ** y, [1, 2, 3])\n",
    "print(pows)"
   ]
  },
  {
   "cell_type": "code",
   "execution_count": 85,
   "metadata": {
    "id": "GTRpGzVAG7as"
   },
   "outputs": [
    {
     "name": "stdout",
     "output_type": "stream",
     "text": [
      "64\n",
      "7\n",
      "12\n"
     ]
    }
   ],
   "source": [
    "# Чуть более говорящий пример.\n",
    "from functools import reduce\n",
    "pows = reduce((lambda x, y: x ** y), [2, 2, 3])\n",
    "print(pows)\n",
    "\n",
    "\n",
    "sum = reduce((lambda x, y: x + y), [2, 2, 3])\n",
    "print(sum)\n",
    "\n",
    "mul = reduce((lambda x, y: x * y), [2, 2, 3])\n",
    "print(mul)"
   ]
  },
  {
   "cell_type": "code",
   "execution_count": null,
   "metadata": {
    "id": "OjDBwC9QIrK8"
   },
   "outputs": [],
   "source": [
    "# Pythonic альтернативы для reduce у нас нет :). "
   ]
  },
  {
   "cell_type": "markdown",
   "metadata": {
    "id": "LAoR1qm-jo2v"
   },
   "source": [
    "## Области видимости. Замыкания. Декораторы"
   ]
  },
  {
   "cell_type": "markdown",
   "metadata": {
    "id": "687mjFqMv_G7"
   },
   "source": [
    "### Теоретическая часть"
   ]
  },
  {
   "cell_type": "markdown",
   "metadata": {
    "id": "pyjjSDX7wGfP"
   },
   "source": [
    "#### Области видимости\n",
    "\n",
    "Фактически, область видимости задает, где могут быть использованы переменные, заданные в данном месте. \n",
    "\n",
    "Например, переменные заданные в модуле - могут быть использованы в любом месте данного модуля, включая тело функций, заданных в этом модуле. \n",
    "\n",
    "Напротив, переменные, заданные в теле функции вне этой функции, не могут быть использованы - это вызовет ошибку интерпретатора. \n",
    "\n",
    "**Глобальная** переменная - переменная, доступная для использования во всем модуле. \n",
    "\n",
    "**Локальная** переменная - переменная, доступная для использования только внутри функции. Все аргументы, заданные при определении функции, также являются локальными для этой функции. \n",
    "\n",
    "`globals()` - выводит все глобальные переменные. \n",
    "\n",
    "`locals()` - выводит все локальные переменные в данном месте программы. \n",
    "\n"
   ]
  },
  {
   "cell_type": "markdown",
   "metadata": {
    "id": "xJHRYgbF3Nt7"
   },
   "source": [
    "#### Порядок поиска значения переменной. LEGB\n",
    "\n",
    "При обращении к переменной, интерпретатор пытается найти эту переменную в строго определенном порядке. \n",
    "\n",
    "**LEGB**\n",
    "\n",
    "`L` - local. Сначала поиск происходит в локальной области видимости. \n",
    "\n",
    "`E` - enclosure. Если переменная не была найдена в локальной области видимости, она проверяется в объемлющей функциии - фактически, ищется в локальных переменных функции, внутри которой определена заданная функция. Это единственный тип областей видимости, которые могут быть вложенными.\n",
    "\n",
    "`G` - global. Глобальная область видимости - т.е. переменные, заданные в модуле.\n",
    "\n",
    "`B` - built-in. Встроенные переменные. Например, функции max, sum и множество других. \n",
    "\n",
    "Обход областей происходит в строго указанном порядке. Объемлющие функции обходятся от самой ближайщей.\n",
    "\n",
    "\n",
    "\n"
   ]
  },
  {
   "cell_type": "markdown",
   "metadata": {
    "id": "80qJjenP4vpr"
   },
   "source": [
    "#### Присвоение значений переменным во внешних областях видимости\n",
    "\n",
    "Так как в Python при присвоении переменной происходит ее создание, причем создается она в текущей области видимости, представляется проблематичным присвоить значение переменной из внешней области видимости.\n",
    "\n",
    "Для решения этой проблемы используются специальные операторы.\n",
    "\n",
    "`global var` - позволяет после написания этой строки работать с глобальной переменной (присваивать ей значение, в случае если такой переменной не существует - она будет создана в глобаьной области видимости и ей будет присвоено требуемое значение). Важно отметить, что эту инструкцию можно писать только пока не будет создана локальная переменная `var`, иначе это вызовет ошибку интерпретатора.\n",
    "\n",
    "`nonlocal var` - позволяет найти перменную `var` в объемлющей области видимости, и работать именно с ней, вместо создания новой переменной. В случае, если в объемлющей области видимости данной переменной нет, будет ошибка интерпретатора. Использовать `nonlocal` когда уже существует локальная переменная с тем же именем нельзя. \n",
    "\n"
   ]
  },
  {
   "cell_type": "markdown",
   "metadata": {
    "id": "6UYSp2li6JOC"
   },
   "source": [
    "#### Декораторы\n",
    "Можно предложить несколько понятийных определения декоратора: \n",
    "- Декоратор - это обертка вокруг заданной функции, которая позволяет добавлять к функции дополнительный функционал.\n",
    "- Декоратор - это объект, подменяющий собой задекорированную функцию, и добавляющий к ней дополнительный функционал.\n",
    "- Декоратор - структурный паттерн проектирования, предназначенный для динамического подключения дополнительного поведения к объекту.\n",
    "\n",
    "С точки зрения кода, декоратор представляет собой функцию специальной конструкции. \n",
    "\n",
    "Параметрический декоратор - декоратор, который может кроме декорируемой функции принимать дополнительно определенные параметры, для более гибкой работы с ним.\n",
    "\n",
    "**Шаблон для решения задачи на декораторы:**\n",
    "```python\n",
    "def my_dec(func): \n",
    "    # используем если необходимо хранить значение между вызовами функции\n",
    "    # var_between_runs = 0 \n",
    "    def wrapper(*args, **kwargs): \n",
    "        \n",
    "        # используем если необходимо хранить значение между вызовами функции\n",
    "        # nonlocal var_between_runs\n",
    "        \n",
    "        # Реализуем блок операций которые должны быть вызваны до вызова функции\n",
    "        # operations_before_run\n",
    "        \n",
    "        result = func(*args, **kwargs) \n",
    "\n",
    "        # Реализуем блок операций которые должны быть вызваны после вызова функции\n",
    "        # operations_after_run\n",
    "\n",
    "        return result \n",
    "    return wrapper\n",
    "```\n",
    "Идея заключается в том, что вам необходимо в любом случае написать костяк декоратора, и он всегда одинаковый (все, что не закомментировано), а потом реализовать соответствующие блоки в комментариях, в зависимости от условия задачи. Обычно, эти реализации очень простые, и самая сложная проблема - запомнить структуру декоратора. "
   ]
  },
  {
   "cell_type": "markdown",
   "metadata": {
    "id": "hNV0RSUh9hgt"
   },
   "source": [
    "#### Замыкание(closure)\n",
    "\n",
    "На примере декоратора мы увидели, что `wrapper` использует функцию, переданную в декоратор, т.е. находящуюся в объемлющей области видимости. Стоит отметить, что В момент вызова `wrapper`'а функция декоратора уже завершила работу, и ее пространство имен удалилось. \n",
    "\n",
    "Способность хранить внешние зависимости для дальнейшего использования называется замыканием. "
   ]
  },
  {
   "cell_type": "markdown",
   "metadata": {
    "id": "O0STdjur-CZq"
   },
   "source": [
    "### Code Snippets"
   ]
  },
  {
   "cell_type": "markdown",
   "metadata": {
    "id": "UpMLUObC-HWI"
   },
   "source": [
    "#### Области видимости"
   ]
  },
  {
   "cell_type": "code",
   "execution_count": 86,
   "metadata": {
    "id": "WlvpnzNa72qV"
   },
   "outputs": [
    {
     "name": "stdout",
     "output_type": "stream",
     "text": [
      "{'__name__': '__main__', '__doc__': '\\nПереформулируем задачу. \\nПроверить, содержат ли все словари в переданном итерируемом объекте пары\\nключ-значение с непустым(истинным) значением \\n', '__package__': None, '__loader__': None, '__spec__': None, '__builtin__': <module 'builtins' (built-in)>, '__builtins__': <module 'builtins' (built-in)>, '_ih': ['', '# Если в функции не задано возвращаемое значение, она возвращает None .\\ndef add(a, b):\\n    result = a + b\\n    print(result)\\n    return result\\n\\n# Вызываем функцию.\\nresult = add(1, 2.5)\\nprint(result)', '# Если в функции не задано возвращаемое значение, она возвращает None .\\ndef add(a, b):\\n    result = a + b\\n    return result\\n\\n# Вызываем функцию.\\nresult = add(1, 2.5)\\nprint(result)', '# Функция, у которой при задании есть все типы аргументов.\\ndef very_big_func(a, b=10, *args, c, d=1, **kwargs):\\n    print(a, b, args, c, d, kwargs)\\n\\nvery_big_func(1, 22, 3, e=7, c=5)\\n# 3 идет в args, е - в kwargs.', \"# Функция, у которой при задании есть все типы аргументов.\\ndef very_big_func(a, b=10, *args, c, d=1, **kwargs):\\n    print(a, b, args, c, d, kwargs)\\n\\nvery_big_func(1, 22, 3, e=7, c=5, f='6', g=10)\\n# 3 идет в args, е - в kwargs.\", \"# Функция, у которой при задании есть все типы аргументов.\\ndef very_big_func(a, b=10, *args, c, d=1, **kwargs):\\n    print(a, b, args, c, d, kwargs)\\n\\nvery_big_func(1, 22, 3, e=7, c=5, d=5, f='6', g=10)\\n# 3 идет в args, е - в kwargs.\", \"# Функция, у которой при задании есть все типы аргументов.\\ndef very_big_func(a, b=10, *args, c, d=1, **kwargs):\\n    print(a, b, args, c, d, kwargs)\\n\\nvery_big_func(1, 22, 3, 10, 11, 12, 13, 14 e=7, c=5, d=5, f='6', g=10)\\n# 3 идет в args, е - в kwargs.\", \"# Функция, у которой при задании есть все типы аргументов.\\ndef very_big_func(a, b=10, *args, c, d=1, **kwargs):\\n    print(a, b, args, c, d, kwargs)\\n\\nvery_big_func(1, 22, 3, 10, 11, 12, 13, 14, e=7, c=5, d=5, f='6', g=10)\\n# 3 идет в args, е - в kwargs.\", \"# Функция, у которой при задании есть все типы аргументов.\\ndef very_big_func(a, b=10, *args, c, d=1, **kwargs):\\n    print(a, b, args, c, d, kwargs)\\n\\nvery_big_func(a=1, b=22, e=7, c=5, d=5, f='6', g=10)\\n# 3 идет в args, е - в kwargs.\", '# Порядок задания параметров имеет значение. \\n# В случае его нарушения, будет ошибка.\\n\\n# В данном случае позиционный аргумент со значением по умолчанию идет раньше\\n# позиционного аргумента.\\ndef func_with_error(a=10, b):\\n    pass\\n\\nfunc_with_error(1, 1)', '# В случае, если у нас есть позиционные аргументы со значением по умолчанию, \\n# и есть *args, следует быть осторожным и не передавать позиционный аргумент \\n# по имени.\\ndef very_big_func(a, b, *args, c, d=1, **kwargs):\\n    print(a, b, args, c, d, kwargs)\\n\\nvery_big_func(1, 2, 3, b=8, c=5, e=7)\\n\\n# Идея присвоения значений аргументов в Python(и, соответственно, суть ошибки)\\n# Заключается в том, что сначала все, что передано по позиции, присваивается\\n# поочередно всем позиционным аргументам, после чего оставшиеся заворачиваются в \\n# args. В данном случае мы присвоили значения и a, и b, положили 3 в args, \\n# и после этого получаем b, переданный уже по имени.\\n\\n# Очевидно, такого эффекта не будет для аргументов, передаваемых только\\n# по имени.', '# Задание аргументов, передаваемых только по позиции, в случае, если нет *args.\\ndef func(a, *, c):\\n  print(a, c)\\n\\nfunc(3, c=10)\\n\\n# В случае если мы не хотим принимать неограниченное количество позиционных\\n# аргументов, мы можем просто указать оператор *, и все переменные, которые \\n# будут стоять после нее, будут передаваемыми только по имени.', 'def only_named_args(*, a, b):\\n    print(a, b)\\n\\nonly_named_args(a=1, b=2)', 'def only_positional_args(a, b, /):\\n    print(a, b)\\n\\n\\nonly_positional_args(1, 2)', 'def only_positional_args(a, b, /):\\n    print(a, b)\\n\\n\\nonly_positional_args(1, b=2)', \"# Распаковка итерируемых объектов и словарей при вызове функций. \\ndef func(a, b, *, c, d):\\n    print(a, b, c, d)\\n\\niterable = [1, 2]\\ndict_ = {'c': 5, 'd': 7}\\n\\nfunc(*iterable, **dict_) # func(1, 2, c=5, d=7)\", '# Если не указан *args, в распаковываемом объекте количество объектов должно\\n# быть равно количеству аргументов функций. Иначе - ошибка.\\ndef func(a, b):\\n    print(a, b)\\n\\niterable = [1, 2, 3]\\nfunc(*iterable)', \"# То же самое со словарями.\\ndef func(*, c, d):\\n    print(c, d)\\n\\ndict_ = {'c': 5, 'd': 7, 'e': 10}\\n\\nfunc(**dict_)\", '# Если не указан *args, в распаковываемом объекте количество объектов должно\\n# быть равно количеству аргументов функций. Иначе - ошибка.\\ndef func(a, b, *_):\\n    print(a, b)\\n\\niterable = [1, 2, 3]\\nfunc(*iterable)', '# Если не указан *args, в распаковываемом объекте количество объектов должно\\n# быть равно количеству аргументов функций. Иначе - ошибка.\\ndef func(a, b, *_):\\n    print(a, b, _)\\n\\niterable = [1, 2, 3]\\nfunc(*iterable)', '# Если не указан *args, в распаковываемом объекте количество объектов должно\\n# быть равно количеству аргументов функций. Иначе - ошибка.\\ndef func(a, b):\\n    print(a, b)\\n\\niterable = [1, 2, 3]\\nfunc(*iterable)', \"# То же самое со словарями.\\ndef func(*, c, d, **_):\\n    print(c, d)\\n\\ndict_ = {'c': 5, 'd': 7, 'e': 10}\\n\\nfunc(**dict_)\", \"# То же самое со словарями.\\ndef func(*, c, d, **_):\\n    print(c, d, _)\\n\\ndict_ = {'c': 5, 'd': 7, 'e': 10}\\n\\nfunc(**dict_)\", \"# То же самое со словарями.\\ndef func(*, c, d):\\n    print(c, d)\\n\\ndict_ = {'c': 5, 'd': 7, 'e': 10}\\n\\nfunc(**dict_)\", \"# Обратите внимание, что словари можно распаковывать не только если аргументы\\n# с соответствующими именами заданы как передаваемые только по значению. \\ndef func(c, d):\\n    print(c, d)\\n\\ndict_ = {'c': 5, 'd': 7}\\n\\nfunc(**dict_)\", \"# В отличие от задания функции, * и ** при вызове может встречаться несколько\\n# раз.\\ndef func(*args, **kwargs):  # функция, которая принимает любой набор аргументов\\n  print(args, kwargs)\\n\\niterable_1 = (1, )\\niterable_2 = [3, 4]\\ndict_1 = {'c': 5, 'd': 7}\\ndict_2 = {'e': 5, 'f': 7}\\n\\nfunc(*iterable_1, *iterable_2, **dict_1, **dict_2)\\n# Главное, чтобы вначале передавались позиционные аргументы, а потом аргументы,\\n# передаваемые по имени. Т.е. Сначала идут все распаковки *, а потом все **. \", \"# Не забываем, что строка - тоже итерируемый объект :) \\ndef func(*args):  # функция, которая принимает любой набор аргументов\\n    print(args)\\n\\nstr_ = 'string'\\nfunc(*str_)\", '# попробуем передать в функцию объекты разных типов.\\n\\ndef func(a):\\n    print(a, type(a))\\n\\n# Передадим некоторые стандартные типы данных.\\nfunc(1)  # целое число\\nfunc([1, 2])  # список\\nfunc({3, 4})  # множество', \"# Пример посложнее - передаем функцию в функцию.\\n\\ndef func(a):\\n    print(a, type(a))\\n\\ndef fun_func():\\n    print('fun')\\n\\nfunc(fun_func)\", \"# Мы можем передать как фнукцию, так и результат ее работы.\\n# Пример посложнее - передаем функцию в функцию.\\ndef func(a):\\n  print(a, type(a))\\n\\ndef fun_func():\\n  print('fun')\\n\\nfunc(fun_func())\\n# Интерпретируйте полученный результат.\", '# Неизменяемое значение по умолчанию.\\ndef func(a=1):\\n    a += 1\\n    return a\\n\\nprint(func())\\nprint(func())', '# Изменяемое значение по умолчанию.\\ndef func(a=[]):\\n    a.append(1)\\n    return a\\n\\nprint(func())\\nprint(func())\\nprint(func())', \"# Стандартный способ обработки таких ситуаций(и заодно пример boilerplate кода).\\n\\n# Изменяемое значение по умолчанию.\\ndef func(a=None):\\n    if a is None:\\n        a = []\\n    a += [1]\\n    return(a)\\n\\nprint(func())\\nprint(func())\\nprint(func())\\n\\n# Проверка 'if' a будет в большинстве случаев недостаточна, потому что нам может\\n# быть передан пустой список, и наш код в таком случае его перезапишет другим.\", 'def func(a=()):\\n    a += (1)\\n    return a\\n\\nprint(func())\\nprint(func())\\nprint(func())', 'def func(a=()):\\n    a += (1,)\\n    return a\\n\\nprint(func())\\nprint(func())\\nprint(func())', 'def func(a=[]):\\n    a = a.copy()\\n    a.append(1)\\n    return a\\n\\nprint(func())\\nprint(func())\\nprint(func())', '# Пример работы агрегирующих функции. \\niterable = {1, 2, 3, 4, 1, 2, 3, 4}\\n\\nprint(sum(iterable))  # интерпретируйте пожалуйста резулльтат выполнения\\nprint(max(iterable))\\nprint(min(iterable))', '# Пример работы агрегирующих функции. \\niterable = {1, 2, 3, 4, 1, 2, 3, 4}\\n\\nprint(sum(iterable))  # интерпретируйте пожалуйста резулльтат выполнения\\nprint(max(iterable))\\nprint(min(iterable))\\n\\nprint(sum(i for i in range(10)))', '# Важно, чтобы все элементы итерируемого объекта были сравнимы!\\ndef func(): \\n  pass\\n\\na = [func, 3]\\nprint(max(a))', \"# Пример функции преобразования типа и type.\\na = tuple('string')\\nprint(type(a), a)\", '# Решение с помощью any.\\ndef func(iterable):\\n  \"\"\"Checks if we have dict with non-empty \"key\": value pair.\\n\\n  Args:\\n    itr = [{}, {}, ...] - list of dicts\\n  Return:\\n    True/False\\n  \"\"\"\\n  return any(dct.get(\"key\") for dct in iterable)\\n\\ndct1 = [{1: 1}, {\"key\": None}, ]  # False\\nprint(func(dct1))', '# Вызов той же функции но с ожидаемым ответом True.\\ndef func(iterable):\\n  \"\"\"Checks if we have dict with non-empty \"key\": value pair.\\n\\n  Args:\\n    itr = [{}, {}, ...] - list of dicts\\n  Return:\\n    True/False\\n  \"\"\"\\n  return any([dct.get(\"key\") for dct in iterable])\\n\\ndct1 = [{1:1}, {\"key\": 1},]\\nprint(func(dct1))', '\"\"\"\\nПереформулируем задачу. \\nПроверить, содержат ли все словари в переданном итерируемом объекте пары\\nключ-значение с непустым(истинным) значением \\n\"\"\"\\n\\ndef func(iterable):\\n  return all(dct.get(\"key\") for dct in iterable)\\n\\ndct = [{1:1},{\"key\": 1},]\\nprint(func(dct))', \"# Важный момент, напрямую следующий из определения.\\nprint('all:', all([]))\\nprint('any:', any([]))\\n# Из этого следует, что изменение формулировки в определении критично.\", '# Простейшая рекурсивная функция - считает факториал. \\n#\\xa05! = 5 * 4 * 3 * 2 * 1\\ndef factorial(n):\\n  if n != 1:\\n    return n * factorial(n-1) # 3 * factorial(2) -> 3 * 2 * factorial(1) -> 3 * 2 * 1\\n  else:  # условия выхода из рекурсии\\n    return 1\\n\\nprint(factorial(4))', '# Простейшая рекурсивная функция - считает факториал. \\n#\\xa05! = 5 * 4 * 3 * 2 * 1\\ndef factorial(n):\\n  if n != 1:\\n    return n * factorial(n-1) # 3 * factorial(2) -> 3 * 2 * factorial(1) -> 3 * 2 * 1\\n  else:  # условия выхода из рекурсии\\n    return 1\\n\\nprint(factorial(10))', '# Простейшая рекурсивная функция - считает факториал. \\n#\\xa05! = 5 * 4 * 3 * 2 * 1\\ndef factorial(n):\\n  if n != 1:\\n    return n * factorial(n-1) # 3 * factorial(2) -> 3 * 2 * factorial(1) -> 3 * 2 * 1\\n  else:  # условия выхода из рекурсии\\n    return 1\\n\\nprint(factorial(100))', '# Простейшая рекурсивная функция - считает факториал. \\n#\\xa05! = 5 * 4 * 3 * 2 * 1\\ndef factorial(n):\\n  if n != 1:\\n    return n * factorial(n-1) # 3 * factorial(2) -> 3 * 2 * factorial(1) -> 3 * 2 * 1\\n  else:  # условия выхода из рекурсии\\n    return 1\\n\\nprint(factorial(1000))', '# Простейшая рекурсивная функция - считает факториал. \\n#\\xa05! = 5 * 4 * 3 * 2 * 1\\ndef factorial_loop(n):\\n    result = 1\\n    for i in range(1, n + 1):\\n       result *= i\\n    return result\\n\\nfactorial_loop(5)', '# Простейшая рекурсивная функция - считает факториал. \\n#\\xa05! = 5 * 4 * 3 * 2 * 1\\ndef factorial(n):\\n  if n != 1:\\n    return n * factorial(n-1) # 3 * factorial(2) -> 3 * 2 * factorial(1) -> 3 * 2 * 1\\n  else:  # условия выхода из рекурсии\\n    return 1\\n\\nprint(factorial(5))', '# Простейшая рекурсивная функция - считает факториал. \\n#\\xa05! = 5 * 4 * 3 * 2 * 1\\ndef factorial_loop(n):\\n    result = 1\\n    for i in range(1, n + 1):\\n       result *= i\\n    return result\\n\\nfactorial_loop(5)', \"# Расчет n-го числа Фибоначчи без использования рекурсии (начиная с второго)\\n# Замерим время исполнения программы.\\n# 1, 1, 2, 3, 5, 8, 13\\ndef fib(n):\\n  a1 = a2 = 1\\n  for el in range(3, n+1):\\n    a1, a2 = a2, a1 + a2\\n  return a2\\n\\nimport time\\nstart = time.time()\\nprint(fib(100))\\nprint('Execution time:', time.time() - start)\", \"# А сейчас то же самое но для рекурсии написанной в лоб.\\n\\ndef fib(n):\\n  if n in (1, 2):  # Условие выхода из рекурсии. Скобки здесь не обязательны\\n    return 1\\n  else:\\n    return fib(n-1) + fib(n-2)\\n\\nimport time\\nstart = time.time()\\nprint(fib(30))  # Обратите внимание, что здесь число в 3 раза меньше! \\nprint('Execution time:', time.time() - start)\", \"# А сейчас то же самое но для рекурсии написанной в лоб.\\n\\ndef fib(n):\\n  if n in (1, 2):  # Условие выхода из рекурсии. Скобки здесь не обязательны\\n    return 1\\n  else:\\n    return fib(n-1) + fib(n-2)\\n\\nimport time\\nstart = time.time()\\nprint(fib(100))  # Обратите внимание, что здесь число в 3 раза меньше! \\nprint('Execution time:', time.time() - start)\", \"# Реализуем кэширование чтобы избежать ситуации из прошлого примера.\\ncache = {}\\ndef fib(n):\\n  if n in (1, 2):\\n    return 1\\n  else:\\n    if not cache.get(n-1):\\n      cache[n-1] = fib(n-1)\\n    if not cache.get(n-2):\\n      cache[n-2] = fib(n-2)\\n    return cache.get(n-1) + cache.get(n-2)\\n\\nimport time\\nstart = time.time()\\nprint(fib(100))\\nprint('Execution time:', time.time() - start)\", '# Реализуем кэширование чтобы избежать ситуации из прошлого примера.\\ncache = {}\\ndef fib(n):\\n  if n in (1, 2):\\n    return 1\\n  else:\\n    if not cache.get(n-1):\\n      cache[n-1] = fib(n-1)\\n    if not cache.get(n-2):\\n      cache[n-2] = fib(n-2)\\n    return cache.get(n-1) + cache.get(n-2)\\n\\nimport time\\nstart = time.time()\\nprint(fib(100))\\nprint(\\'Execution time:\\', time.time() - start)\\nprint(\"Cache size:\", len(cache))', \"# Стоит обратить внимание на следующее:\\n# 1. Мы не можем использовать, например, setdefault к нашему кэшу, потому что\\n#    попадем в похожую ситуацию - ключ в словарь будет добавляться очень поздно. \\n# 2. На одном запуске сложно оценить производительность первого и второго\\n#    решения, но проведя тест например на 10000 зпусков можно получить более-менее\\n#    релевантные результаты для оценки производительности. \\n# 3. Рекурсия имеет максимальную глубину, обусловленную стэком вызовов.\\n#    например, на данный момент(декабрь 2020) посчитать 1000 число мы не можем.\\n# 4. Производительность зависит от реализации интерпретатора, и результаты могут\\n#    разительно отличаться в двух разных реализациях интерпретатора (и даже в \\n#    разных его версиях).\\nimport time\\n\\ndef fib_for(n):\\n  a1 = a2 = 1\\n  for el in range(3, n+1):\\n    a1, a2 = a2, a1 + a2\\n  return a2\\n\\nstart = time.time()\\nfor _ in range(10000):\\n  fib_for(100)\\nprint('Execution time (for loop):', time.time() - start)\\n\\n\\ncache = {}\\ndef fib_recur(n):\\n  if n in (1, 2):\\n    return 1\\n  else:\\n    if not cache.get(n-1):\\n      cache[n-1] = fib(n-1)\\n    if not cache.get(n-2):\\n      cache[n-2] = fib(n-2)\\n    return cache.get(n-1) + cache.get(n-2)\\n\\nstart = time.time()\\nfor _ in range(10000):\\n  fib_recur(100)\\nprint('Execution time (recursive):', time.time() - start)\", '# Зададим простейшую лямбда-функцию.\\npower_2 = lambda x: x ** 2\\nprint(power_2(5))', '# Зададим простейшую лямбда-функцию.\\npower_2 = lambda x: x ** 2\\nprint(power_2(5))\\n\\nprint(power_2.__name__)', '# Зададим простейшую лямбда-функцию.\\npower_2 = lambda x: x ** 2\\nprint(power_2(5))', '# Лямбда функция может быть задана и сразу вызвана. Кроме того ее необязательно\\n# присваивать какой бы то ни было переменной.\\nprint((lambda x: x+1)(5))', '# Это считается плохой практикой, но в Python можно записывать несколько\\n# инструкций на одной строке, используя ;.\\nprint(1); print(2)', '# Но с лямбдой такого фокуса не выйдет.\\nl = (lambda x: print(1); print(2))\\nprint(l(5))', '# Немного более сложное выражение в лямбде.\\nl = lambda a: [element + 1 for element in a]\\nprint(l([2,3]))', '# Лямбда всегда возвращает результат выполнения body.\\nl = lambda a: print(a)\\nprint(l(a=2))', '# Самый простой способ сделать более сложные вычисления в лямбде - поместить в \\n# тело функцию. Однако возникает вопрос зачем нам тогда лямбда.\\ndef func(a, b):\\n    print(\"don\\'t do in this manner\")\\n    print(\"don\\'t do in this manner\")\\n    print(\"don\\'t do in this manner\")\\n    print(\"don\\'t do in this manner\")\\n\\nl = lambda a, b: func(a, b)\\nl(2,3)', '# Фактически, одно из главных отличий лямбды в Python от обычной функции.\\nl = lambda arg: arg + 1\\n\\ndef func(): \\n  pass\\n\\nprint(l.__name__)\\nprint(func.__name__)', '# Кстати функция сохраняет свое имя.\\ndef func(): \\n  pass\\n\\nb = func\\nfunc = 1\\nprint(b.__name__)', '# Кстати функция сохраняет свое имя.\\ndef func(): \\n  pass\\n\\nb = func\\nfunc = 1\\nprint(b.__name__)', '# Так как лямбда фактически таже самая функция, в ней могут присутствовать все\\n# доступные в функции типы аргументов.\\nl = lambda a, b=0, *args, c=7, **kwargs: print(a, b, args, c, kwargs)\\nl(1, 2, 3, 4 )', '# Рекурсия на лямбде. Она не совсем честная, потому что мы фактически именуем\\n# нашу лямбду и используем это имя.\\nfactorial = lambda a: a * factorial(a-1) if a>1 else 1\\nprint(factorial(4))', '# Есть возможность реализовать рекурсию и без этого трюка, но тут нужно\\n# использовать Y-комбинатор и все это выглядит очень плохо. Мое личное мнение - \\n# забейте. Но если очень любопытно: \\n# https://en.wikipedia.org/wiki/Fixed-point_combinator - теория.\\n# Попытка объяснения на русском https://habr.com/ru/post/50354/ (но без лямбд).\\n\\n# Сам комбинатор:\\nY = lambda g: ((lambda f: g(lambda *x: f(f) (*x))) ((lambda f: g(lambda *x: f(f)(*x)))))\\n\\n# Вычисление факториала рекурсивно с помощью комбинатора.\\nprint(Y(lambda f: (lambda num: num*f(num-1) if num else 1))(4))\\n\\n# Очевидно можно Y подставить в print и записать все в одну строку, но это\\n# будет вообще нечитаемо.', '# Функция, уменьшающая значение каждого элемента переданного аргумента на 1.\\nito = (1, 2, 3)\\ndec = lambda x: x-1\\nresult = map(dec, ito)\\nprint(result)  # обратите внимание, map возвращает итерируемый объект\\nprint(list(result))', '# Все то же самое, но изрядно сокращенное.\\nx = map(lambda x: x-1, [1, 2, 3])\\nprint(list(x))', '# Результат map можно применять, как и любой итерируемый объект, для любых \\n# наших целей. \\nx = map(lambda x: x-1, [1, 2, 3])\\nprint({el:el+1 for el in x})', '# Результат map можно применять, как и любой итерируемый объект, для любых \\n# наших целей. \\nx = map(lambda x: x-1, [1, 2, 3])\\nprint({el: el+1 for el in x})\\n\\nprint({el: el+1 for el in x})', '# Результат map можно применять, как и любой итерируемый объект, для любых \\n# наших целей. \\nx = map(lambda x: x-1, [1, 2, 3])\\nprint({el: el+1 for el in x})', '# Лямбды часто применяются в map, filter, reduce, однако можно применять и\\n# обычные функции.\\ndef dec(x):\\n  # some operations \\n  return x-1\\n\\nito = [1]\\nx = map(dec, ito)\\n\\nprint(list(x))', \"# Применение функции filter.\\nresult = filter(lambda x: x if x<0 else None, [-1, 2, 3])\\nresult = list(result)\\nprint('len:', len(result))\\nprint(result)\", '# Обратите внимание, filter также возвращает специальный итерируемый объект.\\nx = filter(lambda x: x<0, [-1, 2, 3])\\nprint(x)\\nprint(list(x))', \"# И еще один важный момент: по результату filter и map можно пройти только \\n# один раз.\\na = map(lambda x: x+1, [1,2,3])\\nx = filter(lambda x: x<0, [-1, 2, 3])\\n\\nprint('Map:')\\nprint(list(a))\\nprint(list(a))\\n\\nprint('Filter:')\\nprint(list(x))\\nprint(list(x))\", '# Альтернатива filter - те же самые генераторы.\\n[x for x in iterable if f(x)]', '# Пример использования reduce.\\nfrom functools import reduce\\npows = reduce(lambda x, y: x ** y, [1, 2, 3])\\nprint(pows)', '# Чуть более говорящий пример.\\nfrom functools import reduce\\npows = reduce((lambda x, y: x ** y), [2, 2, 3])\\nprint(pows)', '# Чуть более говорящий пример.\\nfrom functools import reduce\\npows = reduce((lambda x, y: x ** y), [2, 2, 3])\\nprint(pows)\\n\\n\\nsum = reduce((lambda x, y: x + y), [2, 2, 3])\\nprint(sum)', '# Чуть более говорящий пример.\\nfrom functools import reduce\\npows = reduce((lambda x, y: x ** y), [2, 2, 3])\\nprint(pows)\\n\\n\\nsum = reduce((lambda x, y: x + y), [2, 2, 3])\\nprint(sum)\\n\\nmul = reduce((lambda x, y: x * y), [2, 2, 3])\\nprint(mul)', '# На уровне модуля globals и locals будут совпадать - т.к. определенные в\\n# модуле переменные являются для него локальными, но также и глобальны - могут \\n# быть использованы в любом месте модуля.\\n\\n# Большое количество глобальных переменных в globals является следствием\\n# работы jupyter notebook. \\nglobal_var = 10\\nprint(globals())\\nprint(locals())'], '_oh': {48: 120, 50: 120}, '_dh': [PosixPath('/Users/lavoncyk/Projects/python-courses-2025')], 'In': ['', '# Если в функции не задано возвращаемое значение, она возвращает None .\\ndef add(a, b):\\n    result = a + b\\n    print(result)\\n    return result\\n\\n# Вызываем функцию.\\nresult = add(1, 2.5)\\nprint(result)', '# Если в функции не задано возвращаемое значение, она возвращает None .\\ndef add(a, b):\\n    result = a + b\\n    return result\\n\\n# Вызываем функцию.\\nresult = add(1, 2.5)\\nprint(result)', '# Функция, у которой при задании есть все типы аргументов.\\ndef very_big_func(a, b=10, *args, c, d=1, **kwargs):\\n    print(a, b, args, c, d, kwargs)\\n\\nvery_big_func(1, 22, 3, e=7, c=5)\\n# 3 идет в args, е - в kwargs.', \"# Функция, у которой при задании есть все типы аргументов.\\ndef very_big_func(a, b=10, *args, c, d=1, **kwargs):\\n    print(a, b, args, c, d, kwargs)\\n\\nvery_big_func(1, 22, 3, e=7, c=5, f='6', g=10)\\n# 3 идет в args, е - в kwargs.\", \"# Функция, у которой при задании есть все типы аргументов.\\ndef very_big_func(a, b=10, *args, c, d=1, **kwargs):\\n    print(a, b, args, c, d, kwargs)\\n\\nvery_big_func(1, 22, 3, e=7, c=5, d=5, f='6', g=10)\\n# 3 идет в args, е - в kwargs.\", \"# Функция, у которой при задании есть все типы аргументов.\\ndef very_big_func(a, b=10, *args, c, d=1, **kwargs):\\n    print(a, b, args, c, d, kwargs)\\n\\nvery_big_func(1, 22, 3, 10, 11, 12, 13, 14 e=7, c=5, d=5, f='6', g=10)\\n# 3 идет в args, е - в kwargs.\", \"# Функция, у которой при задании есть все типы аргументов.\\ndef very_big_func(a, b=10, *args, c, d=1, **kwargs):\\n    print(a, b, args, c, d, kwargs)\\n\\nvery_big_func(1, 22, 3, 10, 11, 12, 13, 14, e=7, c=5, d=5, f='6', g=10)\\n# 3 идет в args, е - в kwargs.\", \"# Функция, у которой при задании есть все типы аргументов.\\ndef very_big_func(a, b=10, *args, c, d=1, **kwargs):\\n    print(a, b, args, c, d, kwargs)\\n\\nvery_big_func(a=1, b=22, e=7, c=5, d=5, f='6', g=10)\\n# 3 идет в args, е - в kwargs.\", '# Порядок задания параметров имеет значение. \\n# В случае его нарушения, будет ошибка.\\n\\n# В данном случае позиционный аргумент со значением по умолчанию идет раньше\\n# позиционного аргумента.\\ndef func_with_error(a=10, b):\\n    pass\\n\\nfunc_with_error(1, 1)', '# В случае, если у нас есть позиционные аргументы со значением по умолчанию, \\n# и есть *args, следует быть осторожным и не передавать позиционный аргумент \\n# по имени.\\ndef very_big_func(a, b, *args, c, d=1, **kwargs):\\n    print(a, b, args, c, d, kwargs)\\n\\nvery_big_func(1, 2, 3, b=8, c=5, e=7)\\n\\n# Идея присвоения значений аргументов в Python(и, соответственно, суть ошибки)\\n# Заключается в том, что сначала все, что передано по позиции, присваивается\\n# поочередно всем позиционным аргументам, после чего оставшиеся заворачиваются в \\n# args. В данном случае мы присвоили значения и a, и b, положили 3 в args, \\n# и после этого получаем b, переданный уже по имени.\\n\\n# Очевидно, такого эффекта не будет для аргументов, передаваемых только\\n# по имени.', '# Задание аргументов, передаваемых только по позиции, в случае, если нет *args.\\ndef func(a, *, c):\\n  print(a, c)\\n\\nfunc(3, c=10)\\n\\n# В случае если мы не хотим принимать неограниченное количество позиционных\\n# аргументов, мы можем просто указать оператор *, и все переменные, которые \\n# будут стоять после нее, будут передаваемыми только по имени.', 'def only_named_args(*, a, b):\\n    print(a, b)\\n\\nonly_named_args(a=1, b=2)', 'def only_positional_args(a, b, /):\\n    print(a, b)\\n\\n\\nonly_positional_args(1, 2)', 'def only_positional_args(a, b, /):\\n    print(a, b)\\n\\n\\nonly_positional_args(1, b=2)', \"# Распаковка итерируемых объектов и словарей при вызове функций. \\ndef func(a, b, *, c, d):\\n    print(a, b, c, d)\\n\\niterable = [1, 2]\\ndict_ = {'c': 5, 'd': 7}\\n\\nfunc(*iterable, **dict_) # func(1, 2, c=5, d=7)\", '# Если не указан *args, в распаковываемом объекте количество объектов должно\\n# быть равно количеству аргументов функций. Иначе - ошибка.\\ndef func(a, b):\\n    print(a, b)\\n\\niterable = [1, 2, 3]\\nfunc(*iterable)', \"# То же самое со словарями.\\ndef func(*, c, d):\\n    print(c, d)\\n\\ndict_ = {'c': 5, 'd': 7, 'e': 10}\\n\\nfunc(**dict_)\", '# Если не указан *args, в распаковываемом объекте количество объектов должно\\n# быть равно количеству аргументов функций. Иначе - ошибка.\\ndef func(a, b, *_):\\n    print(a, b)\\n\\niterable = [1, 2, 3]\\nfunc(*iterable)', '# Если не указан *args, в распаковываемом объекте количество объектов должно\\n# быть равно количеству аргументов функций. Иначе - ошибка.\\ndef func(a, b, *_):\\n    print(a, b, _)\\n\\niterable = [1, 2, 3]\\nfunc(*iterable)', '# Если не указан *args, в распаковываемом объекте количество объектов должно\\n# быть равно количеству аргументов функций. Иначе - ошибка.\\ndef func(a, b):\\n    print(a, b)\\n\\niterable = [1, 2, 3]\\nfunc(*iterable)', \"# То же самое со словарями.\\ndef func(*, c, d, **_):\\n    print(c, d)\\n\\ndict_ = {'c': 5, 'd': 7, 'e': 10}\\n\\nfunc(**dict_)\", \"# То же самое со словарями.\\ndef func(*, c, d, **_):\\n    print(c, d, _)\\n\\ndict_ = {'c': 5, 'd': 7, 'e': 10}\\n\\nfunc(**dict_)\", \"# То же самое со словарями.\\ndef func(*, c, d):\\n    print(c, d)\\n\\ndict_ = {'c': 5, 'd': 7, 'e': 10}\\n\\nfunc(**dict_)\", \"# Обратите внимание, что словари можно распаковывать не только если аргументы\\n# с соответствующими именами заданы как передаваемые только по значению. \\ndef func(c, d):\\n    print(c, d)\\n\\ndict_ = {'c': 5, 'd': 7}\\n\\nfunc(**dict_)\", \"# В отличие от задания функции, * и ** при вызове может встречаться несколько\\n# раз.\\ndef func(*args, **kwargs):  # функция, которая принимает любой набор аргументов\\n  print(args, kwargs)\\n\\niterable_1 = (1, )\\niterable_2 = [3, 4]\\ndict_1 = {'c': 5, 'd': 7}\\ndict_2 = {'e': 5, 'f': 7}\\n\\nfunc(*iterable_1, *iterable_2, **dict_1, **dict_2)\\n# Главное, чтобы вначале передавались позиционные аргументы, а потом аргументы,\\n# передаваемые по имени. Т.е. Сначала идут все распаковки *, а потом все **. \", \"# Не забываем, что строка - тоже итерируемый объект :) \\ndef func(*args):  # функция, которая принимает любой набор аргументов\\n    print(args)\\n\\nstr_ = 'string'\\nfunc(*str_)\", '# попробуем передать в функцию объекты разных типов.\\n\\ndef func(a):\\n    print(a, type(a))\\n\\n# Передадим некоторые стандартные типы данных.\\nfunc(1)  # целое число\\nfunc([1, 2])  # список\\nfunc({3, 4})  # множество', \"# Пример посложнее - передаем функцию в функцию.\\n\\ndef func(a):\\n    print(a, type(a))\\n\\ndef fun_func():\\n    print('fun')\\n\\nfunc(fun_func)\", \"# Мы можем передать как фнукцию, так и результат ее работы.\\n# Пример посложнее - передаем функцию в функцию.\\ndef func(a):\\n  print(a, type(a))\\n\\ndef fun_func():\\n  print('fun')\\n\\nfunc(fun_func())\\n# Интерпретируйте полученный результат.\", '# Неизменяемое значение по умолчанию.\\ndef func(a=1):\\n    a += 1\\n    return a\\n\\nprint(func())\\nprint(func())', '# Изменяемое значение по умолчанию.\\ndef func(a=[]):\\n    a.append(1)\\n    return a\\n\\nprint(func())\\nprint(func())\\nprint(func())', \"# Стандартный способ обработки таких ситуаций(и заодно пример boilerplate кода).\\n\\n# Изменяемое значение по умолчанию.\\ndef func(a=None):\\n    if a is None:\\n        a = []\\n    a += [1]\\n    return(a)\\n\\nprint(func())\\nprint(func())\\nprint(func())\\n\\n# Проверка 'if' a будет в большинстве случаев недостаточна, потому что нам может\\n# быть передан пустой список, и наш код в таком случае его перезапишет другим.\", 'def func(a=()):\\n    a += (1)\\n    return a\\n\\nprint(func())\\nprint(func())\\nprint(func())', 'def func(a=()):\\n    a += (1,)\\n    return a\\n\\nprint(func())\\nprint(func())\\nprint(func())', 'def func(a=[]):\\n    a = a.copy()\\n    a.append(1)\\n    return a\\n\\nprint(func())\\nprint(func())\\nprint(func())', '# Пример работы агрегирующих функции. \\niterable = {1, 2, 3, 4, 1, 2, 3, 4}\\n\\nprint(sum(iterable))  # интерпретируйте пожалуйста резулльтат выполнения\\nprint(max(iterable))\\nprint(min(iterable))', '# Пример работы агрегирующих функции. \\niterable = {1, 2, 3, 4, 1, 2, 3, 4}\\n\\nprint(sum(iterable))  # интерпретируйте пожалуйста резулльтат выполнения\\nprint(max(iterable))\\nprint(min(iterable))\\n\\nprint(sum(i for i in range(10)))', '# Важно, чтобы все элементы итерируемого объекта были сравнимы!\\ndef func(): \\n  pass\\n\\na = [func, 3]\\nprint(max(a))', \"# Пример функции преобразования типа и type.\\na = tuple('string')\\nprint(type(a), a)\", '# Решение с помощью any.\\ndef func(iterable):\\n  \"\"\"Checks if we have dict with non-empty \"key\": value pair.\\n\\n  Args:\\n    itr = [{}, {}, ...] - list of dicts\\n  Return:\\n    True/False\\n  \"\"\"\\n  return any(dct.get(\"key\") for dct in iterable)\\n\\ndct1 = [{1: 1}, {\"key\": None}, ]  # False\\nprint(func(dct1))', '# Вызов той же функции но с ожидаемым ответом True.\\ndef func(iterable):\\n  \"\"\"Checks if we have dict with non-empty \"key\": value pair.\\n\\n  Args:\\n    itr = [{}, {}, ...] - list of dicts\\n  Return:\\n    True/False\\n  \"\"\"\\n  return any([dct.get(\"key\") for dct in iterable])\\n\\ndct1 = [{1:1}, {\"key\": 1},]\\nprint(func(dct1))', '\"\"\"\\nПереформулируем задачу. \\nПроверить, содержат ли все словари в переданном итерируемом объекте пары\\nключ-значение с непустым(истинным) значением \\n\"\"\"\\n\\ndef func(iterable):\\n  return all(dct.get(\"key\") for dct in iterable)\\n\\ndct = [{1:1},{\"key\": 1},]\\nprint(func(dct))', \"# Важный момент, напрямую следующий из определения.\\nprint('all:', all([]))\\nprint('any:', any([]))\\n# Из этого следует, что изменение формулировки в определении критично.\", '# Простейшая рекурсивная функция - считает факториал. \\n#\\xa05! = 5 * 4 * 3 * 2 * 1\\ndef factorial(n):\\n  if n != 1:\\n    return n * factorial(n-1) # 3 * factorial(2) -> 3 * 2 * factorial(1) -> 3 * 2 * 1\\n  else:  # условия выхода из рекурсии\\n    return 1\\n\\nprint(factorial(4))', '# Простейшая рекурсивная функция - считает факториал. \\n#\\xa05! = 5 * 4 * 3 * 2 * 1\\ndef factorial(n):\\n  if n != 1:\\n    return n * factorial(n-1) # 3 * factorial(2) -> 3 * 2 * factorial(1) -> 3 * 2 * 1\\n  else:  # условия выхода из рекурсии\\n    return 1\\n\\nprint(factorial(10))', '# Простейшая рекурсивная функция - считает факториал. \\n#\\xa05! = 5 * 4 * 3 * 2 * 1\\ndef factorial(n):\\n  if n != 1:\\n    return n * factorial(n-1) # 3 * factorial(2) -> 3 * 2 * factorial(1) -> 3 * 2 * 1\\n  else:  # условия выхода из рекурсии\\n    return 1\\n\\nprint(factorial(100))', '# Простейшая рекурсивная функция - считает факториал. \\n#\\xa05! = 5 * 4 * 3 * 2 * 1\\ndef factorial(n):\\n  if n != 1:\\n    return n * factorial(n-1) # 3 * factorial(2) -> 3 * 2 * factorial(1) -> 3 * 2 * 1\\n  else:  # условия выхода из рекурсии\\n    return 1\\n\\nprint(factorial(1000))', '# Простейшая рекурсивная функция - считает факториал. \\n#\\xa05! = 5 * 4 * 3 * 2 * 1\\ndef factorial_loop(n):\\n    result = 1\\n    for i in range(1, n + 1):\\n       result *= i\\n    return result\\n\\nfactorial_loop(5)', '# Простейшая рекурсивная функция - считает факториал. \\n#\\xa05! = 5 * 4 * 3 * 2 * 1\\ndef factorial(n):\\n  if n != 1:\\n    return n * factorial(n-1) # 3 * factorial(2) -> 3 * 2 * factorial(1) -> 3 * 2 * 1\\n  else:  # условия выхода из рекурсии\\n    return 1\\n\\nprint(factorial(5))', '# Простейшая рекурсивная функция - считает факториал. \\n#\\xa05! = 5 * 4 * 3 * 2 * 1\\ndef factorial_loop(n):\\n    result = 1\\n    for i in range(1, n + 1):\\n       result *= i\\n    return result\\n\\nfactorial_loop(5)', \"# Расчет n-го числа Фибоначчи без использования рекурсии (начиная с второго)\\n# Замерим время исполнения программы.\\n# 1, 1, 2, 3, 5, 8, 13\\ndef fib(n):\\n  a1 = a2 = 1\\n  for el in range(3, n+1):\\n    a1, a2 = a2, a1 + a2\\n  return a2\\n\\nimport time\\nstart = time.time()\\nprint(fib(100))\\nprint('Execution time:', time.time() - start)\", \"# А сейчас то же самое но для рекурсии написанной в лоб.\\n\\ndef fib(n):\\n  if n in (1, 2):  # Условие выхода из рекурсии. Скобки здесь не обязательны\\n    return 1\\n  else:\\n    return fib(n-1) + fib(n-2)\\n\\nimport time\\nstart = time.time()\\nprint(fib(30))  # Обратите внимание, что здесь число в 3 раза меньше! \\nprint('Execution time:', time.time() - start)\", \"# А сейчас то же самое но для рекурсии написанной в лоб.\\n\\ndef fib(n):\\n  if n in (1, 2):  # Условие выхода из рекурсии. Скобки здесь не обязательны\\n    return 1\\n  else:\\n    return fib(n-1) + fib(n-2)\\n\\nimport time\\nstart = time.time()\\nprint(fib(100))  # Обратите внимание, что здесь число в 3 раза меньше! \\nprint('Execution time:', time.time() - start)\", \"# Реализуем кэширование чтобы избежать ситуации из прошлого примера.\\ncache = {}\\ndef fib(n):\\n  if n in (1, 2):\\n    return 1\\n  else:\\n    if not cache.get(n-1):\\n      cache[n-1] = fib(n-1)\\n    if not cache.get(n-2):\\n      cache[n-2] = fib(n-2)\\n    return cache.get(n-1) + cache.get(n-2)\\n\\nimport time\\nstart = time.time()\\nprint(fib(100))\\nprint('Execution time:', time.time() - start)\", '# Реализуем кэширование чтобы избежать ситуации из прошлого примера.\\ncache = {}\\ndef fib(n):\\n  if n in (1, 2):\\n    return 1\\n  else:\\n    if not cache.get(n-1):\\n      cache[n-1] = fib(n-1)\\n    if not cache.get(n-2):\\n      cache[n-2] = fib(n-2)\\n    return cache.get(n-1) + cache.get(n-2)\\n\\nimport time\\nstart = time.time()\\nprint(fib(100))\\nprint(\\'Execution time:\\', time.time() - start)\\nprint(\"Cache size:\", len(cache))', \"# Стоит обратить внимание на следующее:\\n# 1. Мы не можем использовать, например, setdefault к нашему кэшу, потому что\\n#    попадем в похожую ситуацию - ключ в словарь будет добавляться очень поздно. \\n# 2. На одном запуске сложно оценить производительность первого и второго\\n#    решения, но проведя тест например на 10000 зпусков можно получить более-менее\\n#    релевантные результаты для оценки производительности. \\n# 3. Рекурсия имеет максимальную глубину, обусловленную стэком вызовов.\\n#    например, на данный момент(декабрь 2020) посчитать 1000 число мы не можем.\\n# 4. Производительность зависит от реализации интерпретатора, и результаты могут\\n#    разительно отличаться в двух разных реализациях интерпретатора (и даже в \\n#    разных его версиях).\\nimport time\\n\\ndef fib_for(n):\\n  a1 = a2 = 1\\n  for el in range(3, n+1):\\n    a1, a2 = a2, a1 + a2\\n  return a2\\n\\nstart = time.time()\\nfor _ in range(10000):\\n  fib_for(100)\\nprint('Execution time (for loop):', time.time() - start)\\n\\n\\ncache = {}\\ndef fib_recur(n):\\n  if n in (1, 2):\\n    return 1\\n  else:\\n    if not cache.get(n-1):\\n      cache[n-1] = fib(n-1)\\n    if not cache.get(n-2):\\n      cache[n-2] = fib(n-2)\\n    return cache.get(n-1) + cache.get(n-2)\\n\\nstart = time.time()\\nfor _ in range(10000):\\n  fib_recur(100)\\nprint('Execution time (recursive):', time.time() - start)\", '# Зададим простейшую лямбда-функцию.\\npower_2 = lambda x: x ** 2\\nprint(power_2(5))', '# Зададим простейшую лямбда-функцию.\\npower_2 = lambda x: x ** 2\\nprint(power_2(5))\\n\\nprint(power_2.__name__)', '# Зададим простейшую лямбда-функцию.\\npower_2 = lambda x: x ** 2\\nprint(power_2(5))', '# Лямбда функция может быть задана и сразу вызвана. Кроме того ее необязательно\\n# присваивать какой бы то ни было переменной.\\nprint((lambda x: x+1)(5))', '# Это считается плохой практикой, но в Python можно записывать несколько\\n# инструкций на одной строке, используя ;.\\nprint(1); print(2)', '# Но с лямбдой такого фокуса не выйдет.\\nl = (lambda x: print(1); print(2))\\nprint(l(5))', '# Немного более сложное выражение в лямбде.\\nl = lambda a: [element + 1 for element in a]\\nprint(l([2,3]))', '# Лямбда всегда возвращает результат выполнения body.\\nl = lambda a: print(a)\\nprint(l(a=2))', '# Самый простой способ сделать более сложные вычисления в лямбде - поместить в \\n# тело функцию. Однако возникает вопрос зачем нам тогда лямбда.\\ndef func(a, b):\\n    print(\"don\\'t do in this manner\")\\n    print(\"don\\'t do in this manner\")\\n    print(\"don\\'t do in this manner\")\\n    print(\"don\\'t do in this manner\")\\n\\nl = lambda a, b: func(a, b)\\nl(2,3)', '# Фактически, одно из главных отличий лямбды в Python от обычной функции.\\nl = lambda arg: arg + 1\\n\\ndef func(): \\n  pass\\n\\nprint(l.__name__)\\nprint(func.__name__)', '# Кстати функция сохраняет свое имя.\\ndef func(): \\n  pass\\n\\nb = func\\nfunc = 1\\nprint(b.__name__)', '# Кстати функция сохраняет свое имя.\\ndef func(): \\n  pass\\n\\nb = func\\nfunc = 1\\nprint(b.__name__)', '# Так как лямбда фактически таже самая функция, в ней могут присутствовать все\\n# доступные в функции типы аргументов.\\nl = lambda a, b=0, *args, c=7, **kwargs: print(a, b, args, c, kwargs)\\nl(1, 2, 3, 4 )', '# Рекурсия на лямбде. Она не совсем честная, потому что мы фактически именуем\\n# нашу лямбду и используем это имя.\\nfactorial = lambda a: a * factorial(a-1) if a>1 else 1\\nprint(factorial(4))', '# Есть возможность реализовать рекурсию и без этого трюка, но тут нужно\\n# использовать Y-комбинатор и все это выглядит очень плохо. Мое личное мнение - \\n# забейте. Но если очень любопытно: \\n# https://en.wikipedia.org/wiki/Fixed-point_combinator - теория.\\n# Попытка объяснения на русском https://habr.com/ru/post/50354/ (но без лямбд).\\n\\n# Сам комбинатор:\\nY = lambda g: ((lambda f: g(lambda *x: f(f) (*x))) ((lambda f: g(lambda *x: f(f)(*x)))))\\n\\n# Вычисление факториала рекурсивно с помощью комбинатора.\\nprint(Y(lambda f: (lambda num: num*f(num-1) if num else 1))(4))\\n\\n# Очевидно можно Y подставить в print и записать все в одну строку, но это\\n# будет вообще нечитаемо.', '# Функция, уменьшающая значение каждого элемента переданного аргумента на 1.\\nito = (1, 2, 3)\\ndec = lambda x: x-1\\nresult = map(dec, ito)\\nprint(result)  # обратите внимание, map возвращает итерируемый объект\\nprint(list(result))', '# Все то же самое, но изрядно сокращенное.\\nx = map(lambda x: x-1, [1, 2, 3])\\nprint(list(x))', '# Результат map можно применять, как и любой итерируемый объект, для любых \\n# наших целей. \\nx = map(lambda x: x-1, [1, 2, 3])\\nprint({el:el+1 for el in x})', '# Результат map можно применять, как и любой итерируемый объект, для любых \\n# наших целей. \\nx = map(lambda x: x-1, [1, 2, 3])\\nprint({el: el+1 for el in x})\\n\\nprint({el: el+1 for el in x})', '# Результат map можно применять, как и любой итерируемый объект, для любых \\n# наших целей. \\nx = map(lambda x: x-1, [1, 2, 3])\\nprint({el: el+1 for el in x})', '# Лямбды часто применяются в map, filter, reduce, однако можно применять и\\n# обычные функции.\\ndef dec(x):\\n  # some operations \\n  return x-1\\n\\nito = [1]\\nx = map(dec, ito)\\n\\nprint(list(x))', \"# Применение функции filter.\\nresult = filter(lambda x: x if x<0 else None, [-1, 2, 3])\\nresult = list(result)\\nprint('len:', len(result))\\nprint(result)\", '# Обратите внимание, filter также возвращает специальный итерируемый объект.\\nx = filter(lambda x: x<0, [-1, 2, 3])\\nprint(x)\\nprint(list(x))', \"# И еще один важный момент: по результату filter и map можно пройти только \\n# один раз.\\na = map(lambda x: x+1, [1,2,3])\\nx = filter(lambda x: x<0, [-1, 2, 3])\\n\\nprint('Map:')\\nprint(list(a))\\nprint(list(a))\\n\\nprint('Filter:')\\nprint(list(x))\\nprint(list(x))\", '# Альтернатива filter - те же самые генераторы.\\n[x for x in iterable if f(x)]', '# Пример использования reduce.\\nfrom functools import reduce\\npows = reduce(lambda x, y: x ** y, [1, 2, 3])\\nprint(pows)', '# Чуть более говорящий пример.\\nfrom functools import reduce\\npows = reduce((lambda x, y: x ** y), [2, 2, 3])\\nprint(pows)', '# Чуть более говорящий пример.\\nfrom functools import reduce\\npows = reduce((lambda x, y: x ** y), [2, 2, 3])\\nprint(pows)\\n\\n\\nsum = reduce((lambda x, y: x + y), [2, 2, 3])\\nprint(sum)', '# Чуть более говорящий пример.\\nfrom functools import reduce\\npows = reduce((lambda x, y: x ** y), [2, 2, 3])\\nprint(pows)\\n\\n\\nsum = reduce((lambda x, y: x + y), [2, 2, 3])\\nprint(sum)\\n\\nmul = reduce((lambda x, y: x * y), [2, 2, 3])\\nprint(mul)', '# На уровне модуля globals и locals будут совпадать - т.к. определенные в\\n# модуле переменные являются для него локальными, но также и глобальны - могут \\n# быть использованы в любом месте модуля.\\n\\n# Большое количество глобальных переменных в globals является следствием\\n# работы jupyter notebook. \\nglobal_var = 10\\nprint(globals())\\nprint(locals())'], 'Out': {48: 120, 50: 120}, 'get_ipython': <bound method InteractiveShell.get_ipython of <ipykernel.zmqshell.ZMQInteractiveShell object at 0x1080f92b0>>, 'exit': <IPython.core.autocall.ZMQExitAutocall object at 0x1080f98e0>, 'quit': <IPython.core.autocall.ZMQExitAutocall object at 0x1080f98e0>, 'open': <function open at 0x106f6e7a0>, '_': 9999, '__': 120, '___': '', '__vsc_ipynb_file__': '/Users/lavoncyk/Projects/python-courses-2025/7_functions.ipynb', '_i': '# Чуть более говорящий пример.\\nfrom functools import reduce\\npows = reduce((lambda x, y: x ** y), [2, 2, 3])\\nprint(pows)\\n\\n\\nsum = reduce((lambda x, y: x + y), [2, 2, 3])\\nprint(sum)\\n\\nmul = reduce((lambda x, y: x * y), [2, 2, 3])\\nprint(mul)', '_ii': '# Чуть более говорящий пример.\\nfrom functools import reduce\\npows = reduce((lambda x, y: x ** y), [2, 2, 3])\\nprint(pows)\\n\\n\\nsum = reduce((lambda x, y: x + y), [2, 2, 3])\\nprint(sum)', '_iii': '# Чуть более говорящий пример.\\nfrom functools import reduce\\npows = reduce((lambda x, y: x ** y), [2, 2, 3])\\nprint(pows)', '_i1': '# Если в функции не задано возвращаемое значение, она возвращает None .\\ndef add(a, b):\\n    result = a + b\\n    print(result)\\n    return result\\n\\n# Вызываем функцию.\\nresult = add(1, 2.5)\\nprint(result)', 'add': <function add at 0x108113600>, 'result': [-1], '_i2': '# Если в функции не задано возвращаемое значение, она возвращает None .\\ndef add(a, b):\\n    result = a + b\\n    return result\\n\\n# Вызываем функцию.\\nresult = add(1, 2.5)\\nprint(result)', '_i3': '# Функция, у которой при задании есть все типы аргументов.\\ndef very_big_func(a, b=10, *args, c, d=1, **kwargs):\\n    print(a, b, args, c, d, kwargs)\\n\\nvery_big_func(1, 22, 3, e=7, c=5)\\n# 3 идет в args, е - в kwargs.', 'very_big_func': <function very_big_func at 0x1081689a0>, '_i4': \"# Функция, у которой при задании есть все типы аргументов.\\ndef very_big_func(a, b=10, *args, c, d=1, **kwargs):\\n    print(a, b, args, c, d, kwargs)\\n\\nvery_big_func(1, 22, 3, e=7, c=5, f='6', g=10)\\n# 3 идет в args, е - в kwargs.\", '_i5': \"# Функция, у которой при задании есть все типы аргументов.\\ndef very_big_func(a, b=10, *args, c, d=1, **kwargs):\\n    print(a, b, args, c, d, kwargs)\\n\\nvery_big_func(1, 22, 3, e=7, c=5, d=5, f='6', g=10)\\n# 3 идет в args, е - в kwargs.\", '_i6': \"# Функция, у которой при задании есть все типы аргументов.\\ndef very_big_func(a, b=10, *args, c, d=1, **kwargs):\\n    print(a, b, args, c, d, kwargs)\\n\\nvery_big_func(1, 22, 3, 10, 11, 12, 13, 14 e=7, c=5, d=5, f='6', g=10)\\n# 3 идет в args, е - в kwargs.\", '_i7': \"# Функция, у которой при задании есть все типы аргументов.\\ndef very_big_func(a, b=10, *args, c, d=1, **kwargs):\\n    print(a, b, args, c, d, kwargs)\\n\\nvery_big_func(1, 22, 3, 10, 11, 12, 13, 14, e=7, c=5, d=5, f='6', g=10)\\n# 3 идет в args, е - в kwargs.\", '_i8': \"# Функция, у которой при задании есть все типы аргументов.\\ndef very_big_func(a, b=10, *args, c, d=1, **kwargs):\\n    print(a, b, args, c, d, kwargs)\\n\\nvery_big_func(a=1, b=22, e=7, c=5, d=5, f='6', g=10)\\n# 3 идет в args, е - в kwargs.\", '_i9': '# Порядок задания параметров имеет значение. \\n# В случае его нарушения, будет ошибка.\\n\\n# В данном случае позиционный аргумент со значением по умолчанию идет раньше\\n# позиционного аргумента.\\ndef func_with_error(a=10, b):\\n    pass\\n\\nfunc_with_error(1, 1)', '_i10': '# В случае, если у нас есть позиционные аргументы со значением по умолчанию, \\n# и есть *args, следует быть осторожным и не передавать позиционный аргумент \\n# по имени.\\ndef very_big_func(a, b, *args, c, d=1, **kwargs):\\n    print(a, b, args, c, d, kwargs)\\n\\nvery_big_func(1, 2, 3, b=8, c=5, e=7)\\n\\n# Идея присвоения значений аргументов в Python(и, соответственно, суть ошибки)\\n# Заключается в том, что сначала все, что передано по позиции, присваивается\\n# поочередно всем позиционным аргументам, после чего оставшиеся заворачиваются в \\n# args. В данном случае мы присвоили значения и a, и b, положили 3 в args, \\n# и после этого получаем b, переданный уже по имени.\\n\\n# Очевидно, такого эффекта не будет для аргументов, передаваемых только\\n# по имени.', '_i11': '# Задание аргументов, передаваемых только по позиции, в случае, если нет *args.\\ndef func(a, *, c):\\n  print(a, c)\\n\\nfunc(3, c=10)\\n\\n# В случае если мы не хотим принимать неограниченное количество позиционных\\n# аргументов, мы можем просто указать оператор *, и все переменные, которые \\n# будут стоять после нее, будут передаваемыми только по имени.', 'func': 1, '_i12': 'def only_named_args(*, a, b):\\n    print(a, b)\\n\\nonly_named_args(a=1, b=2)', 'only_named_args': <function only_named_args at 0x1086d6200>, '_i13': 'def only_positional_args(a, b, /):\\n    print(a, b)\\n\\n\\nonly_positional_args(1, 2)', 'only_positional_args': <function only_positional_args at 0x1086d6b60>, '_i14': 'def only_positional_args(a, b, /):\\n    print(a, b)\\n\\n\\nonly_positional_args(1, b=2)', '_i15': \"# Распаковка итерируемых объектов и словарей при вызове функций. \\ndef func(a, b, *, c, d):\\n    print(a, b, c, d)\\n\\niterable = [1, 2]\\ndict_ = {'c': 5, 'd': 7}\\n\\nfunc(*iterable, **dict_) # func(1, 2, c=5, d=7)\", 'iterable': {1, 2, 3, 4}, 'dict_': {'c': 5, 'd': 7}, '_i16': '# Если не указан *args, в распаковываемом объекте количество объектов должно\\n# быть равно количеству аргументов функций. Иначе - ошибка.\\ndef func(a, b):\\n    print(a, b)\\n\\niterable = [1, 2, 3]\\nfunc(*iterable)', '_i17': \"# То же самое со словарями.\\ndef func(*, c, d):\\n    print(c, d)\\n\\ndict_ = {'c': 5, 'd': 7, 'e': 10}\\n\\nfunc(**dict_)\", '_i18': '# Если не указан *args, в распаковываемом объекте количество объектов должно\\n# быть равно количеству аргументов функций. Иначе - ошибка.\\ndef func(a, b, *_):\\n    print(a, b)\\n\\niterable = [1, 2, 3]\\nfunc(*iterable)', '_i19': '# Если не указан *args, в распаковываемом объекте количество объектов должно\\n# быть равно количеству аргументов функций. Иначе - ошибка.\\ndef func(a, b, *_):\\n    print(a, b, _)\\n\\niterable = [1, 2, 3]\\nfunc(*iterable)', '_i20': '# Если не указан *args, в распаковываемом объекте количество объектов должно\\n# быть равно количеству аргументов функций. Иначе - ошибка.\\ndef func(a, b):\\n    print(a, b)\\n\\niterable = [1, 2, 3]\\nfunc(*iterable)', '_i21': \"# То же самое со словарями.\\ndef func(*, c, d, **_):\\n    print(c, d)\\n\\ndict_ = {'c': 5, 'd': 7, 'e': 10}\\n\\nfunc(**dict_)\", '_i22': \"# То же самое со словарями.\\ndef func(*, c, d, **_):\\n    print(c, d, _)\\n\\ndict_ = {'c': 5, 'd': 7, 'e': 10}\\n\\nfunc(**dict_)\", '_i23': \"# То же самое со словарями.\\ndef func(*, c, d):\\n    print(c, d)\\n\\ndict_ = {'c': 5, 'd': 7, 'e': 10}\\n\\nfunc(**dict_)\", '_i24': \"# Обратите внимание, что словари можно распаковывать не только если аргументы\\n# с соответствующими именами заданы как передаваемые только по значению. \\ndef func(c, d):\\n    print(c, d)\\n\\ndict_ = {'c': 5, 'd': 7}\\n\\nfunc(**dict_)\", '_i25': \"# В отличие от задания функции, * и ** при вызове может встречаться несколько\\n# раз.\\ndef func(*args, **kwargs):  # функция, которая принимает любой набор аргументов\\n  print(args, kwargs)\\n\\niterable_1 = (1, )\\niterable_2 = [3, 4]\\ndict_1 = {'c': 5, 'd': 7}\\ndict_2 = {'e': 5, 'f': 7}\\n\\nfunc(*iterable_1, *iterable_2, **dict_1, **dict_2)\\n# Главное, чтобы вначале передавались позиционные аргументы, а потом аргументы,\\n# передаваемые по имени. Т.е. Сначала идут все распаковки *, а потом все **. \", 'iterable_1': (1,), 'iterable_2': [3, 4], 'dict_1': {'c': 5, 'd': 7}, 'dict_2': {'e': 5, 'f': 7}, '_i26': \"# Не забываем, что строка - тоже итерируемый объект :) \\ndef func(*args):  # функция, которая принимает любой набор аргументов\\n    print(args)\\n\\nstr_ = 'string'\\nfunc(*str_)\", 'str_': 'string', '_i27': '# попробуем передать в функцию объекты разных типов.\\n\\ndef func(a):\\n    print(a, type(a))\\n\\n# Передадим некоторые стандартные типы данных.\\nfunc(1)  # целое число\\nfunc([1, 2])  # список\\nfunc({3, 4})  # множество', '_i28': \"# Пример посложнее - передаем функцию в функцию.\\n\\ndef func(a):\\n    print(a, type(a))\\n\\ndef fun_func():\\n    print('fun')\\n\\nfunc(fun_func)\", 'fun_func': <function fun_func at 0x10876d3a0>, '_i29': \"# Мы можем передать как фнукцию, так и результат ее работы.\\n# Пример посложнее - передаем функцию в функцию.\\ndef func(a):\\n  print(a, type(a))\\n\\ndef fun_func():\\n  print('fun')\\n\\nfunc(fun_func())\\n# Интерпретируйте полученный результат.\", '_i30': '# Неизменяемое значение по умолчанию.\\ndef func(a=1):\\n    a += 1\\n    return a\\n\\nprint(func())\\nprint(func())', '_i31': '# Изменяемое значение по умолчанию.\\ndef func(a=[]):\\n    a.append(1)\\n    return a\\n\\nprint(func())\\nprint(func())\\nprint(func())', '_i32': \"# Стандартный способ обработки таких ситуаций(и заодно пример boilerplate кода).\\n\\n# Изменяемое значение по умолчанию.\\ndef func(a=None):\\n    if a is None:\\n        a = []\\n    a += [1]\\n    return(a)\\n\\nprint(func())\\nprint(func())\\nprint(func())\\n\\n# Проверка 'if' a будет в большинстве случаев недостаточна, потому что нам может\\n# быть передан пустой список, и наш код в таком случае его перезапишет другим.\", '_i33': 'def func(a=()):\\n    a += (1)\\n    return a\\n\\nprint(func())\\nprint(func())\\nprint(func())', '_i34': 'def func(a=()):\\n    a += (1,)\\n    return a\\n\\nprint(func())\\nprint(func())\\nprint(func())', '_i35': 'def func(a=[]):\\n    a = a.copy()\\n    a.append(1)\\n    return a\\n\\nprint(func())\\nprint(func())\\nprint(func())', '_i36': '# Пример работы агрегирующих функции. \\niterable = {1, 2, 3, 4, 1, 2, 3, 4}\\n\\nprint(sum(iterable))  # интерпретируйте пожалуйста резулльтат выполнения\\nprint(max(iterable))\\nprint(min(iterable))', '_i37': '# Пример работы агрегирующих функции. \\niterable = {1, 2, 3, 4, 1, 2, 3, 4}\\n\\nprint(sum(iterable))  # интерпретируйте пожалуйста резулльтат выполнения\\nprint(max(iterable))\\nprint(min(iterable))\\n\\nprint(sum(i for i in range(10)))', '_i38': '# Важно, чтобы все элементы итерируемого объекта были сравнимы!\\ndef func(): \\n  pass\\n\\na = [func, 3]\\nprint(max(a))', 'a': <map object at 0x1082bbe50>, '_i39': \"# Пример функции преобразования типа и type.\\na = tuple('string')\\nprint(type(a), a)\", '_i40': '# Решение с помощью any.\\ndef func(iterable):\\n  \"\"\"Checks if we have dict with non-empty \"key\": value pair.\\n\\n  Args:\\n    itr = [{}, {}, ...] - list of dicts\\n  Return:\\n    True/False\\n  \"\"\"\\n  return any(dct.get(\"key\") for dct in iterable)\\n\\ndct1 = [{1: 1}, {\"key\": None}, ]  # False\\nprint(func(dct1))', 'dct1': [{1: 1}, {'key': 1}], '_i41': '# Вызов той же функции но с ожидаемым ответом True.\\ndef func(iterable):\\n  \"\"\"Checks if we have dict with non-empty \"key\": value pair.\\n\\n  Args:\\n    itr = [{}, {}, ...] - list of dicts\\n  Return:\\n    True/False\\n  \"\"\"\\n  return any([dct.get(\"key\") for dct in iterable])\\n\\ndct1 = [{1:1}, {\"key\": 1},]\\nprint(func(dct1))', '_i42': '\"\"\"\\nПереформулируем задачу. \\nПроверить, содержат ли все словари в переданном итерируемом объекте пары\\nключ-значение с непустым(истинным) значением \\n\"\"\"\\n\\ndef func(iterable):\\n  return all(dct.get(\"key\") for dct in iterable)\\n\\ndct = [{1:1},{\"key\": 1},]\\nprint(func(dct))', 'dct': [{1: 1}, {'key': 1}], '_i43': \"# Важный момент, напрямую следующий из определения.\\nprint('all:', all([]))\\nprint('any:', any([]))\\n# Из этого следует, что изменение формулировки в определении критично.\", '_i44': '# Простейшая рекурсивная функция - считает факториал. \\n#\\xa05! = 5 * 4 * 3 * 2 * 1\\ndef factorial(n):\\n  if n != 1:\\n    return n * factorial(n-1) # 3 * factorial(2) -> 3 * 2 * factorial(1) -> 3 * 2 * 1\\n  else:  # условия выхода из рекурсии\\n    return 1\\n\\nprint(factorial(4))', 'factorial': <function <lambda> at 0x108b1b600>, '_i45': '# Простейшая рекурсивная функция - считает факториал. \\n#\\xa05! = 5 * 4 * 3 * 2 * 1\\ndef factorial(n):\\n  if n != 1:\\n    return n * factorial(n-1) # 3 * factorial(2) -> 3 * 2 * factorial(1) -> 3 * 2 * 1\\n  else:  # условия выхода из рекурсии\\n    return 1\\n\\nprint(factorial(10))', '_i46': '# Простейшая рекурсивная функция - считает факториал. \\n#\\xa05! = 5 * 4 * 3 * 2 * 1\\ndef factorial(n):\\n  if n != 1:\\n    return n * factorial(n-1) # 3 * factorial(2) -> 3 * 2 * factorial(1) -> 3 * 2 * 1\\n  else:  # условия выхода из рекурсии\\n    return 1\\n\\nprint(factorial(100))', '_i47': '# Простейшая рекурсивная функция - считает факториал. \\n#\\xa05! = 5 * 4 * 3 * 2 * 1\\ndef factorial(n):\\n  if n != 1:\\n    return n * factorial(n-1) # 3 * factorial(2) -> 3 * 2 * factorial(1) -> 3 * 2 * 1\\n  else:  # условия выхода из рекурсии\\n    return 1\\n\\nprint(factorial(1000))', '_i48': '# Простейшая рекурсивная функция - считает факториал. \\n#\\xa05! = 5 * 4 * 3 * 2 * 1\\ndef factorial_loop(n):\\n    result = 1\\n    for i in range(1, n + 1):\\n       result *= i\\n    return result\\n\\nfactorial_loop(5)', 'factorial_loop': <function factorial_loop at 0x10880a020>, '_48': 120, '_i49': '# Простейшая рекурсивная функция - считает факториал. \\n#\\xa05! = 5 * 4 * 3 * 2 * 1\\ndef factorial(n):\\n  if n != 1:\\n    return n * factorial(n-1) # 3 * factorial(2) -> 3 * 2 * factorial(1) -> 3 * 2 * 1\\n  else:  # условия выхода из рекурсии\\n    return 1\\n\\nprint(factorial(5))', '_i50': '# Простейшая рекурсивная функция - считает факториал. \\n#\\xa05! = 5 * 4 * 3 * 2 * 1\\ndef factorial_loop(n):\\n    result = 1\\n    for i in range(1, n + 1):\\n       result *= i\\n    return result\\n\\nfactorial_loop(5)', '_50': 120, '_i51': \"# Расчет n-го числа Фибоначчи без использования рекурсии (начиная с второго)\\n# Замерим время исполнения программы.\\n# 1, 1, 2, 3, 5, 8, 13\\ndef fib(n):\\n  a1 = a2 = 1\\n  for el in range(3, n+1):\\n    a1, a2 = a2, a1 + a2\\n  return a2\\n\\nimport time\\nstart = time.time()\\nprint(fib(100))\\nprint('Execution time:', time.time() - start)\", 'fib': <function fib at 0x108b1a020>, 'time': <module 'time' (built-in)>, 'start': 1742404567.577365, '_i52': \"# А сейчас то же самое но для рекурсии написанной в лоб.\\n\\ndef fib(n):\\n  if n in (1, 2):  # Условие выхода из рекурсии. Скобки здесь не обязательны\\n    return 1\\n  else:\\n    return fib(n-1) + fib(n-2)\\n\\nimport time\\nstart = time.time()\\nprint(fib(30))  # Обратите внимание, что здесь число в 3 раза меньше! \\nprint('Execution time:', time.time() - start)\", '_i53': \"# А сейчас то же самое но для рекурсии написанной в лоб.\\n\\ndef fib(n):\\n  if n in (1, 2):  # Условие выхода из рекурсии. Скобки здесь не обязательны\\n    return 1\\n  else:\\n    return fib(n-1) + fib(n-2)\\n\\nimport time\\nstart = time.time()\\nprint(fib(100))  # Обратите внимание, что здесь число в 3 раза меньше! \\nprint('Execution time:', time.time() - start)\", '_i54': \"# Реализуем кэширование чтобы избежать ситуации из прошлого примера.\\ncache = {}\\ndef fib(n):\\n  if n in (1, 2):\\n    return 1\\n  else:\\n    if not cache.get(n-1):\\n      cache[n-1] = fib(n-1)\\n    if not cache.get(n-2):\\n      cache[n-2] = fib(n-2)\\n    return cache.get(n-1) + cache.get(n-2)\\n\\nimport time\\nstart = time.time()\\nprint(fib(100))\\nprint('Execution time:', time.time() - start)\", 'cache': {2: 1, 1: 1, 3: 2, 4: 3, 5: 5, 6: 8, 7: 13, 8: 21, 9: 34, 10: 55, 11: 89, 12: 144, 13: 233, 14: 377, 15: 610, 16: 987, 17: 1597, 18: 2584, 19: 4181, 20: 6765, 21: 10946, 22: 17711, 23: 28657, 24: 46368, 25: 75025, 26: 121393, 27: 196418, 28: 317811, 29: 514229, 30: 832040, 31: 1346269, 32: 2178309, 33: 3524578, 34: 5702887, 35: 9227465, 36: 14930352, 37: 24157817, 38: 39088169, 39: 63245986, 40: 102334155, 41: 165580141, 42: 267914296, 43: 433494437, 44: 701408733, 45: 1134903170, 46: 1836311903, 47: 2971215073, 48: 4807526976, 49: 7778742049, 50: 12586269025, 51: 20365011074, 52: 32951280099, 53: 53316291173, 54: 86267571272, 55: 139583862445, 56: 225851433717, 57: 365435296162, 58: 591286729879, 59: 956722026041, 60: 1548008755920, 61: 2504730781961, 62: 4052739537881, 63: 6557470319842, 64: 10610209857723, 65: 17167680177565, 66: 27777890035288, 67: 44945570212853, 68: 72723460248141, 69: 117669030460994, 70: 190392490709135, 71: 308061521170129, 72: 498454011879264, 73: 806515533049393, 74: 1304969544928657, 75: 2111485077978050, 76: 3416454622906707, 77: 5527939700884757, 78: 8944394323791464, 79: 14472334024676221, 80: 23416728348467685, 81: 37889062373143906, 82: 61305790721611591, 83: 99194853094755497, 84: 160500643816367088, 85: 259695496911122585, 86: 420196140727489673, 87: 679891637638612258, 88: 1100087778366101931, 89: 1779979416004714189, 90: 2880067194370816120, 91: 4660046610375530309, 92: 7540113804746346429, 93: 12200160415121876738, 94: 19740274219868223167, 95: 31940434634990099905, 96: 51680708854858323072, 97: 83621143489848422977, 98: 135301852344706746049, 99: 218922995834555169026}, '_i55': '# Реализуем кэширование чтобы избежать ситуации из прошлого примера.\\ncache = {}\\ndef fib(n):\\n  if n in (1, 2):\\n    return 1\\n  else:\\n    if not cache.get(n-1):\\n      cache[n-1] = fib(n-1)\\n    if not cache.get(n-2):\\n      cache[n-2] = fib(n-2)\\n    return cache.get(n-1) + cache.get(n-2)\\n\\nimport time\\nstart = time.time()\\nprint(fib(100))\\nprint(\\'Execution time:\\', time.time() - start)\\nprint(\"Cache size:\", len(cache))', '_i56': \"# Стоит обратить внимание на следующее:\\n# 1. Мы не можем использовать, например, setdefault к нашему кэшу, потому что\\n#    попадем в похожую ситуацию - ключ в словарь будет добавляться очень поздно. \\n# 2. На одном запуске сложно оценить производительность первого и второго\\n#    решения, но проведя тест например на 10000 зпусков можно получить более-менее\\n#    релевантные результаты для оценки производительности. \\n# 3. Рекурсия имеет максимальную глубину, обусловленную стэком вызовов.\\n#    например, на данный момент(декабрь 2020) посчитать 1000 число мы не можем.\\n# 4. Производительность зависит от реализации интерпретатора, и результаты могут\\n#    разительно отличаться в двух разных реализациях интерпретатора (и даже в \\n#    разных его версиях).\\nimport time\\n\\ndef fib_for(n):\\n  a1 = a2 = 1\\n  for el in range(3, n+1):\\n    a1, a2 = a2, a1 + a2\\n  return a2\\n\\nstart = time.time()\\nfor _ in range(10000):\\n  fib_for(100)\\nprint('Execution time (for loop):', time.time() - start)\\n\\n\\ncache = {}\\ndef fib_recur(n):\\n  if n in (1, 2):\\n    return 1\\n  else:\\n    if not cache.get(n-1):\\n      cache[n-1] = fib(n-1)\\n    if not cache.get(n-2):\\n      cache[n-2] = fib(n-2)\\n    return cache.get(n-1) + cache.get(n-2)\\n\\nstart = time.time()\\nfor _ in range(10000):\\n  fib_recur(100)\\nprint('Execution time (recursive):', time.time() - start)\", 'fib_for': <function fib_for at 0x10880aca0>, 'fib_recur': <function fib_recur at 0x108809da0>, '_i57': '# Зададим простейшую лямбда-функцию.\\npower_2 = lambda x: x ** 2\\nprint(power_2(5))', 'power_2': <function <lambda> at 0x108b1b240>, '_i58': '# Зададим простейшую лямбда-функцию.\\npower_2 = lambda x: x ** 2\\nprint(power_2(5))\\n\\nprint(power_2.__name__)', '_i59': '# Зададим простейшую лямбда-функцию.\\npower_2 = lambda x: x ** 2\\nprint(power_2(5))', '_i60': '# Лямбда функция может быть задана и сразу вызвана. Кроме того ее необязательно\\n# присваивать какой бы то ни было переменной.\\nprint((lambda x: x+1)(5))', '_i61': '# Это считается плохой практикой, но в Python можно записывать несколько\\n# инструкций на одной строке, используя ;.\\nprint(1); print(2)', '_i62': '# Но с лямбдой такого фокуса не выйдет.\\nl = (lambda x: print(1); print(2))\\nprint(l(5))', '_i63': '# Немного более сложное выражение в лямбде.\\nl = lambda a: [element + 1 for element in a]\\nprint(l([2,3]))', 'l': <function <lambda> at 0x108b1b380>, '_i64': '# Лямбда всегда возвращает результат выполнения body.\\nl = lambda a: print(a)\\nprint(l(a=2))', '_i65': '# Самый простой способ сделать более сложные вычисления в лямбде - поместить в \\n# тело функцию. Однако возникает вопрос зачем нам тогда лямбда.\\ndef func(a, b):\\n    print(\"don\\'t do in this manner\")\\n    print(\"don\\'t do in this manner\")\\n    print(\"don\\'t do in this manner\")\\n    print(\"don\\'t do in this manner\")\\n\\nl = lambda a, b: func(a, b)\\nl(2,3)', '_i66': '# Фактически, одно из главных отличий лямбды в Python от обычной функции.\\nl = lambda arg: arg + 1\\n\\ndef func(): \\n  pass\\n\\nprint(l.__name__)\\nprint(func.__name__)', '_i67': '# Кстати функция сохраняет свое имя.\\ndef func(): \\n  pass\\n\\nb = func\\nfunc = 1\\nprint(b.__name__)', 'b': <function func at 0x108b1a7a0>, '_i68': '# Кстати функция сохраняет свое имя.\\ndef func(): \\n  pass\\n\\nb = func\\nfunc = 1\\nprint(b.__name__)', '_i69': '# Так как лямбда фактически таже самая функция, в ней могут присутствовать все\\n# доступные в функции типы аргументов.\\nl = lambda a, b=0, *args, c=7, **kwargs: print(a, b, args, c, kwargs)\\nl(1, 2, 3, 4 )', '_i70': '# Рекурсия на лямбде. Она не совсем честная, потому что мы фактически именуем\\n# нашу лямбду и используем это имя.\\nfactorial = lambda a: a * factorial(a-1) if a>1 else 1\\nprint(factorial(4))', '_i71': '# Есть возможность реализовать рекурсию и без этого трюка, но тут нужно\\n# использовать Y-комбинатор и все это выглядит очень плохо. Мое личное мнение - \\n# забейте. Но если очень любопытно: \\n# https://en.wikipedia.org/wiki/Fixed-point_combinator - теория.\\n# Попытка объяснения на русском https://habr.com/ru/post/50354/ (но без лямбд).\\n\\n# Сам комбинатор:\\nY = lambda g: ((lambda f: g(lambda *x: f(f) (*x))) ((lambda f: g(lambda *x: f(f)(*x)))))\\n\\n# Вычисление факториала рекурсивно с помощью комбинатора.\\nprint(Y(lambda f: (lambda num: num*f(num-1) if num else 1))(4))\\n\\n# Очевидно можно Y подставить в print и записать все в одну строку, но это\\n# будет вообще нечитаемо.', 'Y': <function <lambda> at 0x108b1b560>, '_i72': '# Функция, уменьшающая значение каждого элемента переданного аргумента на 1.\\nito = (1, 2, 3)\\ndec = lambda x: x-1\\nresult = map(dec, ito)\\nprint(result)  # обратите внимание, map возвращает итерируемый объект\\nprint(list(result))', 'ito': [1], 'dec': <function dec at 0x108b1b9c0>, '_i73': '# Все то же самое, но изрядно сокращенное.\\nx = map(lambda x: x-1, [1, 2, 3])\\nprint(list(x))', 'x': <filter object at 0x1082ba290>, '_i74': '# Результат map можно применять, как и любой итерируемый объект, для любых \\n# наших целей. \\nx = map(lambda x: x-1, [1, 2, 3])\\nprint({el:el+1 for el in x})', '_i75': '# Результат map можно применять, как и любой итерируемый объект, для любых \\n# наших целей. \\nx = map(lambda x: x-1, [1, 2, 3])\\nprint({el: el+1 for el in x})\\n\\nprint({el: el+1 for el in x})', '_i76': '# Результат map можно применять, как и любой итерируемый объект, для любых \\n# наших целей. \\nx = map(lambda x: x-1, [1, 2, 3])\\nprint({el: el+1 for el in x})', '_i77': '# Лямбды часто применяются в map, filter, reduce, однако можно применять и\\n# обычные функции.\\ndef dec(x):\\n  # some operations \\n  return x-1\\n\\nito = [1]\\nx = map(dec, ito)\\n\\nprint(list(x))', '_i78': \"# Применение функции filter.\\nresult = filter(lambda x: x if x<0 else None, [-1, 2, 3])\\nresult = list(result)\\nprint('len:', len(result))\\nprint(result)\", '_i79': '# Обратите внимание, filter также возвращает специальный итерируемый объект.\\nx = filter(lambda x: x<0, [-1, 2, 3])\\nprint(x)\\nprint(list(x))', '_i80': \"# И еще один важный момент: по результату filter и map можно пройти только \\n# один раз.\\na = map(lambda x: x+1, [1,2,3])\\nx = filter(lambda x: x<0, [-1, 2, 3])\\n\\nprint('Map:')\\nprint(list(a))\\nprint(list(a))\\n\\nprint('Filter:')\\nprint(list(x))\\nprint(list(x))\", '_i81': '# Альтернатива filter - те же самые генераторы.\\n[x for x in iterable if f(x)]', '_i82': '# Пример использования reduce.\\nfrom functools import reduce\\npows = reduce(lambda x, y: x ** y, [1, 2, 3])\\nprint(pows)', 'reduce': <built-in function reduce>, 'pows': 64, '_i83': '# Чуть более говорящий пример.\\nfrom functools import reduce\\npows = reduce((lambda x, y: x ** y), [2, 2, 3])\\nprint(pows)', '_i84': '# Чуть более говорящий пример.\\nfrom functools import reduce\\npows = reduce((lambda x, y: x ** y), [2, 2, 3])\\nprint(pows)\\n\\n\\nsum = reduce((lambda x, y: x + y), [2, 2, 3])\\nprint(sum)', 'sum': 7, '_i85': '# Чуть более говорящий пример.\\nfrom functools import reduce\\npows = reduce((lambda x, y: x ** y), [2, 2, 3])\\nprint(pows)\\n\\n\\nsum = reduce((lambda x, y: x + y), [2, 2, 3])\\nprint(sum)\\n\\nmul = reduce((lambda x, y: x * y), [2, 2, 3])\\nprint(mul)', 'mul': 12, '_i86': '# На уровне модуля globals и locals будут совпадать - т.к. определенные в\\n# модуле переменные являются для него локальными, но также и глобальны - могут \\n# быть использованы в любом месте модуля.\\n\\n# Большое количество глобальных переменных в globals является следствием\\n# работы jupyter notebook. \\nglobal_var = 10\\nprint(globals())\\nprint(locals())', 'global_var': 10}\n",
      "{'__name__': '__main__', '__doc__': '\\nПереформулируем задачу. \\nПроверить, содержат ли все словари в переданном итерируемом объекте пары\\nключ-значение с непустым(истинным) значением \\n', '__package__': None, '__loader__': None, '__spec__': None, '__builtin__': <module 'builtins' (built-in)>, '__builtins__': <module 'builtins' (built-in)>, '_ih': ['', '# Если в функции не задано возвращаемое значение, она возвращает None .\\ndef add(a, b):\\n    result = a + b\\n    print(result)\\n    return result\\n\\n# Вызываем функцию.\\nresult = add(1, 2.5)\\nprint(result)', '# Если в функции не задано возвращаемое значение, она возвращает None .\\ndef add(a, b):\\n    result = a + b\\n    return result\\n\\n# Вызываем функцию.\\nresult = add(1, 2.5)\\nprint(result)', '# Функция, у которой при задании есть все типы аргументов.\\ndef very_big_func(a, b=10, *args, c, d=1, **kwargs):\\n    print(a, b, args, c, d, kwargs)\\n\\nvery_big_func(1, 22, 3, e=7, c=5)\\n# 3 идет в args, е - в kwargs.', \"# Функция, у которой при задании есть все типы аргументов.\\ndef very_big_func(a, b=10, *args, c, d=1, **kwargs):\\n    print(a, b, args, c, d, kwargs)\\n\\nvery_big_func(1, 22, 3, e=7, c=5, f='6', g=10)\\n# 3 идет в args, е - в kwargs.\", \"# Функция, у которой при задании есть все типы аргументов.\\ndef very_big_func(a, b=10, *args, c, d=1, **kwargs):\\n    print(a, b, args, c, d, kwargs)\\n\\nvery_big_func(1, 22, 3, e=7, c=5, d=5, f='6', g=10)\\n# 3 идет в args, е - в kwargs.\", \"# Функция, у которой при задании есть все типы аргументов.\\ndef very_big_func(a, b=10, *args, c, d=1, **kwargs):\\n    print(a, b, args, c, d, kwargs)\\n\\nvery_big_func(1, 22, 3, 10, 11, 12, 13, 14 e=7, c=5, d=5, f='6', g=10)\\n# 3 идет в args, е - в kwargs.\", \"# Функция, у которой при задании есть все типы аргументов.\\ndef very_big_func(a, b=10, *args, c, d=1, **kwargs):\\n    print(a, b, args, c, d, kwargs)\\n\\nvery_big_func(1, 22, 3, 10, 11, 12, 13, 14, e=7, c=5, d=5, f='6', g=10)\\n# 3 идет в args, е - в kwargs.\", \"# Функция, у которой при задании есть все типы аргументов.\\ndef very_big_func(a, b=10, *args, c, d=1, **kwargs):\\n    print(a, b, args, c, d, kwargs)\\n\\nvery_big_func(a=1, b=22, e=7, c=5, d=5, f='6', g=10)\\n# 3 идет в args, е - в kwargs.\", '# Порядок задания параметров имеет значение. \\n# В случае его нарушения, будет ошибка.\\n\\n# В данном случае позиционный аргумент со значением по умолчанию идет раньше\\n# позиционного аргумента.\\ndef func_with_error(a=10, b):\\n    pass\\n\\nfunc_with_error(1, 1)', '# В случае, если у нас есть позиционные аргументы со значением по умолчанию, \\n# и есть *args, следует быть осторожным и не передавать позиционный аргумент \\n# по имени.\\ndef very_big_func(a, b, *args, c, d=1, **kwargs):\\n    print(a, b, args, c, d, kwargs)\\n\\nvery_big_func(1, 2, 3, b=8, c=5, e=7)\\n\\n# Идея присвоения значений аргументов в Python(и, соответственно, суть ошибки)\\n# Заключается в том, что сначала все, что передано по позиции, присваивается\\n# поочередно всем позиционным аргументам, после чего оставшиеся заворачиваются в \\n# args. В данном случае мы присвоили значения и a, и b, положили 3 в args, \\n# и после этого получаем b, переданный уже по имени.\\n\\n# Очевидно, такого эффекта не будет для аргументов, передаваемых только\\n# по имени.', '# Задание аргументов, передаваемых только по позиции, в случае, если нет *args.\\ndef func(a, *, c):\\n  print(a, c)\\n\\nfunc(3, c=10)\\n\\n# В случае если мы не хотим принимать неограниченное количество позиционных\\n# аргументов, мы можем просто указать оператор *, и все переменные, которые \\n# будут стоять после нее, будут передаваемыми только по имени.', 'def only_named_args(*, a, b):\\n    print(a, b)\\n\\nonly_named_args(a=1, b=2)', 'def only_positional_args(a, b, /):\\n    print(a, b)\\n\\n\\nonly_positional_args(1, 2)', 'def only_positional_args(a, b, /):\\n    print(a, b)\\n\\n\\nonly_positional_args(1, b=2)', \"# Распаковка итерируемых объектов и словарей при вызове функций. \\ndef func(a, b, *, c, d):\\n    print(a, b, c, d)\\n\\niterable = [1, 2]\\ndict_ = {'c': 5, 'd': 7}\\n\\nfunc(*iterable, **dict_) # func(1, 2, c=5, d=7)\", '# Если не указан *args, в распаковываемом объекте количество объектов должно\\n# быть равно количеству аргументов функций. Иначе - ошибка.\\ndef func(a, b):\\n    print(a, b)\\n\\niterable = [1, 2, 3]\\nfunc(*iterable)', \"# То же самое со словарями.\\ndef func(*, c, d):\\n    print(c, d)\\n\\ndict_ = {'c': 5, 'd': 7, 'e': 10}\\n\\nfunc(**dict_)\", '# Если не указан *args, в распаковываемом объекте количество объектов должно\\n# быть равно количеству аргументов функций. Иначе - ошибка.\\ndef func(a, b, *_):\\n    print(a, b)\\n\\niterable = [1, 2, 3]\\nfunc(*iterable)', '# Если не указан *args, в распаковываемом объекте количество объектов должно\\n# быть равно количеству аргументов функций. Иначе - ошибка.\\ndef func(a, b, *_):\\n    print(a, b, _)\\n\\niterable = [1, 2, 3]\\nfunc(*iterable)', '# Если не указан *args, в распаковываемом объекте количество объектов должно\\n# быть равно количеству аргументов функций. Иначе - ошибка.\\ndef func(a, b):\\n    print(a, b)\\n\\niterable = [1, 2, 3]\\nfunc(*iterable)', \"# То же самое со словарями.\\ndef func(*, c, d, **_):\\n    print(c, d)\\n\\ndict_ = {'c': 5, 'd': 7, 'e': 10}\\n\\nfunc(**dict_)\", \"# То же самое со словарями.\\ndef func(*, c, d, **_):\\n    print(c, d, _)\\n\\ndict_ = {'c': 5, 'd': 7, 'e': 10}\\n\\nfunc(**dict_)\", \"# То же самое со словарями.\\ndef func(*, c, d):\\n    print(c, d)\\n\\ndict_ = {'c': 5, 'd': 7, 'e': 10}\\n\\nfunc(**dict_)\", \"# Обратите внимание, что словари можно распаковывать не только если аргументы\\n# с соответствующими именами заданы как передаваемые только по значению. \\ndef func(c, d):\\n    print(c, d)\\n\\ndict_ = {'c': 5, 'd': 7}\\n\\nfunc(**dict_)\", \"# В отличие от задания функции, * и ** при вызове может встречаться несколько\\n# раз.\\ndef func(*args, **kwargs):  # функция, которая принимает любой набор аргументов\\n  print(args, kwargs)\\n\\niterable_1 = (1, )\\niterable_2 = [3, 4]\\ndict_1 = {'c': 5, 'd': 7}\\ndict_2 = {'e': 5, 'f': 7}\\n\\nfunc(*iterable_1, *iterable_2, **dict_1, **dict_2)\\n# Главное, чтобы вначале передавались позиционные аргументы, а потом аргументы,\\n# передаваемые по имени. Т.е. Сначала идут все распаковки *, а потом все **. \", \"# Не забываем, что строка - тоже итерируемый объект :) \\ndef func(*args):  # функция, которая принимает любой набор аргументов\\n    print(args)\\n\\nstr_ = 'string'\\nfunc(*str_)\", '# попробуем передать в функцию объекты разных типов.\\n\\ndef func(a):\\n    print(a, type(a))\\n\\n# Передадим некоторые стандартные типы данных.\\nfunc(1)  # целое число\\nfunc([1, 2])  # список\\nfunc({3, 4})  # множество', \"# Пример посложнее - передаем функцию в функцию.\\n\\ndef func(a):\\n    print(a, type(a))\\n\\ndef fun_func():\\n    print('fun')\\n\\nfunc(fun_func)\", \"# Мы можем передать как фнукцию, так и результат ее работы.\\n# Пример посложнее - передаем функцию в функцию.\\ndef func(a):\\n  print(a, type(a))\\n\\ndef fun_func():\\n  print('fun')\\n\\nfunc(fun_func())\\n# Интерпретируйте полученный результат.\", '# Неизменяемое значение по умолчанию.\\ndef func(a=1):\\n    a += 1\\n    return a\\n\\nprint(func())\\nprint(func())', '# Изменяемое значение по умолчанию.\\ndef func(a=[]):\\n    a.append(1)\\n    return a\\n\\nprint(func())\\nprint(func())\\nprint(func())', \"# Стандартный способ обработки таких ситуаций(и заодно пример boilerplate кода).\\n\\n# Изменяемое значение по умолчанию.\\ndef func(a=None):\\n    if a is None:\\n        a = []\\n    a += [1]\\n    return(a)\\n\\nprint(func())\\nprint(func())\\nprint(func())\\n\\n# Проверка 'if' a будет в большинстве случаев недостаточна, потому что нам может\\n# быть передан пустой список, и наш код в таком случае его перезапишет другим.\", 'def func(a=()):\\n    a += (1)\\n    return a\\n\\nprint(func())\\nprint(func())\\nprint(func())', 'def func(a=()):\\n    a += (1,)\\n    return a\\n\\nprint(func())\\nprint(func())\\nprint(func())', 'def func(a=[]):\\n    a = a.copy()\\n    a.append(1)\\n    return a\\n\\nprint(func())\\nprint(func())\\nprint(func())', '# Пример работы агрегирующих функции. \\niterable = {1, 2, 3, 4, 1, 2, 3, 4}\\n\\nprint(sum(iterable))  # интерпретируйте пожалуйста резулльтат выполнения\\nprint(max(iterable))\\nprint(min(iterable))', '# Пример работы агрегирующих функции. \\niterable = {1, 2, 3, 4, 1, 2, 3, 4}\\n\\nprint(sum(iterable))  # интерпретируйте пожалуйста резулльтат выполнения\\nprint(max(iterable))\\nprint(min(iterable))\\n\\nprint(sum(i for i in range(10)))', '# Важно, чтобы все элементы итерируемого объекта были сравнимы!\\ndef func(): \\n  pass\\n\\na = [func, 3]\\nprint(max(a))', \"# Пример функции преобразования типа и type.\\na = tuple('string')\\nprint(type(a), a)\", '# Решение с помощью any.\\ndef func(iterable):\\n  \"\"\"Checks if we have dict with non-empty \"key\": value pair.\\n\\n  Args:\\n    itr = [{}, {}, ...] - list of dicts\\n  Return:\\n    True/False\\n  \"\"\"\\n  return any(dct.get(\"key\") for dct in iterable)\\n\\ndct1 = [{1: 1}, {\"key\": None}, ]  # False\\nprint(func(dct1))', '# Вызов той же функции но с ожидаемым ответом True.\\ndef func(iterable):\\n  \"\"\"Checks if we have dict with non-empty \"key\": value pair.\\n\\n  Args:\\n    itr = [{}, {}, ...] - list of dicts\\n  Return:\\n    True/False\\n  \"\"\"\\n  return any([dct.get(\"key\") for dct in iterable])\\n\\ndct1 = [{1:1}, {\"key\": 1},]\\nprint(func(dct1))', '\"\"\"\\nПереформулируем задачу. \\nПроверить, содержат ли все словари в переданном итерируемом объекте пары\\nключ-значение с непустым(истинным) значением \\n\"\"\"\\n\\ndef func(iterable):\\n  return all(dct.get(\"key\") for dct in iterable)\\n\\ndct = [{1:1},{\"key\": 1},]\\nprint(func(dct))', \"# Важный момент, напрямую следующий из определения.\\nprint('all:', all([]))\\nprint('any:', any([]))\\n# Из этого следует, что изменение формулировки в определении критично.\", '# Простейшая рекурсивная функция - считает факториал. \\n#\\xa05! = 5 * 4 * 3 * 2 * 1\\ndef factorial(n):\\n  if n != 1:\\n    return n * factorial(n-1) # 3 * factorial(2) -> 3 * 2 * factorial(1) -> 3 * 2 * 1\\n  else:  # условия выхода из рекурсии\\n    return 1\\n\\nprint(factorial(4))', '# Простейшая рекурсивная функция - считает факториал. \\n#\\xa05! = 5 * 4 * 3 * 2 * 1\\ndef factorial(n):\\n  if n != 1:\\n    return n * factorial(n-1) # 3 * factorial(2) -> 3 * 2 * factorial(1) -> 3 * 2 * 1\\n  else:  # условия выхода из рекурсии\\n    return 1\\n\\nprint(factorial(10))', '# Простейшая рекурсивная функция - считает факториал. \\n#\\xa05! = 5 * 4 * 3 * 2 * 1\\ndef factorial(n):\\n  if n != 1:\\n    return n * factorial(n-1) # 3 * factorial(2) -> 3 * 2 * factorial(1) -> 3 * 2 * 1\\n  else:  # условия выхода из рекурсии\\n    return 1\\n\\nprint(factorial(100))', '# Простейшая рекурсивная функция - считает факториал. \\n#\\xa05! = 5 * 4 * 3 * 2 * 1\\ndef factorial(n):\\n  if n != 1:\\n    return n * factorial(n-1) # 3 * factorial(2) -> 3 * 2 * factorial(1) -> 3 * 2 * 1\\n  else:  # условия выхода из рекурсии\\n    return 1\\n\\nprint(factorial(1000))', '# Простейшая рекурсивная функция - считает факториал. \\n#\\xa05! = 5 * 4 * 3 * 2 * 1\\ndef factorial_loop(n):\\n    result = 1\\n    for i in range(1, n + 1):\\n       result *= i\\n    return result\\n\\nfactorial_loop(5)', '# Простейшая рекурсивная функция - считает факториал. \\n#\\xa05! = 5 * 4 * 3 * 2 * 1\\ndef factorial(n):\\n  if n != 1:\\n    return n * factorial(n-1) # 3 * factorial(2) -> 3 * 2 * factorial(1) -> 3 * 2 * 1\\n  else:  # условия выхода из рекурсии\\n    return 1\\n\\nprint(factorial(5))', '# Простейшая рекурсивная функция - считает факториал. \\n#\\xa05! = 5 * 4 * 3 * 2 * 1\\ndef factorial_loop(n):\\n    result = 1\\n    for i in range(1, n + 1):\\n       result *= i\\n    return result\\n\\nfactorial_loop(5)', \"# Расчет n-го числа Фибоначчи без использования рекурсии (начиная с второго)\\n# Замерим время исполнения программы.\\n# 1, 1, 2, 3, 5, 8, 13\\ndef fib(n):\\n  a1 = a2 = 1\\n  for el in range(3, n+1):\\n    a1, a2 = a2, a1 + a2\\n  return a2\\n\\nimport time\\nstart = time.time()\\nprint(fib(100))\\nprint('Execution time:', time.time() - start)\", \"# А сейчас то же самое но для рекурсии написанной в лоб.\\n\\ndef fib(n):\\n  if n in (1, 2):  # Условие выхода из рекурсии. Скобки здесь не обязательны\\n    return 1\\n  else:\\n    return fib(n-1) + fib(n-2)\\n\\nimport time\\nstart = time.time()\\nprint(fib(30))  # Обратите внимание, что здесь число в 3 раза меньше! \\nprint('Execution time:', time.time() - start)\", \"# А сейчас то же самое но для рекурсии написанной в лоб.\\n\\ndef fib(n):\\n  if n in (1, 2):  # Условие выхода из рекурсии. Скобки здесь не обязательны\\n    return 1\\n  else:\\n    return fib(n-1) + fib(n-2)\\n\\nimport time\\nstart = time.time()\\nprint(fib(100))  # Обратите внимание, что здесь число в 3 раза меньше! \\nprint('Execution time:', time.time() - start)\", \"# Реализуем кэширование чтобы избежать ситуации из прошлого примера.\\ncache = {}\\ndef fib(n):\\n  if n in (1, 2):\\n    return 1\\n  else:\\n    if not cache.get(n-1):\\n      cache[n-1] = fib(n-1)\\n    if not cache.get(n-2):\\n      cache[n-2] = fib(n-2)\\n    return cache.get(n-1) + cache.get(n-2)\\n\\nimport time\\nstart = time.time()\\nprint(fib(100))\\nprint('Execution time:', time.time() - start)\", '# Реализуем кэширование чтобы избежать ситуации из прошлого примера.\\ncache = {}\\ndef fib(n):\\n  if n in (1, 2):\\n    return 1\\n  else:\\n    if not cache.get(n-1):\\n      cache[n-1] = fib(n-1)\\n    if not cache.get(n-2):\\n      cache[n-2] = fib(n-2)\\n    return cache.get(n-1) + cache.get(n-2)\\n\\nimport time\\nstart = time.time()\\nprint(fib(100))\\nprint(\\'Execution time:\\', time.time() - start)\\nprint(\"Cache size:\", len(cache))', \"# Стоит обратить внимание на следующее:\\n# 1. Мы не можем использовать, например, setdefault к нашему кэшу, потому что\\n#    попадем в похожую ситуацию - ключ в словарь будет добавляться очень поздно. \\n# 2. На одном запуске сложно оценить производительность первого и второго\\n#    решения, но проведя тест например на 10000 зпусков можно получить более-менее\\n#    релевантные результаты для оценки производительности. \\n# 3. Рекурсия имеет максимальную глубину, обусловленную стэком вызовов.\\n#    например, на данный момент(декабрь 2020) посчитать 1000 число мы не можем.\\n# 4. Производительность зависит от реализации интерпретатора, и результаты могут\\n#    разительно отличаться в двух разных реализациях интерпретатора (и даже в \\n#    разных его версиях).\\nimport time\\n\\ndef fib_for(n):\\n  a1 = a2 = 1\\n  for el in range(3, n+1):\\n    a1, a2 = a2, a1 + a2\\n  return a2\\n\\nstart = time.time()\\nfor _ in range(10000):\\n  fib_for(100)\\nprint('Execution time (for loop):', time.time() - start)\\n\\n\\ncache = {}\\ndef fib_recur(n):\\n  if n in (1, 2):\\n    return 1\\n  else:\\n    if not cache.get(n-1):\\n      cache[n-1] = fib(n-1)\\n    if not cache.get(n-2):\\n      cache[n-2] = fib(n-2)\\n    return cache.get(n-1) + cache.get(n-2)\\n\\nstart = time.time()\\nfor _ in range(10000):\\n  fib_recur(100)\\nprint('Execution time (recursive):', time.time() - start)\", '# Зададим простейшую лямбда-функцию.\\npower_2 = lambda x: x ** 2\\nprint(power_2(5))', '# Зададим простейшую лямбда-функцию.\\npower_2 = lambda x: x ** 2\\nprint(power_2(5))\\n\\nprint(power_2.__name__)', '# Зададим простейшую лямбда-функцию.\\npower_2 = lambda x: x ** 2\\nprint(power_2(5))', '# Лямбда функция может быть задана и сразу вызвана. Кроме того ее необязательно\\n# присваивать какой бы то ни было переменной.\\nprint((lambda x: x+1)(5))', '# Это считается плохой практикой, но в Python можно записывать несколько\\n# инструкций на одной строке, используя ;.\\nprint(1); print(2)', '# Но с лямбдой такого фокуса не выйдет.\\nl = (lambda x: print(1); print(2))\\nprint(l(5))', '# Немного более сложное выражение в лямбде.\\nl = lambda a: [element + 1 for element in a]\\nprint(l([2,3]))', '# Лямбда всегда возвращает результат выполнения body.\\nl = lambda a: print(a)\\nprint(l(a=2))', '# Самый простой способ сделать более сложные вычисления в лямбде - поместить в \\n# тело функцию. Однако возникает вопрос зачем нам тогда лямбда.\\ndef func(a, b):\\n    print(\"don\\'t do in this manner\")\\n    print(\"don\\'t do in this manner\")\\n    print(\"don\\'t do in this manner\")\\n    print(\"don\\'t do in this manner\")\\n\\nl = lambda a, b: func(a, b)\\nl(2,3)', '# Фактически, одно из главных отличий лямбды в Python от обычной функции.\\nl = lambda arg: arg + 1\\n\\ndef func(): \\n  pass\\n\\nprint(l.__name__)\\nprint(func.__name__)', '# Кстати функция сохраняет свое имя.\\ndef func(): \\n  pass\\n\\nb = func\\nfunc = 1\\nprint(b.__name__)', '# Кстати функция сохраняет свое имя.\\ndef func(): \\n  pass\\n\\nb = func\\nfunc = 1\\nprint(b.__name__)', '# Так как лямбда фактически таже самая функция, в ней могут присутствовать все\\n# доступные в функции типы аргументов.\\nl = lambda a, b=0, *args, c=7, **kwargs: print(a, b, args, c, kwargs)\\nl(1, 2, 3, 4 )', '# Рекурсия на лямбде. Она не совсем честная, потому что мы фактически именуем\\n# нашу лямбду и используем это имя.\\nfactorial = lambda a: a * factorial(a-1) if a>1 else 1\\nprint(factorial(4))', '# Есть возможность реализовать рекурсию и без этого трюка, но тут нужно\\n# использовать Y-комбинатор и все это выглядит очень плохо. Мое личное мнение - \\n# забейте. Но если очень любопытно: \\n# https://en.wikipedia.org/wiki/Fixed-point_combinator - теория.\\n# Попытка объяснения на русском https://habr.com/ru/post/50354/ (но без лямбд).\\n\\n# Сам комбинатор:\\nY = lambda g: ((lambda f: g(lambda *x: f(f) (*x))) ((lambda f: g(lambda *x: f(f)(*x)))))\\n\\n# Вычисление факториала рекурсивно с помощью комбинатора.\\nprint(Y(lambda f: (lambda num: num*f(num-1) if num else 1))(4))\\n\\n# Очевидно можно Y подставить в print и записать все в одну строку, но это\\n# будет вообще нечитаемо.', '# Функция, уменьшающая значение каждого элемента переданного аргумента на 1.\\nito = (1, 2, 3)\\ndec = lambda x: x-1\\nresult = map(dec, ito)\\nprint(result)  # обратите внимание, map возвращает итерируемый объект\\nprint(list(result))', '# Все то же самое, но изрядно сокращенное.\\nx = map(lambda x: x-1, [1, 2, 3])\\nprint(list(x))', '# Результат map можно применять, как и любой итерируемый объект, для любых \\n# наших целей. \\nx = map(lambda x: x-1, [1, 2, 3])\\nprint({el:el+1 for el in x})', '# Результат map можно применять, как и любой итерируемый объект, для любых \\n# наших целей. \\nx = map(lambda x: x-1, [1, 2, 3])\\nprint({el: el+1 for el in x})\\n\\nprint({el: el+1 for el in x})', '# Результат map можно применять, как и любой итерируемый объект, для любых \\n# наших целей. \\nx = map(lambda x: x-1, [1, 2, 3])\\nprint({el: el+1 for el in x})', '# Лямбды часто применяются в map, filter, reduce, однако можно применять и\\n# обычные функции.\\ndef dec(x):\\n  # some operations \\n  return x-1\\n\\nito = [1]\\nx = map(dec, ito)\\n\\nprint(list(x))', \"# Применение функции filter.\\nresult = filter(lambda x: x if x<0 else None, [-1, 2, 3])\\nresult = list(result)\\nprint('len:', len(result))\\nprint(result)\", '# Обратите внимание, filter также возвращает специальный итерируемый объект.\\nx = filter(lambda x: x<0, [-1, 2, 3])\\nprint(x)\\nprint(list(x))', \"# И еще один важный момент: по результату filter и map можно пройти только \\n# один раз.\\na = map(lambda x: x+1, [1,2,3])\\nx = filter(lambda x: x<0, [-1, 2, 3])\\n\\nprint('Map:')\\nprint(list(a))\\nprint(list(a))\\n\\nprint('Filter:')\\nprint(list(x))\\nprint(list(x))\", '# Альтернатива filter - те же самые генераторы.\\n[x for x in iterable if f(x)]', '# Пример использования reduce.\\nfrom functools import reduce\\npows = reduce(lambda x, y: x ** y, [1, 2, 3])\\nprint(pows)', '# Чуть более говорящий пример.\\nfrom functools import reduce\\npows = reduce((lambda x, y: x ** y), [2, 2, 3])\\nprint(pows)', '# Чуть более говорящий пример.\\nfrom functools import reduce\\npows = reduce((lambda x, y: x ** y), [2, 2, 3])\\nprint(pows)\\n\\n\\nsum = reduce((lambda x, y: x + y), [2, 2, 3])\\nprint(sum)', '# Чуть более говорящий пример.\\nfrom functools import reduce\\npows = reduce((lambda x, y: x ** y), [2, 2, 3])\\nprint(pows)\\n\\n\\nsum = reduce((lambda x, y: x + y), [2, 2, 3])\\nprint(sum)\\n\\nmul = reduce((lambda x, y: x * y), [2, 2, 3])\\nprint(mul)', '# На уровне модуля globals и locals будут совпадать - т.к. определенные в\\n# модуле переменные являются для него локальными, но также и глобальны - могут \\n# быть использованы в любом месте модуля.\\n\\n# Большое количество глобальных переменных в globals является следствием\\n# работы jupyter notebook. \\nglobal_var = 10\\nprint(globals())\\nprint(locals())'], '_oh': {48: 120, 50: 120}, '_dh': [PosixPath('/Users/lavoncyk/Projects/python-courses-2025')], 'In': ['', '# Если в функции не задано возвращаемое значение, она возвращает None .\\ndef add(a, b):\\n    result = a + b\\n    print(result)\\n    return result\\n\\n# Вызываем функцию.\\nresult = add(1, 2.5)\\nprint(result)', '# Если в функции не задано возвращаемое значение, она возвращает None .\\ndef add(a, b):\\n    result = a + b\\n    return result\\n\\n# Вызываем функцию.\\nresult = add(1, 2.5)\\nprint(result)', '# Функция, у которой при задании есть все типы аргументов.\\ndef very_big_func(a, b=10, *args, c, d=1, **kwargs):\\n    print(a, b, args, c, d, kwargs)\\n\\nvery_big_func(1, 22, 3, e=7, c=5)\\n# 3 идет в args, е - в kwargs.', \"# Функция, у которой при задании есть все типы аргументов.\\ndef very_big_func(a, b=10, *args, c, d=1, **kwargs):\\n    print(a, b, args, c, d, kwargs)\\n\\nvery_big_func(1, 22, 3, e=7, c=5, f='6', g=10)\\n# 3 идет в args, е - в kwargs.\", \"# Функция, у которой при задании есть все типы аргументов.\\ndef very_big_func(a, b=10, *args, c, d=1, **kwargs):\\n    print(a, b, args, c, d, kwargs)\\n\\nvery_big_func(1, 22, 3, e=7, c=5, d=5, f='6', g=10)\\n# 3 идет в args, е - в kwargs.\", \"# Функция, у которой при задании есть все типы аргументов.\\ndef very_big_func(a, b=10, *args, c, d=1, **kwargs):\\n    print(a, b, args, c, d, kwargs)\\n\\nvery_big_func(1, 22, 3, 10, 11, 12, 13, 14 e=7, c=5, d=5, f='6', g=10)\\n# 3 идет в args, е - в kwargs.\", \"# Функция, у которой при задании есть все типы аргументов.\\ndef very_big_func(a, b=10, *args, c, d=1, **kwargs):\\n    print(a, b, args, c, d, kwargs)\\n\\nvery_big_func(1, 22, 3, 10, 11, 12, 13, 14, e=7, c=5, d=5, f='6', g=10)\\n# 3 идет в args, е - в kwargs.\", \"# Функция, у которой при задании есть все типы аргументов.\\ndef very_big_func(a, b=10, *args, c, d=1, **kwargs):\\n    print(a, b, args, c, d, kwargs)\\n\\nvery_big_func(a=1, b=22, e=7, c=5, d=5, f='6', g=10)\\n# 3 идет в args, е - в kwargs.\", '# Порядок задания параметров имеет значение. \\n# В случае его нарушения, будет ошибка.\\n\\n# В данном случае позиционный аргумент со значением по умолчанию идет раньше\\n# позиционного аргумента.\\ndef func_with_error(a=10, b):\\n    pass\\n\\nfunc_with_error(1, 1)', '# В случае, если у нас есть позиционные аргументы со значением по умолчанию, \\n# и есть *args, следует быть осторожным и не передавать позиционный аргумент \\n# по имени.\\ndef very_big_func(a, b, *args, c, d=1, **kwargs):\\n    print(a, b, args, c, d, kwargs)\\n\\nvery_big_func(1, 2, 3, b=8, c=5, e=7)\\n\\n# Идея присвоения значений аргументов в Python(и, соответственно, суть ошибки)\\n# Заключается в том, что сначала все, что передано по позиции, присваивается\\n# поочередно всем позиционным аргументам, после чего оставшиеся заворачиваются в \\n# args. В данном случае мы присвоили значения и a, и b, положили 3 в args, \\n# и после этого получаем b, переданный уже по имени.\\n\\n# Очевидно, такого эффекта не будет для аргументов, передаваемых только\\n# по имени.', '# Задание аргументов, передаваемых только по позиции, в случае, если нет *args.\\ndef func(a, *, c):\\n  print(a, c)\\n\\nfunc(3, c=10)\\n\\n# В случае если мы не хотим принимать неограниченное количество позиционных\\n# аргументов, мы можем просто указать оператор *, и все переменные, которые \\n# будут стоять после нее, будут передаваемыми только по имени.', 'def only_named_args(*, a, b):\\n    print(a, b)\\n\\nonly_named_args(a=1, b=2)', 'def only_positional_args(a, b, /):\\n    print(a, b)\\n\\n\\nonly_positional_args(1, 2)', 'def only_positional_args(a, b, /):\\n    print(a, b)\\n\\n\\nonly_positional_args(1, b=2)', \"# Распаковка итерируемых объектов и словарей при вызове функций. \\ndef func(a, b, *, c, d):\\n    print(a, b, c, d)\\n\\niterable = [1, 2]\\ndict_ = {'c': 5, 'd': 7}\\n\\nfunc(*iterable, **dict_) # func(1, 2, c=5, d=7)\", '# Если не указан *args, в распаковываемом объекте количество объектов должно\\n# быть равно количеству аргументов функций. Иначе - ошибка.\\ndef func(a, b):\\n    print(a, b)\\n\\niterable = [1, 2, 3]\\nfunc(*iterable)', \"# То же самое со словарями.\\ndef func(*, c, d):\\n    print(c, d)\\n\\ndict_ = {'c': 5, 'd': 7, 'e': 10}\\n\\nfunc(**dict_)\", '# Если не указан *args, в распаковываемом объекте количество объектов должно\\n# быть равно количеству аргументов функций. Иначе - ошибка.\\ndef func(a, b, *_):\\n    print(a, b)\\n\\niterable = [1, 2, 3]\\nfunc(*iterable)', '# Если не указан *args, в распаковываемом объекте количество объектов должно\\n# быть равно количеству аргументов функций. Иначе - ошибка.\\ndef func(a, b, *_):\\n    print(a, b, _)\\n\\niterable = [1, 2, 3]\\nfunc(*iterable)', '# Если не указан *args, в распаковываемом объекте количество объектов должно\\n# быть равно количеству аргументов функций. Иначе - ошибка.\\ndef func(a, b):\\n    print(a, b)\\n\\niterable = [1, 2, 3]\\nfunc(*iterable)', \"# То же самое со словарями.\\ndef func(*, c, d, **_):\\n    print(c, d)\\n\\ndict_ = {'c': 5, 'd': 7, 'e': 10}\\n\\nfunc(**dict_)\", \"# То же самое со словарями.\\ndef func(*, c, d, **_):\\n    print(c, d, _)\\n\\ndict_ = {'c': 5, 'd': 7, 'e': 10}\\n\\nfunc(**dict_)\", \"# То же самое со словарями.\\ndef func(*, c, d):\\n    print(c, d)\\n\\ndict_ = {'c': 5, 'd': 7, 'e': 10}\\n\\nfunc(**dict_)\", \"# Обратите внимание, что словари можно распаковывать не только если аргументы\\n# с соответствующими именами заданы как передаваемые только по значению. \\ndef func(c, d):\\n    print(c, d)\\n\\ndict_ = {'c': 5, 'd': 7}\\n\\nfunc(**dict_)\", \"# В отличие от задания функции, * и ** при вызове может встречаться несколько\\n# раз.\\ndef func(*args, **kwargs):  # функция, которая принимает любой набор аргументов\\n  print(args, kwargs)\\n\\niterable_1 = (1, )\\niterable_2 = [3, 4]\\ndict_1 = {'c': 5, 'd': 7}\\ndict_2 = {'e': 5, 'f': 7}\\n\\nfunc(*iterable_1, *iterable_2, **dict_1, **dict_2)\\n# Главное, чтобы вначале передавались позиционные аргументы, а потом аргументы,\\n# передаваемые по имени. Т.е. Сначала идут все распаковки *, а потом все **. \", \"# Не забываем, что строка - тоже итерируемый объект :) \\ndef func(*args):  # функция, которая принимает любой набор аргументов\\n    print(args)\\n\\nstr_ = 'string'\\nfunc(*str_)\", '# попробуем передать в функцию объекты разных типов.\\n\\ndef func(a):\\n    print(a, type(a))\\n\\n# Передадим некоторые стандартные типы данных.\\nfunc(1)  # целое число\\nfunc([1, 2])  # список\\nfunc({3, 4})  # множество', \"# Пример посложнее - передаем функцию в функцию.\\n\\ndef func(a):\\n    print(a, type(a))\\n\\ndef fun_func():\\n    print('fun')\\n\\nfunc(fun_func)\", \"# Мы можем передать как фнукцию, так и результат ее работы.\\n# Пример посложнее - передаем функцию в функцию.\\ndef func(a):\\n  print(a, type(a))\\n\\ndef fun_func():\\n  print('fun')\\n\\nfunc(fun_func())\\n# Интерпретируйте полученный результат.\", '# Неизменяемое значение по умолчанию.\\ndef func(a=1):\\n    a += 1\\n    return a\\n\\nprint(func())\\nprint(func())', '# Изменяемое значение по умолчанию.\\ndef func(a=[]):\\n    a.append(1)\\n    return a\\n\\nprint(func())\\nprint(func())\\nprint(func())', \"# Стандартный способ обработки таких ситуаций(и заодно пример boilerplate кода).\\n\\n# Изменяемое значение по умолчанию.\\ndef func(a=None):\\n    if a is None:\\n        a = []\\n    a += [1]\\n    return(a)\\n\\nprint(func())\\nprint(func())\\nprint(func())\\n\\n# Проверка 'if' a будет в большинстве случаев недостаточна, потому что нам может\\n# быть передан пустой список, и наш код в таком случае его перезапишет другим.\", 'def func(a=()):\\n    a += (1)\\n    return a\\n\\nprint(func())\\nprint(func())\\nprint(func())', 'def func(a=()):\\n    a += (1,)\\n    return a\\n\\nprint(func())\\nprint(func())\\nprint(func())', 'def func(a=[]):\\n    a = a.copy()\\n    a.append(1)\\n    return a\\n\\nprint(func())\\nprint(func())\\nprint(func())', '# Пример работы агрегирующих функции. \\niterable = {1, 2, 3, 4, 1, 2, 3, 4}\\n\\nprint(sum(iterable))  # интерпретируйте пожалуйста резулльтат выполнения\\nprint(max(iterable))\\nprint(min(iterable))', '# Пример работы агрегирующих функции. \\niterable = {1, 2, 3, 4, 1, 2, 3, 4}\\n\\nprint(sum(iterable))  # интерпретируйте пожалуйста резулльтат выполнения\\nprint(max(iterable))\\nprint(min(iterable))\\n\\nprint(sum(i for i in range(10)))', '# Важно, чтобы все элементы итерируемого объекта были сравнимы!\\ndef func(): \\n  pass\\n\\na = [func, 3]\\nprint(max(a))', \"# Пример функции преобразования типа и type.\\na = tuple('string')\\nprint(type(a), a)\", '# Решение с помощью any.\\ndef func(iterable):\\n  \"\"\"Checks if we have dict with non-empty \"key\": value pair.\\n\\n  Args:\\n    itr = [{}, {}, ...] - list of dicts\\n  Return:\\n    True/False\\n  \"\"\"\\n  return any(dct.get(\"key\") for dct in iterable)\\n\\ndct1 = [{1: 1}, {\"key\": None}, ]  # False\\nprint(func(dct1))', '# Вызов той же функции но с ожидаемым ответом True.\\ndef func(iterable):\\n  \"\"\"Checks if we have dict with non-empty \"key\": value pair.\\n\\n  Args:\\n    itr = [{}, {}, ...] - list of dicts\\n  Return:\\n    True/False\\n  \"\"\"\\n  return any([dct.get(\"key\") for dct in iterable])\\n\\ndct1 = [{1:1}, {\"key\": 1},]\\nprint(func(dct1))', '\"\"\"\\nПереформулируем задачу. \\nПроверить, содержат ли все словари в переданном итерируемом объекте пары\\nключ-значение с непустым(истинным) значением \\n\"\"\"\\n\\ndef func(iterable):\\n  return all(dct.get(\"key\") for dct in iterable)\\n\\ndct = [{1:1},{\"key\": 1},]\\nprint(func(dct))', \"# Важный момент, напрямую следующий из определения.\\nprint('all:', all([]))\\nprint('any:', any([]))\\n# Из этого следует, что изменение формулировки в определении критично.\", '# Простейшая рекурсивная функция - считает факториал. \\n#\\xa05! = 5 * 4 * 3 * 2 * 1\\ndef factorial(n):\\n  if n != 1:\\n    return n * factorial(n-1) # 3 * factorial(2) -> 3 * 2 * factorial(1) -> 3 * 2 * 1\\n  else:  # условия выхода из рекурсии\\n    return 1\\n\\nprint(factorial(4))', '# Простейшая рекурсивная функция - считает факториал. \\n#\\xa05! = 5 * 4 * 3 * 2 * 1\\ndef factorial(n):\\n  if n != 1:\\n    return n * factorial(n-1) # 3 * factorial(2) -> 3 * 2 * factorial(1) -> 3 * 2 * 1\\n  else:  # условия выхода из рекурсии\\n    return 1\\n\\nprint(factorial(10))', '# Простейшая рекурсивная функция - считает факториал. \\n#\\xa05! = 5 * 4 * 3 * 2 * 1\\ndef factorial(n):\\n  if n != 1:\\n    return n * factorial(n-1) # 3 * factorial(2) -> 3 * 2 * factorial(1) -> 3 * 2 * 1\\n  else:  # условия выхода из рекурсии\\n    return 1\\n\\nprint(factorial(100))', '# Простейшая рекурсивная функция - считает факториал. \\n#\\xa05! = 5 * 4 * 3 * 2 * 1\\ndef factorial(n):\\n  if n != 1:\\n    return n * factorial(n-1) # 3 * factorial(2) -> 3 * 2 * factorial(1) -> 3 * 2 * 1\\n  else:  # условия выхода из рекурсии\\n    return 1\\n\\nprint(factorial(1000))', '# Простейшая рекурсивная функция - считает факториал. \\n#\\xa05! = 5 * 4 * 3 * 2 * 1\\ndef factorial_loop(n):\\n    result = 1\\n    for i in range(1, n + 1):\\n       result *= i\\n    return result\\n\\nfactorial_loop(5)', '# Простейшая рекурсивная функция - считает факториал. \\n#\\xa05! = 5 * 4 * 3 * 2 * 1\\ndef factorial(n):\\n  if n != 1:\\n    return n * factorial(n-1) # 3 * factorial(2) -> 3 * 2 * factorial(1) -> 3 * 2 * 1\\n  else:  # условия выхода из рекурсии\\n    return 1\\n\\nprint(factorial(5))', '# Простейшая рекурсивная функция - считает факториал. \\n#\\xa05! = 5 * 4 * 3 * 2 * 1\\ndef factorial_loop(n):\\n    result = 1\\n    for i in range(1, n + 1):\\n       result *= i\\n    return result\\n\\nfactorial_loop(5)', \"# Расчет n-го числа Фибоначчи без использования рекурсии (начиная с второго)\\n# Замерим время исполнения программы.\\n# 1, 1, 2, 3, 5, 8, 13\\ndef fib(n):\\n  a1 = a2 = 1\\n  for el in range(3, n+1):\\n    a1, a2 = a2, a1 + a2\\n  return a2\\n\\nimport time\\nstart = time.time()\\nprint(fib(100))\\nprint('Execution time:', time.time() - start)\", \"# А сейчас то же самое но для рекурсии написанной в лоб.\\n\\ndef fib(n):\\n  if n in (1, 2):  # Условие выхода из рекурсии. Скобки здесь не обязательны\\n    return 1\\n  else:\\n    return fib(n-1) + fib(n-2)\\n\\nimport time\\nstart = time.time()\\nprint(fib(30))  # Обратите внимание, что здесь число в 3 раза меньше! \\nprint('Execution time:', time.time() - start)\", \"# А сейчас то же самое но для рекурсии написанной в лоб.\\n\\ndef fib(n):\\n  if n in (1, 2):  # Условие выхода из рекурсии. Скобки здесь не обязательны\\n    return 1\\n  else:\\n    return fib(n-1) + fib(n-2)\\n\\nimport time\\nstart = time.time()\\nprint(fib(100))  # Обратите внимание, что здесь число в 3 раза меньше! \\nprint('Execution time:', time.time() - start)\", \"# Реализуем кэширование чтобы избежать ситуации из прошлого примера.\\ncache = {}\\ndef fib(n):\\n  if n in (1, 2):\\n    return 1\\n  else:\\n    if not cache.get(n-1):\\n      cache[n-1] = fib(n-1)\\n    if not cache.get(n-2):\\n      cache[n-2] = fib(n-2)\\n    return cache.get(n-1) + cache.get(n-2)\\n\\nimport time\\nstart = time.time()\\nprint(fib(100))\\nprint('Execution time:', time.time() - start)\", '# Реализуем кэширование чтобы избежать ситуации из прошлого примера.\\ncache = {}\\ndef fib(n):\\n  if n in (1, 2):\\n    return 1\\n  else:\\n    if not cache.get(n-1):\\n      cache[n-1] = fib(n-1)\\n    if not cache.get(n-2):\\n      cache[n-2] = fib(n-2)\\n    return cache.get(n-1) + cache.get(n-2)\\n\\nimport time\\nstart = time.time()\\nprint(fib(100))\\nprint(\\'Execution time:\\', time.time() - start)\\nprint(\"Cache size:\", len(cache))', \"# Стоит обратить внимание на следующее:\\n# 1. Мы не можем использовать, например, setdefault к нашему кэшу, потому что\\n#    попадем в похожую ситуацию - ключ в словарь будет добавляться очень поздно. \\n# 2. На одном запуске сложно оценить производительность первого и второго\\n#    решения, но проведя тест например на 10000 зпусков можно получить более-менее\\n#    релевантные результаты для оценки производительности. \\n# 3. Рекурсия имеет максимальную глубину, обусловленную стэком вызовов.\\n#    например, на данный момент(декабрь 2020) посчитать 1000 число мы не можем.\\n# 4. Производительность зависит от реализации интерпретатора, и результаты могут\\n#    разительно отличаться в двух разных реализациях интерпретатора (и даже в \\n#    разных его версиях).\\nimport time\\n\\ndef fib_for(n):\\n  a1 = a2 = 1\\n  for el in range(3, n+1):\\n    a1, a2 = a2, a1 + a2\\n  return a2\\n\\nstart = time.time()\\nfor _ in range(10000):\\n  fib_for(100)\\nprint('Execution time (for loop):', time.time() - start)\\n\\n\\ncache = {}\\ndef fib_recur(n):\\n  if n in (1, 2):\\n    return 1\\n  else:\\n    if not cache.get(n-1):\\n      cache[n-1] = fib(n-1)\\n    if not cache.get(n-2):\\n      cache[n-2] = fib(n-2)\\n    return cache.get(n-1) + cache.get(n-2)\\n\\nstart = time.time()\\nfor _ in range(10000):\\n  fib_recur(100)\\nprint('Execution time (recursive):', time.time() - start)\", '# Зададим простейшую лямбда-функцию.\\npower_2 = lambda x: x ** 2\\nprint(power_2(5))', '# Зададим простейшую лямбда-функцию.\\npower_2 = lambda x: x ** 2\\nprint(power_2(5))\\n\\nprint(power_2.__name__)', '# Зададим простейшую лямбда-функцию.\\npower_2 = lambda x: x ** 2\\nprint(power_2(5))', '# Лямбда функция может быть задана и сразу вызвана. Кроме того ее необязательно\\n# присваивать какой бы то ни было переменной.\\nprint((lambda x: x+1)(5))', '# Это считается плохой практикой, но в Python можно записывать несколько\\n# инструкций на одной строке, используя ;.\\nprint(1); print(2)', '# Но с лямбдой такого фокуса не выйдет.\\nl = (lambda x: print(1); print(2))\\nprint(l(5))', '# Немного более сложное выражение в лямбде.\\nl = lambda a: [element + 1 for element in a]\\nprint(l([2,3]))', '# Лямбда всегда возвращает результат выполнения body.\\nl = lambda a: print(a)\\nprint(l(a=2))', '# Самый простой способ сделать более сложные вычисления в лямбде - поместить в \\n# тело функцию. Однако возникает вопрос зачем нам тогда лямбда.\\ndef func(a, b):\\n    print(\"don\\'t do in this manner\")\\n    print(\"don\\'t do in this manner\")\\n    print(\"don\\'t do in this manner\")\\n    print(\"don\\'t do in this manner\")\\n\\nl = lambda a, b: func(a, b)\\nl(2,3)', '# Фактически, одно из главных отличий лямбды в Python от обычной функции.\\nl = lambda arg: arg + 1\\n\\ndef func(): \\n  pass\\n\\nprint(l.__name__)\\nprint(func.__name__)', '# Кстати функция сохраняет свое имя.\\ndef func(): \\n  pass\\n\\nb = func\\nfunc = 1\\nprint(b.__name__)', '# Кстати функция сохраняет свое имя.\\ndef func(): \\n  pass\\n\\nb = func\\nfunc = 1\\nprint(b.__name__)', '# Так как лямбда фактически таже самая функция, в ней могут присутствовать все\\n# доступные в функции типы аргументов.\\nl = lambda a, b=0, *args, c=7, **kwargs: print(a, b, args, c, kwargs)\\nl(1, 2, 3, 4 )', '# Рекурсия на лямбде. Она не совсем честная, потому что мы фактически именуем\\n# нашу лямбду и используем это имя.\\nfactorial = lambda a: a * factorial(a-1) if a>1 else 1\\nprint(factorial(4))', '# Есть возможность реализовать рекурсию и без этого трюка, но тут нужно\\n# использовать Y-комбинатор и все это выглядит очень плохо. Мое личное мнение - \\n# забейте. Но если очень любопытно: \\n# https://en.wikipedia.org/wiki/Fixed-point_combinator - теория.\\n# Попытка объяснения на русском https://habr.com/ru/post/50354/ (но без лямбд).\\n\\n# Сам комбинатор:\\nY = lambda g: ((lambda f: g(lambda *x: f(f) (*x))) ((lambda f: g(lambda *x: f(f)(*x)))))\\n\\n# Вычисление факториала рекурсивно с помощью комбинатора.\\nprint(Y(lambda f: (lambda num: num*f(num-1) if num else 1))(4))\\n\\n# Очевидно можно Y подставить в print и записать все в одну строку, но это\\n# будет вообще нечитаемо.', '# Функция, уменьшающая значение каждого элемента переданного аргумента на 1.\\nito = (1, 2, 3)\\ndec = lambda x: x-1\\nresult = map(dec, ito)\\nprint(result)  # обратите внимание, map возвращает итерируемый объект\\nprint(list(result))', '# Все то же самое, но изрядно сокращенное.\\nx = map(lambda x: x-1, [1, 2, 3])\\nprint(list(x))', '# Результат map можно применять, как и любой итерируемый объект, для любых \\n# наших целей. \\nx = map(lambda x: x-1, [1, 2, 3])\\nprint({el:el+1 for el in x})', '# Результат map можно применять, как и любой итерируемый объект, для любых \\n# наших целей. \\nx = map(lambda x: x-1, [1, 2, 3])\\nprint({el: el+1 for el in x})\\n\\nprint({el: el+1 for el in x})', '# Результат map можно применять, как и любой итерируемый объект, для любых \\n# наших целей. \\nx = map(lambda x: x-1, [1, 2, 3])\\nprint({el: el+1 for el in x})', '# Лямбды часто применяются в map, filter, reduce, однако можно применять и\\n# обычные функции.\\ndef dec(x):\\n  # some operations \\n  return x-1\\n\\nito = [1]\\nx = map(dec, ito)\\n\\nprint(list(x))', \"# Применение функции filter.\\nresult = filter(lambda x: x if x<0 else None, [-1, 2, 3])\\nresult = list(result)\\nprint('len:', len(result))\\nprint(result)\", '# Обратите внимание, filter также возвращает специальный итерируемый объект.\\nx = filter(lambda x: x<0, [-1, 2, 3])\\nprint(x)\\nprint(list(x))', \"# И еще один важный момент: по результату filter и map можно пройти только \\n# один раз.\\na = map(lambda x: x+1, [1,2,3])\\nx = filter(lambda x: x<0, [-1, 2, 3])\\n\\nprint('Map:')\\nprint(list(a))\\nprint(list(a))\\n\\nprint('Filter:')\\nprint(list(x))\\nprint(list(x))\", '# Альтернатива filter - те же самые генераторы.\\n[x for x in iterable if f(x)]', '# Пример использования reduce.\\nfrom functools import reduce\\npows = reduce(lambda x, y: x ** y, [1, 2, 3])\\nprint(pows)', '# Чуть более говорящий пример.\\nfrom functools import reduce\\npows = reduce((lambda x, y: x ** y), [2, 2, 3])\\nprint(pows)', '# Чуть более говорящий пример.\\nfrom functools import reduce\\npows = reduce((lambda x, y: x ** y), [2, 2, 3])\\nprint(pows)\\n\\n\\nsum = reduce((lambda x, y: x + y), [2, 2, 3])\\nprint(sum)', '# Чуть более говорящий пример.\\nfrom functools import reduce\\npows = reduce((lambda x, y: x ** y), [2, 2, 3])\\nprint(pows)\\n\\n\\nsum = reduce((lambda x, y: x + y), [2, 2, 3])\\nprint(sum)\\n\\nmul = reduce((lambda x, y: x * y), [2, 2, 3])\\nprint(mul)', '# На уровне модуля globals и locals будут совпадать - т.к. определенные в\\n# модуле переменные являются для него локальными, но также и глобальны - могут \\n# быть использованы в любом месте модуля.\\n\\n# Большое количество глобальных переменных в globals является следствием\\n# работы jupyter notebook. \\nglobal_var = 10\\nprint(globals())\\nprint(locals())'], 'Out': {48: 120, 50: 120}, 'get_ipython': <bound method InteractiveShell.get_ipython of <ipykernel.zmqshell.ZMQInteractiveShell object at 0x1080f92b0>>, 'exit': <IPython.core.autocall.ZMQExitAutocall object at 0x1080f98e0>, 'quit': <IPython.core.autocall.ZMQExitAutocall object at 0x1080f98e0>, 'open': <function open at 0x106f6e7a0>, '_': 9999, '__': 120, '___': '', '__vsc_ipynb_file__': '/Users/lavoncyk/Projects/python-courses-2025/7_functions.ipynb', '_i': '# Чуть более говорящий пример.\\nfrom functools import reduce\\npows = reduce((lambda x, y: x ** y), [2, 2, 3])\\nprint(pows)\\n\\n\\nsum = reduce((lambda x, y: x + y), [2, 2, 3])\\nprint(sum)\\n\\nmul = reduce((lambda x, y: x * y), [2, 2, 3])\\nprint(mul)', '_ii': '# Чуть более говорящий пример.\\nfrom functools import reduce\\npows = reduce((lambda x, y: x ** y), [2, 2, 3])\\nprint(pows)\\n\\n\\nsum = reduce((lambda x, y: x + y), [2, 2, 3])\\nprint(sum)', '_iii': '# Чуть более говорящий пример.\\nfrom functools import reduce\\npows = reduce((lambda x, y: x ** y), [2, 2, 3])\\nprint(pows)', '_i1': '# Если в функции не задано возвращаемое значение, она возвращает None .\\ndef add(a, b):\\n    result = a + b\\n    print(result)\\n    return result\\n\\n# Вызываем функцию.\\nresult = add(1, 2.5)\\nprint(result)', 'add': <function add at 0x108113600>, 'result': [-1], '_i2': '# Если в функции не задано возвращаемое значение, она возвращает None .\\ndef add(a, b):\\n    result = a + b\\n    return result\\n\\n# Вызываем функцию.\\nresult = add(1, 2.5)\\nprint(result)', '_i3': '# Функция, у которой при задании есть все типы аргументов.\\ndef very_big_func(a, b=10, *args, c, d=1, **kwargs):\\n    print(a, b, args, c, d, kwargs)\\n\\nvery_big_func(1, 22, 3, e=7, c=5)\\n# 3 идет в args, е - в kwargs.', 'very_big_func': <function very_big_func at 0x1081689a0>, '_i4': \"# Функция, у которой при задании есть все типы аргументов.\\ndef very_big_func(a, b=10, *args, c, d=1, **kwargs):\\n    print(a, b, args, c, d, kwargs)\\n\\nvery_big_func(1, 22, 3, e=7, c=5, f='6', g=10)\\n# 3 идет в args, е - в kwargs.\", '_i5': \"# Функция, у которой при задании есть все типы аргументов.\\ndef very_big_func(a, b=10, *args, c, d=1, **kwargs):\\n    print(a, b, args, c, d, kwargs)\\n\\nvery_big_func(1, 22, 3, e=7, c=5, d=5, f='6', g=10)\\n# 3 идет в args, е - в kwargs.\", '_i6': \"# Функция, у которой при задании есть все типы аргументов.\\ndef very_big_func(a, b=10, *args, c, d=1, **kwargs):\\n    print(a, b, args, c, d, kwargs)\\n\\nvery_big_func(1, 22, 3, 10, 11, 12, 13, 14 e=7, c=5, d=5, f='6', g=10)\\n# 3 идет в args, е - в kwargs.\", '_i7': \"# Функция, у которой при задании есть все типы аргументов.\\ndef very_big_func(a, b=10, *args, c, d=1, **kwargs):\\n    print(a, b, args, c, d, kwargs)\\n\\nvery_big_func(1, 22, 3, 10, 11, 12, 13, 14, e=7, c=5, d=5, f='6', g=10)\\n# 3 идет в args, е - в kwargs.\", '_i8': \"# Функция, у которой при задании есть все типы аргументов.\\ndef very_big_func(a, b=10, *args, c, d=1, **kwargs):\\n    print(a, b, args, c, d, kwargs)\\n\\nvery_big_func(a=1, b=22, e=7, c=5, d=5, f='6', g=10)\\n# 3 идет в args, е - в kwargs.\", '_i9': '# Порядок задания параметров имеет значение. \\n# В случае его нарушения, будет ошибка.\\n\\n# В данном случае позиционный аргумент со значением по умолчанию идет раньше\\n# позиционного аргумента.\\ndef func_with_error(a=10, b):\\n    pass\\n\\nfunc_with_error(1, 1)', '_i10': '# В случае, если у нас есть позиционные аргументы со значением по умолчанию, \\n# и есть *args, следует быть осторожным и не передавать позиционный аргумент \\n# по имени.\\ndef very_big_func(a, b, *args, c, d=1, **kwargs):\\n    print(a, b, args, c, d, kwargs)\\n\\nvery_big_func(1, 2, 3, b=8, c=5, e=7)\\n\\n# Идея присвоения значений аргументов в Python(и, соответственно, суть ошибки)\\n# Заключается в том, что сначала все, что передано по позиции, присваивается\\n# поочередно всем позиционным аргументам, после чего оставшиеся заворачиваются в \\n# args. В данном случае мы присвоили значения и a, и b, положили 3 в args, \\n# и после этого получаем b, переданный уже по имени.\\n\\n# Очевидно, такого эффекта не будет для аргументов, передаваемых только\\n# по имени.', '_i11': '# Задание аргументов, передаваемых только по позиции, в случае, если нет *args.\\ndef func(a, *, c):\\n  print(a, c)\\n\\nfunc(3, c=10)\\n\\n# В случае если мы не хотим принимать неограниченное количество позиционных\\n# аргументов, мы можем просто указать оператор *, и все переменные, которые \\n# будут стоять после нее, будут передаваемыми только по имени.', 'func': 1, '_i12': 'def only_named_args(*, a, b):\\n    print(a, b)\\n\\nonly_named_args(a=1, b=2)', 'only_named_args': <function only_named_args at 0x1086d6200>, '_i13': 'def only_positional_args(a, b, /):\\n    print(a, b)\\n\\n\\nonly_positional_args(1, 2)', 'only_positional_args': <function only_positional_args at 0x1086d6b60>, '_i14': 'def only_positional_args(a, b, /):\\n    print(a, b)\\n\\n\\nonly_positional_args(1, b=2)', '_i15': \"# Распаковка итерируемых объектов и словарей при вызове функций. \\ndef func(a, b, *, c, d):\\n    print(a, b, c, d)\\n\\niterable = [1, 2]\\ndict_ = {'c': 5, 'd': 7}\\n\\nfunc(*iterable, **dict_) # func(1, 2, c=5, d=7)\", 'iterable': {1, 2, 3, 4}, 'dict_': {'c': 5, 'd': 7}, '_i16': '# Если не указан *args, в распаковываемом объекте количество объектов должно\\n# быть равно количеству аргументов функций. Иначе - ошибка.\\ndef func(a, b):\\n    print(a, b)\\n\\niterable = [1, 2, 3]\\nfunc(*iterable)', '_i17': \"# То же самое со словарями.\\ndef func(*, c, d):\\n    print(c, d)\\n\\ndict_ = {'c': 5, 'd': 7, 'e': 10}\\n\\nfunc(**dict_)\", '_i18': '# Если не указан *args, в распаковываемом объекте количество объектов должно\\n# быть равно количеству аргументов функций. Иначе - ошибка.\\ndef func(a, b, *_):\\n    print(a, b)\\n\\niterable = [1, 2, 3]\\nfunc(*iterable)', '_i19': '# Если не указан *args, в распаковываемом объекте количество объектов должно\\n# быть равно количеству аргументов функций. Иначе - ошибка.\\ndef func(a, b, *_):\\n    print(a, b, _)\\n\\niterable = [1, 2, 3]\\nfunc(*iterable)', '_i20': '# Если не указан *args, в распаковываемом объекте количество объектов должно\\n# быть равно количеству аргументов функций. Иначе - ошибка.\\ndef func(a, b):\\n    print(a, b)\\n\\niterable = [1, 2, 3]\\nfunc(*iterable)', '_i21': \"# То же самое со словарями.\\ndef func(*, c, d, **_):\\n    print(c, d)\\n\\ndict_ = {'c': 5, 'd': 7, 'e': 10}\\n\\nfunc(**dict_)\", '_i22': \"# То же самое со словарями.\\ndef func(*, c, d, **_):\\n    print(c, d, _)\\n\\ndict_ = {'c': 5, 'd': 7, 'e': 10}\\n\\nfunc(**dict_)\", '_i23': \"# То же самое со словарями.\\ndef func(*, c, d):\\n    print(c, d)\\n\\ndict_ = {'c': 5, 'd': 7, 'e': 10}\\n\\nfunc(**dict_)\", '_i24': \"# Обратите внимание, что словари можно распаковывать не только если аргументы\\n# с соответствующими именами заданы как передаваемые только по значению. \\ndef func(c, d):\\n    print(c, d)\\n\\ndict_ = {'c': 5, 'd': 7}\\n\\nfunc(**dict_)\", '_i25': \"# В отличие от задания функции, * и ** при вызове может встречаться несколько\\n# раз.\\ndef func(*args, **kwargs):  # функция, которая принимает любой набор аргументов\\n  print(args, kwargs)\\n\\niterable_1 = (1, )\\niterable_2 = [3, 4]\\ndict_1 = {'c': 5, 'd': 7}\\ndict_2 = {'e': 5, 'f': 7}\\n\\nfunc(*iterable_1, *iterable_2, **dict_1, **dict_2)\\n# Главное, чтобы вначале передавались позиционные аргументы, а потом аргументы,\\n# передаваемые по имени. Т.е. Сначала идут все распаковки *, а потом все **. \", 'iterable_1': (1,), 'iterable_2': [3, 4], 'dict_1': {'c': 5, 'd': 7}, 'dict_2': {'e': 5, 'f': 7}, '_i26': \"# Не забываем, что строка - тоже итерируемый объект :) \\ndef func(*args):  # функция, которая принимает любой набор аргументов\\n    print(args)\\n\\nstr_ = 'string'\\nfunc(*str_)\", 'str_': 'string', '_i27': '# попробуем передать в функцию объекты разных типов.\\n\\ndef func(a):\\n    print(a, type(a))\\n\\n# Передадим некоторые стандартные типы данных.\\nfunc(1)  # целое число\\nfunc([1, 2])  # список\\nfunc({3, 4})  # множество', '_i28': \"# Пример посложнее - передаем функцию в функцию.\\n\\ndef func(a):\\n    print(a, type(a))\\n\\ndef fun_func():\\n    print('fun')\\n\\nfunc(fun_func)\", 'fun_func': <function fun_func at 0x10876d3a0>, '_i29': \"# Мы можем передать как фнукцию, так и результат ее работы.\\n# Пример посложнее - передаем функцию в функцию.\\ndef func(a):\\n  print(a, type(a))\\n\\ndef fun_func():\\n  print('fun')\\n\\nfunc(fun_func())\\n# Интерпретируйте полученный результат.\", '_i30': '# Неизменяемое значение по умолчанию.\\ndef func(a=1):\\n    a += 1\\n    return a\\n\\nprint(func())\\nprint(func())', '_i31': '# Изменяемое значение по умолчанию.\\ndef func(a=[]):\\n    a.append(1)\\n    return a\\n\\nprint(func())\\nprint(func())\\nprint(func())', '_i32': \"# Стандартный способ обработки таких ситуаций(и заодно пример boilerplate кода).\\n\\n# Изменяемое значение по умолчанию.\\ndef func(a=None):\\n    if a is None:\\n        a = []\\n    a += [1]\\n    return(a)\\n\\nprint(func())\\nprint(func())\\nprint(func())\\n\\n# Проверка 'if' a будет в большинстве случаев недостаточна, потому что нам может\\n# быть передан пустой список, и наш код в таком случае его перезапишет другим.\", '_i33': 'def func(a=()):\\n    a += (1)\\n    return a\\n\\nprint(func())\\nprint(func())\\nprint(func())', '_i34': 'def func(a=()):\\n    a += (1,)\\n    return a\\n\\nprint(func())\\nprint(func())\\nprint(func())', '_i35': 'def func(a=[]):\\n    a = a.copy()\\n    a.append(1)\\n    return a\\n\\nprint(func())\\nprint(func())\\nprint(func())', '_i36': '# Пример работы агрегирующих функции. \\niterable = {1, 2, 3, 4, 1, 2, 3, 4}\\n\\nprint(sum(iterable))  # интерпретируйте пожалуйста резулльтат выполнения\\nprint(max(iterable))\\nprint(min(iterable))', '_i37': '# Пример работы агрегирующих функции. \\niterable = {1, 2, 3, 4, 1, 2, 3, 4}\\n\\nprint(sum(iterable))  # интерпретируйте пожалуйста резулльтат выполнения\\nprint(max(iterable))\\nprint(min(iterable))\\n\\nprint(sum(i for i in range(10)))', '_i38': '# Важно, чтобы все элементы итерируемого объекта были сравнимы!\\ndef func(): \\n  pass\\n\\na = [func, 3]\\nprint(max(a))', 'a': <map object at 0x1082bbe50>, '_i39': \"# Пример функции преобразования типа и type.\\na = tuple('string')\\nprint(type(a), a)\", '_i40': '# Решение с помощью any.\\ndef func(iterable):\\n  \"\"\"Checks if we have dict with non-empty \"key\": value pair.\\n\\n  Args:\\n    itr = [{}, {}, ...] - list of dicts\\n  Return:\\n    True/False\\n  \"\"\"\\n  return any(dct.get(\"key\") for dct in iterable)\\n\\ndct1 = [{1: 1}, {\"key\": None}, ]  # False\\nprint(func(dct1))', 'dct1': [{1: 1}, {'key': 1}], '_i41': '# Вызов той же функции но с ожидаемым ответом True.\\ndef func(iterable):\\n  \"\"\"Checks if we have dict with non-empty \"key\": value pair.\\n\\n  Args:\\n    itr = [{}, {}, ...] - list of dicts\\n  Return:\\n    True/False\\n  \"\"\"\\n  return any([dct.get(\"key\") for dct in iterable])\\n\\ndct1 = [{1:1}, {\"key\": 1},]\\nprint(func(dct1))', '_i42': '\"\"\"\\nПереформулируем задачу. \\nПроверить, содержат ли все словари в переданном итерируемом объекте пары\\nключ-значение с непустым(истинным) значением \\n\"\"\"\\n\\ndef func(iterable):\\n  return all(dct.get(\"key\") for dct in iterable)\\n\\ndct = [{1:1},{\"key\": 1},]\\nprint(func(dct))', 'dct': [{1: 1}, {'key': 1}], '_i43': \"# Важный момент, напрямую следующий из определения.\\nprint('all:', all([]))\\nprint('any:', any([]))\\n# Из этого следует, что изменение формулировки в определении критично.\", '_i44': '# Простейшая рекурсивная функция - считает факториал. \\n#\\xa05! = 5 * 4 * 3 * 2 * 1\\ndef factorial(n):\\n  if n != 1:\\n    return n * factorial(n-1) # 3 * factorial(2) -> 3 * 2 * factorial(1) -> 3 * 2 * 1\\n  else:  # условия выхода из рекурсии\\n    return 1\\n\\nprint(factorial(4))', 'factorial': <function <lambda> at 0x108b1b600>, '_i45': '# Простейшая рекурсивная функция - считает факториал. \\n#\\xa05! = 5 * 4 * 3 * 2 * 1\\ndef factorial(n):\\n  if n != 1:\\n    return n * factorial(n-1) # 3 * factorial(2) -> 3 * 2 * factorial(1) -> 3 * 2 * 1\\n  else:  # условия выхода из рекурсии\\n    return 1\\n\\nprint(factorial(10))', '_i46': '# Простейшая рекурсивная функция - считает факториал. \\n#\\xa05! = 5 * 4 * 3 * 2 * 1\\ndef factorial(n):\\n  if n != 1:\\n    return n * factorial(n-1) # 3 * factorial(2) -> 3 * 2 * factorial(1) -> 3 * 2 * 1\\n  else:  # условия выхода из рекурсии\\n    return 1\\n\\nprint(factorial(100))', '_i47': '# Простейшая рекурсивная функция - считает факториал. \\n#\\xa05! = 5 * 4 * 3 * 2 * 1\\ndef factorial(n):\\n  if n != 1:\\n    return n * factorial(n-1) # 3 * factorial(2) -> 3 * 2 * factorial(1) -> 3 * 2 * 1\\n  else:  # условия выхода из рекурсии\\n    return 1\\n\\nprint(factorial(1000))', '_i48': '# Простейшая рекурсивная функция - считает факториал. \\n#\\xa05! = 5 * 4 * 3 * 2 * 1\\ndef factorial_loop(n):\\n    result = 1\\n    for i in range(1, n + 1):\\n       result *= i\\n    return result\\n\\nfactorial_loop(5)', 'factorial_loop': <function factorial_loop at 0x10880a020>, '_48': 120, '_i49': '# Простейшая рекурсивная функция - считает факториал. \\n#\\xa05! = 5 * 4 * 3 * 2 * 1\\ndef factorial(n):\\n  if n != 1:\\n    return n * factorial(n-1) # 3 * factorial(2) -> 3 * 2 * factorial(1) -> 3 * 2 * 1\\n  else:  # условия выхода из рекурсии\\n    return 1\\n\\nprint(factorial(5))', '_i50': '# Простейшая рекурсивная функция - считает факториал. \\n#\\xa05! = 5 * 4 * 3 * 2 * 1\\ndef factorial_loop(n):\\n    result = 1\\n    for i in range(1, n + 1):\\n       result *= i\\n    return result\\n\\nfactorial_loop(5)', '_50': 120, '_i51': \"# Расчет n-го числа Фибоначчи без использования рекурсии (начиная с второго)\\n# Замерим время исполнения программы.\\n# 1, 1, 2, 3, 5, 8, 13\\ndef fib(n):\\n  a1 = a2 = 1\\n  for el in range(3, n+1):\\n    a1, a2 = a2, a1 + a2\\n  return a2\\n\\nimport time\\nstart = time.time()\\nprint(fib(100))\\nprint('Execution time:', time.time() - start)\", 'fib': <function fib at 0x108b1a020>, 'time': <module 'time' (built-in)>, 'start': 1742404567.577365, '_i52': \"# А сейчас то же самое но для рекурсии написанной в лоб.\\n\\ndef fib(n):\\n  if n in (1, 2):  # Условие выхода из рекурсии. Скобки здесь не обязательны\\n    return 1\\n  else:\\n    return fib(n-1) + fib(n-2)\\n\\nimport time\\nstart = time.time()\\nprint(fib(30))  # Обратите внимание, что здесь число в 3 раза меньше! \\nprint('Execution time:', time.time() - start)\", '_i53': \"# А сейчас то же самое но для рекурсии написанной в лоб.\\n\\ndef fib(n):\\n  if n in (1, 2):  # Условие выхода из рекурсии. Скобки здесь не обязательны\\n    return 1\\n  else:\\n    return fib(n-1) + fib(n-2)\\n\\nimport time\\nstart = time.time()\\nprint(fib(100))  # Обратите внимание, что здесь число в 3 раза меньше! \\nprint('Execution time:', time.time() - start)\", '_i54': \"# Реализуем кэширование чтобы избежать ситуации из прошлого примера.\\ncache = {}\\ndef fib(n):\\n  if n in (1, 2):\\n    return 1\\n  else:\\n    if not cache.get(n-1):\\n      cache[n-1] = fib(n-1)\\n    if not cache.get(n-2):\\n      cache[n-2] = fib(n-2)\\n    return cache.get(n-1) + cache.get(n-2)\\n\\nimport time\\nstart = time.time()\\nprint(fib(100))\\nprint('Execution time:', time.time() - start)\", 'cache': {2: 1, 1: 1, 3: 2, 4: 3, 5: 5, 6: 8, 7: 13, 8: 21, 9: 34, 10: 55, 11: 89, 12: 144, 13: 233, 14: 377, 15: 610, 16: 987, 17: 1597, 18: 2584, 19: 4181, 20: 6765, 21: 10946, 22: 17711, 23: 28657, 24: 46368, 25: 75025, 26: 121393, 27: 196418, 28: 317811, 29: 514229, 30: 832040, 31: 1346269, 32: 2178309, 33: 3524578, 34: 5702887, 35: 9227465, 36: 14930352, 37: 24157817, 38: 39088169, 39: 63245986, 40: 102334155, 41: 165580141, 42: 267914296, 43: 433494437, 44: 701408733, 45: 1134903170, 46: 1836311903, 47: 2971215073, 48: 4807526976, 49: 7778742049, 50: 12586269025, 51: 20365011074, 52: 32951280099, 53: 53316291173, 54: 86267571272, 55: 139583862445, 56: 225851433717, 57: 365435296162, 58: 591286729879, 59: 956722026041, 60: 1548008755920, 61: 2504730781961, 62: 4052739537881, 63: 6557470319842, 64: 10610209857723, 65: 17167680177565, 66: 27777890035288, 67: 44945570212853, 68: 72723460248141, 69: 117669030460994, 70: 190392490709135, 71: 308061521170129, 72: 498454011879264, 73: 806515533049393, 74: 1304969544928657, 75: 2111485077978050, 76: 3416454622906707, 77: 5527939700884757, 78: 8944394323791464, 79: 14472334024676221, 80: 23416728348467685, 81: 37889062373143906, 82: 61305790721611591, 83: 99194853094755497, 84: 160500643816367088, 85: 259695496911122585, 86: 420196140727489673, 87: 679891637638612258, 88: 1100087778366101931, 89: 1779979416004714189, 90: 2880067194370816120, 91: 4660046610375530309, 92: 7540113804746346429, 93: 12200160415121876738, 94: 19740274219868223167, 95: 31940434634990099905, 96: 51680708854858323072, 97: 83621143489848422977, 98: 135301852344706746049, 99: 218922995834555169026}, '_i55': '# Реализуем кэширование чтобы избежать ситуации из прошлого примера.\\ncache = {}\\ndef fib(n):\\n  if n in (1, 2):\\n    return 1\\n  else:\\n    if not cache.get(n-1):\\n      cache[n-1] = fib(n-1)\\n    if not cache.get(n-2):\\n      cache[n-2] = fib(n-2)\\n    return cache.get(n-1) + cache.get(n-2)\\n\\nimport time\\nstart = time.time()\\nprint(fib(100))\\nprint(\\'Execution time:\\', time.time() - start)\\nprint(\"Cache size:\", len(cache))', '_i56': \"# Стоит обратить внимание на следующее:\\n# 1. Мы не можем использовать, например, setdefault к нашему кэшу, потому что\\n#    попадем в похожую ситуацию - ключ в словарь будет добавляться очень поздно. \\n# 2. На одном запуске сложно оценить производительность первого и второго\\n#    решения, но проведя тест например на 10000 зпусков можно получить более-менее\\n#    релевантные результаты для оценки производительности. \\n# 3. Рекурсия имеет максимальную глубину, обусловленную стэком вызовов.\\n#    например, на данный момент(декабрь 2020) посчитать 1000 число мы не можем.\\n# 4. Производительность зависит от реализации интерпретатора, и результаты могут\\n#    разительно отличаться в двух разных реализациях интерпретатора (и даже в \\n#    разных его версиях).\\nimport time\\n\\ndef fib_for(n):\\n  a1 = a2 = 1\\n  for el in range(3, n+1):\\n    a1, a2 = a2, a1 + a2\\n  return a2\\n\\nstart = time.time()\\nfor _ in range(10000):\\n  fib_for(100)\\nprint('Execution time (for loop):', time.time() - start)\\n\\n\\ncache = {}\\ndef fib_recur(n):\\n  if n in (1, 2):\\n    return 1\\n  else:\\n    if not cache.get(n-1):\\n      cache[n-1] = fib(n-1)\\n    if not cache.get(n-2):\\n      cache[n-2] = fib(n-2)\\n    return cache.get(n-1) + cache.get(n-2)\\n\\nstart = time.time()\\nfor _ in range(10000):\\n  fib_recur(100)\\nprint('Execution time (recursive):', time.time() - start)\", 'fib_for': <function fib_for at 0x10880aca0>, 'fib_recur': <function fib_recur at 0x108809da0>, '_i57': '# Зададим простейшую лямбда-функцию.\\npower_2 = lambda x: x ** 2\\nprint(power_2(5))', 'power_2': <function <lambda> at 0x108b1b240>, '_i58': '# Зададим простейшую лямбда-функцию.\\npower_2 = lambda x: x ** 2\\nprint(power_2(5))\\n\\nprint(power_2.__name__)', '_i59': '# Зададим простейшую лямбда-функцию.\\npower_2 = lambda x: x ** 2\\nprint(power_2(5))', '_i60': '# Лямбда функция может быть задана и сразу вызвана. Кроме того ее необязательно\\n# присваивать какой бы то ни было переменной.\\nprint((lambda x: x+1)(5))', '_i61': '# Это считается плохой практикой, но в Python можно записывать несколько\\n# инструкций на одной строке, используя ;.\\nprint(1); print(2)', '_i62': '# Но с лямбдой такого фокуса не выйдет.\\nl = (lambda x: print(1); print(2))\\nprint(l(5))', '_i63': '# Немного более сложное выражение в лямбде.\\nl = lambda a: [element + 1 for element in a]\\nprint(l([2,3]))', 'l': <function <lambda> at 0x108b1b380>, '_i64': '# Лямбда всегда возвращает результат выполнения body.\\nl = lambda a: print(a)\\nprint(l(a=2))', '_i65': '# Самый простой способ сделать более сложные вычисления в лямбде - поместить в \\n# тело функцию. Однако возникает вопрос зачем нам тогда лямбда.\\ndef func(a, b):\\n    print(\"don\\'t do in this manner\")\\n    print(\"don\\'t do in this manner\")\\n    print(\"don\\'t do in this manner\")\\n    print(\"don\\'t do in this manner\")\\n\\nl = lambda a, b: func(a, b)\\nl(2,3)', '_i66': '# Фактически, одно из главных отличий лямбды в Python от обычной функции.\\nl = lambda arg: arg + 1\\n\\ndef func(): \\n  pass\\n\\nprint(l.__name__)\\nprint(func.__name__)', '_i67': '# Кстати функция сохраняет свое имя.\\ndef func(): \\n  pass\\n\\nb = func\\nfunc = 1\\nprint(b.__name__)', 'b': <function func at 0x108b1a7a0>, '_i68': '# Кстати функция сохраняет свое имя.\\ndef func(): \\n  pass\\n\\nb = func\\nfunc = 1\\nprint(b.__name__)', '_i69': '# Так как лямбда фактически таже самая функция, в ней могут присутствовать все\\n# доступные в функции типы аргументов.\\nl = lambda a, b=0, *args, c=7, **kwargs: print(a, b, args, c, kwargs)\\nl(1, 2, 3, 4 )', '_i70': '# Рекурсия на лямбде. Она не совсем честная, потому что мы фактически именуем\\n# нашу лямбду и используем это имя.\\nfactorial = lambda a: a * factorial(a-1) if a>1 else 1\\nprint(factorial(4))', '_i71': '# Есть возможность реализовать рекурсию и без этого трюка, но тут нужно\\n# использовать Y-комбинатор и все это выглядит очень плохо. Мое личное мнение - \\n# забейте. Но если очень любопытно: \\n# https://en.wikipedia.org/wiki/Fixed-point_combinator - теория.\\n# Попытка объяснения на русском https://habr.com/ru/post/50354/ (но без лямбд).\\n\\n# Сам комбинатор:\\nY = lambda g: ((lambda f: g(lambda *x: f(f) (*x))) ((lambda f: g(lambda *x: f(f)(*x)))))\\n\\n# Вычисление факториала рекурсивно с помощью комбинатора.\\nprint(Y(lambda f: (lambda num: num*f(num-1) if num else 1))(4))\\n\\n# Очевидно можно Y подставить в print и записать все в одну строку, но это\\n# будет вообще нечитаемо.', 'Y': <function <lambda> at 0x108b1b560>, '_i72': '# Функция, уменьшающая значение каждого элемента переданного аргумента на 1.\\nito = (1, 2, 3)\\ndec = lambda x: x-1\\nresult = map(dec, ito)\\nprint(result)  # обратите внимание, map возвращает итерируемый объект\\nprint(list(result))', 'ito': [1], 'dec': <function dec at 0x108b1b9c0>, '_i73': '# Все то же самое, но изрядно сокращенное.\\nx = map(lambda x: x-1, [1, 2, 3])\\nprint(list(x))', 'x': <filter object at 0x1082ba290>, '_i74': '# Результат map можно применять, как и любой итерируемый объект, для любых \\n# наших целей. \\nx = map(lambda x: x-1, [1, 2, 3])\\nprint({el:el+1 for el in x})', '_i75': '# Результат map можно применять, как и любой итерируемый объект, для любых \\n# наших целей. \\nx = map(lambda x: x-1, [1, 2, 3])\\nprint({el: el+1 for el in x})\\n\\nprint({el: el+1 for el in x})', '_i76': '# Результат map можно применять, как и любой итерируемый объект, для любых \\n# наших целей. \\nx = map(lambda x: x-1, [1, 2, 3])\\nprint({el: el+1 for el in x})', '_i77': '# Лямбды часто применяются в map, filter, reduce, однако можно применять и\\n# обычные функции.\\ndef dec(x):\\n  # some operations \\n  return x-1\\n\\nito = [1]\\nx = map(dec, ito)\\n\\nprint(list(x))', '_i78': \"# Применение функции filter.\\nresult = filter(lambda x: x if x<0 else None, [-1, 2, 3])\\nresult = list(result)\\nprint('len:', len(result))\\nprint(result)\", '_i79': '# Обратите внимание, filter также возвращает специальный итерируемый объект.\\nx = filter(lambda x: x<0, [-1, 2, 3])\\nprint(x)\\nprint(list(x))', '_i80': \"# И еще один важный момент: по результату filter и map можно пройти только \\n# один раз.\\na = map(lambda x: x+1, [1,2,3])\\nx = filter(lambda x: x<0, [-1, 2, 3])\\n\\nprint('Map:')\\nprint(list(a))\\nprint(list(a))\\n\\nprint('Filter:')\\nprint(list(x))\\nprint(list(x))\", '_i81': '# Альтернатива filter - те же самые генераторы.\\n[x for x in iterable if f(x)]', '_i82': '# Пример использования reduce.\\nfrom functools import reduce\\npows = reduce(lambda x, y: x ** y, [1, 2, 3])\\nprint(pows)', 'reduce': <built-in function reduce>, 'pows': 64, '_i83': '# Чуть более говорящий пример.\\nfrom functools import reduce\\npows = reduce((lambda x, y: x ** y), [2, 2, 3])\\nprint(pows)', '_i84': '# Чуть более говорящий пример.\\nfrom functools import reduce\\npows = reduce((lambda x, y: x ** y), [2, 2, 3])\\nprint(pows)\\n\\n\\nsum = reduce((lambda x, y: x + y), [2, 2, 3])\\nprint(sum)', 'sum': 7, '_i85': '# Чуть более говорящий пример.\\nfrom functools import reduce\\npows = reduce((lambda x, y: x ** y), [2, 2, 3])\\nprint(pows)\\n\\n\\nsum = reduce((lambda x, y: x + y), [2, 2, 3])\\nprint(sum)\\n\\nmul = reduce((lambda x, y: x * y), [2, 2, 3])\\nprint(mul)', 'mul': 12, '_i86': '# На уровне модуля globals и locals будут совпадать - т.к. определенные в\\n# модуле переменные являются для него локальными, но также и глобальны - могут \\n# быть использованы в любом месте модуля.\\n\\n# Большое количество глобальных переменных в globals является следствием\\n# работы jupyter notebook. \\nglobal_var = 10\\nprint(globals())\\nprint(locals())', 'global_var': 10}\n"
     ]
    }
   ],
   "source": [
    "# На уровне модуля globals и locals будут совпадать - т.к. определенные в\n",
    "# модуле переменные являются для него локальными, но также и глобальны - могут \n",
    "# быть использованы в любом месте модуля.\n",
    "\n",
    "# Большое количество глобальных переменных в globals является следствием\n",
    "# работы jupyter notebook. \n",
    "global_var = 10\n",
    "print(globals())\n",
    "print(locals())"
   ]
  },
  {
   "cell_type": "code",
   "execution_count": 87,
   "metadata": {
    "id": "MoqCuQNe729E"
   },
   "outputs": [
    {
     "name": "stdout",
     "output_type": "stream",
     "text": [
      "{'__name__': '__main__', '__doc__': '\\nПереформулируем задачу. \\nПроверить, содержат ли все словари в переданном итерируемом объекте пары\\nключ-значение с непустым(истинным) значением \\n', '__package__': None, '__loader__': None, '__spec__': None, '__builtin__': <module 'builtins' (built-in)>, '__builtins__': <module 'builtins' (built-in)>, '_ih': ['', '# Если в функции не задано возвращаемое значение, она возвращает None .\\ndef add(a, b):\\n    result = a + b\\n    print(result)\\n    return result\\n\\n# Вызываем функцию.\\nresult = add(1, 2.5)\\nprint(result)', '# Если в функции не задано возвращаемое значение, она возвращает None .\\ndef add(a, b):\\n    result = a + b\\n    return result\\n\\n# Вызываем функцию.\\nresult = add(1, 2.5)\\nprint(result)', '# Функция, у которой при задании есть все типы аргументов.\\ndef very_big_func(a, b=10, *args, c, d=1, **kwargs):\\n    print(a, b, args, c, d, kwargs)\\n\\nvery_big_func(1, 22, 3, e=7, c=5)\\n# 3 идет в args, е - в kwargs.', \"# Функция, у которой при задании есть все типы аргументов.\\ndef very_big_func(a, b=10, *args, c, d=1, **kwargs):\\n    print(a, b, args, c, d, kwargs)\\n\\nvery_big_func(1, 22, 3, e=7, c=5, f='6', g=10)\\n# 3 идет в args, е - в kwargs.\", \"# Функция, у которой при задании есть все типы аргументов.\\ndef very_big_func(a, b=10, *args, c, d=1, **kwargs):\\n    print(a, b, args, c, d, kwargs)\\n\\nvery_big_func(1, 22, 3, e=7, c=5, d=5, f='6', g=10)\\n# 3 идет в args, е - в kwargs.\", \"# Функция, у которой при задании есть все типы аргументов.\\ndef very_big_func(a, b=10, *args, c, d=1, **kwargs):\\n    print(a, b, args, c, d, kwargs)\\n\\nvery_big_func(1, 22, 3, 10, 11, 12, 13, 14 e=7, c=5, d=5, f='6', g=10)\\n# 3 идет в args, е - в kwargs.\", \"# Функция, у которой при задании есть все типы аргументов.\\ndef very_big_func(a, b=10, *args, c, d=1, **kwargs):\\n    print(a, b, args, c, d, kwargs)\\n\\nvery_big_func(1, 22, 3, 10, 11, 12, 13, 14, e=7, c=5, d=5, f='6', g=10)\\n# 3 идет в args, е - в kwargs.\", \"# Функция, у которой при задании есть все типы аргументов.\\ndef very_big_func(a, b=10, *args, c, d=1, **kwargs):\\n    print(a, b, args, c, d, kwargs)\\n\\nvery_big_func(a=1, b=22, e=7, c=5, d=5, f='6', g=10)\\n# 3 идет в args, е - в kwargs.\", '# Порядок задания параметров имеет значение. \\n# В случае его нарушения, будет ошибка.\\n\\n# В данном случае позиционный аргумент со значением по умолчанию идет раньше\\n# позиционного аргумента.\\ndef func_with_error(a=10, b):\\n    pass\\n\\nfunc_with_error(1, 1)', '# В случае, если у нас есть позиционные аргументы со значением по умолчанию, \\n# и есть *args, следует быть осторожным и не передавать позиционный аргумент \\n# по имени.\\ndef very_big_func(a, b, *args, c, d=1, **kwargs):\\n    print(a, b, args, c, d, kwargs)\\n\\nvery_big_func(1, 2, 3, b=8, c=5, e=7)\\n\\n# Идея присвоения значений аргументов в Python(и, соответственно, суть ошибки)\\n# Заключается в том, что сначала все, что передано по позиции, присваивается\\n# поочередно всем позиционным аргументам, после чего оставшиеся заворачиваются в \\n# args. В данном случае мы присвоили значения и a, и b, положили 3 в args, \\n# и после этого получаем b, переданный уже по имени.\\n\\n# Очевидно, такого эффекта не будет для аргументов, передаваемых только\\n# по имени.', '# Задание аргументов, передаваемых только по позиции, в случае, если нет *args.\\ndef func(a, *, c):\\n  print(a, c)\\n\\nfunc(3, c=10)\\n\\n# В случае если мы не хотим принимать неограниченное количество позиционных\\n# аргументов, мы можем просто указать оператор *, и все переменные, которые \\n# будут стоять после нее, будут передаваемыми только по имени.', 'def only_named_args(*, a, b):\\n    print(a, b)\\n\\nonly_named_args(a=1, b=2)', 'def only_positional_args(a, b, /):\\n    print(a, b)\\n\\n\\nonly_positional_args(1, 2)', 'def only_positional_args(a, b, /):\\n    print(a, b)\\n\\n\\nonly_positional_args(1, b=2)', \"# Распаковка итерируемых объектов и словарей при вызове функций. \\ndef func(a, b, *, c, d):\\n    print(a, b, c, d)\\n\\niterable = [1, 2]\\ndict_ = {'c': 5, 'd': 7}\\n\\nfunc(*iterable, **dict_) # func(1, 2, c=5, d=7)\", '# Если не указан *args, в распаковываемом объекте количество объектов должно\\n# быть равно количеству аргументов функций. Иначе - ошибка.\\ndef func(a, b):\\n    print(a, b)\\n\\niterable = [1, 2, 3]\\nfunc(*iterable)', \"# То же самое со словарями.\\ndef func(*, c, d):\\n    print(c, d)\\n\\ndict_ = {'c': 5, 'd': 7, 'e': 10}\\n\\nfunc(**dict_)\", '# Если не указан *args, в распаковываемом объекте количество объектов должно\\n# быть равно количеству аргументов функций. Иначе - ошибка.\\ndef func(a, b, *_):\\n    print(a, b)\\n\\niterable = [1, 2, 3]\\nfunc(*iterable)', '# Если не указан *args, в распаковываемом объекте количество объектов должно\\n# быть равно количеству аргументов функций. Иначе - ошибка.\\ndef func(a, b, *_):\\n    print(a, b, _)\\n\\niterable = [1, 2, 3]\\nfunc(*iterable)', '# Если не указан *args, в распаковываемом объекте количество объектов должно\\n# быть равно количеству аргументов функций. Иначе - ошибка.\\ndef func(a, b):\\n    print(a, b)\\n\\niterable = [1, 2, 3]\\nfunc(*iterable)', \"# То же самое со словарями.\\ndef func(*, c, d, **_):\\n    print(c, d)\\n\\ndict_ = {'c': 5, 'd': 7, 'e': 10}\\n\\nfunc(**dict_)\", \"# То же самое со словарями.\\ndef func(*, c, d, **_):\\n    print(c, d, _)\\n\\ndict_ = {'c': 5, 'd': 7, 'e': 10}\\n\\nfunc(**dict_)\", \"# То же самое со словарями.\\ndef func(*, c, d):\\n    print(c, d)\\n\\ndict_ = {'c': 5, 'd': 7, 'e': 10}\\n\\nfunc(**dict_)\", \"# Обратите внимание, что словари можно распаковывать не только если аргументы\\n# с соответствующими именами заданы как передаваемые только по значению. \\ndef func(c, d):\\n    print(c, d)\\n\\ndict_ = {'c': 5, 'd': 7}\\n\\nfunc(**dict_)\", \"# В отличие от задания функции, * и ** при вызове может встречаться несколько\\n# раз.\\ndef func(*args, **kwargs):  # функция, которая принимает любой набор аргументов\\n  print(args, kwargs)\\n\\niterable_1 = (1, )\\niterable_2 = [3, 4]\\ndict_1 = {'c': 5, 'd': 7}\\ndict_2 = {'e': 5, 'f': 7}\\n\\nfunc(*iterable_1, *iterable_2, **dict_1, **dict_2)\\n# Главное, чтобы вначале передавались позиционные аргументы, а потом аргументы,\\n# передаваемые по имени. Т.е. Сначала идут все распаковки *, а потом все **. \", \"# Не забываем, что строка - тоже итерируемый объект :) \\ndef func(*args):  # функция, которая принимает любой набор аргументов\\n    print(args)\\n\\nstr_ = 'string'\\nfunc(*str_)\", '# попробуем передать в функцию объекты разных типов.\\n\\ndef func(a):\\n    print(a, type(a))\\n\\n# Передадим некоторые стандартные типы данных.\\nfunc(1)  # целое число\\nfunc([1, 2])  # список\\nfunc({3, 4})  # множество', \"# Пример посложнее - передаем функцию в функцию.\\n\\ndef func(a):\\n    print(a, type(a))\\n\\ndef fun_func():\\n    print('fun')\\n\\nfunc(fun_func)\", \"# Мы можем передать как фнукцию, так и результат ее работы.\\n# Пример посложнее - передаем функцию в функцию.\\ndef func(a):\\n  print(a, type(a))\\n\\ndef fun_func():\\n  print('fun')\\n\\nfunc(fun_func())\\n# Интерпретируйте полученный результат.\", '# Неизменяемое значение по умолчанию.\\ndef func(a=1):\\n    a += 1\\n    return a\\n\\nprint(func())\\nprint(func())', '# Изменяемое значение по умолчанию.\\ndef func(a=[]):\\n    a.append(1)\\n    return a\\n\\nprint(func())\\nprint(func())\\nprint(func())', \"# Стандартный способ обработки таких ситуаций(и заодно пример boilerplate кода).\\n\\n# Изменяемое значение по умолчанию.\\ndef func(a=None):\\n    if a is None:\\n        a = []\\n    a += [1]\\n    return(a)\\n\\nprint(func())\\nprint(func())\\nprint(func())\\n\\n# Проверка 'if' a будет в большинстве случаев недостаточна, потому что нам может\\n# быть передан пустой список, и наш код в таком случае его перезапишет другим.\", 'def func(a=()):\\n    a += (1)\\n    return a\\n\\nprint(func())\\nprint(func())\\nprint(func())', 'def func(a=()):\\n    a += (1,)\\n    return a\\n\\nprint(func())\\nprint(func())\\nprint(func())', 'def func(a=[]):\\n    a = a.copy()\\n    a.append(1)\\n    return a\\n\\nprint(func())\\nprint(func())\\nprint(func())', '# Пример работы агрегирующих функции. \\niterable = {1, 2, 3, 4, 1, 2, 3, 4}\\n\\nprint(sum(iterable))  # интерпретируйте пожалуйста резулльтат выполнения\\nprint(max(iterable))\\nprint(min(iterable))', '# Пример работы агрегирующих функции. \\niterable = {1, 2, 3, 4, 1, 2, 3, 4}\\n\\nprint(sum(iterable))  # интерпретируйте пожалуйста резулльтат выполнения\\nprint(max(iterable))\\nprint(min(iterable))\\n\\nprint(sum(i for i in range(10)))', '# Важно, чтобы все элементы итерируемого объекта были сравнимы!\\ndef func(): \\n  pass\\n\\na = [func, 3]\\nprint(max(a))', \"# Пример функции преобразования типа и type.\\na = tuple('string')\\nprint(type(a), a)\", '# Решение с помощью any.\\ndef func(iterable):\\n  \"\"\"Checks if we have dict with non-empty \"key\": value pair.\\n\\n  Args:\\n    itr = [{}, {}, ...] - list of dicts\\n  Return:\\n    True/False\\n  \"\"\"\\n  return any(dct.get(\"key\") for dct in iterable)\\n\\ndct1 = [{1: 1}, {\"key\": None}, ]  # False\\nprint(func(dct1))', '# Вызов той же функции но с ожидаемым ответом True.\\ndef func(iterable):\\n  \"\"\"Checks if we have dict with non-empty \"key\": value pair.\\n\\n  Args:\\n    itr = [{}, {}, ...] - list of dicts\\n  Return:\\n    True/False\\n  \"\"\"\\n  return any([dct.get(\"key\") for dct in iterable])\\n\\ndct1 = [{1:1}, {\"key\": 1},]\\nprint(func(dct1))', '\"\"\"\\nПереформулируем задачу. \\nПроверить, содержат ли все словари в переданном итерируемом объекте пары\\nключ-значение с непустым(истинным) значением \\n\"\"\"\\n\\ndef func(iterable):\\n  return all(dct.get(\"key\") for dct in iterable)\\n\\ndct = [{1:1},{\"key\": 1},]\\nprint(func(dct))', \"# Важный момент, напрямую следующий из определения.\\nprint('all:', all([]))\\nprint('any:', any([]))\\n# Из этого следует, что изменение формулировки в определении критично.\", '# Простейшая рекурсивная функция - считает факториал. \\n#\\xa05! = 5 * 4 * 3 * 2 * 1\\ndef factorial(n):\\n  if n != 1:\\n    return n * factorial(n-1) # 3 * factorial(2) -> 3 * 2 * factorial(1) -> 3 * 2 * 1\\n  else:  # условия выхода из рекурсии\\n    return 1\\n\\nprint(factorial(4))', '# Простейшая рекурсивная функция - считает факториал. \\n#\\xa05! = 5 * 4 * 3 * 2 * 1\\ndef factorial(n):\\n  if n != 1:\\n    return n * factorial(n-1) # 3 * factorial(2) -> 3 * 2 * factorial(1) -> 3 * 2 * 1\\n  else:  # условия выхода из рекурсии\\n    return 1\\n\\nprint(factorial(10))', '# Простейшая рекурсивная функция - считает факториал. \\n#\\xa05! = 5 * 4 * 3 * 2 * 1\\ndef factorial(n):\\n  if n != 1:\\n    return n * factorial(n-1) # 3 * factorial(2) -> 3 * 2 * factorial(1) -> 3 * 2 * 1\\n  else:  # условия выхода из рекурсии\\n    return 1\\n\\nprint(factorial(100))', '# Простейшая рекурсивная функция - считает факториал. \\n#\\xa05! = 5 * 4 * 3 * 2 * 1\\ndef factorial(n):\\n  if n != 1:\\n    return n * factorial(n-1) # 3 * factorial(2) -> 3 * 2 * factorial(1) -> 3 * 2 * 1\\n  else:  # условия выхода из рекурсии\\n    return 1\\n\\nprint(factorial(1000))', '# Простейшая рекурсивная функция - считает факториал. \\n#\\xa05! = 5 * 4 * 3 * 2 * 1\\ndef factorial_loop(n):\\n    result = 1\\n    for i in range(1, n + 1):\\n       result *= i\\n    return result\\n\\nfactorial_loop(5)', '# Простейшая рекурсивная функция - считает факториал. \\n#\\xa05! = 5 * 4 * 3 * 2 * 1\\ndef factorial(n):\\n  if n != 1:\\n    return n * factorial(n-1) # 3 * factorial(2) -> 3 * 2 * factorial(1) -> 3 * 2 * 1\\n  else:  # условия выхода из рекурсии\\n    return 1\\n\\nprint(factorial(5))', '# Простейшая рекурсивная функция - считает факториал. \\n#\\xa05! = 5 * 4 * 3 * 2 * 1\\ndef factorial_loop(n):\\n    result = 1\\n    for i in range(1, n + 1):\\n       result *= i\\n    return result\\n\\nfactorial_loop(5)', \"# Расчет n-го числа Фибоначчи без использования рекурсии (начиная с второго)\\n# Замерим время исполнения программы.\\n# 1, 1, 2, 3, 5, 8, 13\\ndef fib(n):\\n  a1 = a2 = 1\\n  for el in range(3, n+1):\\n    a1, a2 = a2, a1 + a2\\n  return a2\\n\\nimport time\\nstart = time.time()\\nprint(fib(100))\\nprint('Execution time:', time.time() - start)\", \"# А сейчас то же самое но для рекурсии написанной в лоб.\\n\\ndef fib(n):\\n  if n in (1, 2):  # Условие выхода из рекурсии. Скобки здесь не обязательны\\n    return 1\\n  else:\\n    return fib(n-1) + fib(n-2)\\n\\nimport time\\nstart = time.time()\\nprint(fib(30))  # Обратите внимание, что здесь число в 3 раза меньше! \\nprint('Execution time:', time.time() - start)\", \"# А сейчас то же самое но для рекурсии написанной в лоб.\\n\\ndef fib(n):\\n  if n in (1, 2):  # Условие выхода из рекурсии. Скобки здесь не обязательны\\n    return 1\\n  else:\\n    return fib(n-1) + fib(n-2)\\n\\nimport time\\nstart = time.time()\\nprint(fib(100))  # Обратите внимание, что здесь число в 3 раза меньше! \\nprint('Execution time:', time.time() - start)\", \"# Реализуем кэширование чтобы избежать ситуации из прошлого примера.\\ncache = {}\\ndef fib(n):\\n  if n in (1, 2):\\n    return 1\\n  else:\\n    if not cache.get(n-1):\\n      cache[n-1] = fib(n-1)\\n    if not cache.get(n-2):\\n      cache[n-2] = fib(n-2)\\n    return cache.get(n-1) + cache.get(n-2)\\n\\nimport time\\nstart = time.time()\\nprint(fib(100))\\nprint('Execution time:', time.time() - start)\", '# Реализуем кэширование чтобы избежать ситуации из прошлого примера.\\ncache = {}\\ndef fib(n):\\n  if n in (1, 2):\\n    return 1\\n  else:\\n    if not cache.get(n-1):\\n      cache[n-1] = fib(n-1)\\n    if not cache.get(n-2):\\n      cache[n-2] = fib(n-2)\\n    return cache.get(n-1) + cache.get(n-2)\\n\\nimport time\\nstart = time.time()\\nprint(fib(100))\\nprint(\\'Execution time:\\', time.time() - start)\\nprint(\"Cache size:\", len(cache))', \"# Стоит обратить внимание на следующее:\\n# 1. Мы не можем использовать, например, setdefault к нашему кэшу, потому что\\n#    попадем в похожую ситуацию - ключ в словарь будет добавляться очень поздно. \\n# 2. На одном запуске сложно оценить производительность первого и второго\\n#    решения, но проведя тест например на 10000 зпусков можно получить более-менее\\n#    релевантные результаты для оценки производительности. \\n# 3. Рекурсия имеет максимальную глубину, обусловленную стэком вызовов.\\n#    например, на данный момент(декабрь 2020) посчитать 1000 число мы не можем.\\n# 4. Производительность зависит от реализации интерпретатора, и результаты могут\\n#    разительно отличаться в двух разных реализациях интерпретатора (и даже в \\n#    разных его версиях).\\nimport time\\n\\ndef fib_for(n):\\n  a1 = a2 = 1\\n  for el in range(3, n+1):\\n    a1, a2 = a2, a1 + a2\\n  return a2\\n\\nstart = time.time()\\nfor _ in range(10000):\\n  fib_for(100)\\nprint('Execution time (for loop):', time.time() - start)\\n\\n\\ncache = {}\\ndef fib_recur(n):\\n  if n in (1, 2):\\n    return 1\\n  else:\\n    if not cache.get(n-1):\\n      cache[n-1] = fib(n-1)\\n    if not cache.get(n-2):\\n      cache[n-2] = fib(n-2)\\n    return cache.get(n-1) + cache.get(n-2)\\n\\nstart = time.time()\\nfor _ in range(10000):\\n  fib_recur(100)\\nprint('Execution time (recursive):', time.time() - start)\", '# Зададим простейшую лямбда-функцию.\\npower_2 = lambda x: x ** 2\\nprint(power_2(5))', '# Зададим простейшую лямбда-функцию.\\npower_2 = lambda x: x ** 2\\nprint(power_2(5))\\n\\nprint(power_2.__name__)', '# Зададим простейшую лямбда-функцию.\\npower_2 = lambda x: x ** 2\\nprint(power_2(5))', '# Лямбда функция может быть задана и сразу вызвана. Кроме того ее необязательно\\n# присваивать какой бы то ни было переменной.\\nprint((lambda x: x+1)(5))', '# Это считается плохой практикой, но в Python можно записывать несколько\\n# инструкций на одной строке, используя ;.\\nprint(1); print(2)', '# Но с лямбдой такого фокуса не выйдет.\\nl = (lambda x: print(1); print(2))\\nprint(l(5))', '# Немного более сложное выражение в лямбде.\\nl = lambda a: [element + 1 for element in a]\\nprint(l([2,3]))', '# Лямбда всегда возвращает результат выполнения body.\\nl = lambda a: print(a)\\nprint(l(a=2))', '# Самый простой способ сделать более сложные вычисления в лямбде - поместить в \\n# тело функцию. Однако возникает вопрос зачем нам тогда лямбда.\\ndef func(a, b):\\n    print(\"don\\'t do in this manner\")\\n    print(\"don\\'t do in this manner\")\\n    print(\"don\\'t do in this manner\")\\n    print(\"don\\'t do in this manner\")\\n\\nl = lambda a, b: func(a, b)\\nl(2,3)', '# Фактически, одно из главных отличий лямбды в Python от обычной функции.\\nl = lambda arg: arg + 1\\n\\ndef func(): \\n  pass\\n\\nprint(l.__name__)\\nprint(func.__name__)', '# Кстати функция сохраняет свое имя.\\ndef func(): \\n  pass\\n\\nb = func\\nfunc = 1\\nprint(b.__name__)', '# Кстати функция сохраняет свое имя.\\ndef func(): \\n  pass\\n\\nb = func\\nfunc = 1\\nprint(b.__name__)', '# Так как лямбда фактически таже самая функция, в ней могут присутствовать все\\n# доступные в функции типы аргументов.\\nl = lambda a, b=0, *args, c=7, **kwargs: print(a, b, args, c, kwargs)\\nl(1, 2, 3, 4 )', '# Рекурсия на лямбде. Она не совсем честная, потому что мы фактически именуем\\n# нашу лямбду и используем это имя.\\nfactorial = lambda a: a * factorial(a-1) if a>1 else 1\\nprint(factorial(4))', '# Есть возможность реализовать рекурсию и без этого трюка, но тут нужно\\n# использовать Y-комбинатор и все это выглядит очень плохо. Мое личное мнение - \\n# забейте. Но если очень любопытно: \\n# https://en.wikipedia.org/wiki/Fixed-point_combinator - теория.\\n# Попытка объяснения на русском https://habr.com/ru/post/50354/ (но без лямбд).\\n\\n# Сам комбинатор:\\nY = lambda g: ((lambda f: g(lambda *x: f(f) (*x))) ((lambda f: g(lambda *x: f(f)(*x)))))\\n\\n# Вычисление факториала рекурсивно с помощью комбинатора.\\nprint(Y(lambda f: (lambda num: num*f(num-1) if num else 1))(4))\\n\\n# Очевидно можно Y подставить в print и записать все в одну строку, но это\\n# будет вообще нечитаемо.', '# Функция, уменьшающая значение каждого элемента переданного аргумента на 1.\\nito = (1, 2, 3)\\ndec = lambda x: x-1\\nresult = map(dec, ito)\\nprint(result)  # обратите внимание, map возвращает итерируемый объект\\nprint(list(result))', '# Все то же самое, но изрядно сокращенное.\\nx = map(lambda x: x-1, [1, 2, 3])\\nprint(list(x))', '# Результат map можно применять, как и любой итерируемый объект, для любых \\n# наших целей. \\nx = map(lambda x: x-1, [1, 2, 3])\\nprint({el:el+1 for el in x})', '# Результат map можно применять, как и любой итерируемый объект, для любых \\n# наших целей. \\nx = map(lambda x: x-1, [1, 2, 3])\\nprint({el: el+1 for el in x})\\n\\nprint({el: el+1 for el in x})', '# Результат map можно применять, как и любой итерируемый объект, для любых \\n# наших целей. \\nx = map(lambda x: x-1, [1, 2, 3])\\nprint({el: el+1 for el in x})', '# Лямбды часто применяются в map, filter, reduce, однако можно применять и\\n# обычные функции.\\ndef dec(x):\\n  # some operations \\n  return x-1\\n\\nito = [1]\\nx = map(dec, ito)\\n\\nprint(list(x))', \"# Применение функции filter.\\nresult = filter(lambda x: x if x<0 else None, [-1, 2, 3])\\nresult = list(result)\\nprint('len:', len(result))\\nprint(result)\", '# Обратите внимание, filter также возвращает специальный итерируемый объект.\\nx = filter(lambda x: x<0, [-1, 2, 3])\\nprint(x)\\nprint(list(x))', \"# И еще один важный момент: по результату filter и map можно пройти только \\n# один раз.\\na = map(lambda x: x+1, [1,2,3])\\nx = filter(lambda x: x<0, [-1, 2, 3])\\n\\nprint('Map:')\\nprint(list(a))\\nprint(list(a))\\n\\nprint('Filter:')\\nprint(list(x))\\nprint(list(x))\", '# Альтернатива filter - те же самые генераторы.\\n[x for x in iterable if f(x)]', '# Пример использования reduce.\\nfrom functools import reduce\\npows = reduce(lambda x, y: x ** y, [1, 2, 3])\\nprint(pows)', '# Чуть более говорящий пример.\\nfrom functools import reduce\\npows = reduce((lambda x, y: x ** y), [2, 2, 3])\\nprint(pows)', '# Чуть более говорящий пример.\\nfrom functools import reduce\\npows = reduce((lambda x, y: x ** y), [2, 2, 3])\\nprint(pows)\\n\\n\\nsum = reduce((lambda x, y: x + y), [2, 2, 3])\\nprint(sum)', '# Чуть более говорящий пример.\\nfrom functools import reduce\\npows = reduce((lambda x, y: x ** y), [2, 2, 3])\\nprint(pows)\\n\\n\\nsum = reduce((lambda x, y: x + y), [2, 2, 3])\\nprint(sum)\\n\\nmul = reduce((lambda x, y: x * y), [2, 2, 3])\\nprint(mul)', '# На уровне модуля globals и locals будут совпадать - т.к. определенные в\\n# модуле переменные являются для него локальными, но также и глобальны - могут \\n# быть использованы в любом месте модуля.\\n\\n# Большое количество глобальных переменных в globals является следствием\\n# работы jupyter notebook. \\nglobal_var = 10\\nprint(globals())\\nprint(locals())', '# В функции локальная область видимости пустая если туда ничего не передается\\n# и не опреднеляется внутри.\\ndef func():\\n  print(globals())\\n  print(locals())\\n\\nfunc()'], '_oh': {48: 120, 50: 120}, '_dh': [PosixPath('/Users/lavoncyk/Projects/python-courses-2025')], 'In': ['', '# Если в функции не задано возвращаемое значение, она возвращает None .\\ndef add(a, b):\\n    result = a + b\\n    print(result)\\n    return result\\n\\n# Вызываем функцию.\\nresult = add(1, 2.5)\\nprint(result)', '# Если в функции не задано возвращаемое значение, она возвращает None .\\ndef add(a, b):\\n    result = a + b\\n    return result\\n\\n# Вызываем функцию.\\nresult = add(1, 2.5)\\nprint(result)', '# Функция, у которой при задании есть все типы аргументов.\\ndef very_big_func(a, b=10, *args, c, d=1, **kwargs):\\n    print(a, b, args, c, d, kwargs)\\n\\nvery_big_func(1, 22, 3, e=7, c=5)\\n# 3 идет в args, е - в kwargs.', \"# Функция, у которой при задании есть все типы аргументов.\\ndef very_big_func(a, b=10, *args, c, d=1, **kwargs):\\n    print(a, b, args, c, d, kwargs)\\n\\nvery_big_func(1, 22, 3, e=7, c=5, f='6', g=10)\\n# 3 идет в args, е - в kwargs.\", \"# Функция, у которой при задании есть все типы аргументов.\\ndef very_big_func(a, b=10, *args, c, d=1, **kwargs):\\n    print(a, b, args, c, d, kwargs)\\n\\nvery_big_func(1, 22, 3, e=7, c=5, d=5, f='6', g=10)\\n# 3 идет в args, е - в kwargs.\", \"# Функция, у которой при задании есть все типы аргументов.\\ndef very_big_func(a, b=10, *args, c, d=1, **kwargs):\\n    print(a, b, args, c, d, kwargs)\\n\\nvery_big_func(1, 22, 3, 10, 11, 12, 13, 14 e=7, c=5, d=5, f='6', g=10)\\n# 3 идет в args, е - в kwargs.\", \"# Функция, у которой при задании есть все типы аргументов.\\ndef very_big_func(a, b=10, *args, c, d=1, **kwargs):\\n    print(a, b, args, c, d, kwargs)\\n\\nvery_big_func(1, 22, 3, 10, 11, 12, 13, 14, e=7, c=5, d=5, f='6', g=10)\\n# 3 идет в args, е - в kwargs.\", \"# Функция, у которой при задании есть все типы аргументов.\\ndef very_big_func(a, b=10, *args, c, d=1, **kwargs):\\n    print(a, b, args, c, d, kwargs)\\n\\nvery_big_func(a=1, b=22, e=7, c=5, d=5, f='6', g=10)\\n# 3 идет в args, е - в kwargs.\", '# Порядок задания параметров имеет значение. \\n# В случае его нарушения, будет ошибка.\\n\\n# В данном случае позиционный аргумент со значением по умолчанию идет раньше\\n# позиционного аргумента.\\ndef func_with_error(a=10, b):\\n    pass\\n\\nfunc_with_error(1, 1)', '# В случае, если у нас есть позиционные аргументы со значением по умолчанию, \\n# и есть *args, следует быть осторожным и не передавать позиционный аргумент \\n# по имени.\\ndef very_big_func(a, b, *args, c, d=1, **kwargs):\\n    print(a, b, args, c, d, kwargs)\\n\\nvery_big_func(1, 2, 3, b=8, c=5, e=7)\\n\\n# Идея присвоения значений аргументов в Python(и, соответственно, суть ошибки)\\n# Заключается в том, что сначала все, что передано по позиции, присваивается\\n# поочередно всем позиционным аргументам, после чего оставшиеся заворачиваются в \\n# args. В данном случае мы присвоили значения и a, и b, положили 3 в args, \\n# и после этого получаем b, переданный уже по имени.\\n\\n# Очевидно, такого эффекта не будет для аргументов, передаваемых только\\n# по имени.', '# Задание аргументов, передаваемых только по позиции, в случае, если нет *args.\\ndef func(a, *, c):\\n  print(a, c)\\n\\nfunc(3, c=10)\\n\\n# В случае если мы не хотим принимать неограниченное количество позиционных\\n# аргументов, мы можем просто указать оператор *, и все переменные, которые \\n# будут стоять после нее, будут передаваемыми только по имени.', 'def only_named_args(*, a, b):\\n    print(a, b)\\n\\nonly_named_args(a=1, b=2)', 'def only_positional_args(a, b, /):\\n    print(a, b)\\n\\n\\nonly_positional_args(1, 2)', 'def only_positional_args(a, b, /):\\n    print(a, b)\\n\\n\\nonly_positional_args(1, b=2)', \"# Распаковка итерируемых объектов и словарей при вызове функций. \\ndef func(a, b, *, c, d):\\n    print(a, b, c, d)\\n\\niterable = [1, 2]\\ndict_ = {'c': 5, 'd': 7}\\n\\nfunc(*iterable, **dict_) # func(1, 2, c=5, d=7)\", '# Если не указан *args, в распаковываемом объекте количество объектов должно\\n# быть равно количеству аргументов функций. Иначе - ошибка.\\ndef func(a, b):\\n    print(a, b)\\n\\niterable = [1, 2, 3]\\nfunc(*iterable)', \"# То же самое со словарями.\\ndef func(*, c, d):\\n    print(c, d)\\n\\ndict_ = {'c': 5, 'd': 7, 'e': 10}\\n\\nfunc(**dict_)\", '# Если не указан *args, в распаковываемом объекте количество объектов должно\\n# быть равно количеству аргументов функций. Иначе - ошибка.\\ndef func(a, b, *_):\\n    print(a, b)\\n\\niterable = [1, 2, 3]\\nfunc(*iterable)', '# Если не указан *args, в распаковываемом объекте количество объектов должно\\n# быть равно количеству аргументов функций. Иначе - ошибка.\\ndef func(a, b, *_):\\n    print(a, b, _)\\n\\niterable = [1, 2, 3]\\nfunc(*iterable)', '# Если не указан *args, в распаковываемом объекте количество объектов должно\\n# быть равно количеству аргументов функций. Иначе - ошибка.\\ndef func(a, b):\\n    print(a, b)\\n\\niterable = [1, 2, 3]\\nfunc(*iterable)', \"# То же самое со словарями.\\ndef func(*, c, d, **_):\\n    print(c, d)\\n\\ndict_ = {'c': 5, 'd': 7, 'e': 10}\\n\\nfunc(**dict_)\", \"# То же самое со словарями.\\ndef func(*, c, d, **_):\\n    print(c, d, _)\\n\\ndict_ = {'c': 5, 'd': 7, 'e': 10}\\n\\nfunc(**dict_)\", \"# То же самое со словарями.\\ndef func(*, c, d):\\n    print(c, d)\\n\\ndict_ = {'c': 5, 'd': 7, 'e': 10}\\n\\nfunc(**dict_)\", \"# Обратите внимание, что словари можно распаковывать не только если аргументы\\n# с соответствующими именами заданы как передаваемые только по значению. \\ndef func(c, d):\\n    print(c, d)\\n\\ndict_ = {'c': 5, 'd': 7}\\n\\nfunc(**dict_)\", \"# В отличие от задания функции, * и ** при вызове может встречаться несколько\\n# раз.\\ndef func(*args, **kwargs):  # функция, которая принимает любой набор аргументов\\n  print(args, kwargs)\\n\\niterable_1 = (1, )\\niterable_2 = [3, 4]\\ndict_1 = {'c': 5, 'd': 7}\\ndict_2 = {'e': 5, 'f': 7}\\n\\nfunc(*iterable_1, *iterable_2, **dict_1, **dict_2)\\n# Главное, чтобы вначале передавались позиционные аргументы, а потом аргументы,\\n# передаваемые по имени. Т.е. Сначала идут все распаковки *, а потом все **. \", \"# Не забываем, что строка - тоже итерируемый объект :) \\ndef func(*args):  # функция, которая принимает любой набор аргументов\\n    print(args)\\n\\nstr_ = 'string'\\nfunc(*str_)\", '# попробуем передать в функцию объекты разных типов.\\n\\ndef func(a):\\n    print(a, type(a))\\n\\n# Передадим некоторые стандартные типы данных.\\nfunc(1)  # целое число\\nfunc([1, 2])  # список\\nfunc({3, 4})  # множество', \"# Пример посложнее - передаем функцию в функцию.\\n\\ndef func(a):\\n    print(a, type(a))\\n\\ndef fun_func():\\n    print('fun')\\n\\nfunc(fun_func)\", \"# Мы можем передать как фнукцию, так и результат ее работы.\\n# Пример посложнее - передаем функцию в функцию.\\ndef func(a):\\n  print(a, type(a))\\n\\ndef fun_func():\\n  print('fun')\\n\\nfunc(fun_func())\\n# Интерпретируйте полученный результат.\", '# Неизменяемое значение по умолчанию.\\ndef func(a=1):\\n    a += 1\\n    return a\\n\\nprint(func())\\nprint(func())', '# Изменяемое значение по умолчанию.\\ndef func(a=[]):\\n    a.append(1)\\n    return a\\n\\nprint(func())\\nprint(func())\\nprint(func())', \"# Стандартный способ обработки таких ситуаций(и заодно пример boilerplate кода).\\n\\n# Изменяемое значение по умолчанию.\\ndef func(a=None):\\n    if a is None:\\n        a = []\\n    a += [1]\\n    return(a)\\n\\nprint(func())\\nprint(func())\\nprint(func())\\n\\n# Проверка 'if' a будет в большинстве случаев недостаточна, потому что нам может\\n# быть передан пустой список, и наш код в таком случае его перезапишет другим.\", 'def func(a=()):\\n    a += (1)\\n    return a\\n\\nprint(func())\\nprint(func())\\nprint(func())', 'def func(a=()):\\n    a += (1,)\\n    return a\\n\\nprint(func())\\nprint(func())\\nprint(func())', 'def func(a=[]):\\n    a = a.copy()\\n    a.append(1)\\n    return a\\n\\nprint(func())\\nprint(func())\\nprint(func())', '# Пример работы агрегирующих функции. \\niterable = {1, 2, 3, 4, 1, 2, 3, 4}\\n\\nprint(sum(iterable))  # интерпретируйте пожалуйста резулльтат выполнения\\nprint(max(iterable))\\nprint(min(iterable))', '# Пример работы агрегирующих функции. \\niterable = {1, 2, 3, 4, 1, 2, 3, 4}\\n\\nprint(sum(iterable))  # интерпретируйте пожалуйста резулльтат выполнения\\nprint(max(iterable))\\nprint(min(iterable))\\n\\nprint(sum(i for i in range(10)))', '# Важно, чтобы все элементы итерируемого объекта были сравнимы!\\ndef func(): \\n  pass\\n\\na = [func, 3]\\nprint(max(a))', \"# Пример функции преобразования типа и type.\\na = tuple('string')\\nprint(type(a), a)\", '# Решение с помощью any.\\ndef func(iterable):\\n  \"\"\"Checks if we have dict with non-empty \"key\": value pair.\\n\\n  Args:\\n    itr = [{}, {}, ...] - list of dicts\\n  Return:\\n    True/False\\n  \"\"\"\\n  return any(dct.get(\"key\") for dct in iterable)\\n\\ndct1 = [{1: 1}, {\"key\": None}, ]  # False\\nprint(func(dct1))', '# Вызов той же функции но с ожидаемым ответом True.\\ndef func(iterable):\\n  \"\"\"Checks if we have dict with non-empty \"key\": value pair.\\n\\n  Args:\\n    itr = [{}, {}, ...] - list of dicts\\n  Return:\\n    True/False\\n  \"\"\"\\n  return any([dct.get(\"key\") for dct in iterable])\\n\\ndct1 = [{1:1}, {\"key\": 1},]\\nprint(func(dct1))', '\"\"\"\\nПереформулируем задачу. \\nПроверить, содержат ли все словари в переданном итерируемом объекте пары\\nключ-значение с непустым(истинным) значением \\n\"\"\"\\n\\ndef func(iterable):\\n  return all(dct.get(\"key\") for dct in iterable)\\n\\ndct = [{1:1},{\"key\": 1},]\\nprint(func(dct))', \"# Важный момент, напрямую следующий из определения.\\nprint('all:', all([]))\\nprint('any:', any([]))\\n# Из этого следует, что изменение формулировки в определении критично.\", '# Простейшая рекурсивная функция - считает факториал. \\n#\\xa05! = 5 * 4 * 3 * 2 * 1\\ndef factorial(n):\\n  if n != 1:\\n    return n * factorial(n-1) # 3 * factorial(2) -> 3 * 2 * factorial(1) -> 3 * 2 * 1\\n  else:  # условия выхода из рекурсии\\n    return 1\\n\\nprint(factorial(4))', '# Простейшая рекурсивная функция - считает факториал. \\n#\\xa05! = 5 * 4 * 3 * 2 * 1\\ndef factorial(n):\\n  if n != 1:\\n    return n * factorial(n-1) # 3 * factorial(2) -> 3 * 2 * factorial(1) -> 3 * 2 * 1\\n  else:  # условия выхода из рекурсии\\n    return 1\\n\\nprint(factorial(10))', '# Простейшая рекурсивная функция - считает факториал. \\n#\\xa05! = 5 * 4 * 3 * 2 * 1\\ndef factorial(n):\\n  if n != 1:\\n    return n * factorial(n-1) # 3 * factorial(2) -> 3 * 2 * factorial(1) -> 3 * 2 * 1\\n  else:  # условия выхода из рекурсии\\n    return 1\\n\\nprint(factorial(100))', '# Простейшая рекурсивная функция - считает факториал. \\n#\\xa05! = 5 * 4 * 3 * 2 * 1\\ndef factorial(n):\\n  if n != 1:\\n    return n * factorial(n-1) # 3 * factorial(2) -> 3 * 2 * factorial(1) -> 3 * 2 * 1\\n  else:  # условия выхода из рекурсии\\n    return 1\\n\\nprint(factorial(1000))', '# Простейшая рекурсивная функция - считает факториал. \\n#\\xa05! = 5 * 4 * 3 * 2 * 1\\ndef factorial_loop(n):\\n    result = 1\\n    for i in range(1, n + 1):\\n       result *= i\\n    return result\\n\\nfactorial_loop(5)', '# Простейшая рекурсивная функция - считает факториал. \\n#\\xa05! = 5 * 4 * 3 * 2 * 1\\ndef factorial(n):\\n  if n != 1:\\n    return n * factorial(n-1) # 3 * factorial(2) -> 3 * 2 * factorial(1) -> 3 * 2 * 1\\n  else:  # условия выхода из рекурсии\\n    return 1\\n\\nprint(factorial(5))', '# Простейшая рекурсивная функция - считает факториал. \\n#\\xa05! = 5 * 4 * 3 * 2 * 1\\ndef factorial_loop(n):\\n    result = 1\\n    for i in range(1, n + 1):\\n       result *= i\\n    return result\\n\\nfactorial_loop(5)', \"# Расчет n-го числа Фибоначчи без использования рекурсии (начиная с второго)\\n# Замерим время исполнения программы.\\n# 1, 1, 2, 3, 5, 8, 13\\ndef fib(n):\\n  a1 = a2 = 1\\n  for el in range(3, n+1):\\n    a1, a2 = a2, a1 + a2\\n  return a2\\n\\nimport time\\nstart = time.time()\\nprint(fib(100))\\nprint('Execution time:', time.time() - start)\", \"# А сейчас то же самое но для рекурсии написанной в лоб.\\n\\ndef fib(n):\\n  if n in (1, 2):  # Условие выхода из рекурсии. Скобки здесь не обязательны\\n    return 1\\n  else:\\n    return fib(n-1) + fib(n-2)\\n\\nimport time\\nstart = time.time()\\nprint(fib(30))  # Обратите внимание, что здесь число в 3 раза меньше! \\nprint('Execution time:', time.time() - start)\", \"# А сейчас то же самое но для рекурсии написанной в лоб.\\n\\ndef fib(n):\\n  if n in (1, 2):  # Условие выхода из рекурсии. Скобки здесь не обязательны\\n    return 1\\n  else:\\n    return fib(n-1) + fib(n-2)\\n\\nimport time\\nstart = time.time()\\nprint(fib(100))  # Обратите внимание, что здесь число в 3 раза меньше! \\nprint('Execution time:', time.time() - start)\", \"# Реализуем кэширование чтобы избежать ситуации из прошлого примера.\\ncache = {}\\ndef fib(n):\\n  if n in (1, 2):\\n    return 1\\n  else:\\n    if not cache.get(n-1):\\n      cache[n-1] = fib(n-1)\\n    if not cache.get(n-2):\\n      cache[n-2] = fib(n-2)\\n    return cache.get(n-1) + cache.get(n-2)\\n\\nimport time\\nstart = time.time()\\nprint(fib(100))\\nprint('Execution time:', time.time() - start)\", '# Реализуем кэширование чтобы избежать ситуации из прошлого примера.\\ncache = {}\\ndef fib(n):\\n  if n in (1, 2):\\n    return 1\\n  else:\\n    if not cache.get(n-1):\\n      cache[n-1] = fib(n-1)\\n    if not cache.get(n-2):\\n      cache[n-2] = fib(n-2)\\n    return cache.get(n-1) + cache.get(n-2)\\n\\nimport time\\nstart = time.time()\\nprint(fib(100))\\nprint(\\'Execution time:\\', time.time() - start)\\nprint(\"Cache size:\", len(cache))', \"# Стоит обратить внимание на следующее:\\n# 1. Мы не можем использовать, например, setdefault к нашему кэшу, потому что\\n#    попадем в похожую ситуацию - ключ в словарь будет добавляться очень поздно. \\n# 2. На одном запуске сложно оценить производительность первого и второго\\n#    решения, но проведя тест например на 10000 зпусков можно получить более-менее\\n#    релевантные результаты для оценки производительности. \\n# 3. Рекурсия имеет максимальную глубину, обусловленную стэком вызовов.\\n#    например, на данный момент(декабрь 2020) посчитать 1000 число мы не можем.\\n# 4. Производительность зависит от реализации интерпретатора, и результаты могут\\n#    разительно отличаться в двух разных реализациях интерпретатора (и даже в \\n#    разных его версиях).\\nimport time\\n\\ndef fib_for(n):\\n  a1 = a2 = 1\\n  for el in range(3, n+1):\\n    a1, a2 = a2, a1 + a2\\n  return a2\\n\\nstart = time.time()\\nfor _ in range(10000):\\n  fib_for(100)\\nprint('Execution time (for loop):', time.time() - start)\\n\\n\\ncache = {}\\ndef fib_recur(n):\\n  if n in (1, 2):\\n    return 1\\n  else:\\n    if not cache.get(n-1):\\n      cache[n-1] = fib(n-1)\\n    if not cache.get(n-2):\\n      cache[n-2] = fib(n-2)\\n    return cache.get(n-1) + cache.get(n-2)\\n\\nstart = time.time()\\nfor _ in range(10000):\\n  fib_recur(100)\\nprint('Execution time (recursive):', time.time() - start)\", '# Зададим простейшую лямбда-функцию.\\npower_2 = lambda x: x ** 2\\nprint(power_2(5))', '# Зададим простейшую лямбда-функцию.\\npower_2 = lambda x: x ** 2\\nprint(power_2(5))\\n\\nprint(power_2.__name__)', '# Зададим простейшую лямбда-функцию.\\npower_2 = lambda x: x ** 2\\nprint(power_2(5))', '# Лямбда функция может быть задана и сразу вызвана. Кроме того ее необязательно\\n# присваивать какой бы то ни было переменной.\\nprint((lambda x: x+1)(5))', '# Это считается плохой практикой, но в Python можно записывать несколько\\n# инструкций на одной строке, используя ;.\\nprint(1); print(2)', '# Но с лямбдой такого фокуса не выйдет.\\nl = (lambda x: print(1); print(2))\\nprint(l(5))', '# Немного более сложное выражение в лямбде.\\nl = lambda a: [element + 1 for element in a]\\nprint(l([2,3]))', '# Лямбда всегда возвращает результат выполнения body.\\nl = lambda a: print(a)\\nprint(l(a=2))', '# Самый простой способ сделать более сложные вычисления в лямбде - поместить в \\n# тело функцию. Однако возникает вопрос зачем нам тогда лямбда.\\ndef func(a, b):\\n    print(\"don\\'t do in this manner\")\\n    print(\"don\\'t do in this manner\")\\n    print(\"don\\'t do in this manner\")\\n    print(\"don\\'t do in this manner\")\\n\\nl = lambda a, b: func(a, b)\\nl(2,3)', '# Фактически, одно из главных отличий лямбды в Python от обычной функции.\\nl = lambda arg: arg + 1\\n\\ndef func(): \\n  pass\\n\\nprint(l.__name__)\\nprint(func.__name__)', '# Кстати функция сохраняет свое имя.\\ndef func(): \\n  pass\\n\\nb = func\\nfunc = 1\\nprint(b.__name__)', '# Кстати функция сохраняет свое имя.\\ndef func(): \\n  pass\\n\\nb = func\\nfunc = 1\\nprint(b.__name__)', '# Так как лямбда фактически таже самая функция, в ней могут присутствовать все\\n# доступные в функции типы аргументов.\\nl = lambda a, b=0, *args, c=7, **kwargs: print(a, b, args, c, kwargs)\\nl(1, 2, 3, 4 )', '# Рекурсия на лямбде. Она не совсем честная, потому что мы фактически именуем\\n# нашу лямбду и используем это имя.\\nfactorial = lambda a: a * factorial(a-1) if a>1 else 1\\nprint(factorial(4))', '# Есть возможность реализовать рекурсию и без этого трюка, но тут нужно\\n# использовать Y-комбинатор и все это выглядит очень плохо. Мое личное мнение - \\n# забейте. Но если очень любопытно: \\n# https://en.wikipedia.org/wiki/Fixed-point_combinator - теория.\\n# Попытка объяснения на русском https://habr.com/ru/post/50354/ (но без лямбд).\\n\\n# Сам комбинатор:\\nY = lambda g: ((lambda f: g(lambda *x: f(f) (*x))) ((lambda f: g(lambda *x: f(f)(*x)))))\\n\\n# Вычисление факториала рекурсивно с помощью комбинатора.\\nprint(Y(lambda f: (lambda num: num*f(num-1) if num else 1))(4))\\n\\n# Очевидно можно Y подставить в print и записать все в одну строку, но это\\n# будет вообще нечитаемо.', '# Функция, уменьшающая значение каждого элемента переданного аргумента на 1.\\nito = (1, 2, 3)\\ndec = lambda x: x-1\\nresult = map(dec, ito)\\nprint(result)  # обратите внимание, map возвращает итерируемый объект\\nprint(list(result))', '# Все то же самое, но изрядно сокращенное.\\nx = map(lambda x: x-1, [1, 2, 3])\\nprint(list(x))', '# Результат map можно применять, как и любой итерируемый объект, для любых \\n# наших целей. \\nx = map(lambda x: x-1, [1, 2, 3])\\nprint({el:el+1 for el in x})', '# Результат map можно применять, как и любой итерируемый объект, для любых \\n# наших целей. \\nx = map(lambda x: x-1, [1, 2, 3])\\nprint({el: el+1 for el in x})\\n\\nprint({el: el+1 for el in x})', '# Результат map можно применять, как и любой итерируемый объект, для любых \\n# наших целей. \\nx = map(lambda x: x-1, [1, 2, 3])\\nprint({el: el+1 for el in x})', '# Лямбды часто применяются в map, filter, reduce, однако можно применять и\\n# обычные функции.\\ndef dec(x):\\n  # some operations \\n  return x-1\\n\\nito = [1]\\nx = map(dec, ito)\\n\\nprint(list(x))', \"# Применение функции filter.\\nresult = filter(lambda x: x if x<0 else None, [-1, 2, 3])\\nresult = list(result)\\nprint('len:', len(result))\\nprint(result)\", '# Обратите внимание, filter также возвращает специальный итерируемый объект.\\nx = filter(lambda x: x<0, [-1, 2, 3])\\nprint(x)\\nprint(list(x))', \"# И еще один важный момент: по результату filter и map можно пройти только \\n# один раз.\\na = map(lambda x: x+1, [1,2,3])\\nx = filter(lambda x: x<0, [-1, 2, 3])\\n\\nprint('Map:')\\nprint(list(a))\\nprint(list(a))\\n\\nprint('Filter:')\\nprint(list(x))\\nprint(list(x))\", '# Альтернатива filter - те же самые генераторы.\\n[x for x in iterable if f(x)]', '# Пример использования reduce.\\nfrom functools import reduce\\npows = reduce(lambda x, y: x ** y, [1, 2, 3])\\nprint(pows)', '# Чуть более говорящий пример.\\nfrom functools import reduce\\npows = reduce((lambda x, y: x ** y), [2, 2, 3])\\nprint(pows)', '# Чуть более говорящий пример.\\nfrom functools import reduce\\npows = reduce((lambda x, y: x ** y), [2, 2, 3])\\nprint(pows)\\n\\n\\nsum = reduce((lambda x, y: x + y), [2, 2, 3])\\nprint(sum)', '# Чуть более говорящий пример.\\nfrom functools import reduce\\npows = reduce((lambda x, y: x ** y), [2, 2, 3])\\nprint(pows)\\n\\n\\nsum = reduce((lambda x, y: x + y), [2, 2, 3])\\nprint(sum)\\n\\nmul = reduce((lambda x, y: x * y), [2, 2, 3])\\nprint(mul)', '# На уровне модуля globals и locals будут совпадать - т.к. определенные в\\n# модуле переменные являются для него локальными, но также и глобальны - могут \\n# быть использованы в любом месте модуля.\\n\\n# Большое количество глобальных переменных в globals является следствием\\n# работы jupyter notebook. \\nglobal_var = 10\\nprint(globals())\\nprint(locals())', '# В функции локальная область видимости пустая если туда ничего не передается\\n# и не опреднеляется внутри.\\ndef func():\\n  print(globals())\\n  print(locals())\\n\\nfunc()'], 'Out': {48: 120, 50: 120}, 'get_ipython': <bound method InteractiveShell.get_ipython of <ipykernel.zmqshell.ZMQInteractiveShell object at 0x1080f92b0>>, 'exit': <IPython.core.autocall.ZMQExitAutocall object at 0x1080f98e0>, 'quit': <IPython.core.autocall.ZMQExitAutocall object at 0x1080f98e0>, 'open': <function open at 0x106f6e7a0>, '_': 9999, '__': 120, '___': '', '__vsc_ipynb_file__': '/Users/lavoncyk/Projects/python-courses-2025/7_functions.ipynb', '_i': '# На уровне модуля globals и locals будут совпадать - т.к. определенные в\\n# модуле переменные являются для него локальными, но также и глобальны - могут \\n# быть использованы в любом месте модуля.\\n\\n# Большое количество глобальных переменных в globals является следствием\\n# работы jupyter notebook. \\nglobal_var = 10\\nprint(globals())\\nprint(locals())', '_ii': '# Чуть более говорящий пример.\\nfrom functools import reduce\\npows = reduce((lambda x, y: x ** y), [2, 2, 3])\\nprint(pows)\\n\\n\\nsum = reduce((lambda x, y: x + y), [2, 2, 3])\\nprint(sum)\\n\\nmul = reduce((lambda x, y: x * y), [2, 2, 3])\\nprint(mul)', '_iii': '# Чуть более говорящий пример.\\nfrom functools import reduce\\npows = reduce((lambda x, y: x ** y), [2, 2, 3])\\nprint(pows)\\n\\n\\nsum = reduce((lambda x, y: x + y), [2, 2, 3])\\nprint(sum)', '_i1': '# Если в функции не задано возвращаемое значение, она возвращает None .\\ndef add(a, b):\\n    result = a + b\\n    print(result)\\n    return result\\n\\n# Вызываем функцию.\\nresult = add(1, 2.5)\\nprint(result)', 'add': <function add at 0x108113600>, 'result': [-1], '_i2': '# Если в функции не задано возвращаемое значение, она возвращает None .\\ndef add(a, b):\\n    result = a + b\\n    return result\\n\\n# Вызываем функцию.\\nresult = add(1, 2.5)\\nprint(result)', '_i3': '# Функция, у которой при задании есть все типы аргументов.\\ndef very_big_func(a, b=10, *args, c, d=1, **kwargs):\\n    print(a, b, args, c, d, kwargs)\\n\\nvery_big_func(1, 22, 3, e=7, c=5)\\n# 3 идет в args, е - в kwargs.', 'very_big_func': <function very_big_func at 0x1081689a0>, '_i4': \"# Функция, у которой при задании есть все типы аргументов.\\ndef very_big_func(a, b=10, *args, c, d=1, **kwargs):\\n    print(a, b, args, c, d, kwargs)\\n\\nvery_big_func(1, 22, 3, e=7, c=5, f='6', g=10)\\n# 3 идет в args, е - в kwargs.\", '_i5': \"# Функция, у которой при задании есть все типы аргументов.\\ndef very_big_func(a, b=10, *args, c, d=1, **kwargs):\\n    print(a, b, args, c, d, kwargs)\\n\\nvery_big_func(1, 22, 3, e=7, c=5, d=5, f='6', g=10)\\n# 3 идет в args, е - в kwargs.\", '_i6': \"# Функция, у которой при задании есть все типы аргументов.\\ndef very_big_func(a, b=10, *args, c, d=1, **kwargs):\\n    print(a, b, args, c, d, kwargs)\\n\\nvery_big_func(1, 22, 3, 10, 11, 12, 13, 14 e=7, c=5, d=5, f='6', g=10)\\n# 3 идет в args, е - в kwargs.\", '_i7': \"# Функция, у которой при задании есть все типы аргументов.\\ndef very_big_func(a, b=10, *args, c, d=1, **kwargs):\\n    print(a, b, args, c, d, kwargs)\\n\\nvery_big_func(1, 22, 3, 10, 11, 12, 13, 14, e=7, c=5, d=5, f='6', g=10)\\n# 3 идет в args, е - в kwargs.\", '_i8': \"# Функция, у которой при задании есть все типы аргументов.\\ndef very_big_func(a, b=10, *args, c, d=1, **kwargs):\\n    print(a, b, args, c, d, kwargs)\\n\\nvery_big_func(a=1, b=22, e=7, c=5, d=5, f='6', g=10)\\n# 3 идет в args, е - в kwargs.\", '_i9': '# Порядок задания параметров имеет значение. \\n# В случае его нарушения, будет ошибка.\\n\\n# В данном случае позиционный аргумент со значением по умолчанию идет раньше\\n# позиционного аргумента.\\ndef func_with_error(a=10, b):\\n    pass\\n\\nfunc_with_error(1, 1)', '_i10': '# В случае, если у нас есть позиционные аргументы со значением по умолчанию, \\n# и есть *args, следует быть осторожным и не передавать позиционный аргумент \\n# по имени.\\ndef very_big_func(a, b, *args, c, d=1, **kwargs):\\n    print(a, b, args, c, d, kwargs)\\n\\nvery_big_func(1, 2, 3, b=8, c=5, e=7)\\n\\n# Идея присвоения значений аргументов в Python(и, соответственно, суть ошибки)\\n# Заключается в том, что сначала все, что передано по позиции, присваивается\\n# поочередно всем позиционным аргументам, после чего оставшиеся заворачиваются в \\n# args. В данном случае мы присвоили значения и a, и b, положили 3 в args, \\n# и после этого получаем b, переданный уже по имени.\\n\\n# Очевидно, такого эффекта не будет для аргументов, передаваемых только\\n# по имени.', '_i11': '# Задание аргументов, передаваемых только по позиции, в случае, если нет *args.\\ndef func(a, *, c):\\n  print(a, c)\\n\\nfunc(3, c=10)\\n\\n# В случае если мы не хотим принимать неограниченное количество позиционных\\n# аргументов, мы можем просто указать оператор *, и все переменные, которые \\n# будут стоять после нее, будут передаваемыми только по имени.', 'func': <function func at 0x108b89da0>, '_i12': 'def only_named_args(*, a, b):\\n    print(a, b)\\n\\nonly_named_args(a=1, b=2)', 'only_named_args': <function only_named_args at 0x1086d6200>, '_i13': 'def only_positional_args(a, b, /):\\n    print(a, b)\\n\\n\\nonly_positional_args(1, 2)', 'only_positional_args': <function only_positional_args at 0x1086d6b60>, '_i14': 'def only_positional_args(a, b, /):\\n    print(a, b)\\n\\n\\nonly_positional_args(1, b=2)', '_i15': \"# Распаковка итерируемых объектов и словарей при вызове функций. \\ndef func(a, b, *, c, d):\\n    print(a, b, c, d)\\n\\niterable = [1, 2]\\ndict_ = {'c': 5, 'd': 7}\\n\\nfunc(*iterable, **dict_) # func(1, 2, c=5, d=7)\", 'iterable': {1, 2, 3, 4}, 'dict_': {'c': 5, 'd': 7}, '_i16': '# Если не указан *args, в распаковываемом объекте количество объектов должно\\n# быть равно количеству аргументов функций. Иначе - ошибка.\\ndef func(a, b):\\n    print(a, b)\\n\\niterable = [1, 2, 3]\\nfunc(*iterable)', '_i17': \"# То же самое со словарями.\\ndef func(*, c, d):\\n    print(c, d)\\n\\ndict_ = {'c': 5, 'd': 7, 'e': 10}\\n\\nfunc(**dict_)\", '_i18': '# Если не указан *args, в распаковываемом объекте количество объектов должно\\n# быть равно количеству аргументов функций. Иначе - ошибка.\\ndef func(a, b, *_):\\n    print(a, b)\\n\\niterable = [1, 2, 3]\\nfunc(*iterable)', '_i19': '# Если не указан *args, в распаковываемом объекте количество объектов должно\\n# быть равно количеству аргументов функций. Иначе - ошибка.\\ndef func(a, b, *_):\\n    print(a, b, _)\\n\\niterable = [1, 2, 3]\\nfunc(*iterable)', '_i20': '# Если не указан *args, в распаковываемом объекте количество объектов должно\\n# быть равно количеству аргументов функций. Иначе - ошибка.\\ndef func(a, b):\\n    print(a, b)\\n\\niterable = [1, 2, 3]\\nfunc(*iterable)', '_i21': \"# То же самое со словарями.\\ndef func(*, c, d, **_):\\n    print(c, d)\\n\\ndict_ = {'c': 5, 'd': 7, 'e': 10}\\n\\nfunc(**dict_)\", '_i22': \"# То же самое со словарями.\\ndef func(*, c, d, **_):\\n    print(c, d, _)\\n\\ndict_ = {'c': 5, 'd': 7, 'e': 10}\\n\\nfunc(**dict_)\", '_i23': \"# То же самое со словарями.\\ndef func(*, c, d):\\n    print(c, d)\\n\\ndict_ = {'c': 5, 'd': 7, 'e': 10}\\n\\nfunc(**dict_)\", '_i24': \"# Обратите внимание, что словари можно распаковывать не только если аргументы\\n# с соответствующими именами заданы как передаваемые только по значению. \\ndef func(c, d):\\n    print(c, d)\\n\\ndict_ = {'c': 5, 'd': 7}\\n\\nfunc(**dict_)\", '_i25': \"# В отличие от задания функции, * и ** при вызове может встречаться несколько\\n# раз.\\ndef func(*args, **kwargs):  # функция, которая принимает любой набор аргументов\\n  print(args, kwargs)\\n\\niterable_1 = (1, )\\niterable_2 = [3, 4]\\ndict_1 = {'c': 5, 'd': 7}\\ndict_2 = {'e': 5, 'f': 7}\\n\\nfunc(*iterable_1, *iterable_2, **dict_1, **dict_2)\\n# Главное, чтобы вначале передавались позиционные аргументы, а потом аргументы,\\n# передаваемые по имени. Т.е. Сначала идут все распаковки *, а потом все **. \", 'iterable_1': (1,), 'iterable_2': [3, 4], 'dict_1': {'c': 5, 'd': 7}, 'dict_2': {'e': 5, 'f': 7}, '_i26': \"# Не забываем, что строка - тоже итерируемый объект :) \\ndef func(*args):  # функция, которая принимает любой набор аргументов\\n    print(args)\\n\\nstr_ = 'string'\\nfunc(*str_)\", 'str_': 'string', '_i27': '# попробуем передать в функцию объекты разных типов.\\n\\ndef func(a):\\n    print(a, type(a))\\n\\n# Передадим некоторые стандартные типы данных.\\nfunc(1)  # целое число\\nfunc([1, 2])  # список\\nfunc({3, 4})  # множество', '_i28': \"# Пример посложнее - передаем функцию в функцию.\\n\\ndef func(a):\\n    print(a, type(a))\\n\\ndef fun_func():\\n    print('fun')\\n\\nfunc(fun_func)\", 'fun_func': <function fun_func at 0x10876d3a0>, '_i29': \"# Мы можем передать как фнукцию, так и результат ее работы.\\n# Пример посложнее - передаем функцию в функцию.\\ndef func(a):\\n  print(a, type(a))\\n\\ndef fun_func():\\n  print('fun')\\n\\nfunc(fun_func())\\n# Интерпретируйте полученный результат.\", '_i30': '# Неизменяемое значение по умолчанию.\\ndef func(a=1):\\n    a += 1\\n    return a\\n\\nprint(func())\\nprint(func())', '_i31': '# Изменяемое значение по умолчанию.\\ndef func(a=[]):\\n    a.append(1)\\n    return a\\n\\nprint(func())\\nprint(func())\\nprint(func())', '_i32': \"# Стандартный способ обработки таких ситуаций(и заодно пример boilerplate кода).\\n\\n# Изменяемое значение по умолчанию.\\ndef func(a=None):\\n    if a is None:\\n        a = []\\n    a += [1]\\n    return(a)\\n\\nprint(func())\\nprint(func())\\nprint(func())\\n\\n# Проверка 'if' a будет в большинстве случаев недостаточна, потому что нам может\\n# быть передан пустой список, и наш код в таком случае его перезапишет другим.\", '_i33': 'def func(a=()):\\n    a += (1)\\n    return a\\n\\nprint(func())\\nprint(func())\\nprint(func())', '_i34': 'def func(a=()):\\n    a += (1,)\\n    return a\\n\\nprint(func())\\nprint(func())\\nprint(func())', '_i35': 'def func(a=[]):\\n    a = a.copy()\\n    a.append(1)\\n    return a\\n\\nprint(func())\\nprint(func())\\nprint(func())', '_i36': '# Пример работы агрегирующих функции. \\niterable = {1, 2, 3, 4, 1, 2, 3, 4}\\n\\nprint(sum(iterable))  # интерпретируйте пожалуйста резулльтат выполнения\\nprint(max(iterable))\\nprint(min(iterable))', '_i37': '# Пример работы агрегирующих функции. \\niterable = {1, 2, 3, 4, 1, 2, 3, 4}\\n\\nprint(sum(iterable))  # интерпретируйте пожалуйста резулльтат выполнения\\nprint(max(iterable))\\nprint(min(iterable))\\n\\nprint(sum(i for i in range(10)))', '_i38': '# Важно, чтобы все элементы итерируемого объекта были сравнимы!\\ndef func(): \\n  pass\\n\\na = [func, 3]\\nprint(max(a))', 'a': <map object at 0x1082bbe50>, '_i39': \"# Пример функции преобразования типа и type.\\na = tuple('string')\\nprint(type(a), a)\", '_i40': '# Решение с помощью any.\\ndef func(iterable):\\n  \"\"\"Checks if we have dict with non-empty \"key\": value pair.\\n\\n  Args:\\n    itr = [{}, {}, ...] - list of dicts\\n  Return:\\n    True/False\\n  \"\"\"\\n  return any(dct.get(\"key\") for dct in iterable)\\n\\ndct1 = [{1: 1}, {\"key\": None}, ]  # False\\nprint(func(dct1))', 'dct1': [{1: 1}, {'key': 1}], '_i41': '# Вызов той же функции но с ожидаемым ответом True.\\ndef func(iterable):\\n  \"\"\"Checks if we have dict with non-empty \"key\": value pair.\\n\\n  Args:\\n    itr = [{}, {}, ...] - list of dicts\\n  Return:\\n    True/False\\n  \"\"\"\\n  return any([dct.get(\"key\") for dct in iterable])\\n\\ndct1 = [{1:1}, {\"key\": 1},]\\nprint(func(dct1))', '_i42': '\"\"\"\\nПереформулируем задачу. \\nПроверить, содержат ли все словари в переданном итерируемом объекте пары\\nключ-значение с непустым(истинным) значением \\n\"\"\"\\n\\ndef func(iterable):\\n  return all(dct.get(\"key\") for dct in iterable)\\n\\ndct = [{1:1},{\"key\": 1},]\\nprint(func(dct))', 'dct': [{1: 1}, {'key': 1}], '_i43': \"# Важный момент, напрямую следующий из определения.\\nprint('all:', all([]))\\nprint('any:', any([]))\\n# Из этого следует, что изменение формулировки в определении критично.\", '_i44': '# Простейшая рекурсивная функция - считает факториал. \\n#\\xa05! = 5 * 4 * 3 * 2 * 1\\ndef factorial(n):\\n  if n != 1:\\n    return n * factorial(n-1) # 3 * factorial(2) -> 3 * 2 * factorial(1) -> 3 * 2 * 1\\n  else:  # условия выхода из рекурсии\\n    return 1\\n\\nprint(factorial(4))', 'factorial': <function <lambda> at 0x108b1b600>, '_i45': '# Простейшая рекурсивная функция - считает факториал. \\n#\\xa05! = 5 * 4 * 3 * 2 * 1\\ndef factorial(n):\\n  if n != 1:\\n    return n * factorial(n-1) # 3 * factorial(2) -> 3 * 2 * factorial(1) -> 3 * 2 * 1\\n  else:  # условия выхода из рекурсии\\n    return 1\\n\\nprint(factorial(10))', '_i46': '# Простейшая рекурсивная функция - считает факториал. \\n#\\xa05! = 5 * 4 * 3 * 2 * 1\\ndef factorial(n):\\n  if n != 1:\\n    return n * factorial(n-1) # 3 * factorial(2) -> 3 * 2 * factorial(1) -> 3 * 2 * 1\\n  else:  # условия выхода из рекурсии\\n    return 1\\n\\nprint(factorial(100))', '_i47': '# Простейшая рекурсивная функция - считает факториал. \\n#\\xa05! = 5 * 4 * 3 * 2 * 1\\ndef factorial(n):\\n  if n != 1:\\n    return n * factorial(n-1) # 3 * factorial(2) -> 3 * 2 * factorial(1) -> 3 * 2 * 1\\n  else:  # условия выхода из рекурсии\\n    return 1\\n\\nprint(factorial(1000))', '_i48': '# Простейшая рекурсивная функция - считает факториал. \\n#\\xa05! = 5 * 4 * 3 * 2 * 1\\ndef factorial_loop(n):\\n    result = 1\\n    for i in range(1, n + 1):\\n       result *= i\\n    return result\\n\\nfactorial_loop(5)', 'factorial_loop': <function factorial_loop at 0x10880a020>, '_48': 120, '_i49': '# Простейшая рекурсивная функция - считает факториал. \\n#\\xa05! = 5 * 4 * 3 * 2 * 1\\ndef factorial(n):\\n  if n != 1:\\n    return n * factorial(n-1) # 3 * factorial(2) -> 3 * 2 * factorial(1) -> 3 * 2 * 1\\n  else:  # условия выхода из рекурсии\\n    return 1\\n\\nprint(factorial(5))', '_i50': '# Простейшая рекурсивная функция - считает факториал. \\n#\\xa05! = 5 * 4 * 3 * 2 * 1\\ndef factorial_loop(n):\\n    result = 1\\n    for i in range(1, n + 1):\\n       result *= i\\n    return result\\n\\nfactorial_loop(5)', '_50': 120, '_i51': \"# Расчет n-го числа Фибоначчи без использования рекурсии (начиная с второго)\\n# Замерим время исполнения программы.\\n# 1, 1, 2, 3, 5, 8, 13\\ndef fib(n):\\n  a1 = a2 = 1\\n  for el in range(3, n+1):\\n    a1, a2 = a2, a1 + a2\\n  return a2\\n\\nimport time\\nstart = time.time()\\nprint(fib(100))\\nprint('Execution time:', time.time() - start)\", 'fib': <function fib at 0x108b1a020>, 'time': <module 'time' (built-in)>, 'start': 1742404567.577365, '_i52': \"# А сейчас то же самое но для рекурсии написанной в лоб.\\n\\ndef fib(n):\\n  if n in (1, 2):  # Условие выхода из рекурсии. Скобки здесь не обязательны\\n    return 1\\n  else:\\n    return fib(n-1) + fib(n-2)\\n\\nimport time\\nstart = time.time()\\nprint(fib(30))  # Обратите внимание, что здесь число в 3 раза меньше! \\nprint('Execution time:', time.time() - start)\", '_i53': \"# А сейчас то же самое но для рекурсии написанной в лоб.\\n\\ndef fib(n):\\n  if n in (1, 2):  # Условие выхода из рекурсии. Скобки здесь не обязательны\\n    return 1\\n  else:\\n    return fib(n-1) + fib(n-2)\\n\\nimport time\\nstart = time.time()\\nprint(fib(100))  # Обратите внимание, что здесь число в 3 раза меньше! \\nprint('Execution time:', time.time() - start)\", '_i54': \"# Реализуем кэширование чтобы избежать ситуации из прошлого примера.\\ncache = {}\\ndef fib(n):\\n  if n in (1, 2):\\n    return 1\\n  else:\\n    if not cache.get(n-1):\\n      cache[n-1] = fib(n-1)\\n    if not cache.get(n-2):\\n      cache[n-2] = fib(n-2)\\n    return cache.get(n-1) + cache.get(n-2)\\n\\nimport time\\nstart = time.time()\\nprint(fib(100))\\nprint('Execution time:', time.time() - start)\", 'cache': {2: 1, 1: 1, 3: 2, 4: 3, 5: 5, 6: 8, 7: 13, 8: 21, 9: 34, 10: 55, 11: 89, 12: 144, 13: 233, 14: 377, 15: 610, 16: 987, 17: 1597, 18: 2584, 19: 4181, 20: 6765, 21: 10946, 22: 17711, 23: 28657, 24: 46368, 25: 75025, 26: 121393, 27: 196418, 28: 317811, 29: 514229, 30: 832040, 31: 1346269, 32: 2178309, 33: 3524578, 34: 5702887, 35: 9227465, 36: 14930352, 37: 24157817, 38: 39088169, 39: 63245986, 40: 102334155, 41: 165580141, 42: 267914296, 43: 433494437, 44: 701408733, 45: 1134903170, 46: 1836311903, 47: 2971215073, 48: 4807526976, 49: 7778742049, 50: 12586269025, 51: 20365011074, 52: 32951280099, 53: 53316291173, 54: 86267571272, 55: 139583862445, 56: 225851433717, 57: 365435296162, 58: 591286729879, 59: 956722026041, 60: 1548008755920, 61: 2504730781961, 62: 4052739537881, 63: 6557470319842, 64: 10610209857723, 65: 17167680177565, 66: 27777890035288, 67: 44945570212853, 68: 72723460248141, 69: 117669030460994, 70: 190392490709135, 71: 308061521170129, 72: 498454011879264, 73: 806515533049393, 74: 1304969544928657, 75: 2111485077978050, 76: 3416454622906707, 77: 5527939700884757, 78: 8944394323791464, 79: 14472334024676221, 80: 23416728348467685, 81: 37889062373143906, 82: 61305790721611591, 83: 99194853094755497, 84: 160500643816367088, 85: 259695496911122585, 86: 420196140727489673, 87: 679891637638612258, 88: 1100087778366101931, 89: 1779979416004714189, 90: 2880067194370816120, 91: 4660046610375530309, 92: 7540113804746346429, 93: 12200160415121876738, 94: 19740274219868223167, 95: 31940434634990099905, 96: 51680708854858323072, 97: 83621143489848422977, 98: 135301852344706746049, 99: 218922995834555169026}, '_i55': '# Реализуем кэширование чтобы избежать ситуации из прошлого примера.\\ncache = {}\\ndef fib(n):\\n  if n in (1, 2):\\n    return 1\\n  else:\\n    if not cache.get(n-1):\\n      cache[n-1] = fib(n-1)\\n    if not cache.get(n-2):\\n      cache[n-2] = fib(n-2)\\n    return cache.get(n-1) + cache.get(n-2)\\n\\nimport time\\nstart = time.time()\\nprint(fib(100))\\nprint(\\'Execution time:\\', time.time() - start)\\nprint(\"Cache size:\", len(cache))', '_i56': \"# Стоит обратить внимание на следующее:\\n# 1. Мы не можем использовать, например, setdefault к нашему кэшу, потому что\\n#    попадем в похожую ситуацию - ключ в словарь будет добавляться очень поздно. \\n# 2. На одном запуске сложно оценить производительность первого и второго\\n#    решения, но проведя тест например на 10000 зпусков можно получить более-менее\\n#    релевантные результаты для оценки производительности. \\n# 3. Рекурсия имеет максимальную глубину, обусловленную стэком вызовов.\\n#    например, на данный момент(декабрь 2020) посчитать 1000 число мы не можем.\\n# 4. Производительность зависит от реализации интерпретатора, и результаты могут\\n#    разительно отличаться в двух разных реализациях интерпретатора (и даже в \\n#    разных его версиях).\\nimport time\\n\\ndef fib_for(n):\\n  a1 = a2 = 1\\n  for el in range(3, n+1):\\n    a1, a2 = a2, a1 + a2\\n  return a2\\n\\nstart = time.time()\\nfor _ in range(10000):\\n  fib_for(100)\\nprint('Execution time (for loop):', time.time() - start)\\n\\n\\ncache = {}\\ndef fib_recur(n):\\n  if n in (1, 2):\\n    return 1\\n  else:\\n    if not cache.get(n-1):\\n      cache[n-1] = fib(n-1)\\n    if not cache.get(n-2):\\n      cache[n-2] = fib(n-2)\\n    return cache.get(n-1) + cache.get(n-2)\\n\\nstart = time.time()\\nfor _ in range(10000):\\n  fib_recur(100)\\nprint('Execution time (recursive):', time.time() - start)\", 'fib_for': <function fib_for at 0x10880aca0>, 'fib_recur': <function fib_recur at 0x108809da0>, '_i57': '# Зададим простейшую лямбда-функцию.\\npower_2 = lambda x: x ** 2\\nprint(power_2(5))', 'power_2': <function <lambda> at 0x108b1b240>, '_i58': '# Зададим простейшую лямбда-функцию.\\npower_2 = lambda x: x ** 2\\nprint(power_2(5))\\n\\nprint(power_2.__name__)', '_i59': '# Зададим простейшую лямбда-функцию.\\npower_2 = lambda x: x ** 2\\nprint(power_2(5))', '_i60': '# Лямбда функция может быть задана и сразу вызвана. Кроме того ее необязательно\\n# присваивать какой бы то ни было переменной.\\nprint((lambda x: x+1)(5))', '_i61': '# Это считается плохой практикой, но в Python можно записывать несколько\\n# инструкций на одной строке, используя ;.\\nprint(1); print(2)', '_i62': '# Но с лямбдой такого фокуса не выйдет.\\nl = (lambda x: print(1); print(2))\\nprint(l(5))', '_i63': '# Немного более сложное выражение в лямбде.\\nl = lambda a: [element + 1 for element in a]\\nprint(l([2,3]))', 'l': <function <lambda> at 0x108b1b380>, '_i64': '# Лямбда всегда возвращает результат выполнения body.\\nl = lambda a: print(a)\\nprint(l(a=2))', '_i65': '# Самый простой способ сделать более сложные вычисления в лямбде - поместить в \\n# тело функцию. Однако возникает вопрос зачем нам тогда лямбда.\\ndef func(a, b):\\n    print(\"don\\'t do in this manner\")\\n    print(\"don\\'t do in this manner\")\\n    print(\"don\\'t do in this manner\")\\n    print(\"don\\'t do in this manner\")\\n\\nl = lambda a, b: func(a, b)\\nl(2,3)', '_i66': '# Фактически, одно из главных отличий лямбды в Python от обычной функции.\\nl = lambda arg: arg + 1\\n\\ndef func(): \\n  pass\\n\\nprint(l.__name__)\\nprint(func.__name__)', '_i67': '# Кстати функция сохраняет свое имя.\\ndef func(): \\n  pass\\n\\nb = func\\nfunc = 1\\nprint(b.__name__)', 'b': <function func at 0x108b1a7a0>, '_i68': '# Кстати функция сохраняет свое имя.\\ndef func(): \\n  pass\\n\\nb = func\\nfunc = 1\\nprint(b.__name__)', '_i69': '# Так как лямбда фактически таже самая функция, в ней могут присутствовать все\\n# доступные в функции типы аргументов.\\nl = lambda a, b=0, *args, c=7, **kwargs: print(a, b, args, c, kwargs)\\nl(1, 2, 3, 4 )', '_i70': '# Рекурсия на лямбде. Она не совсем честная, потому что мы фактически именуем\\n# нашу лямбду и используем это имя.\\nfactorial = lambda a: a * factorial(a-1) if a>1 else 1\\nprint(factorial(4))', '_i71': '# Есть возможность реализовать рекурсию и без этого трюка, но тут нужно\\n# использовать Y-комбинатор и все это выглядит очень плохо. Мое личное мнение - \\n# забейте. Но если очень любопытно: \\n# https://en.wikipedia.org/wiki/Fixed-point_combinator - теория.\\n# Попытка объяснения на русском https://habr.com/ru/post/50354/ (но без лямбд).\\n\\n# Сам комбинатор:\\nY = lambda g: ((lambda f: g(lambda *x: f(f) (*x))) ((lambda f: g(lambda *x: f(f)(*x)))))\\n\\n# Вычисление факториала рекурсивно с помощью комбинатора.\\nprint(Y(lambda f: (lambda num: num*f(num-1) if num else 1))(4))\\n\\n# Очевидно можно Y подставить в print и записать все в одну строку, но это\\n# будет вообще нечитаемо.', 'Y': <function <lambda> at 0x108b1b560>, '_i72': '# Функция, уменьшающая значение каждого элемента переданного аргумента на 1.\\nito = (1, 2, 3)\\ndec = lambda x: x-1\\nresult = map(dec, ito)\\nprint(result)  # обратите внимание, map возвращает итерируемый объект\\nprint(list(result))', 'ito': [1], 'dec': <function dec at 0x108b1b9c0>, '_i73': '# Все то же самое, но изрядно сокращенное.\\nx = map(lambda x: x-1, [1, 2, 3])\\nprint(list(x))', 'x': <filter object at 0x1082ba290>, '_i74': '# Результат map можно применять, как и любой итерируемый объект, для любых \\n# наших целей. \\nx = map(lambda x: x-1, [1, 2, 3])\\nprint({el:el+1 for el in x})', '_i75': '# Результат map можно применять, как и любой итерируемый объект, для любых \\n# наших целей. \\nx = map(lambda x: x-1, [1, 2, 3])\\nprint({el: el+1 for el in x})\\n\\nprint({el: el+1 for el in x})', '_i76': '# Результат map можно применять, как и любой итерируемый объект, для любых \\n# наших целей. \\nx = map(lambda x: x-1, [1, 2, 3])\\nprint({el: el+1 for el in x})', '_i77': '# Лямбды часто применяются в map, filter, reduce, однако можно применять и\\n# обычные функции.\\ndef dec(x):\\n  # some operations \\n  return x-1\\n\\nito = [1]\\nx = map(dec, ito)\\n\\nprint(list(x))', '_i78': \"# Применение функции filter.\\nresult = filter(lambda x: x if x<0 else None, [-1, 2, 3])\\nresult = list(result)\\nprint('len:', len(result))\\nprint(result)\", '_i79': '# Обратите внимание, filter также возвращает специальный итерируемый объект.\\nx = filter(lambda x: x<0, [-1, 2, 3])\\nprint(x)\\nprint(list(x))', '_i80': \"# И еще один важный момент: по результату filter и map можно пройти только \\n# один раз.\\na = map(lambda x: x+1, [1,2,3])\\nx = filter(lambda x: x<0, [-1, 2, 3])\\n\\nprint('Map:')\\nprint(list(a))\\nprint(list(a))\\n\\nprint('Filter:')\\nprint(list(x))\\nprint(list(x))\", '_i81': '# Альтернатива filter - те же самые генераторы.\\n[x for x in iterable if f(x)]', '_i82': '# Пример использования reduce.\\nfrom functools import reduce\\npows = reduce(lambda x, y: x ** y, [1, 2, 3])\\nprint(pows)', 'reduce': <built-in function reduce>, 'pows': 64, '_i83': '# Чуть более говорящий пример.\\nfrom functools import reduce\\npows = reduce((lambda x, y: x ** y), [2, 2, 3])\\nprint(pows)', '_i84': '# Чуть более говорящий пример.\\nfrom functools import reduce\\npows = reduce((lambda x, y: x ** y), [2, 2, 3])\\nprint(pows)\\n\\n\\nsum = reduce((lambda x, y: x + y), [2, 2, 3])\\nprint(sum)', 'sum': 7, '_i85': '# Чуть более говорящий пример.\\nfrom functools import reduce\\npows = reduce((lambda x, y: x ** y), [2, 2, 3])\\nprint(pows)\\n\\n\\nsum = reduce((lambda x, y: x + y), [2, 2, 3])\\nprint(sum)\\n\\nmul = reduce((lambda x, y: x * y), [2, 2, 3])\\nprint(mul)', 'mul': 12, '_i86': '# На уровне модуля globals и locals будут совпадать - т.к. определенные в\\n# модуле переменные являются для него локальными, но также и глобальны - могут \\n# быть использованы в любом месте модуля.\\n\\n# Большое количество глобальных переменных в globals является следствием\\n# работы jupyter notebook. \\nglobal_var = 10\\nprint(globals())\\nprint(locals())', 'global_var': 10, '_i87': '# В функции локальная область видимости пустая если туда ничего не передается\\n# и не опреднеляется внутри.\\ndef func():\\n  print(globals())\\n  print(locals())\\n\\nfunc()'}\n",
      "{}\n"
     ]
    }
   ],
   "source": [
    "# В функции локальная область видимости пустая если туда ничего не передается\n",
    "# и не опреднеляется внутри.\n",
    "def func():\n",
    "  print(globals())\n",
    "  print(locals())\n",
    "\n",
    "func()"
   ]
  },
  {
   "cell_type": "code",
   "execution_count": 88,
   "metadata": {
    "id": "8btcZtnI8wgc"
   },
   "outputs": [
    {
     "name": "stdout",
     "output_type": "stream",
     "text": [
      "{'__name__': '__main__', '__doc__': '\\nПереформулируем задачу. \\nПроверить, содержат ли все словари в переданном итерируемом объекте пары\\nключ-значение с непустым(истинным) значением \\n', '__package__': None, '__loader__': None, '__spec__': None, '__builtin__': <module 'builtins' (built-in)>, '__builtins__': <module 'builtins' (built-in)>, '_ih': ['', '# Если в функции не задано возвращаемое значение, она возвращает None .\\ndef add(a, b):\\n    result = a + b\\n    print(result)\\n    return result\\n\\n# Вызываем функцию.\\nresult = add(1, 2.5)\\nprint(result)', '# Если в функции не задано возвращаемое значение, она возвращает None .\\ndef add(a, b):\\n    result = a + b\\n    return result\\n\\n# Вызываем функцию.\\nresult = add(1, 2.5)\\nprint(result)', '# Функция, у которой при задании есть все типы аргументов.\\ndef very_big_func(a, b=10, *args, c, d=1, **kwargs):\\n    print(a, b, args, c, d, kwargs)\\n\\nvery_big_func(1, 22, 3, e=7, c=5)\\n# 3 идет в args, е - в kwargs.', \"# Функция, у которой при задании есть все типы аргументов.\\ndef very_big_func(a, b=10, *args, c, d=1, **kwargs):\\n    print(a, b, args, c, d, kwargs)\\n\\nvery_big_func(1, 22, 3, e=7, c=5, f='6', g=10)\\n# 3 идет в args, е - в kwargs.\", \"# Функция, у которой при задании есть все типы аргументов.\\ndef very_big_func(a, b=10, *args, c, d=1, **kwargs):\\n    print(a, b, args, c, d, kwargs)\\n\\nvery_big_func(1, 22, 3, e=7, c=5, d=5, f='6', g=10)\\n# 3 идет в args, е - в kwargs.\", \"# Функция, у которой при задании есть все типы аргументов.\\ndef very_big_func(a, b=10, *args, c, d=1, **kwargs):\\n    print(a, b, args, c, d, kwargs)\\n\\nvery_big_func(1, 22, 3, 10, 11, 12, 13, 14 e=7, c=5, d=5, f='6', g=10)\\n# 3 идет в args, е - в kwargs.\", \"# Функция, у которой при задании есть все типы аргументов.\\ndef very_big_func(a, b=10, *args, c, d=1, **kwargs):\\n    print(a, b, args, c, d, kwargs)\\n\\nvery_big_func(1, 22, 3, 10, 11, 12, 13, 14, e=7, c=5, d=5, f='6', g=10)\\n# 3 идет в args, е - в kwargs.\", \"# Функция, у которой при задании есть все типы аргументов.\\ndef very_big_func(a, b=10, *args, c, d=1, **kwargs):\\n    print(a, b, args, c, d, kwargs)\\n\\nvery_big_func(a=1, b=22, e=7, c=5, d=5, f='6', g=10)\\n# 3 идет в args, е - в kwargs.\", '# Порядок задания параметров имеет значение. \\n# В случае его нарушения, будет ошибка.\\n\\n# В данном случае позиционный аргумент со значением по умолчанию идет раньше\\n# позиционного аргумента.\\ndef func_with_error(a=10, b):\\n    pass\\n\\nfunc_with_error(1, 1)', '# В случае, если у нас есть позиционные аргументы со значением по умолчанию, \\n# и есть *args, следует быть осторожным и не передавать позиционный аргумент \\n# по имени.\\ndef very_big_func(a, b, *args, c, d=1, **kwargs):\\n    print(a, b, args, c, d, kwargs)\\n\\nvery_big_func(1, 2, 3, b=8, c=5, e=7)\\n\\n# Идея присвоения значений аргументов в Python(и, соответственно, суть ошибки)\\n# Заключается в том, что сначала все, что передано по позиции, присваивается\\n# поочередно всем позиционным аргументам, после чего оставшиеся заворачиваются в \\n# args. В данном случае мы присвоили значения и a, и b, положили 3 в args, \\n# и после этого получаем b, переданный уже по имени.\\n\\n# Очевидно, такого эффекта не будет для аргументов, передаваемых только\\n# по имени.', '# Задание аргументов, передаваемых только по позиции, в случае, если нет *args.\\ndef func(a, *, c):\\n  print(a, c)\\n\\nfunc(3, c=10)\\n\\n# В случае если мы не хотим принимать неограниченное количество позиционных\\n# аргументов, мы можем просто указать оператор *, и все переменные, которые \\n# будут стоять после нее, будут передаваемыми только по имени.', 'def only_named_args(*, a, b):\\n    print(a, b)\\n\\nonly_named_args(a=1, b=2)', 'def only_positional_args(a, b, /):\\n    print(a, b)\\n\\n\\nonly_positional_args(1, 2)', 'def only_positional_args(a, b, /):\\n    print(a, b)\\n\\n\\nonly_positional_args(1, b=2)', \"# Распаковка итерируемых объектов и словарей при вызове функций. \\ndef func(a, b, *, c, d):\\n    print(a, b, c, d)\\n\\niterable = [1, 2]\\ndict_ = {'c': 5, 'd': 7}\\n\\nfunc(*iterable, **dict_) # func(1, 2, c=5, d=7)\", '# Если не указан *args, в распаковываемом объекте количество объектов должно\\n# быть равно количеству аргументов функций. Иначе - ошибка.\\ndef func(a, b):\\n    print(a, b)\\n\\niterable = [1, 2, 3]\\nfunc(*iterable)', \"# То же самое со словарями.\\ndef func(*, c, d):\\n    print(c, d)\\n\\ndict_ = {'c': 5, 'd': 7, 'e': 10}\\n\\nfunc(**dict_)\", '# Если не указан *args, в распаковываемом объекте количество объектов должно\\n# быть равно количеству аргументов функций. Иначе - ошибка.\\ndef func(a, b, *_):\\n    print(a, b)\\n\\niterable = [1, 2, 3]\\nfunc(*iterable)', '# Если не указан *args, в распаковываемом объекте количество объектов должно\\n# быть равно количеству аргументов функций. Иначе - ошибка.\\ndef func(a, b, *_):\\n    print(a, b, _)\\n\\niterable = [1, 2, 3]\\nfunc(*iterable)', '# Если не указан *args, в распаковываемом объекте количество объектов должно\\n# быть равно количеству аргументов функций. Иначе - ошибка.\\ndef func(a, b):\\n    print(a, b)\\n\\niterable = [1, 2, 3]\\nfunc(*iterable)', \"# То же самое со словарями.\\ndef func(*, c, d, **_):\\n    print(c, d)\\n\\ndict_ = {'c': 5, 'd': 7, 'e': 10}\\n\\nfunc(**dict_)\", \"# То же самое со словарями.\\ndef func(*, c, d, **_):\\n    print(c, d, _)\\n\\ndict_ = {'c': 5, 'd': 7, 'e': 10}\\n\\nfunc(**dict_)\", \"# То же самое со словарями.\\ndef func(*, c, d):\\n    print(c, d)\\n\\ndict_ = {'c': 5, 'd': 7, 'e': 10}\\n\\nfunc(**dict_)\", \"# Обратите внимание, что словари можно распаковывать не только если аргументы\\n# с соответствующими именами заданы как передаваемые только по значению. \\ndef func(c, d):\\n    print(c, d)\\n\\ndict_ = {'c': 5, 'd': 7}\\n\\nfunc(**dict_)\", \"# В отличие от задания функции, * и ** при вызове может встречаться несколько\\n# раз.\\ndef func(*args, **kwargs):  # функция, которая принимает любой набор аргументов\\n  print(args, kwargs)\\n\\niterable_1 = (1, )\\niterable_2 = [3, 4]\\ndict_1 = {'c': 5, 'd': 7}\\ndict_2 = {'e': 5, 'f': 7}\\n\\nfunc(*iterable_1, *iterable_2, **dict_1, **dict_2)\\n# Главное, чтобы вначале передавались позиционные аргументы, а потом аргументы,\\n# передаваемые по имени. Т.е. Сначала идут все распаковки *, а потом все **. \", \"# Не забываем, что строка - тоже итерируемый объект :) \\ndef func(*args):  # функция, которая принимает любой набор аргументов\\n    print(args)\\n\\nstr_ = 'string'\\nfunc(*str_)\", '# попробуем передать в функцию объекты разных типов.\\n\\ndef func(a):\\n    print(a, type(a))\\n\\n# Передадим некоторые стандартные типы данных.\\nfunc(1)  # целое число\\nfunc([1, 2])  # список\\nfunc({3, 4})  # множество', \"# Пример посложнее - передаем функцию в функцию.\\n\\ndef func(a):\\n    print(a, type(a))\\n\\ndef fun_func():\\n    print('fun')\\n\\nfunc(fun_func)\", \"# Мы можем передать как фнукцию, так и результат ее работы.\\n# Пример посложнее - передаем функцию в функцию.\\ndef func(a):\\n  print(a, type(a))\\n\\ndef fun_func():\\n  print('fun')\\n\\nfunc(fun_func())\\n# Интерпретируйте полученный результат.\", '# Неизменяемое значение по умолчанию.\\ndef func(a=1):\\n    a += 1\\n    return a\\n\\nprint(func())\\nprint(func())', '# Изменяемое значение по умолчанию.\\ndef func(a=[]):\\n    a.append(1)\\n    return a\\n\\nprint(func())\\nprint(func())\\nprint(func())', \"# Стандартный способ обработки таких ситуаций(и заодно пример boilerplate кода).\\n\\n# Изменяемое значение по умолчанию.\\ndef func(a=None):\\n    if a is None:\\n        a = []\\n    a += [1]\\n    return(a)\\n\\nprint(func())\\nprint(func())\\nprint(func())\\n\\n# Проверка 'if' a будет в большинстве случаев недостаточна, потому что нам может\\n# быть передан пустой список, и наш код в таком случае его перезапишет другим.\", 'def func(a=()):\\n    a += (1)\\n    return a\\n\\nprint(func())\\nprint(func())\\nprint(func())', 'def func(a=()):\\n    a += (1,)\\n    return a\\n\\nprint(func())\\nprint(func())\\nprint(func())', 'def func(a=[]):\\n    a = a.copy()\\n    a.append(1)\\n    return a\\n\\nprint(func())\\nprint(func())\\nprint(func())', '# Пример работы агрегирующих функции. \\niterable = {1, 2, 3, 4, 1, 2, 3, 4}\\n\\nprint(sum(iterable))  # интерпретируйте пожалуйста резулльтат выполнения\\nprint(max(iterable))\\nprint(min(iterable))', '# Пример работы агрегирующих функции. \\niterable = {1, 2, 3, 4, 1, 2, 3, 4}\\n\\nprint(sum(iterable))  # интерпретируйте пожалуйста резулльтат выполнения\\nprint(max(iterable))\\nprint(min(iterable))\\n\\nprint(sum(i for i in range(10)))', '# Важно, чтобы все элементы итерируемого объекта были сравнимы!\\ndef func(): \\n  pass\\n\\na = [func, 3]\\nprint(max(a))', \"# Пример функции преобразования типа и type.\\na = tuple('string')\\nprint(type(a), a)\", '# Решение с помощью any.\\ndef func(iterable):\\n  \"\"\"Checks if we have dict with non-empty \"key\": value pair.\\n\\n  Args:\\n    itr = [{}, {}, ...] - list of dicts\\n  Return:\\n    True/False\\n  \"\"\"\\n  return any(dct.get(\"key\") for dct in iterable)\\n\\ndct1 = [{1: 1}, {\"key\": None}, ]  # False\\nprint(func(dct1))', '# Вызов той же функции но с ожидаемым ответом True.\\ndef func(iterable):\\n  \"\"\"Checks if we have dict with non-empty \"key\": value pair.\\n\\n  Args:\\n    itr = [{}, {}, ...] - list of dicts\\n  Return:\\n    True/False\\n  \"\"\"\\n  return any([dct.get(\"key\") for dct in iterable])\\n\\ndct1 = [{1:1}, {\"key\": 1},]\\nprint(func(dct1))', '\"\"\"\\nПереформулируем задачу. \\nПроверить, содержат ли все словари в переданном итерируемом объекте пары\\nключ-значение с непустым(истинным) значением \\n\"\"\"\\n\\ndef func(iterable):\\n  return all(dct.get(\"key\") for dct in iterable)\\n\\ndct = [{1:1},{\"key\": 1},]\\nprint(func(dct))', \"# Важный момент, напрямую следующий из определения.\\nprint('all:', all([]))\\nprint('any:', any([]))\\n# Из этого следует, что изменение формулировки в определении критично.\", '# Простейшая рекурсивная функция - считает факториал. \\n#\\xa05! = 5 * 4 * 3 * 2 * 1\\ndef factorial(n):\\n  if n != 1:\\n    return n * factorial(n-1) # 3 * factorial(2) -> 3 * 2 * factorial(1) -> 3 * 2 * 1\\n  else:  # условия выхода из рекурсии\\n    return 1\\n\\nprint(factorial(4))', '# Простейшая рекурсивная функция - считает факториал. \\n#\\xa05! = 5 * 4 * 3 * 2 * 1\\ndef factorial(n):\\n  if n != 1:\\n    return n * factorial(n-1) # 3 * factorial(2) -> 3 * 2 * factorial(1) -> 3 * 2 * 1\\n  else:  # условия выхода из рекурсии\\n    return 1\\n\\nprint(factorial(10))', '# Простейшая рекурсивная функция - считает факториал. \\n#\\xa05! = 5 * 4 * 3 * 2 * 1\\ndef factorial(n):\\n  if n != 1:\\n    return n * factorial(n-1) # 3 * factorial(2) -> 3 * 2 * factorial(1) -> 3 * 2 * 1\\n  else:  # условия выхода из рекурсии\\n    return 1\\n\\nprint(factorial(100))', '# Простейшая рекурсивная функция - считает факториал. \\n#\\xa05! = 5 * 4 * 3 * 2 * 1\\ndef factorial(n):\\n  if n != 1:\\n    return n * factorial(n-1) # 3 * factorial(2) -> 3 * 2 * factorial(1) -> 3 * 2 * 1\\n  else:  # условия выхода из рекурсии\\n    return 1\\n\\nprint(factorial(1000))', '# Простейшая рекурсивная функция - считает факториал. \\n#\\xa05! = 5 * 4 * 3 * 2 * 1\\ndef factorial_loop(n):\\n    result = 1\\n    for i in range(1, n + 1):\\n       result *= i\\n    return result\\n\\nfactorial_loop(5)', '# Простейшая рекурсивная функция - считает факториал. \\n#\\xa05! = 5 * 4 * 3 * 2 * 1\\ndef factorial(n):\\n  if n != 1:\\n    return n * factorial(n-1) # 3 * factorial(2) -> 3 * 2 * factorial(1) -> 3 * 2 * 1\\n  else:  # условия выхода из рекурсии\\n    return 1\\n\\nprint(factorial(5))', '# Простейшая рекурсивная функция - считает факториал. \\n#\\xa05! = 5 * 4 * 3 * 2 * 1\\ndef factorial_loop(n):\\n    result = 1\\n    for i in range(1, n + 1):\\n       result *= i\\n    return result\\n\\nfactorial_loop(5)', \"# Расчет n-го числа Фибоначчи без использования рекурсии (начиная с второго)\\n# Замерим время исполнения программы.\\n# 1, 1, 2, 3, 5, 8, 13\\ndef fib(n):\\n  a1 = a2 = 1\\n  for el in range(3, n+1):\\n    a1, a2 = a2, a1 + a2\\n  return a2\\n\\nimport time\\nstart = time.time()\\nprint(fib(100))\\nprint('Execution time:', time.time() - start)\", \"# А сейчас то же самое но для рекурсии написанной в лоб.\\n\\ndef fib(n):\\n  if n in (1, 2):  # Условие выхода из рекурсии. Скобки здесь не обязательны\\n    return 1\\n  else:\\n    return fib(n-1) + fib(n-2)\\n\\nimport time\\nstart = time.time()\\nprint(fib(30))  # Обратите внимание, что здесь число в 3 раза меньше! \\nprint('Execution time:', time.time() - start)\", \"# А сейчас то же самое но для рекурсии написанной в лоб.\\n\\ndef fib(n):\\n  if n in (1, 2):  # Условие выхода из рекурсии. Скобки здесь не обязательны\\n    return 1\\n  else:\\n    return fib(n-1) + fib(n-2)\\n\\nimport time\\nstart = time.time()\\nprint(fib(100))  # Обратите внимание, что здесь число в 3 раза меньше! \\nprint('Execution time:', time.time() - start)\", \"# Реализуем кэширование чтобы избежать ситуации из прошлого примера.\\ncache = {}\\ndef fib(n):\\n  if n in (1, 2):\\n    return 1\\n  else:\\n    if not cache.get(n-1):\\n      cache[n-1] = fib(n-1)\\n    if not cache.get(n-2):\\n      cache[n-2] = fib(n-2)\\n    return cache.get(n-1) + cache.get(n-2)\\n\\nimport time\\nstart = time.time()\\nprint(fib(100))\\nprint('Execution time:', time.time() - start)\", '# Реализуем кэширование чтобы избежать ситуации из прошлого примера.\\ncache = {}\\ndef fib(n):\\n  if n in (1, 2):\\n    return 1\\n  else:\\n    if not cache.get(n-1):\\n      cache[n-1] = fib(n-1)\\n    if not cache.get(n-2):\\n      cache[n-2] = fib(n-2)\\n    return cache.get(n-1) + cache.get(n-2)\\n\\nimport time\\nstart = time.time()\\nprint(fib(100))\\nprint(\\'Execution time:\\', time.time() - start)\\nprint(\"Cache size:\", len(cache))', \"# Стоит обратить внимание на следующее:\\n# 1. Мы не можем использовать, например, setdefault к нашему кэшу, потому что\\n#    попадем в похожую ситуацию - ключ в словарь будет добавляться очень поздно. \\n# 2. На одном запуске сложно оценить производительность первого и второго\\n#    решения, но проведя тест например на 10000 зпусков можно получить более-менее\\n#    релевантные результаты для оценки производительности. \\n# 3. Рекурсия имеет максимальную глубину, обусловленную стэком вызовов.\\n#    например, на данный момент(декабрь 2020) посчитать 1000 число мы не можем.\\n# 4. Производительность зависит от реализации интерпретатора, и результаты могут\\n#    разительно отличаться в двух разных реализациях интерпретатора (и даже в \\n#    разных его версиях).\\nimport time\\n\\ndef fib_for(n):\\n  a1 = a2 = 1\\n  for el in range(3, n+1):\\n    a1, a2 = a2, a1 + a2\\n  return a2\\n\\nstart = time.time()\\nfor _ in range(10000):\\n  fib_for(100)\\nprint('Execution time (for loop):', time.time() - start)\\n\\n\\ncache = {}\\ndef fib_recur(n):\\n  if n in (1, 2):\\n    return 1\\n  else:\\n    if not cache.get(n-1):\\n      cache[n-1] = fib(n-1)\\n    if not cache.get(n-2):\\n      cache[n-2] = fib(n-2)\\n    return cache.get(n-1) + cache.get(n-2)\\n\\nstart = time.time()\\nfor _ in range(10000):\\n  fib_recur(100)\\nprint('Execution time (recursive):', time.time() - start)\", '# Зададим простейшую лямбда-функцию.\\npower_2 = lambda x: x ** 2\\nprint(power_2(5))', '# Зададим простейшую лямбда-функцию.\\npower_2 = lambda x: x ** 2\\nprint(power_2(5))\\n\\nprint(power_2.__name__)', '# Зададим простейшую лямбда-функцию.\\npower_2 = lambda x: x ** 2\\nprint(power_2(5))', '# Лямбда функция может быть задана и сразу вызвана. Кроме того ее необязательно\\n# присваивать какой бы то ни было переменной.\\nprint((lambda x: x+1)(5))', '# Это считается плохой практикой, но в Python можно записывать несколько\\n# инструкций на одной строке, используя ;.\\nprint(1); print(2)', '# Но с лямбдой такого фокуса не выйдет.\\nl = (lambda x: print(1); print(2))\\nprint(l(5))', '# Немного более сложное выражение в лямбде.\\nl = lambda a: [element + 1 for element in a]\\nprint(l([2,3]))', '# Лямбда всегда возвращает результат выполнения body.\\nl = lambda a: print(a)\\nprint(l(a=2))', '# Самый простой способ сделать более сложные вычисления в лямбде - поместить в \\n# тело функцию. Однако возникает вопрос зачем нам тогда лямбда.\\ndef func(a, b):\\n    print(\"don\\'t do in this manner\")\\n    print(\"don\\'t do in this manner\")\\n    print(\"don\\'t do in this manner\")\\n    print(\"don\\'t do in this manner\")\\n\\nl = lambda a, b: func(a, b)\\nl(2,3)', '# Фактически, одно из главных отличий лямбды в Python от обычной функции.\\nl = lambda arg: arg + 1\\n\\ndef func(): \\n  pass\\n\\nprint(l.__name__)\\nprint(func.__name__)', '# Кстати функция сохраняет свое имя.\\ndef func(): \\n  pass\\n\\nb = func\\nfunc = 1\\nprint(b.__name__)', '# Кстати функция сохраняет свое имя.\\ndef func(): \\n  pass\\n\\nb = func\\nfunc = 1\\nprint(b.__name__)', '# Так как лямбда фактически таже самая функция, в ней могут присутствовать все\\n# доступные в функции типы аргументов.\\nl = lambda a, b=0, *args, c=7, **kwargs: print(a, b, args, c, kwargs)\\nl(1, 2, 3, 4 )', '# Рекурсия на лямбде. Она не совсем честная, потому что мы фактически именуем\\n# нашу лямбду и используем это имя.\\nfactorial = lambda a: a * factorial(a-1) if a>1 else 1\\nprint(factorial(4))', '# Есть возможность реализовать рекурсию и без этого трюка, но тут нужно\\n# использовать Y-комбинатор и все это выглядит очень плохо. Мое личное мнение - \\n# забейте. Но если очень любопытно: \\n# https://en.wikipedia.org/wiki/Fixed-point_combinator - теория.\\n# Попытка объяснения на русском https://habr.com/ru/post/50354/ (но без лямбд).\\n\\n# Сам комбинатор:\\nY = lambda g: ((lambda f: g(lambda *x: f(f) (*x))) ((lambda f: g(lambda *x: f(f)(*x)))))\\n\\n# Вычисление факториала рекурсивно с помощью комбинатора.\\nprint(Y(lambda f: (lambda num: num*f(num-1) if num else 1))(4))\\n\\n# Очевидно можно Y подставить в print и записать все в одну строку, но это\\n# будет вообще нечитаемо.', '# Функция, уменьшающая значение каждого элемента переданного аргумента на 1.\\nito = (1, 2, 3)\\ndec = lambda x: x-1\\nresult = map(dec, ito)\\nprint(result)  # обратите внимание, map возвращает итерируемый объект\\nprint(list(result))', '# Все то же самое, но изрядно сокращенное.\\nx = map(lambda x: x-1, [1, 2, 3])\\nprint(list(x))', '# Результат map можно применять, как и любой итерируемый объект, для любых \\n# наших целей. \\nx = map(lambda x: x-1, [1, 2, 3])\\nprint({el:el+1 for el in x})', '# Результат map можно применять, как и любой итерируемый объект, для любых \\n# наших целей. \\nx = map(lambda x: x-1, [1, 2, 3])\\nprint({el: el+1 for el in x})\\n\\nprint({el: el+1 for el in x})', '# Результат map можно применять, как и любой итерируемый объект, для любых \\n# наших целей. \\nx = map(lambda x: x-1, [1, 2, 3])\\nprint({el: el+1 for el in x})', '# Лямбды часто применяются в map, filter, reduce, однако можно применять и\\n# обычные функции.\\ndef dec(x):\\n  # some operations \\n  return x-1\\n\\nito = [1]\\nx = map(dec, ito)\\n\\nprint(list(x))', \"# Применение функции filter.\\nresult = filter(lambda x: x if x<0 else None, [-1, 2, 3])\\nresult = list(result)\\nprint('len:', len(result))\\nprint(result)\", '# Обратите внимание, filter также возвращает специальный итерируемый объект.\\nx = filter(lambda x: x<0, [-1, 2, 3])\\nprint(x)\\nprint(list(x))', \"# И еще один важный момент: по результату filter и map можно пройти только \\n# один раз.\\na = map(lambda x: x+1, [1,2,3])\\nx = filter(lambda x: x<0, [-1, 2, 3])\\n\\nprint('Map:')\\nprint(list(a))\\nprint(list(a))\\n\\nprint('Filter:')\\nprint(list(x))\\nprint(list(x))\", '# Альтернатива filter - те же самые генераторы.\\n[x for x in iterable if f(x)]', '# Пример использования reduce.\\nfrom functools import reduce\\npows = reduce(lambda x, y: x ** y, [1, 2, 3])\\nprint(pows)', '# Чуть более говорящий пример.\\nfrom functools import reduce\\npows = reduce((lambda x, y: x ** y), [2, 2, 3])\\nprint(pows)', '# Чуть более говорящий пример.\\nfrom functools import reduce\\npows = reduce((lambda x, y: x ** y), [2, 2, 3])\\nprint(pows)\\n\\n\\nsum = reduce((lambda x, y: x + y), [2, 2, 3])\\nprint(sum)', '# Чуть более говорящий пример.\\nfrom functools import reduce\\npows = reduce((lambda x, y: x ** y), [2, 2, 3])\\nprint(pows)\\n\\n\\nsum = reduce((lambda x, y: x + y), [2, 2, 3])\\nprint(sum)\\n\\nmul = reduce((lambda x, y: x * y), [2, 2, 3])\\nprint(mul)', '# На уровне модуля globals и locals будут совпадать - т.к. определенные в\\n# модуле переменные являются для него локальными, но также и глобальны - могут \\n# быть использованы в любом месте модуля.\\n\\n# Большое количество глобальных переменных в globals является следствием\\n# работы jupyter notebook. \\nglobal_var = 10\\nprint(globals())\\nprint(locals())', '# В функции локальная область видимости пустая если туда ничего не передается\\n# и не опреднеляется внутри.\\ndef func():\\n  print(globals())\\n  print(locals())\\n\\nfunc()', '# Локальными для функции являются: аргументы, созданные внутри нее переменные.\\ndef func(param):\\n  local_var = 10\\n  print(globals())\\n  print(locals())\\n\\nfunc(5)'], '_oh': {48: 120, 50: 120}, '_dh': [PosixPath('/Users/lavoncyk/Projects/python-courses-2025')], 'In': ['', '# Если в функции не задано возвращаемое значение, она возвращает None .\\ndef add(a, b):\\n    result = a + b\\n    print(result)\\n    return result\\n\\n# Вызываем функцию.\\nresult = add(1, 2.5)\\nprint(result)', '# Если в функции не задано возвращаемое значение, она возвращает None .\\ndef add(a, b):\\n    result = a + b\\n    return result\\n\\n# Вызываем функцию.\\nresult = add(1, 2.5)\\nprint(result)', '# Функция, у которой при задании есть все типы аргументов.\\ndef very_big_func(a, b=10, *args, c, d=1, **kwargs):\\n    print(a, b, args, c, d, kwargs)\\n\\nvery_big_func(1, 22, 3, e=7, c=5)\\n# 3 идет в args, е - в kwargs.', \"# Функция, у которой при задании есть все типы аргументов.\\ndef very_big_func(a, b=10, *args, c, d=1, **kwargs):\\n    print(a, b, args, c, d, kwargs)\\n\\nvery_big_func(1, 22, 3, e=7, c=5, f='6', g=10)\\n# 3 идет в args, е - в kwargs.\", \"# Функция, у которой при задании есть все типы аргументов.\\ndef very_big_func(a, b=10, *args, c, d=1, **kwargs):\\n    print(a, b, args, c, d, kwargs)\\n\\nvery_big_func(1, 22, 3, e=7, c=5, d=5, f='6', g=10)\\n# 3 идет в args, е - в kwargs.\", \"# Функция, у которой при задании есть все типы аргументов.\\ndef very_big_func(a, b=10, *args, c, d=1, **kwargs):\\n    print(a, b, args, c, d, kwargs)\\n\\nvery_big_func(1, 22, 3, 10, 11, 12, 13, 14 e=7, c=5, d=5, f='6', g=10)\\n# 3 идет в args, е - в kwargs.\", \"# Функция, у которой при задании есть все типы аргументов.\\ndef very_big_func(a, b=10, *args, c, d=1, **kwargs):\\n    print(a, b, args, c, d, kwargs)\\n\\nvery_big_func(1, 22, 3, 10, 11, 12, 13, 14, e=7, c=5, d=5, f='6', g=10)\\n# 3 идет в args, е - в kwargs.\", \"# Функция, у которой при задании есть все типы аргументов.\\ndef very_big_func(a, b=10, *args, c, d=1, **kwargs):\\n    print(a, b, args, c, d, kwargs)\\n\\nvery_big_func(a=1, b=22, e=7, c=5, d=5, f='6', g=10)\\n# 3 идет в args, е - в kwargs.\", '# Порядок задания параметров имеет значение. \\n# В случае его нарушения, будет ошибка.\\n\\n# В данном случае позиционный аргумент со значением по умолчанию идет раньше\\n# позиционного аргумента.\\ndef func_with_error(a=10, b):\\n    pass\\n\\nfunc_with_error(1, 1)', '# В случае, если у нас есть позиционные аргументы со значением по умолчанию, \\n# и есть *args, следует быть осторожным и не передавать позиционный аргумент \\n# по имени.\\ndef very_big_func(a, b, *args, c, d=1, **kwargs):\\n    print(a, b, args, c, d, kwargs)\\n\\nvery_big_func(1, 2, 3, b=8, c=5, e=7)\\n\\n# Идея присвоения значений аргументов в Python(и, соответственно, суть ошибки)\\n# Заключается в том, что сначала все, что передано по позиции, присваивается\\n# поочередно всем позиционным аргументам, после чего оставшиеся заворачиваются в \\n# args. В данном случае мы присвоили значения и a, и b, положили 3 в args, \\n# и после этого получаем b, переданный уже по имени.\\n\\n# Очевидно, такого эффекта не будет для аргументов, передаваемых только\\n# по имени.', '# Задание аргументов, передаваемых только по позиции, в случае, если нет *args.\\ndef func(a, *, c):\\n  print(a, c)\\n\\nfunc(3, c=10)\\n\\n# В случае если мы не хотим принимать неограниченное количество позиционных\\n# аргументов, мы можем просто указать оператор *, и все переменные, которые \\n# будут стоять после нее, будут передаваемыми только по имени.', 'def only_named_args(*, a, b):\\n    print(a, b)\\n\\nonly_named_args(a=1, b=2)', 'def only_positional_args(a, b, /):\\n    print(a, b)\\n\\n\\nonly_positional_args(1, 2)', 'def only_positional_args(a, b, /):\\n    print(a, b)\\n\\n\\nonly_positional_args(1, b=2)', \"# Распаковка итерируемых объектов и словарей при вызове функций. \\ndef func(a, b, *, c, d):\\n    print(a, b, c, d)\\n\\niterable = [1, 2]\\ndict_ = {'c': 5, 'd': 7}\\n\\nfunc(*iterable, **dict_) # func(1, 2, c=5, d=7)\", '# Если не указан *args, в распаковываемом объекте количество объектов должно\\n# быть равно количеству аргументов функций. Иначе - ошибка.\\ndef func(a, b):\\n    print(a, b)\\n\\niterable = [1, 2, 3]\\nfunc(*iterable)', \"# То же самое со словарями.\\ndef func(*, c, d):\\n    print(c, d)\\n\\ndict_ = {'c': 5, 'd': 7, 'e': 10}\\n\\nfunc(**dict_)\", '# Если не указан *args, в распаковываемом объекте количество объектов должно\\n# быть равно количеству аргументов функций. Иначе - ошибка.\\ndef func(a, b, *_):\\n    print(a, b)\\n\\niterable = [1, 2, 3]\\nfunc(*iterable)', '# Если не указан *args, в распаковываемом объекте количество объектов должно\\n# быть равно количеству аргументов функций. Иначе - ошибка.\\ndef func(a, b, *_):\\n    print(a, b, _)\\n\\niterable = [1, 2, 3]\\nfunc(*iterable)', '# Если не указан *args, в распаковываемом объекте количество объектов должно\\n# быть равно количеству аргументов функций. Иначе - ошибка.\\ndef func(a, b):\\n    print(a, b)\\n\\niterable = [1, 2, 3]\\nfunc(*iterable)', \"# То же самое со словарями.\\ndef func(*, c, d, **_):\\n    print(c, d)\\n\\ndict_ = {'c': 5, 'd': 7, 'e': 10}\\n\\nfunc(**dict_)\", \"# То же самое со словарями.\\ndef func(*, c, d, **_):\\n    print(c, d, _)\\n\\ndict_ = {'c': 5, 'd': 7, 'e': 10}\\n\\nfunc(**dict_)\", \"# То же самое со словарями.\\ndef func(*, c, d):\\n    print(c, d)\\n\\ndict_ = {'c': 5, 'd': 7, 'e': 10}\\n\\nfunc(**dict_)\", \"# Обратите внимание, что словари можно распаковывать не только если аргументы\\n# с соответствующими именами заданы как передаваемые только по значению. \\ndef func(c, d):\\n    print(c, d)\\n\\ndict_ = {'c': 5, 'd': 7}\\n\\nfunc(**dict_)\", \"# В отличие от задания функции, * и ** при вызове может встречаться несколько\\n# раз.\\ndef func(*args, **kwargs):  # функция, которая принимает любой набор аргументов\\n  print(args, kwargs)\\n\\niterable_1 = (1, )\\niterable_2 = [3, 4]\\ndict_1 = {'c': 5, 'd': 7}\\ndict_2 = {'e': 5, 'f': 7}\\n\\nfunc(*iterable_1, *iterable_2, **dict_1, **dict_2)\\n# Главное, чтобы вначале передавались позиционные аргументы, а потом аргументы,\\n# передаваемые по имени. Т.е. Сначала идут все распаковки *, а потом все **. \", \"# Не забываем, что строка - тоже итерируемый объект :) \\ndef func(*args):  # функция, которая принимает любой набор аргументов\\n    print(args)\\n\\nstr_ = 'string'\\nfunc(*str_)\", '# попробуем передать в функцию объекты разных типов.\\n\\ndef func(a):\\n    print(a, type(a))\\n\\n# Передадим некоторые стандартные типы данных.\\nfunc(1)  # целое число\\nfunc([1, 2])  # список\\nfunc({3, 4})  # множество', \"# Пример посложнее - передаем функцию в функцию.\\n\\ndef func(a):\\n    print(a, type(a))\\n\\ndef fun_func():\\n    print('fun')\\n\\nfunc(fun_func)\", \"# Мы можем передать как фнукцию, так и результат ее работы.\\n# Пример посложнее - передаем функцию в функцию.\\ndef func(a):\\n  print(a, type(a))\\n\\ndef fun_func():\\n  print('fun')\\n\\nfunc(fun_func())\\n# Интерпретируйте полученный результат.\", '# Неизменяемое значение по умолчанию.\\ndef func(a=1):\\n    a += 1\\n    return a\\n\\nprint(func())\\nprint(func())', '# Изменяемое значение по умолчанию.\\ndef func(a=[]):\\n    a.append(1)\\n    return a\\n\\nprint(func())\\nprint(func())\\nprint(func())', \"# Стандартный способ обработки таких ситуаций(и заодно пример boilerplate кода).\\n\\n# Изменяемое значение по умолчанию.\\ndef func(a=None):\\n    if a is None:\\n        a = []\\n    a += [1]\\n    return(a)\\n\\nprint(func())\\nprint(func())\\nprint(func())\\n\\n# Проверка 'if' a будет в большинстве случаев недостаточна, потому что нам может\\n# быть передан пустой список, и наш код в таком случае его перезапишет другим.\", 'def func(a=()):\\n    a += (1)\\n    return a\\n\\nprint(func())\\nprint(func())\\nprint(func())', 'def func(a=()):\\n    a += (1,)\\n    return a\\n\\nprint(func())\\nprint(func())\\nprint(func())', 'def func(a=[]):\\n    a = a.copy()\\n    a.append(1)\\n    return a\\n\\nprint(func())\\nprint(func())\\nprint(func())', '# Пример работы агрегирующих функции. \\niterable = {1, 2, 3, 4, 1, 2, 3, 4}\\n\\nprint(sum(iterable))  # интерпретируйте пожалуйста резулльтат выполнения\\nprint(max(iterable))\\nprint(min(iterable))', '# Пример работы агрегирующих функции. \\niterable = {1, 2, 3, 4, 1, 2, 3, 4}\\n\\nprint(sum(iterable))  # интерпретируйте пожалуйста резулльтат выполнения\\nprint(max(iterable))\\nprint(min(iterable))\\n\\nprint(sum(i for i in range(10)))', '# Важно, чтобы все элементы итерируемого объекта были сравнимы!\\ndef func(): \\n  pass\\n\\na = [func, 3]\\nprint(max(a))', \"# Пример функции преобразования типа и type.\\na = tuple('string')\\nprint(type(a), a)\", '# Решение с помощью any.\\ndef func(iterable):\\n  \"\"\"Checks if we have dict with non-empty \"key\": value pair.\\n\\n  Args:\\n    itr = [{}, {}, ...] - list of dicts\\n  Return:\\n    True/False\\n  \"\"\"\\n  return any(dct.get(\"key\") for dct in iterable)\\n\\ndct1 = [{1: 1}, {\"key\": None}, ]  # False\\nprint(func(dct1))', '# Вызов той же функции но с ожидаемым ответом True.\\ndef func(iterable):\\n  \"\"\"Checks if we have dict with non-empty \"key\": value pair.\\n\\n  Args:\\n    itr = [{}, {}, ...] - list of dicts\\n  Return:\\n    True/False\\n  \"\"\"\\n  return any([dct.get(\"key\") for dct in iterable])\\n\\ndct1 = [{1:1}, {\"key\": 1},]\\nprint(func(dct1))', '\"\"\"\\nПереформулируем задачу. \\nПроверить, содержат ли все словари в переданном итерируемом объекте пары\\nключ-значение с непустым(истинным) значением \\n\"\"\"\\n\\ndef func(iterable):\\n  return all(dct.get(\"key\") for dct in iterable)\\n\\ndct = [{1:1},{\"key\": 1},]\\nprint(func(dct))', \"# Важный момент, напрямую следующий из определения.\\nprint('all:', all([]))\\nprint('any:', any([]))\\n# Из этого следует, что изменение формулировки в определении критично.\", '# Простейшая рекурсивная функция - считает факториал. \\n#\\xa05! = 5 * 4 * 3 * 2 * 1\\ndef factorial(n):\\n  if n != 1:\\n    return n * factorial(n-1) # 3 * factorial(2) -> 3 * 2 * factorial(1) -> 3 * 2 * 1\\n  else:  # условия выхода из рекурсии\\n    return 1\\n\\nprint(factorial(4))', '# Простейшая рекурсивная функция - считает факториал. \\n#\\xa05! = 5 * 4 * 3 * 2 * 1\\ndef factorial(n):\\n  if n != 1:\\n    return n * factorial(n-1) # 3 * factorial(2) -> 3 * 2 * factorial(1) -> 3 * 2 * 1\\n  else:  # условия выхода из рекурсии\\n    return 1\\n\\nprint(factorial(10))', '# Простейшая рекурсивная функция - считает факториал. \\n#\\xa05! = 5 * 4 * 3 * 2 * 1\\ndef factorial(n):\\n  if n != 1:\\n    return n * factorial(n-1) # 3 * factorial(2) -> 3 * 2 * factorial(1) -> 3 * 2 * 1\\n  else:  # условия выхода из рекурсии\\n    return 1\\n\\nprint(factorial(100))', '# Простейшая рекурсивная функция - считает факториал. \\n#\\xa05! = 5 * 4 * 3 * 2 * 1\\ndef factorial(n):\\n  if n != 1:\\n    return n * factorial(n-1) # 3 * factorial(2) -> 3 * 2 * factorial(1) -> 3 * 2 * 1\\n  else:  # условия выхода из рекурсии\\n    return 1\\n\\nprint(factorial(1000))', '# Простейшая рекурсивная функция - считает факториал. \\n#\\xa05! = 5 * 4 * 3 * 2 * 1\\ndef factorial_loop(n):\\n    result = 1\\n    for i in range(1, n + 1):\\n       result *= i\\n    return result\\n\\nfactorial_loop(5)', '# Простейшая рекурсивная функция - считает факториал. \\n#\\xa05! = 5 * 4 * 3 * 2 * 1\\ndef factorial(n):\\n  if n != 1:\\n    return n * factorial(n-1) # 3 * factorial(2) -> 3 * 2 * factorial(1) -> 3 * 2 * 1\\n  else:  # условия выхода из рекурсии\\n    return 1\\n\\nprint(factorial(5))', '# Простейшая рекурсивная функция - считает факториал. \\n#\\xa05! = 5 * 4 * 3 * 2 * 1\\ndef factorial_loop(n):\\n    result = 1\\n    for i in range(1, n + 1):\\n       result *= i\\n    return result\\n\\nfactorial_loop(5)', \"# Расчет n-го числа Фибоначчи без использования рекурсии (начиная с второго)\\n# Замерим время исполнения программы.\\n# 1, 1, 2, 3, 5, 8, 13\\ndef fib(n):\\n  a1 = a2 = 1\\n  for el in range(3, n+1):\\n    a1, a2 = a2, a1 + a2\\n  return a2\\n\\nimport time\\nstart = time.time()\\nprint(fib(100))\\nprint('Execution time:', time.time() - start)\", \"# А сейчас то же самое но для рекурсии написанной в лоб.\\n\\ndef fib(n):\\n  if n in (1, 2):  # Условие выхода из рекурсии. Скобки здесь не обязательны\\n    return 1\\n  else:\\n    return fib(n-1) + fib(n-2)\\n\\nimport time\\nstart = time.time()\\nprint(fib(30))  # Обратите внимание, что здесь число в 3 раза меньше! \\nprint('Execution time:', time.time() - start)\", \"# А сейчас то же самое но для рекурсии написанной в лоб.\\n\\ndef fib(n):\\n  if n in (1, 2):  # Условие выхода из рекурсии. Скобки здесь не обязательны\\n    return 1\\n  else:\\n    return fib(n-1) + fib(n-2)\\n\\nimport time\\nstart = time.time()\\nprint(fib(100))  # Обратите внимание, что здесь число в 3 раза меньше! \\nprint('Execution time:', time.time() - start)\", \"# Реализуем кэширование чтобы избежать ситуации из прошлого примера.\\ncache = {}\\ndef fib(n):\\n  if n in (1, 2):\\n    return 1\\n  else:\\n    if not cache.get(n-1):\\n      cache[n-1] = fib(n-1)\\n    if not cache.get(n-2):\\n      cache[n-2] = fib(n-2)\\n    return cache.get(n-1) + cache.get(n-2)\\n\\nimport time\\nstart = time.time()\\nprint(fib(100))\\nprint('Execution time:', time.time() - start)\", '# Реализуем кэширование чтобы избежать ситуации из прошлого примера.\\ncache = {}\\ndef fib(n):\\n  if n in (1, 2):\\n    return 1\\n  else:\\n    if not cache.get(n-1):\\n      cache[n-1] = fib(n-1)\\n    if not cache.get(n-2):\\n      cache[n-2] = fib(n-2)\\n    return cache.get(n-1) + cache.get(n-2)\\n\\nimport time\\nstart = time.time()\\nprint(fib(100))\\nprint(\\'Execution time:\\', time.time() - start)\\nprint(\"Cache size:\", len(cache))', \"# Стоит обратить внимание на следующее:\\n# 1. Мы не можем использовать, например, setdefault к нашему кэшу, потому что\\n#    попадем в похожую ситуацию - ключ в словарь будет добавляться очень поздно. \\n# 2. На одном запуске сложно оценить производительность первого и второго\\n#    решения, но проведя тест например на 10000 зпусков можно получить более-менее\\n#    релевантные результаты для оценки производительности. \\n# 3. Рекурсия имеет максимальную глубину, обусловленную стэком вызовов.\\n#    например, на данный момент(декабрь 2020) посчитать 1000 число мы не можем.\\n# 4. Производительность зависит от реализации интерпретатора, и результаты могут\\n#    разительно отличаться в двух разных реализациях интерпретатора (и даже в \\n#    разных его версиях).\\nimport time\\n\\ndef fib_for(n):\\n  a1 = a2 = 1\\n  for el in range(3, n+1):\\n    a1, a2 = a2, a1 + a2\\n  return a2\\n\\nstart = time.time()\\nfor _ in range(10000):\\n  fib_for(100)\\nprint('Execution time (for loop):', time.time() - start)\\n\\n\\ncache = {}\\ndef fib_recur(n):\\n  if n in (1, 2):\\n    return 1\\n  else:\\n    if not cache.get(n-1):\\n      cache[n-1] = fib(n-1)\\n    if not cache.get(n-2):\\n      cache[n-2] = fib(n-2)\\n    return cache.get(n-1) + cache.get(n-2)\\n\\nstart = time.time()\\nfor _ in range(10000):\\n  fib_recur(100)\\nprint('Execution time (recursive):', time.time() - start)\", '# Зададим простейшую лямбда-функцию.\\npower_2 = lambda x: x ** 2\\nprint(power_2(5))', '# Зададим простейшую лямбда-функцию.\\npower_2 = lambda x: x ** 2\\nprint(power_2(5))\\n\\nprint(power_2.__name__)', '# Зададим простейшую лямбда-функцию.\\npower_2 = lambda x: x ** 2\\nprint(power_2(5))', '# Лямбда функция может быть задана и сразу вызвана. Кроме того ее необязательно\\n# присваивать какой бы то ни было переменной.\\nprint((lambda x: x+1)(5))', '# Это считается плохой практикой, но в Python можно записывать несколько\\n# инструкций на одной строке, используя ;.\\nprint(1); print(2)', '# Но с лямбдой такого фокуса не выйдет.\\nl = (lambda x: print(1); print(2))\\nprint(l(5))', '# Немного более сложное выражение в лямбде.\\nl = lambda a: [element + 1 for element in a]\\nprint(l([2,3]))', '# Лямбда всегда возвращает результат выполнения body.\\nl = lambda a: print(a)\\nprint(l(a=2))', '# Самый простой способ сделать более сложные вычисления в лямбде - поместить в \\n# тело функцию. Однако возникает вопрос зачем нам тогда лямбда.\\ndef func(a, b):\\n    print(\"don\\'t do in this manner\")\\n    print(\"don\\'t do in this manner\")\\n    print(\"don\\'t do in this manner\")\\n    print(\"don\\'t do in this manner\")\\n\\nl = lambda a, b: func(a, b)\\nl(2,3)', '# Фактически, одно из главных отличий лямбды в Python от обычной функции.\\nl = lambda arg: arg + 1\\n\\ndef func(): \\n  pass\\n\\nprint(l.__name__)\\nprint(func.__name__)', '# Кстати функция сохраняет свое имя.\\ndef func(): \\n  pass\\n\\nb = func\\nfunc = 1\\nprint(b.__name__)', '# Кстати функция сохраняет свое имя.\\ndef func(): \\n  pass\\n\\nb = func\\nfunc = 1\\nprint(b.__name__)', '# Так как лямбда фактически таже самая функция, в ней могут присутствовать все\\n# доступные в функции типы аргументов.\\nl = lambda a, b=0, *args, c=7, **kwargs: print(a, b, args, c, kwargs)\\nl(1, 2, 3, 4 )', '# Рекурсия на лямбде. Она не совсем честная, потому что мы фактически именуем\\n# нашу лямбду и используем это имя.\\nfactorial = lambda a: a * factorial(a-1) if a>1 else 1\\nprint(factorial(4))', '# Есть возможность реализовать рекурсию и без этого трюка, но тут нужно\\n# использовать Y-комбинатор и все это выглядит очень плохо. Мое личное мнение - \\n# забейте. Но если очень любопытно: \\n# https://en.wikipedia.org/wiki/Fixed-point_combinator - теория.\\n# Попытка объяснения на русском https://habr.com/ru/post/50354/ (но без лямбд).\\n\\n# Сам комбинатор:\\nY = lambda g: ((lambda f: g(lambda *x: f(f) (*x))) ((lambda f: g(lambda *x: f(f)(*x)))))\\n\\n# Вычисление факториала рекурсивно с помощью комбинатора.\\nprint(Y(lambda f: (lambda num: num*f(num-1) if num else 1))(4))\\n\\n# Очевидно можно Y подставить в print и записать все в одну строку, но это\\n# будет вообще нечитаемо.', '# Функция, уменьшающая значение каждого элемента переданного аргумента на 1.\\nito = (1, 2, 3)\\ndec = lambda x: x-1\\nresult = map(dec, ito)\\nprint(result)  # обратите внимание, map возвращает итерируемый объект\\nprint(list(result))', '# Все то же самое, но изрядно сокращенное.\\nx = map(lambda x: x-1, [1, 2, 3])\\nprint(list(x))', '# Результат map можно применять, как и любой итерируемый объект, для любых \\n# наших целей. \\nx = map(lambda x: x-1, [1, 2, 3])\\nprint({el:el+1 for el in x})', '# Результат map можно применять, как и любой итерируемый объект, для любых \\n# наших целей. \\nx = map(lambda x: x-1, [1, 2, 3])\\nprint({el: el+1 for el in x})\\n\\nprint({el: el+1 for el in x})', '# Результат map можно применять, как и любой итерируемый объект, для любых \\n# наших целей. \\nx = map(lambda x: x-1, [1, 2, 3])\\nprint({el: el+1 for el in x})', '# Лямбды часто применяются в map, filter, reduce, однако можно применять и\\n# обычные функции.\\ndef dec(x):\\n  # some operations \\n  return x-1\\n\\nito = [1]\\nx = map(dec, ito)\\n\\nprint(list(x))', \"# Применение функции filter.\\nresult = filter(lambda x: x if x<0 else None, [-1, 2, 3])\\nresult = list(result)\\nprint('len:', len(result))\\nprint(result)\", '# Обратите внимание, filter также возвращает специальный итерируемый объект.\\nx = filter(lambda x: x<0, [-1, 2, 3])\\nprint(x)\\nprint(list(x))', \"# И еще один важный момент: по результату filter и map можно пройти только \\n# один раз.\\na = map(lambda x: x+1, [1,2,3])\\nx = filter(lambda x: x<0, [-1, 2, 3])\\n\\nprint('Map:')\\nprint(list(a))\\nprint(list(a))\\n\\nprint('Filter:')\\nprint(list(x))\\nprint(list(x))\", '# Альтернатива filter - те же самые генераторы.\\n[x for x in iterable if f(x)]', '# Пример использования reduce.\\nfrom functools import reduce\\npows = reduce(lambda x, y: x ** y, [1, 2, 3])\\nprint(pows)', '# Чуть более говорящий пример.\\nfrom functools import reduce\\npows = reduce((lambda x, y: x ** y), [2, 2, 3])\\nprint(pows)', '# Чуть более говорящий пример.\\nfrom functools import reduce\\npows = reduce((lambda x, y: x ** y), [2, 2, 3])\\nprint(pows)\\n\\n\\nsum = reduce((lambda x, y: x + y), [2, 2, 3])\\nprint(sum)', '# Чуть более говорящий пример.\\nfrom functools import reduce\\npows = reduce((lambda x, y: x ** y), [2, 2, 3])\\nprint(pows)\\n\\n\\nsum = reduce((lambda x, y: x + y), [2, 2, 3])\\nprint(sum)\\n\\nmul = reduce((lambda x, y: x * y), [2, 2, 3])\\nprint(mul)', '# На уровне модуля globals и locals будут совпадать - т.к. определенные в\\n# модуле переменные являются для него локальными, но также и глобальны - могут \\n# быть использованы в любом месте модуля.\\n\\n# Большое количество глобальных переменных в globals является следствием\\n# работы jupyter notebook. \\nglobal_var = 10\\nprint(globals())\\nprint(locals())', '# В функции локальная область видимости пустая если туда ничего не передается\\n# и не опреднеляется внутри.\\ndef func():\\n  print(globals())\\n  print(locals())\\n\\nfunc()', '# Локальными для функции являются: аргументы, созданные внутри нее переменные.\\ndef func(param):\\n  local_var = 10\\n  print(globals())\\n  print(locals())\\n\\nfunc(5)'], 'Out': {48: 120, 50: 120}, 'get_ipython': <bound method InteractiveShell.get_ipython of <ipykernel.zmqshell.ZMQInteractiveShell object at 0x1080f92b0>>, 'exit': <IPython.core.autocall.ZMQExitAutocall object at 0x1080f98e0>, 'quit': <IPython.core.autocall.ZMQExitAutocall object at 0x1080f98e0>, 'open': <function open at 0x106f6e7a0>, '_': 9999, '__': 120, '___': '', '__vsc_ipynb_file__': '/Users/lavoncyk/Projects/python-courses-2025/7_functions.ipynb', '_i': '# В функции локальная область видимости пустая если туда ничего не передается\\n# и не опреднеляется внутри.\\ndef func():\\n  print(globals())\\n  print(locals())\\n\\nfunc()', '_ii': '# На уровне модуля globals и locals будут совпадать - т.к. определенные в\\n# модуле переменные являются для него локальными, но также и глобальны - могут \\n# быть использованы в любом месте модуля.\\n\\n# Большое количество глобальных переменных в globals является следствием\\n# работы jupyter notebook. \\nglobal_var = 10\\nprint(globals())\\nprint(locals())', '_iii': '# Чуть более говорящий пример.\\nfrom functools import reduce\\npows = reduce((lambda x, y: x ** y), [2, 2, 3])\\nprint(pows)\\n\\n\\nsum = reduce((lambda x, y: x + y), [2, 2, 3])\\nprint(sum)\\n\\nmul = reduce((lambda x, y: x * y), [2, 2, 3])\\nprint(mul)', '_i1': '# Если в функции не задано возвращаемое значение, она возвращает None .\\ndef add(a, b):\\n    result = a + b\\n    print(result)\\n    return result\\n\\n# Вызываем функцию.\\nresult = add(1, 2.5)\\nprint(result)', 'add': <function add at 0x108113600>, 'result': [-1], '_i2': '# Если в функции не задано возвращаемое значение, она возвращает None .\\ndef add(a, b):\\n    result = a + b\\n    return result\\n\\n# Вызываем функцию.\\nresult = add(1, 2.5)\\nprint(result)', '_i3': '# Функция, у которой при задании есть все типы аргументов.\\ndef very_big_func(a, b=10, *args, c, d=1, **kwargs):\\n    print(a, b, args, c, d, kwargs)\\n\\nvery_big_func(1, 22, 3, e=7, c=5)\\n# 3 идет в args, е - в kwargs.', 'very_big_func': <function very_big_func at 0x1081689a0>, '_i4': \"# Функция, у которой при задании есть все типы аргументов.\\ndef very_big_func(a, b=10, *args, c, d=1, **kwargs):\\n    print(a, b, args, c, d, kwargs)\\n\\nvery_big_func(1, 22, 3, e=7, c=5, f='6', g=10)\\n# 3 идет в args, е - в kwargs.\", '_i5': \"# Функция, у которой при задании есть все типы аргументов.\\ndef very_big_func(a, b=10, *args, c, d=1, **kwargs):\\n    print(a, b, args, c, d, kwargs)\\n\\nvery_big_func(1, 22, 3, e=7, c=5, d=5, f='6', g=10)\\n# 3 идет в args, е - в kwargs.\", '_i6': \"# Функция, у которой при задании есть все типы аргументов.\\ndef very_big_func(a, b=10, *args, c, d=1, **kwargs):\\n    print(a, b, args, c, d, kwargs)\\n\\nvery_big_func(1, 22, 3, 10, 11, 12, 13, 14 e=7, c=5, d=5, f='6', g=10)\\n# 3 идет в args, е - в kwargs.\", '_i7': \"# Функция, у которой при задании есть все типы аргументов.\\ndef very_big_func(a, b=10, *args, c, d=1, **kwargs):\\n    print(a, b, args, c, d, kwargs)\\n\\nvery_big_func(1, 22, 3, 10, 11, 12, 13, 14, e=7, c=5, d=5, f='6', g=10)\\n# 3 идет в args, е - в kwargs.\", '_i8': \"# Функция, у которой при задании есть все типы аргументов.\\ndef very_big_func(a, b=10, *args, c, d=1, **kwargs):\\n    print(a, b, args, c, d, kwargs)\\n\\nvery_big_func(a=1, b=22, e=7, c=5, d=5, f='6', g=10)\\n# 3 идет в args, е - в kwargs.\", '_i9': '# Порядок задания параметров имеет значение. \\n# В случае его нарушения, будет ошибка.\\n\\n# В данном случае позиционный аргумент со значением по умолчанию идет раньше\\n# позиционного аргумента.\\ndef func_with_error(a=10, b):\\n    pass\\n\\nfunc_with_error(1, 1)', '_i10': '# В случае, если у нас есть позиционные аргументы со значением по умолчанию, \\n# и есть *args, следует быть осторожным и не передавать позиционный аргумент \\n# по имени.\\ndef very_big_func(a, b, *args, c, d=1, **kwargs):\\n    print(a, b, args, c, d, kwargs)\\n\\nvery_big_func(1, 2, 3, b=8, c=5, e=7)\\n\\n# Идея присвоения значений аргументов в Python(и, соответственно, суть ошибки)\\n# Заключается в том, что сначала все, что передано по позиции, присваивается\\n# поочередно всем позиционным аргументам, после чего оставшиеся заворачиваются в \\n# args. В данном случае мы присвоили значения и a, и b, положили 3 в args, \\n# и после этого получаем b, переданный уже по имени.\\n\\n# Очевидно, такого эффекта не будет для аргументов, передаваемых только\\n# по имени.', '_i11': '# Задание аргументов, передаваемых только по позиции, в случае, если нет *args.\\ndef func(a, *, c):\\n  print(a, c)\\n\\nfunc(3, c=10)\\n\\n# В случае если мы не хотим принимать неограниченное количество позиционных\\n# аргументов, мы можем просто указать оператор *, и все переменные, которые \\n# будут стоять после нее, будут передаваемыми только по имени.', 'func': <function func at 0x108b884a0>, '_i12': 'def only_named_args(*, a, b):\\n    print(a, b)\\n\\nonly_named_args(a=1, b=2)', 'only_named_args': <function only_named_args at 0x1086d6200>, '_i13': 'def only_positional_args(a, b, /):\\n    print(a, b)\\n\\n\\nonly_positional_args(1, 2)', 'only_positional_args': <function only_positional_args at 0x1086d6b60>, '_i14': 'def only_positional_args(a, b, /):\\n    print(a, b)\\n\\n\\nonly_positional_args(1, b=2)', '_i15': \"# Распаковка итерируемых объектов и словарей при вызове функций. \\ndef func(a, b, *, c, d):\\n    print(a, b, c, d)\\n\\niterable = [1, 2]\\ndict_ = {'c': 5, 'd': 7}\\n\\nfunc(*iterable, **dict_) # func(1, 2, c=5, d=7)\", 'iterable': {1, 2, 3, 4}, 'dict_': {'c': 5, 'd': 7}, '_i16': '# Если не указан *args, в распаковываемом объекте количество объектов должно\\n# быть равно количеству аргументов функций. Иначе - ошибка.\\ndef func(a, b):\\n    print(a, b)\\n\\niterable = [1, 2, 3]\\nfunc(*iterable)', '_i17': \"# То же самое со словарями.\\ndef func(*, c, d):\\n    print(c, d)\\n\\ndict_ = {'c': 5, 'd': 7, 'e': 10}\\n\\nfunc(**dict_)\", '_i18': '# Если не указан *args, в распаковываемом объекте количество объектов должно\\n# быть равно количеству аргументов функций. Иначе - ошибка.\\ndef func(a, b, *_):\\n    print(a, b)\\n\\niterable = [1, 2, 3]\\nfunc(*iterable)', '_i19': '# Если не указан *args, в распаковываемом объекте количество объектов должно\\n# быть равно количеству аргументов функций. Иначе - ошибка.\\ndef func(a, b, *_):\\n    print(a, b, _)\\n\\niterable = [1, 2, 3]\\nfunc(*iterable)', '_i20': '# Если не указан *args, в распаковываемом объекте количество объектов должно\\n# быть равно количеству аргументов функций. Иначе - ошибка.\\ndef func(a, b):\\n    print(a, b)\\n\\niterable = [1, 2, 3]\\nfunc(*iterable)', '_i21': \"# То же самое со словарями.\\ndef func(*, c, d, **_):\\n    print(c, d)\\n\\ndict_ = {'c': 5, 'd': 7, 'e': 10}\\n\\nfunc(**dict_)\", '_i22': \"# То же самое со словарями.\\ndef func(*, c, d, **_):\\n    print(c, d, _)\\n\\ndict_ = {'c': 5, 'd': 7, 'e': 10}\\n\\nfunc(**dict_)\", '_i23': \"# То же самое со словарями.\\ndef func(*, c, d):\\n    print(c, d)\\n\\ndict_ = {'c': 5, 'd': 7, 'e': 10}\\n\\nfunc(**dict_)\", '_i24': \"# Обратите внимание, что словари можно распаковывать не только если аргументы\\n# с соответствующими именами заданы как передаваемые только по значению. \\ndef func(c, d):\\n    print(c, d)\\n\\ndict_ = {'c': 5, 'd': 7}\\n\\nfunc(**dict_)\", '_i25': \"# В отличие от задания функции, * и ** при вызове может встречаться несколько\\n# раз.\\ndef func(*args, **kwargs):  # функция, которая принимает любой набор аргументов\\n  print(args, kwargs)\\n\\niterable_1 = (1, )\\niterable_2 = [3, 4]\\ndict_1 = {'c': 5, 'd': 7}\\ndict_2 = {'e': 5, 'f': 7}\\n\\nfunc(*iterable_1, *iterable_2, **dict_1, **dict_2)\\n# Главное, чтобы вначале передавались позиционные аргументы, а потом аргументы,\\n# передаваемые по имени. Т.е. Сначала идут все распаковки *, а потом все **. \", 'iterable_1': (1,), 'iterable_2': [3, 4], 'dict_1': {'c': 5, 'd': 7}, 'dict_2': {'e': 5, 'f': 7}, '_i26': \"# Не забываем, что строка - тоже итерируемый объект :) \\ndef func(*args):  # функция, которая принимает любой набор аргументов\\n    print(args)\\n\\nstr_ = 'string'\\nfunc(*str_)\", 'str_': 'string', '_i27': '# попробуем передать в функцию объекты разных типов.\\n\\ndef func(a):\\n    print(a, type(a))\\n\\n# Передадим некоторые стандартные типы данных.\\nfunc(1)  # целое число\\nfunc([1, 2])  # список\\nfunc({3, 4})  # множество', '_i28': \"# Пример посложнее - передаем функцию в функцию.\\n\\ndef func(a):\\n    print(a, type(a))\\n\\ndef fun_func():\\n    print('fun')\\n\\nfunc(fun_func)\", 'fun_func': <function fun_func at 0x10876d3a0>, '_i29': \"# Мы можем передать как фнукцию, так и результат ее работы.\\n# Пример посложнее - передаем функцию в функцию.\\ndef func(a):\\n  print(a, type(a))\\n\\ndef fun_func():\\n  print('fun')\\n\\nfunc(fun_func())\\n# Интерпретируйте полученный результат.\", '_i30': '# Неизменяемое значение по умолчанию.\\ndef func(a=1):\\n    a += 1\\n    return a\\n\\nprint(func())\\nprint(func())', '_i31': '# Изменяемое значение по умолчанию.\\ndef func(a=[]):\\n    a.append(1)\\n    return a\\n\\nprint(func())\\nprint(func())\\nprint(func())', '_i32': \"# Стандартный способ обработки таких ситуаций(и заодно пример boilerplate кода).\\n\\n# Изменяемое значение по умолчанию.\\ndef func(a=None):\\n    if a is None:\\n        a = []\\n    a += [1]\\n    return(a)\\n\\nprint(func())\\nprint(func())\\nprint(func())\\n\\n# Проверка 'if' a будет в большинстве случаев недостаточна, потому что нам может\\n# быть передан пустой список, и наш код в таком случае его перезапишет другим.\", '_i33': 'def func(a=()):\\n    a += (1)\\n    return a\\n\\nprint(func())\\nprint(func())\\nprint(func())', '_i34': 'def func(a=()):\\n    a += (1,)\\n    return a\\n\\nprint(func())\\nprint(func())\\nprint(func())', '_i35': 'def func(a=[]):\\n    a = a.copy()\\n    a.append(1)\\n    return a\\n\\nprint(func())\\nprint(func())\\nprint(func())', '_i36': '# Пример работы агрегирующих функции. \\niterable = {1, 2, 3, 4, 1, 2, 3, 4}\\n\\nprint(sum(iterable))  # интерпретируйте пожалуйста резулльтат выполнения\\nprint(max(iterable))\\nprint(min(iterable))', '_i37': '# Пример работы агрегирующих функции. \\niterable = {1, 2, 3, 4, 1, 2, 3, 4}\\n\\nprint(sum(iterable))  # интерпретируйте пожалуйста резулльтат выполнения\\nprint(max(iterable))\\nprint(min(iterable))\\n\\nprint(sum(i for i in range(10)))', '_i38': '# Важно, чтобы все элементы итерируемого объекта были сравнимы!\\ndef func(): \\n  pass\\n\\na = [func, 3]\\nprint(max(a))', 'a': <map object at 0x1082bbe50>, '_i39': \"# Пример функции преобразования типа и type.\\na = tuple('string')\\nprint(type(a), a)\", '_i40': '# Решение с помощью any.\\ndef func(iterable):\\n  \"\"\"Checks if we have dict with non-empty \"key\": value pair.\\n\\n  Args:\\n    itr = [{}, {}, ...] - list of dicts\\n  Return:\\n    True/False\\n  \"\"\"\\n  return any(dct.get(\"key\") for dct in iterable)\\n\\ndct1 = [{1: 1}, {\"key\": None}, ]  # False\\nprint(func(dct1))', 'dct1': [{1: 1}, {'key': 1}], '_i41': '# Вызов той же функции но с ожидаемым ответом True.\\ndef func(iterable):\\n  \"\"\"Checks if we have dict with non-empty \"key\": value pair.\\n\\n  Args:\\n    itr = [{}, {}, ...] - list of dicts\\n  Return:\\n    True/False\\n  \"\"\"\\n  return any([dct.get(\"key\") for dct in iterable])\\n\\ndct1 = [{1:1}, {\"key\": 1},]\\nprint(func(dct1))', '_i42': '\"\"\"\\nПереформулируем задачу. \\nПроверить, содержат ли все словари в переданном итерируемом объекте пары\\nключ-значение с непустым(истинным) значением \\n\"\"\"\\n\\ndef func(iterable):\\n  return all(dct.get(\"key\") for dct in iterable)\\n\\ndct = [{1:1},{\"key\": 1},]\\nprint(func(dct))', 'dct': [{1: 1}, {'key': 1}], '_i43': \"# Важный момент, напрямую следующий из определения.\\nprint('all:', all([]))\\nprint('any:', any([]))\\n# Из этого следует, что изменение формулировки в определении критично.\", '_i44': '# Простейшая рекурсивная функция - считает факториал. \\n#\\xa05! = 5 * 4 * 3 * 2 * 1\\ndef factorial(n):\\n  if n != 1:\\n    return n * factorial(n-1) # 3 * factorial(2) -> 3 * 2 * factorial(1) -> 3 * 2 * 1\\n  else:  # условия выхода из рекурсии\\n    return 1\\n\\nprint(factorial(4))', 'factorial': <function <lambda> at 0x108b1b600>, '_i45': '# Простейшая рекурсивная функция - считает факториал. \\n#\\xa05! = 5 * 4 * 3 * 2 * 1\\ndef factorial(n):\\n  if n != 1:\\n    return n * factorial(n-1) # 3 * factorial(2) -> 3 * 2 * factorial(1) -> 3 * 2 * 1\\n  else:  # условия выхода из рекурсии\\n    return 1\\n\\nprint(factorial(10))', '_i46': '# Простейшая рекурсивная функция - считает факториал. \\n#\\xa05! = 5 * 4 * 3 * 2 * 1\\ndef factorial(n):\\n  if n != 1:\\n    return n * factorial(n-1) # 3 * factorial(2) -> 3 * 2 * factorial(1) -> 3 * 2 * 1\\n  else:  # условия выхода из рекурсии\\n    return 1\\n\\nprint(factorial(100))', '_i47': '# Простейшая рекурсивная функция - считает факториал. \\n#\\xa05! = 5 * 4 * 3 * 2 * 1\\ndef factorial(n):\\n  if n != 1:\\n    return n * factorial(n-1) # 3 * factorial(2) -> 3 * 2 * factorial(1) -> 3 * 2 * 1\\n  else:  # условия выхода из рекурсии\\n    return 1\\n\\nprint(factorial(1000))', '_i48': '# Простейшая рекурсивная функция - считает факториал. \\n#\\xa05! = 5 * 4 * 3 * 2 * 1\\ndef factorial_loop(n):\\n    result = 1\\n    for i in range(1, n + 1):\\n       result *= i\\n    return result\\n\\nfactorial_loop(5)', 'factorial_loop': <function factorial_loop at 0x10880a020>, '_48': 120, '_i49': '# Простейшая рекурсивная функция - считает факториал. \\n#\\xa05! = 5 * 4 * 3 * 2 * 1\\ndef factorial(n):\\n  if n != 1:\\n    return n * factorial(n-1) # 3 * factorial(2) -> 3 * 2 * factorial(1) -> 3 * 2 * 1\\n  else:  # условия выхода из рекурсии\\n    return 1\\n\\nprint(factorial(5))', '_i50': '# Простейшая рекурсивная функция - считает факториал. \\n#\\xa05! = 5 * 4 * 3 * 2 * 1\\ndef factorial_loop(n):\\n    result = 1\\n    for i in range(1, n + 1):\\n       result *= i\\n    return result\\n\\nfactorial_loop(5)', '_50': 120, '_i51': \"# Расчет n-го числа Фибоначчи без использования рекурсии (начиная с второго)\\n# Замерим время исполнения программы.\\n# 1, 1, 2, 3, 5, 8, 13\\ndef fib(n):\\n  a1 = a2 = 1\\n  for el in range(3, n+1):\\n    a1, a2 = a2, a1 + a2\\n  return a2\\n\\nimport time\\nstart = time.time()\\nprint(fib(100))\\nprint('Execution time:', time.time() - start)\", 'fib': <function fib at 0x108b1a020>, 'time': <module 'time' (built-in)>, 'start': 1742404567.577365, '_i52': \"# А сейчас то же самое но для рекурсии написанной в лоб.\\n\\ndef fib(n):\\n  if n in (1, 2):  # Условие выхода из рекурсии. Скобки здесь не обязательны\\n    return 1\\n  else:\\n    return fib(n-1) + fib(n-2)\\n\\nimport time\\nstart = time.time()\\nprint(fib(30))  # Обратите внимание, что здесь число в 3 раза меньше! \\nprint('Execution time:', time.time() - start)\", '_i53': \"# А сейчас то же самое но для рекурсии написанной в лоб.\\n\\ndef fib(n):\\n  if n in (1, 2):  # Условие выхода из рекурсии. Скобки здесь не обязательны\\n    return 1\\n  else:\\n    return fib(n-1) + fib(n-2)\\n\\nimport time\\nstart = time.time()\\nprint(fib(100))  # Обратите внимание, что здесь число в 3 раза меньше! \\nprint('Execution time:', time.time() - start)\", '_i54': \"# Реализуем кэширование чтобы избежать ситуации из прошлого примера.\\ncache = {}\\ndef fib(n):\\n  if n in (1, 2):\\n    return 1\\n  else:\\n    if not cache.get(n-1):\\n      cache[n-1] = fib(n-1)\\n    if not cache.get(n-2):\\n      cache[n-2] = fib(n-2)\\n    return cache.get(n-1) + cache.get(n-2)\\n\\nimport time\\nstart = time.time()\\nprint(fib(100))\\nprint('Execution time:', time.time() - start)\", 'cache': {2: 1, 1: 1, 3: 2, 4: 3, 5: 5, 6: 8, 7: 13, 8: 21, 9: 34, 10: 55, 11: 89, 12: 144, 13: 233, 14: 377, 15: 610, 16: 987, 17: 1597, 18: 2584, 19: 4181, 20: 6765, 21: 10946, 22: 17711, 23: 28657, 24: 46368, 25: 75025, 26: 121393, 27: 196418, 28: 317811, 29: 514229, 30: 832040, 31: 1346269, 32: 2178309, 33: 3524578, 34: 5702887, 35: 9227465, 36: 14930352, 37: 24157817, 38: 39088169, 39: 63245986, 40: 102334155, 41: 165580141, 42: 267914296, 43: 433494437, 44: 701408733, 45: 1134903170, 46: 1836311903, 47: 2971215073, 48: 4807526976, 49: 7778742049, 50: 12586269025, 51: 20365011074, 52: 32951280099, 53: 53316291173, 54: 86267571272, 55: 139583862445, 56: 225851433717, 57: 365435296162, 58: 591286729879, 59: 956722026041, 60: 1548008755920, 61: 2504730781961, 62: 4052739537881, 63: 6557470319842, 64: 10610209857723, 65: 17167680177565, 66: 27777890035288, 67: 44945570212853, 68: 72723460248141, 69: 117669030460994, 70: 190392490709135, 71: 308061521170129, 72: 498454011879264, 73: 806515533049393, 74: 1304969544928657, 75: 2111485077978050, 76: 3416454622906707, 77: 5527939700884757, 78: 8944394323791464, 79: 14472334024676221, 80: 23416728348467685, 81: 37889062373143906, 82: 61305790721611591, 83: 99194853094755497, 84: 160500643816367088, 85: 259695496911122585, 86: 420196140727489673, 87: 679891637638612258, 88: 1100087778366101931, 89: 1779979416004714189, 90: 2880067194370816120, 91: 4660046610375530309, 92: 7540113804746346429, 93: 12200160415121876738, 94: 19740274219868223167, 95: 31940434634990099905, 96: 51680708854858323072, 97: 83621143489848422977, 98: 135301852344706746049, 99: 218922995834555169026}, '_i55': '# Реализуем кэширование чтобы избежать ситуации из прошлого примера.\\ncache = {}\\ndef fib(n):\\n  if n in (1, 2):\\n    return 1\\n  else:\\n    if not cache.get(n-1):\\n      cache[n-1] = fib(n-1)\\n    if not cache.get(n-2):\\n      cache[n-2] = fib(n-2)\\n    return cache.get(n-1) + cache.get(n-2)\\n\\nimport time\\nstart = time.time()\\nprint(fib(100))\\nprint(\\'Execution time:\\', time.time() - start)\\nprint(\"Cache size:\", len(cache))', '_i56': \"# Стоит обратить внимание на следующее:\\n# 1. Мы не можем использовать, например, setdefault к нашему кэшу, потому что\\n#    попадем в похожую ситуацию - ключ в словарь будет добавляться очень поздно. \\n# 2. На одном запуске сложно оценить производительность первого и второго\\n#    решения, но проведя тест например на 10000 зпусков можно получить более-менее\\n#    релевантные результаты для оценки производительности. \\n# 3. Рекурсия имеет максимальную глубину, обусловленную стэком вызовов.\\n#    например, на данный момент(декабрь 2020) посчитать 1000 число мы не можем.\\n# 4. Производительность зависит от реализации интерпретатора, и результаты могут\\n#    разительно отличаться в двух разных реализациях интерпретатора (и даже в \\n#    разных его версиях).\\nimport time\\n\\ndef fib_for(n):\\n  a1 = a2 = 1\\n  for el in range(3, n+1):\\n    a1, a2 = a2, a1 + a2\\n  return a2\\n\\nstart = time.time()\\nfor _ in range(10000):\\n  fib_for(100)\\nprint('Execution time (for loop):', time.time() - start)\\n\\n\\ncache = {}\\ndef fib_recur(n):\\n  if n in (1, 2):\\n    return 1\\n  else:\\n    if not cache.get(n-1):\\n      cache[n-1] = fib(n-1)\\n    if not cache.get(n-2):\\n      cache[n-2] = fib(n-2)\\n    return cache.get(n-1) + cache.get(n-2)\\n\\nstart = time.time()\\nfor _ in range(10000):\\n  fib_recur(100)\\nprint('Execution time (recursive):', time.time() - start)\", 'fib_for': <function fib_for at 0x10880aca0>, 'fib_recur': <function fib_recur at 0x108809da0>, '_i57': '# Зададим простейшую лямбда-функцию.\\npower_2 = lambda x: x ** 2\\nprint(power_2(5))', 'power_2': <function <lambda> at 0x108b1b240>, '_i58': '# Зададим простейшую лямбда-функцию.\\npower_2 = lambda x: x ** 2\\nprint(power_2(5))\\n\\nprint(power_2.__name__)', '_i59': '# Зададим простейшую лямбда-функцию.\\npower_2 = lambda x: x ** 2\\nprint(power_2(5))', '_i60': '# Лямбда функция может быть задана и сразу вызвана. Кроме того ее необязательно\\n# присваивать какой бы то ни было переменной.\\nprint((lambda x: x+1)(5))', '_i61': '# Это считается плохой практикой, но в Python можно записывать несколько\\n# инструкций на одной строке, используя ;.\\nprint(1); print(2)', '_i62': '# Но с лямбдой такого фокуса не выйдет.\\nl = (lambda x: print(1); print(2))\\nprint(l(5))', '_i63': '# Немного более сложное выражение в лямбде.\\nl = lambda a: [element + 1 for element in a]\\nprint(l([2,3]))', 'l': <function <lambda> at 0x108b1b380>, '_i64': '# Лямбда всегда возвращает результат выполнения body.\\nl = lambda a: print(a)\\nprint(l(a=2))', '_i65': '# Самый простой способ сделать более сложные вычисления в лямбде - поместить в \\n# тело функцию. Однако возникает вопрос зачем нам тогда лямбда.\\ndef func(a, b):\\n    print(\"don\\'t do in this manner\")\\n    print(\"don\\'t do in this manner\")\\n    print(\"don\\'t do in this manner\")\\n    print(\"don\\'t do in this manner\")\\n\\nl = lambda a, b: func(a, b)\\nl(2,3)', '_i66': '# Фактически, одно из главных отличий лямбды в Python от обычной функции.\\nl = lambda arg: arg + 1\\n\\ndef func(): \\n  pass\\n\\nprint(l.__name__)\\nprint(func.__name__)', '_i67': '# Кстати функция сохраняет свое имя.\\ndef func(): \\n  pass\\n\\nb = func\\nfunc = 1\\nprint(b.__name__)', 'b': <function func at 0x108b1a7a0>, '_i68': '# Кстати функция сохраняет свое имя.\\ndef func(): \\n  pass\\n\\nb = func\\nfunc = 1\\nprint(b.__name__)', '_i69': '# Так как лямбда фактически таже самая функция, в ней могут присутствовать все\\n# доступные в функции типы аргументов.\\nl = lambda a, b=0, *args, c=7, **kwargs: print(a, b, args, c, kwargs)\\nl(1, 2, 3, 4 )', '_i70': '# Рекурсия на лямбде. Она не совсем честная, потому что мы фактически именуем\\n# нашу лямбду и используем это имя.\\nfactorial = lambda a: a * factorial(a-1) if a>1 else 1\\nprint(factorial(4))', '_i71': '# Есть возможность реализовать рекурсию и без этого трюка, но тут нужно\\n# использовать Y-комбинатор и все это выглядит очень плохо. Мое личное мнение - \\n# забейте. Но если очень любопытно: \\n# https://en.wikipedia.org/wiki/Fixed-point_combinator - теория.\\n# Попытка объяснения на русском https://habr.com/ru/post/50354/ (но без лямбд).\\n\\n# Сам комбинатор:\\nY = lambda g: ((lambda f: g(lambda *x: f(f) (*x))) ((lambda f: g(lambda *x: f(f)(*x)))))\\n\\n# Вычисление факториала рекурсивно с помощью комбинатора.\\nprint(Y(lambda f: (lambda num: num*f(num-1) if num else 1))(4))\\n\\n# Очевидно можно Y подставить в print и записать все в одну строку, но это\\n# будет вообще нечитаемо.', 'Y': <function <lambda> at 0x108b1b560>, '_i72': '# Функция, уменьшающая значение каждого элемента переданного аргумента на 1.\\nito = (1, 2, 3)\\ndec = lambda x: x-1\\nresult = map(dec, ito)\\nprint(result)  # обратите внимание, map возвращает итерируемый объект\\nprint(list(result))', 'ito': [1], 'dec': <function dec at 0x108b1b9c0>, '_i73': '# Все то же самое, но изрядно сокращенное.\\nx = map(lambda x: x-1, [1, 2, 3])\\nprint(list(x))', 'x': <filter object at 0x1082ba290>, '_i74': '# Результат map можно применять, как и любой итерируемый объект, для любых \\n# наших целей. \\nx = map(lambda x: x-1, [1, 2, 3])\\nprint({el:el+1 for el in x})', '_i75': '# Результат map можно применять, как и любой итерируемый объект, для любых \\n# наших целей. \\nx = map(lambda x: x-1, [1, 2, 3])\\nprint({el: el+1 for el in x})\\n\\nprint({el: el+1 for el in x})', '_i76': '# Результат map можно применять, как и любой итерируемый объект, для любых \\n# наших целей. \\nx = map(lambda x: x-1, [1, 2, 3])\\nprint({el: el+1 for el in x})', '_i77': '# Лямбды часто применяются в map, filter, reduce, однако можно применять и\\n# обычные функции.\\ndef dec(x):\\n  # some operations \\n  return x-1\\n\\nito = [1]\\nx = map(dec, ito)\\n\\nprint(list(x))', '_i78': \"# Применение функции filter.\\nresult = filter(lambda x: x if x<0 else None, [-1, 2, 3])\\nresult = list(result)\\nprint('len:', len(result))\\nprint(result)\", '_i79': '# Обратите внимание, filter также возвращает специальный итерируемый объект.\\nx = filter(lambda x: x<0, [-1, 2, 3])\\nprint(x)\\nprint(list(x))', '_i80': \"# И еще один важный момент: по результату filter и map можно пройти только \\n# один раз.\\na = map(lambda x: x+1, [1,2,3])\\nx = filter(lambda x: x<0, [-1, 2, 3])\\n\\nprint('Map:')\\nprint(list(a))\\nprint(list(a))\\n\\nprint('Filter:')\\nprint(list(x))\\nprint(list(x))\", '_i81': '# Альтернатива filter - те же самые генераторы.\\n[x for x in iterable if f(x)]', '_i82': '# Пример использования reduce.\\nfrom functools import reduce\\npows = reduce(lambda x, y: x ** y, [1, 2, 3])\\nprint(pows)', 'reduce': <built-in function reduce>, 'pows': 64, '_i83': '# Чуть более говорящий пример.\\nfrom functools import reduce\\npows = reduce((lambda x, y: x ** y), [2, 2, 3])\\nprint(pows)', '_i84': '# Чуть более говорящий пример.\\nfrom functools import reduce\\npows = reduce((lambda x, y: x ** y), [2, 2, 3])\\nprint(pows)\\n\\n\\nsum = reduce((lambda x, y: x + y), [2, 2, 3])\\nprint(sum)', 'sum': 7, '_i85': '# Чуть более говорящий пример.\\nfrom functools import reduce\\npows = reduce((lambda x, y: x ** y), [2, 2, 3])\\nprint(pows)\\n\\n\\nsum = reduce((lambda x, y: x + y), [2, 2, 3])\\nprint(sum)\\n\\nmul = reduce((lambda x, y: x * y), [2, 2, 3])\\nprint(mul)', 'mul': 12, '_i86': '# На уровне модуля globals и locals будут совпадать - т.к. определенные в\\n# модуле переменные являются для него локальными, но также и глобальны - могут \\n# быть использованы в любом месте модуля.\\n\\n# Большое количество глобальных переменных в globals является следствием\\n# работы jupyter notebook. \\nglobal_var = 10\\nprint(globals())\\nprint(locals())', 'global_var': 10, '_i87': '# В функции локальная область видимости пустая если туда ничего не передается\\n# и не опреднеляется внутри.\\ndef func():\\n  print(globals())\\n  print(locals())\\n\\nfunc()', '_i88': '# Локальными для функции являются: аргументы, созданные внутри нее переменные.\\ndef func(param):\\n  local_var = 10\\n  print(globals())\\n  print(locals())\\n\\nfunc(5)'}\n",
      "{'param': 5, 'local_var': 10}\n"
     ]
    }
   ],
   "source": [
    "# Локальными для функции являются: аргументы, созданные внутри нее переменные.\n",
    "def func(param):\n",
    "  local_var = 10\n",
    "  print(globals())\n",
    "  print(locals())\n",
    "\n",
    "func(5)"
   ]
  },
  {
   "cell_type": "markdown",
   "metadata": {
    "id": "bCsuxnaP0rgv"
   },
   "source": [
    "#### LEGB, global, nonlocal"
   ]
  },
  {
   "cell_type": "code",
   "execution_count": 89,
   "metadata": {
    "id": "gyIWtFmm9fSz"
   },
   "outputs": [
    {
     "name": "stdout",
     "output_type": "stream",
     "text": [
      "local\n"
     ]
    }
   ],
   "source": [
    "# Рассмотрим принцип работы поиска аргумента по LEGB. Здесь у нас есть\n",
    "# локальная, объемлющая и глобальная переменные с одинаковым именем. \n",
    "\n",
    "var = 'global'\n",
    "def func():\n",
    "  var = 'enclosure'\n",
    "  def inner_func():\n",
    "    var = 'local'\n",
    "    print(var)\n",
    "  return inner_func\n",
    "\n",
    "inner = func()  # возвращаемое значение - функция\n",
    "inner()  # происходит вызов внутренней функции"
   ]
  },
  {
   "cell_type": "code",
   "execution_count": 90,
   "metadata": {
    "id": "oQBdjkjkF9Iz"
   },
   "outputs": [
    {
     "name": "stdout",
     "output_type": "stream",
     "text": [
      "enclosure\n"
     ]
    }
   ],
   "source": [
    "# Если нет локальной - ищет в объемлющей области видимости. \n",
    "var = 'global'\n",
    "def func():\n",
    "  var = 'enclosure'\n",
    "  def inner_func():\n",
    "    print(var)\n",
    "  return inner_func\n",
    "\n",
    "inner = func()\n",
    "inner()"
   ]
  },
  {
   "cell_type": "code",
   "execution_count": null,
   "metadata": {
    "id": "IFgekIJ7GD_y"
   },
   "outputs": [
    {
     "name": "stdout",
     "output_type": "stream",
     "text": [
      "global\n"
     ]
    }
   ],
   "source": [
    "# Объемлющие области могут быть вложенными. В таком случае поиск идет изнутри\n",
    "# наружу.\n",
    "var = 'global'\n",
    "def func():\n",
    "  var = 'enclosure_outer'\n",
    "  def inner_func():\n",
    "      var = 'enclosure_inner'\n",
    "      def last_level_func():\n",
    "        print(var)\n",
    "      return last_level_func\n",
    "  return inner_func\n",
    "\n",
    "inner = func()\n",
    "inner()()  # так мы вызовем last_level_func"
   ]
  },
  {
   "cell_type": "code",
   "execution_count": null,
   "metadata": {
    "id": "i9G0wt-7IwDJ"
   },
   "outputs": [],
   "source": [
    "# То же самое, но когда в inner_func нет нашей переменной.\n",
    "var = 'global'\n",
    "def func():\n",
    "  var = 'enclosure_outer'\n",
    "  def inner_func():\n",
    "      def last_level_func():\n",
    "        print(var)\n",
    "      return last_level_func\n",
    "  return inner_func\n",
    "\n",
    "inner = func()\n",
    "inner()()  # так мы вызовем last_level_func"
   ]
  },
  {
   "cell_type": "code",
   "execution_count": 94,
   "metadata": {
    "id": "QG6X-xxHI3AS"
   },
   "outputs": [
    {
     "name": "stdout",
     "output_type": "stream",
     "text": [
      "global\n"
     ]
    }
   ],
   "source": [
    "# Глобальные переменные - последний уровень обороны из того, что реализуем мы.\n",
    "var = 'global'\n",
    "def func():\n",
    "  def inner_func():\n",
    "    print(var)\n",
    "  return inner_func\n",
    "\n",
    "inner = func()\n",
    "inner()"
   ]
  },
  {
   "cell_type": "code",
   "execution_count": 95,
   "metadata": {
    "id": "kfUXQikeJBBb"
   },
   "outputs": [
    {
     "name": "stdout",
     "output_type": "stream",
     "text": [
      "<built-in function max>\n"
     ]
    }
   ],
   "source": [
    "# На последнем этапе мы ищем в built-in объектах.\n",
    "def func():\n",
    "  def inner_func():\n",
    "    print(max)  # нигде не заданная переменная\n",
    "  return inner_func\n",
    "\n",
    "inner = func()\n",
    "inner()"
   ]
  },
  {
   "cell_type": "code",
   "execution_count": 96,
   "metadata": {
    "id": "8jnb7mvoLLPB"
   },
   "outputs": [
    {
     "name": "stdout",
     "output_type": "stream",
     "text": [
      "10\n"
     ]
    }
   ],
   "source": [
    "# Присвоить значение глобальной переменной достаточно проблематично\n",
    "# внутри функции. Присвоение создает имя переменной в локальной области\n",
    "# видимости.\n",
    "\n",
    "var = 10\n",
    "def func():\n",
    "  var = 'new_value'\n",
    "func()\n",
    "print(var)"
   ]
  },
  {
   "cell_type": "code",
   "execution_count": 97,
   "metadata": {
    "id": "eTnpUU0dMMra"
   },
   "outputs": [
    {
     "name": "stdout",
     "output_type": "stream",
     "text": [
      "new_value\n"
     ]
    }
   ],
   "source": [
    "# В такой ситуации нам поможет оператор global.\n",
    "\n",
    "var = 10\n",
    "def func():\n",
    "  global var\n",
    "  var = 'new_value'\n",
    "func()\n",
    "print(var)"
   ]
  },
  {
   "cell_type": "code",
   "execution_count": 98,
   "metadata": {
    "id": "Wr8GkMtWMT_o"
   },
   "outputs": [
    {
     "ename": "SyntaxError",
     "evalue": "name 'var' is assigned to before global declaration (901572349.py, line 6)",
     "output_type": "error",
     "traceback": [
      "  \u001b[36mCell\u001b[39m\u001b[36m \u001b[39m\u001b[32mIn[98]\u001b[39m\u001b[32m, line 6\u001b[39m\n\u001b[31m    \u001b[39m\u001b[31mglobal var\u001b[39m\n    ^\n\u001b[31mSyntaxError\u001b[39m\u001b[31m:\u001b[39m name 'var' is assigned to before global declaration\n"
     ]
    }
   ],
   "source": [
    "# Использовать global когда локальная переменная уже существует нельзя.\n",
    "\n",
    "var = 10\n",
    "def func():\n",
    "  var = 'new_value'\n",
    "  global var\n",
    "func()\n",
    "print(var)"
   ]
  },
  {
   "cell_type": "code",
   "execution_count": 99,
   "metadata": {
    "id": "pIellNAXMbcA"
   },
   "outputs": [
    {
     "name": "stdout",
     "output_type": "stream",
     "text": [
      "new_value\n"
     ]
    }
   ],
   "source": [
    "# Если глобальной переменной не существовало, она будет создана. Но вообще, \n",
    "# это очень плохая практика. \n",
    "\n",
    "def func():\n",
    "  global var\n",
    "  var = 'new_value'\n",
    "\n",
    "func()\n",
    "print(var)"
   ]
  },
  {
   "cell_type": "code",
   "execution_count": 100,
   "metadata": {
    "id": "5mq7b3p_Ml4o"
   },
   "outputs": [
    {
     "name": "stdout",
     "output_type": "stream",
     "text": [
      "new_value\n"
     ]
    }
   ],
   "source": [
    "# Аналогично будет работать оператор nonlocal.\n",
    "\n",
    "def outer_func():\n",
    "  var = 10\n",
    "  def func():\n",
    "    nonlocal var\n",
    "    var = 'new_value'\n",
    "  return func\n",
    "outer_func()()  # вызываем функцию func \n",
    "print(var)"
   ]
  },
  {
   "cell_type": "code",
   "execution_count": 101,
   "metadata": {
    "id": "irZOl90iM5IQ"
   },
   "outputs": [
    {
     "ename": "SyntaxError",
     "evalue": "no binding for nonlocal 'var' found (197356398.py, line 5)",
     "output_type": "error",
     "traceback": [
      "  \u001b[36mCell\u001b[39m\u001b[36m \u001b[39m\u001b[32mIn[101]\u001b[39m\u001b[32m, line 5\u001b[39m\n\u001b[31m    \u001b[39m\u001b[31mnonlocal var\u001b[39m\n    ^\n\u001b[31mSyntaxError\u001b[39m\u001b[31m:\u001b[39m no binding for nonlocal 'var' found\n"
     ]
    }
   ],
   "source": [
    "# В отличие от global, nonlocal не создает переменную.\n",
    "\n",
    "def outer_func():\n",
    "  def func():\n",
    "    nonlocal var\n",
    "    var = 'new_value'\n",
    "  return func\n",
    "outer_func()()  # вызываем функцию func \n",
    "print(var)"
   ]
  },
  {
   "cell_type": "markdown",
   "metadata": {
    "id": "rtiA8oJn0-1e"
   },
   "source": [
    "#### Декораторы\n"
   ]
  },
  {
   "cell_type": "code",
   "execution_count": 114,
   "metadata": {
    "id": "v8yPss-XFy9m"
   },
   "outputs": [
    {
     "name": "stdout",
     "output_type": "stream",
     "text": [
      "inside decorator\n",
      "inside function\n",
      "9\n",
      "inside decorator\n",
      "inside function\n",
      "16\n",
      "inside decorator\n",
      "inside function\n",
      "42\n"
     ]
    }
   ],
   "source": [
    "import functools\n",
    "\n",
    "# Создадим простейший декоратор. \n",
    "def dec(fun):\n",
    "    @functools.wraps(fun)\n",
    "    def wrapper(*args, **kwargs):\n",
    "        print(\"inside decorator\")\n",
    "        return fun(*args, **kwargs)\n",
    "    return wrapper\n",
    "\n",
    "@dec  # декорирование функции\n",
    "def pow_n(x, n):\n",
    "  print(\"inside function\")\n",
    "  return x ** n\n",
    "\n",
    "@dec\n",
    "def pow_2(x):\n",
    "  print(\"inside function\")\n",
    "  return x ** 2\n",
    "\n",
    "@dec\n",
    "def magic_func():\n",
    "  print(\"inside function\")\n",
    "  return 42\n",
    "\n",
    "\n",
    "print(pow_n(3, 2))\n",
    "print(pow_2(4))\n",
    "print(magic_func())\n"
   ]
  },
  {
   "cell_type": "code",
   "execution_count": null,
   "metadata": {
    "id": "HuDhy-Xc0kZJ"
   },
   "outputs": [],
   "source": [
    "# Каждый вызов декоратора создает новый объект wrapper, который в замыкании\n",
    "# хранит ссылку каждый на свою функцию.\n",
    "def dec(fun):\n",
    "  def wrapper():\n",
    "    print(\"inside wrapper\")\n",
    "    result = fun() + 3\n",
    "    print(\"after function\")\n",
    "    return result\n",
    "  return wrapper\n",
    "\n",
    "@dec\n",
    "def func():\n",
    "  print(\"inside function\")\n",
    "  return 1\n",
    "\n",
    "@dec\n",
    "def func1():\n",
    "  print(\"other function\")\n",
    "  return 151\n",
    "\n",
    "print(func())\n",
    "print()\n",
    "print(func1())"
   ]
  },
  {
   "cell_type": "code",
   "execution_count": 117,
   "metadata": {
    "id": "fYjUf2n_7En3"
   },
   "outputs": [
    {
     "name": "stdout",
     "output_type": "stream",
     "text": [
      "inside function\n",
      "pow_n called 1 times.\n",
      "9\n",
      "inside function\n",
      "pow_2 called 1 times.\n",
      "16\n",
      "inside function\n",
      "magic_func called 1 times.\n",
      "42\n",
      "inside function\n",
      "pow_2 called 2 times.\n",
      "25\n"
     ]
    }
   ],
   "source": [
    "# Данный прием позволяет хранить значения между вызовами задекорированной\n",
    "# функции.\n",
    "def dec(fun):\n",
    "    call_count = 0\n",
    "    def wrapper(*args, **kwargs):\n",
    "        nonlocal call_count\n",
    "        result = fun(*args, **kwargs)\n",
    "        call_count += 1\n",
    "        print(f\"{fun.__name__} called {call_count} times.\")\n",
    "        return result\n",
    "    return wrapper\n",
    "\n",
    "\n",
    "@dec  # декорирование функции\n",
    "def pow_n(x, n):\n",
    "  print(\"inside function\")\n",
    "  return x ** n\n",
    "\n",
    "@dec\n",
    "def pow_2(x):\n",
    "  print(\"inside function\")\n",
    "  return x ** 2\n",
    "\n",
    "@dec\n",
    "def magic_func():\n",
    "  print(\"inside function\")\n",
    "  return 42\n",
    "\n",
    "print(pow_n(3, 2))\n",
    "print(pow_2(4))\n",
    "print(magic_func())\n",
    "print(pow_2(5))"
   ]
  },
  {
   "cell_type": "code",
   "execution_count": null,
   "metadata": {
    "id": "EMaYlsGUr1F4"
   },
   "outputs": [],
   "source": [
    "# В случае с изменяемым объектом в enclosure scope, nonlocal ставить не нужно,\n",
    "# однако часто его все-равно ставят чтобы это было явно. Up to you.\n",
    "def dec(fun):\n",
    "  result_list = []\n",
    "  def wrapper():\n",
    "    # nonlocal result_list\n",
    "    result_list.append(fun())\n",
    "    return result_list\n",
    "  return wrapper\n",
    "\n",
    "@dec\n",
    "def func():\n",
    "  return 1\n",
    "\n",
    "\n",
    "print(func())\n",
    "print(func())\n",
    "print(func())"
   ]
  },
  {
   "cell_type": "code",
   "execution_count": null,
   "metadata": {
    "id": "LFrN9iAYPtqn"
   },
   "outputs": [],
   "source": [
    "# Все это время мы декорировали функции которые вызываются без передачи значений\n",
    "# Однако мы легко можем организовать проброску параметров с помощью операторов\n",
    "# запаковки и распаковки аргументов * и **.\n",
    "\n",
    "def dec(fun):\n",
    "  def wrapper(*args, **kwargs):  # это повторение самого первого примера\n",
    "    print(\"inside decorator\")\n",
    "    return fun(*args, **kwargs)\n",
    "  return wrapper\n",
    "\n",
    "@dec  \n",
    "def func(a, b=1, *, c):  # но функция другая\n",
    "  print(a, b, c, sep=', ')\n",
    "\n",
    "func('positional', c='key-word only')"
   ]
  },
  {
   "cell_type": "code",
   "execution_count": 118,
   "metadata": {
    "id": "dtDXrnU8YzkS"
   },
   "outputs": [
    {
     "name": "stdout",
     "output_type": "stream",
     "text": [
      "2\n",
      "2\n",
      "3\n",
      "3\n"
     ]
    }
   ],
   "source": [
    "\"\"\"\n",
    "Реализовать параметрический декоратор, который прибавляет к результату работы\n",
    "функции число, переданное параметром\n",
    "\"\"\"\n",
    "\n",
    "def my_parametrized_dec(num):\n",
    "  def dec(fun):\n",
    "    def wrapper():\n",
    "      return fun() + num\n",
    "    return wrapper\n",
    "  return dec\n",
    "\n",
    "@my_parametrized_dec(1)  # синтаксис декорирования параметрическим декоратором\n",
    "def func():\n",
    "  return 1\n",
    "\n",
    "@my_parametrized_dec(2)\n",
    "def func2():\n",
    "  return 1\n",
    "\n",
    "print(func())\n",
    "print(func())\n",
    "print(func2())\n",
    "print(func2())"
   ]
  }
 ],
 "metadata": {
  "colab": {
   "collapsed_sections": [],
   "name": "7. Функции_и_модульность.ipynb",
   "provenance": [],
   "toc_visible": true
  },
  "kernelspec": {
   "display_name": ".venv",
   "language": "python",
   "name": "python3"
  },
  "language_info": {
   "codemirror_mode": {
    "name": "ipython",
    "version": 3
   },
   "file_extension": ".py",
   "mimetype": "text/x-python",
   "name": "python",
   "nbconvert_exporter": "python",
   "pygments_lexer": "ipython3",
   "version": "3.12.5"
  }
 },
 "nbformat": 4,
 "nbformat_minor": 0
}
