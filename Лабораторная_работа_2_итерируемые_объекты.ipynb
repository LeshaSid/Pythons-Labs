{
 "cells": [
  {
   "cell_type": "markdown",
   "metadata": {
    "id": "0SLkedpVkVmo"
   },
   "source": [
    "# Итерируемые объекты"
   ]
  },
  {
   "cell_type": "markdown",
   "metadata": {
    "id": "2rceIG-hkbfg"
   },
   "source": [
    "## Списки"
   ]
  },
  {
   "cell_type": "markdown",
   "metadata": {
    "id": "_87QJBp1gJia"
   },
   "source": [
    "### Теоретические сведения"
   ]
  },
  {
   "cell_type": "markdown",
   "metadata": {
    "id": "NPuuboZFcBw5"
   },
   "source": [
    "#### Определения\n",
    "Список - упорядоченная изменяемая колекция произвольных объектов. \n",
    "\n",
    "Литералы списков: \n",
    "\n",
    "``` python\n",
    " a = [1, 2, 3, 4]\n",
    " b = [1, \"string\", [1, 2]]\n",
    "```\n",
    "\n",
    "Нумерация в списках начинается как и везде с `0`.\n",
    "\n",
    "Индексация списка работает также как и в строках. \n",
    "\n",
    "Срезы работают со списками точно так же как и со строками. "
   ]
  },
  {
   "cell_type": "markdown",
   "metadata": {
    "id": "RnZ_GoccdBNB"
   },
   "source": [
    "#### Базовые операции над списками \n",
    "\n",
    "- Получение элемента списка по индексу: \n",
    "\n",
    "    `lst[2]` - получение третьего элемента списка.\n",
    "\n",
    "- Присвоение элемента списка по индексу:\n",
    "\n",
    "    `lst[1] = 1` - присвоение второму элементу.\n",
    "\n",
    "- Добавление элемента в конец списка:\n",
    "\n",
    "    `lst.append(\"element\")` - добавление элемента в конец списка.\n",
    "\n",
    "- Расширение списка элементами другого итерируемого объекта:\n",
    "\n",
    "    `list.extend(iterable)` - добавляет в конец списка `lst` элементы итерируемого объекта.\n",
    "\n",
    "- Сложение списков:\n",
    "\n",
    "    `result = lst1 + lst2` - список `result` будет содержать все элементы первого, а после второго списков. \n",
    "\n",
    "- Умножение списка на число:\n",
    "\n",
    "    `lst*3` - возвращает новый список, состоящий из элементов исходного списка, идущих три раза подряд.\n"
   ]
  },
  {
   "cell_type": "markdown",
   "metadata": {
    "id": "Rs_Bo1N7yhVi"
   },
   "source": [
    "#### Дополнительные методы для работы со списками\n",
    "\n",
    "- Оператор `in` - проверка вхождения элемента в список. \n",
    "\n",
    "- `list.insert(i, x)` -\tвставляет на `i`-ый элемент значение `x`.\n",
    "\n",
    "- `list.remove(x)` -\tудаляет первый элемент в списке, имеющий значение `x`. ValueError, если такого элемента не существует.\n",
    "\n",
    "- `list.pop([i])` -\tудаляет `i`-ый элемент и возвращает его. Если индекс не указан, удаляется последний элемент.\n",
    "\n",
    "- `list.index(x, [start [, end]])` - возвращает положение первого элемента со значением `x` (при этом поиск ведется от `start` до `end`).\n",
    "\n",
    "- `list.count(x)`\t- возвращает количество элементов со значением `x`.\n",
    "\n",
    "- `list.sort([key=функция])`\t- сортирует список на основе функции.\n",
    "\n",
    "- `list.reverse()`\t- разворачивает список.\n",
    "\n",
    "- `list.copy()`\t- поверхностная копия списка.\n",
    "\n",
    "- `list.clear()`\t- очищает список."
   ]
  },
  {
   "cell_type": "markdown",
   "metadata": {
    "id": "9Nag3pzwdcGY"
   },
   "source": [
    "#### Объектная модель Python\n",
    "Для того чтобы не делать ошибок с изменяемыми и неизменяемыми типами данных можно применять следующую модель. \n",
    "\n",
    "Объектную модель Python можно рассматривать как два пространства - объектов и имен. \n",
    "\n",
    "Они подчиняются определенным правилам: \n",
    "- На объект может ссылаться любое количество имен и объектов. \n",
    "- Создание имени происходит при присвоении значения (assignment).\n",
    "- От каждого имени к объекту может идти ровно одна ссылка.\n",
    "- Copy и ее аналоги осуществляют копирование только самого объекта. \n",
    "- Deepcopy производит рекурсивное копирование объектов и всех объектов, на который ссылается данный.\n",
    "- del удаляет имя, и ссылку которая идет от имени на объект. Если del применяется к безымянному объекту (ссылка из спика), то он удаляет только ссылку. Удалением непосредственно объектов занимаются другие механизмы. \n",
    "\n",
    "Это удобно изобразить на расчерченом пополам листе бумаге или доске где слева располагаются имена, а справа - объекты. \n",
    "\n",
    "**Иллюстрация как это работает:** https://www.youtube.com/watch?v=pQdcfCmwFak"
   ]
  },
  {
   "cell_type": "markdown",
   "metadata": {
    "id": "ujo48uvHgg4a"
   },
   "source": [
    "### Code Snippets"
   ]
  },
  {
   "cell_type": "markdown",
   "metadata": {
    "id": "tbGhqTr_dHAz"
   },
   "source": [
    "#### Базовые Операции над списками\n"
   ]
  },
  {
   "cell_type": "code",
   "execution_count": 1,
   "metadata": {
    "ExecuteTime": {
     "end_time": "2025-03-15T07:27:59.203399Z",
     "start_time": "2025-03-15T07:27:59.201204Z"
    },
    "id": "LO4YnfsINA9Y"
   },
   "outputs": [
    {
     "name": "stdout",
     "output_type": "stream",
     "text": [
      "[1, 2, 3]\n"
     ]
    }
   ],
   "source": [
    "# Creating a list.\n",
    "lst = [1, 2, 3]\n",
    "print(lst)"
   ]
  },
  {
   "cell_type": "code",
   "execution_count": 2,
   "metadata": {
    "ExecuteTime": {
     "end_time": "2025-03-15T07:28:19.793748Z",
     "start_time": "2025-03-15T07:28:19.791182Z"
    },
    "id": "msY5U6gTiHq6"
   },
   "outputs": [
    {
     "name": "stdout",
     "output_type": "stream",
     "text": [
      "[1, 2, 3, 'tr']\n"
     ]
    }
   ],
   "source": [
    "# Add an item to the end of the list.\n",
    "lst.append(\"tr\")\n",
    "print(lst)\n"
   ]
  },
  {
   "cell_type": "code",
   "execution_count": 3,
   "metadata": {
    "ExecuteTime": {
     "end_time": "2025-03-15T07:29:44.223667Z",
     "start_time": "2025-03-15T07:29:44.221160Z"
    },
    "id": "VD1hdhH-iNix"
   },
   "outputs": [
    {
     "name": "stdout",
     "output_type": "stream",
     "text": [
      "[1, 2, 3, 'tr', 1, 2, 3]\n"
     ]
    }
   ],
   "source": [
    "# Extend a list with another list.\n",
    "lst.extend([1, 2, 3])\n",
    "print(lst)"
   ]
  },
  {
   "cell_type": "code",
   "execution_count": 5,
   "metadata": {
    "ExecuteTime": {
     "end_time": "2025-03-15T07:31:16.955519Z",
     "start_time": "2025-03-15T07:31:16.952437Z"
    },
    "id": "TQUKrgJKRPEy"
   },
   "outputs": [
    {
     "name": "stdout",
     "output_type": "stream",
     "text": [
      "[1, 2, 3, 'a', 's', 'd', 'f']\n"
     ]
    }
   ],
   "source": [
    "# Extend accepts any iterable object.\n",
    "lst = [1,2,3]\n",
    "other_iterable = \"asdf\"\n",
    "lst.extend(other_iterable)\n",
    "print(lst)"
   ]
  },
  {
   "cell_type": "code",
   "execution_count": 4,
   "metadata": {
    "ExecuteTime": {
     "end_time": "2025-03-15T07:29:53.417035Z",
     "start_time": "2025-03-15T07:29:53.414529Z"
    },
    "id": "5HaUPEyelDe6"
   },
   "outputs": [
    {
     "name": "stdout",
     "output_type": "stream",
     "text": [
      "[1, 2, 3, 4, 5, 6]\n"
     ]
    }
   ],
   "source": [
    "# Adding up lists.\n",
    "lst1 = [1, 2, 3]\n",
    "lst2 = [4, 5, 6]\n",
    "\n",
    "result = lst1 + lst2\n",
    "print(result)"
   ]
  },
  {
   "cell_type": "code",
   "execution_count": 6,
   "metadata": {
    "ExecuteTime": {
     "end_time": "2025-03-15T07:31:37.553234Z",
     "start_time": "2025-03-15T07:31:37.466145Z"
    },
    "id": "BkOtuaKnlP4Z"
   },
   "outputs": [
    {
     "ename": "TypeError",
     "evalue": "can only concatenate list (not \"str\") to list",
     "output_type": "error",
     "traceback": [
      "\u001b[31m---------------------------------------------------------------------------\u001b[39m",
      "\u001b[31mTypeError\u001b[39m                                 Traceback (most recent call last)",
      "\u001b[36mCell\u001b[39m\u001b[36m \u001b[39m\u001b[32mIn[6]\u001b[39m\u001b[32m, line 5\u001b[39m\n\u001b[32m      2\u001b[39m lst = [\u001b[32m1\u001b[39m, \u001b[32m2\u001b[39m, \u001b[32m3\u001b[39m]\n\u001b[32m      3\u001b[39m str_ = \u001b[33m'\u001b[39m\u001b[33mstring\u001b[39m\u001b[33m'\u001b[39m\n\u001b[32m----> \u001b[39m\u001b[32m5\u001b[39m result = \u001b[43mlst1\u001b[49m\u001b[43m \u001b[49m\u001b[43m+\u001b[49m\u001b[43m \u001b[49m\u001b[43mstr_\u001b[49m\n\u001b[32m      6\u001b[39m \u001b[38;5;28mprint\u001b[39m(result)\n",
      "\u001b[31mTypeError\u001b[39m: can only concatenate list (not \"str\") to list"
     ]
    }
   ],
   "source": [
    "# There is no implicit type casting, so adding a list and a string results in an error.\n",
    "lst = [1, 2, 3]\n",
    "str_ = \"string\"\n",
    "\n",
    "result = lst1 + str_\n",
    "print(result)"
   ]
  },
  {
   "cell_type": "code",
   "execution_count": 7,
   "metadata": {
    "ExecuteTime": {
     "end_time": "2025-03-15T07:32:11.748040Z",
     "start_time": "2025-03-15T07:32:11.745375Z"
    },
    "id": "0OR5zydSvoO4"
   },
   "outputs": [
    {
     "name": "stdout",
     "output_type": "stream",
     "text": [
      "[1, 2, 3, 's', 't', 'r', 'i', 'n', 'g']\n"
     ]
    }
   ],
   "source": [
    "# += works differently, it is basically an extend().\n",
    "lst = [1, 2, 3]\n",
    "str_ = \"string\"\n",
    "lst += str_ # lst = lst + str_\n",
    "print(lst)"
   ]
  },
  {
   "cell_type": "code",
   "execution_count": 8,
   "metadata": {
    "ExecuteTime": {
     "end_time": "2025-03-15T07:32:47.668470Z",
     "start_time": "2025-03-15T07:32:47.666275Z"
    },
    "id": "fwalfEt2v1oF"
   },
   "outputs": [
    {
     "name": "stdout",
     "output_type": "stream",
     "text": [
      "[1, 2, 3, 1, 2, 3, 1, 2, 3]\n"
     ]
    }
   ],
   "source": [
    "# Multiplying a list by a number.\n",
    "lst1 = [1, 2, 3]\n",
    "result = lst1 * 3\n",
    "print(result)"
   ]
  },
  {
   "cell_type": "markdown",
   "metadata": {
    "id": "P-_tZUL1f6uN"
   },
   "source": [
    "#### Особенности работы с изменяемыми и неизменяемыми типами данных"
   ]
  },
  {
   "cell_type": "code",
   "execution_count": 9,
   "metadata": {
    "ExecuteTime": {
     "end_time": "2025-03-15T07:33:18.098991Z",
     "start_time": "2025-03-15T07:33:18.096259Z"
    },
    "id": "Adri9_p6fKFe"
   },
   "outputs": [
    {
     "name": "stdout",
     "output_type": "stream",
     "text": [
      "lst1 = [1, 2, 3] , lst2 = [1, 2, 3]\n",
      "lst1 = [[], 2, 3] , lst2 = [[], 2, 3]\n",
      "\n",
      "str1 = 123 , str2 = 123\n",
      "str1 = 223 , str2 = 123\n"
     ]
    }
   ],
   "source": [
    "lst1 = lst2 = [1, 2, 3]\n",
    "print(\"lst1 =\", lst1, \", lst2 =\",  lst2)\n",
    "lst1[0] = []\n",
    "print(\"lst1 =\", lst1, \", lst2 =\",  lst2)\n",
    "\n",
    "print()\n",
    "\n",
    "str1 = str2 = \"123\"\n",
    "print(\"str1 =\", str1, \", str2 =\", str2)\n",
    "str1 = str1.replace(\"1\", \"2\")\n",
    "print(\"str1 =\", str1, \", str2 =\", str2)"
   ]
  },
  {
   "cell_type": "markdown",
   "metadata": {
    "id": "ijhI3-7ylRmc"
   },
   "source": [
    "#### Copy, deepcopy"
   ]
  },
  {
   "cell_type": "code",
   "execution_count": 10,
   "metadata": {
    "ExecuteTime": {
     "end_time": "2025-03-15T07:37:19.532105Z",
     "start_time": "2025-03-15T07:37:19.528354Z"
    },
    "cellView": "both",
    "id": "TVq1_jYIlVGD"
   },
   "outputs": [
    {
     "name": "stdout",
     "output_type": "stream",
     "text": [
      "lst1 = [[], [1, 2], 3] \n",
      "lst2= [[], [1, 2], 3]\n"
     ]
    }
   ],
   "source": [
    "# Copy\n",
    "import copy\n",
    "lst1 = [[], [1, 2], 3]\n",
    "lst2 = copy.copy(lst1)\n",
    "print(\"lst1 =\", lst1, \"\\nlst2=\",  lst2)\n"
   ]
  },
  {
   "cell_type": "code",
   "execution_count": 11,
   "metadata": {
    "ExecuteTime": {
     "end_time": "2025-03-15T07:37:34.909786Z",
     "start_time": "2025-03-15T07:37:34.906166Z"
    },
    "id": "58NYa1FXlqY7"
   },
   "outputs": [
    {
     "name": "stdout",
     "output_type": "stream",
     "text": [
      "lst1 = ['other', [1, 2], 3] \n",
      "lst2= [[], [1, 2], 3]\n"
     ]
    }
   ],
   "source": [
    "# Changing an object does not affect it's copy.\n",
    "lst1[0] = \"other\"\n",
    "print(\"lst1 =\", lst1, \"\\nlst2=\",  lst2)"
   ]
  },
  {
   "cell_type": "code",
   "execution_count": 13,
   "metadata": {
    "ExecuteTime": {
     "end_time": "2025-03-15T07:40:47.747772Z",
     "start_time": "2025-03-15T07:40:47.744910Z"
    },
    "id": "rRO0wng7lsIk"
   },
   "outputs": [
    {
     "name": "stdout",
     "output_type": "stream",
     "text": [
      "lst1 = [[], ['internal', 2], 3] \n",
      "lst2 = [[], ['internal', 2], 3]\n"
     ]
    }
   ],
   "source": [
    "# copy() does not copy nested objects, only the top-level object.\n",
    "\n",
    "# Note, that list.copy() = copy.copy(). Slice also does the same job.\n",
    "lst1 = [[], [1, 2], 3]\n",
    "lst2 = copy.copy(lst1)\n",
    "lst1[1][0] = \"internal\"\n",
    "print(\"lst1 =\", lst1, \"\\nlst2 =\",  lst2)"
   ]
  },
  {
   "cell_type": "code",
   "execution_count": 14,
   "metadata": {
    "ExecuteTime": {
     "end_time": "2025-03-15T07:41:37.309438Z",
     "start_time": "2025-03-15T07:41:37.306600Z"
    },
    "id": "WG8MDC7Sl2HY"
   },
   "outputs": [
    {
     "name": "stdout",
     "output_type": "stream",
     "text": [
      "lst1 = [1, [1, 2], 3] \n",
      "lst2 = [1, [1, 2], 3]\n",
      "\n",
      "lst1 = ['other element', [1, 2], 3] \n",
      "lst2 = [1, [1, 2], 3]\n",
      "\n",
      "lst1 = ['other element', ['internal element', 2], 3] \n",
      "lst2 = [1, [1, 2], 3]\n"
     ]
    }
   ],
   "source": [
    "# deepcopy() copies all nested objects.\n",
    "lst1 = [1, [1, 2], 3]\n",
    "lst2 = copy.deepcopy(lst1)\n",
    "print(\"lst1 =\", lst1, \"\\nlst2 =\",  lst2)\n",
    "print()\n",
    "\n",
    "lst1[0] = \"other element\"\n",
    "print(\"lst1 =\", lst1, \"\\nlst2 =\",  lst2)\n",
    "print()\n",
    "\n",
    "lst1[1][0] = \"internal element\"\n",
    "print(\"lst1 =\", lst1, \"\\nlst2 =\",  lst2)"
   ]
  },
  {
   "cell_type": "markdown",
   "metadata": {
    "id": "xOZwyZJAoL3M"
   },
   "source": [
    "#### Некоторые дополнительные функции для работы со списками"
   ]
  },
  {
   "cell_type": "code",
   "execution_count": 1,
   "metadata": {
    "ExecuteTime": {
     "end_time": "2025-03-16T17:11:55.675295Z",
     "start_time": "2025-03-16T17:11:55.672029Z"
    },
    "id": "TMQlp73boLjK"
   },
   "outputs": [
    {
     "name": "stdout",
     "output_type": "stream",
     "text": [
      "2\n"
     ]
    }
   ],
   "source": [
    "# Find number of occurrences of a number in a list\n",
    "lst1 = [1, 2, 3, 2]\n",
    "print(lst1.count(2))"
   ]
  },
  {
   "cell_type": "code",
   "execution_count": 18,
   "metadata": {
    "ExecuteTime": {
     "end_time": "2025-03-15T07:44:12.486678Z",
     "start_time": "2025-03-15T07:44:12.484240Z"
    },
    "id": "VuwlGReOp0ZZ"
   },
   "outputs": [
    {
     "name": "stdout",
     "output_type": "stream",
     "text": [
      "[]\n"
     ]
    }
   ],
   "source": [
    "# Clear a list.\n",
    "lst1 = [1, 2, 3, 2]\n",
    "lst1.clear()\n",
    "print(lst1)"
   ]
  },
  {
   "cell_type": "code",
   "execution_count": 19,
   "metadata": {
    "ExecuteTime": {
     "end_time": "2025-03-15T07:44:22.401547Z",
     "start_time": "2025-03-15T07:44:22.398849Z"
    },
    "id": "yEB6JRa1qGOy"
   },
   "outputs": [
    {
     "name": "stdout",
     "output_type": "stream",
     "text": [
      "1\n"
     ]
    }
   ],
   "source": [
    "# Find first occurrence of a number in list.\n",
    "lst1 = [1, 2, 3, 2]\n",
    "print(lst1.index(2))"
   ]
  },
  {
   "cell_type": "code",
   "execution_count": 20,
   "metadata": {
    "ExecuteTime": {
     "end_time": "2025-03-15T07:44:35.945691Z",
     "start_time": "2025-03-15T07:44:35.943055Z"
    },
    "id": "D24byAY2qLS6"
   },
   "outputs": [
    {
     "name": "stdout",
     "output_type": "stream",
     "text": [
      "[2, 3, 2, 1]\n"
     ]
    }
   ],
   "source": [
    "# Reverse a list.\n",
    "lst1 = [1, 2, 3, 2]\n",
    "lst1.reverse()\n",
    "print(lst1)\n"
   ]
  },
  {
   "cell_type": "code",
   "execution_count": 25,
   "metadata": {
    "ExecuteTime": {
     "end_time": "2025-03-15T07:46:18.323362Z",
     "start_time": "2025-03-15T07:46:18.321554Z"
    },
    "id": "vRb7UuWnqQNW"
   },
   "outputs": [
    {
     "name": "stdout",
     "output_type": "stream",
     "text": [
      "['1', '2', '2', '3', 'a']\n"
     ]
    }
   ],
   "source": [
    "# Sorting.\n",
    "lst1 = [\"a\", \"1\", \"2\", \"3\", \"2\"]\n",
    "lst1.sort()\n",
    "print(lst1)"
   ]
  },
  {
   "cell_type": "code",
   "execution_count": null,
   "metadata": {},
   "outputs": [],
   "source": []
  },
  {
   "cell_type": "markdown",
   "metadata": {
    "id": "FzjaQEKr23Q3"
   },
   "source": [
    "## Кортежи"
   ]
  },
  {
   "cell_type": "markdown",
   "metadata": {
    "id": "EjbCIPWG25-1"
   },
   "source": [
    "### Определения\n",
    "Кортеж - упорядоченная неизменяемая колекция произвольных объектов. \n",
    "\n",
    "Литералы кортежей: \n",
    "\n",
    "``` python\n",
    " a = (1, 2, 3, 4)\n",
    " b = (1, \"string\", [1, 2])\n",
    "```"
   ]
  },
  {
   "cell_type": "markdown",
   "metadata": {
    "id": "OwjDZP9L6Qfn"
   },
   "source": [
    "#### Зачем нужны кортежи?\n",
    "\n",
    "- Защита как от произвольного, так и непроизвольного изменения. \n",
    "- Как неизменяемые объекты, кортежы хешируемые, что позволяет их использовать, например, как ключи словаря. \n",
    "- Они занимают немного меньше места.\n"
   ]
  },
  {
   "cell_type": "markdown",
   "metadata": {
    "id": "7oOkO4u34Ltm"
   },
   "source": [
    "#### Базовые операции над кортежами\n",
    "\n",
    "***От большего, в части, которая не касается изменения, работа с кортежами очень похожа на работу со списками!***\n",
    "\n",
    "- Получение элемента кортежа по индексу: \n",
    "\n",
    "    `tpl[2]` - получение третьего элемента кортежа.\n",
    "\n",
    "- Сложение кортежей:\n",
    "\n",
    "  `result = tpl1 + tpl2` - кортеж `result` будет содержать все элементы первого, а после второго кортежа. Тут не происходит изменение кортежей, а происходит создание нового!  \n",
    "\n",
    "- Умножение кортежа на число:\n",
    "\n",
    "    `tpl*3` - возвращает новый кортеж, состоящий из элементов исходного кортежа, идущих три раза подряд.\n",
    "\n"
   ]
  },
  {
   "cell_type": "markdown",
   "metadata": {
    "id": "jm3otQem7tC-"
   },
   "source": [
    "#### Дополнительные методы работы с кортежами\n",
    "\n",
    "\n",
    "- Оператор `in` - проверка вхождения элемента в кортеж. \n",
    "\n",
    "- `tpl.index(x, [start [, end]])` - возвращает положение первого элемента со значением `x` (при этом поиск ведется от `start` до `end`).\n",
    "\n",
    "- `tpl.count(x)`\t- возвращает количество элементов со значением `x`.\n"
   ]
  },
  {
   "cell_type": "markdown",
   "metadata": {
    "id": "jgPGhRd_wkqS"
   },
   "source": [
    "### Code Snippets\n"
   ]
  },
  {
   "cell_type": "markdown",
   "metadata": {
    "id": "wxdzwWyS-b7O"
   },
   "source": [
    "#### Базовые операции над кортежами"
   ]
  },
  {
   "cell_type": "code",
   "execution_count": 27,
   "metadata": {
    "ExecuteTime": {
     "end_time": "2025-03-15T07:49:40.715471Z",
     "start_time": "2025-03-15T07:49:40.712911Z"
    },
    "id": "yemzcODo3BG4"
   },
   "outputs": [
    {
     "name": "stdout",
     "output_type": "stream",
     "text": [
      "(1, 2, 3) <class 'tuple'>\n"
     ]
    }
   ],
   "source": [
    "# Create a tuple.\n",
    "a = (1, 2, 3)\n",
    "print(a, type(a))"
   ]
  },
  {
   "cell_type": "code",
   "execution_count": 30,
   "metadata": {
    "ExecuteTime": {
     "end_time": "2025-03-15T07:50:29.027414Z",
     "start_time": "2025-03-15T07:50:29.024836Z"
    },
    "id": "8dkccysqUY-G"
   },
   "outputs": [
    {
     "name": "stdout",
     "output_type": "stream",
     "text": [
      "(1,) <class 'tuple'>\n"
     ]
    }
   ],
   "source": [
    "# Create a tuple with 1 item. Pay attention to a comma!\n",
    "a = (1,)\n",
    "print(a, type(a))"
   ]
  },
  {
   "cell_type": "code",
   "execution_count": 32,
   "metadata": {
    "ExecuteTime": {
     "end_time": "2025-03-15T07:51:34.548060Z",
     "start_time": "2025-03-15T07:51:34.545843Z"
    },
    "id": "jBYvRPRC3TxP"
   },
   "outputs": [
    {
     "name": "stdout",
     "output_type": "stream",
     "text": [
      "(1, [], 3)\n",
      "(1, [2], 3)\n"
     ]
    }
   ],
   "source": [
    "# Tuple for list.\n",
    "lst1 = [1, [], 3]\n",
    "b = tuple(lst1)\n",
    "print(b)\n",
    "\n",
    "b[1].append(2)\n",
    "print(b)"
   ]
  },
  {
   "cell_type": "code",
   "execution_count": 34,
   "metadata": {
    "ExecuteTime": {
     "end_time": "2025-03-15T07:52:49.751210Z",
     "start_time": "2025-03-15T07:52:49.747061Z"
    },
    "id": "Q6WFhzFE_07m"
   },
   "outputs": [
    {
     "data": {
      "text/plain": [
       "True"
      ]
     },
     "execution_count": 34,
     "metadata": {},
     "output_type": "execute_result"
    }
   ],
   "source": [
    "# Check if an item is present in a tuple (works the same for list, set, and dict).\n",
    "\"element\" in (1, 2, \"element\")"
   ]
  },
  {
   "cell_type": "code",
   "execution_count": 35,
   "metadata": {
    "ExecuteTime": {
     "end_time": "2025-03-15T07:52:57.078155Z",
     "start_time": "2025-03-15T07:52:57.074882Z"
    },
    "id": "o_2qcl0N81f2"
   },
   "outputs": [
    {
     "name": "stdout",
     "output_type": "stream",
     "text": [
      "(1, 2, 3, 4)\n"
     ]
    }
   ],
   "source": [
    "# Add up tuples.\n",
    "tpl1 = (1, 2, 3)\n",
    "tpl2 = (4, )\n",
    "print(tpl1 + tpl2)"
   ]
  },
  {
   "cell_type": "code",
   "execution_count": 38,
   "metadata": {
    "ExecuteTime": {
     "end_time": "2025-03-15T07:54:30.101555Z",
     "start_time": "2025-03-15T07:54:30.099696Z"
    },
    "id": "yQjyajrk3owU"
   },
   "outputs": [
    {
     "name": "stdout",
     "output_type": "stream",
     "text": [
      "Id кортежа перед сложением:  4401505664\n",
      "\n",
      "Кортеж после +=:  (1, 2, 3, 4) \n",
      "Id кортежа после сложения: 4401579968\n"
     ]
    }
   ],
   "source": [
    "# += does not modify a tuple, but creates a new one.\n",
    "tpl = (1, 2)\n",
    "print(\"Id кортежа перед сложением: \", id(tpl))\n",
    "print()\n",
    "\n",
    "tpl += (3, 4)\n",
    "print(\"Кортеж после +=: \", tpl, \"\\nId кортежа после сложения:\", id(tpl))\n",
    "# IDs are different, so these are different tuples."
   ]
  },
  {
   "cell_type": "code",
   "execution_count": 41,
   "metadata": {
    "ExecuteTime": {
     "end_time": "2025-03-15T07:55:03.408352Z",
     "start_time": "2025-03-15T07:55:03.395136Z"
    },
    "id": "OhcGegYS4Yv9"
   },
   "outputs": [
    {
     "ename": "AttributeError",
     "evalue": "'tuple' object has no attribute 'append'",
     "output_type": "error",
     "traceback": [
      "\u001b[31m---------------------------------------------------------------------------\u001b[39m",
      "\u001b[31mAttributeError\u001b[39m                            Traceback (most recent call last)",
      "\u001b[36mCell\u001b[39m\u001b[36m \u001b[39m\u001b[32mIn[41]\u001b[39m\u001b[32m, line 3\u001b[39m\n\u001b[32m      1\u001b[39m \u001b[38;5;66;03m# Вызов операций, которые явно меняют объект, для кортежа очевидно недопустимы.\u001b[39;00m\n\u001b[32m      2\u001b[39m tpl = (\u001b[32m1\u001b[39m, \u001b[32m2\u001b[39m)\n\u001b[32m----> \u001b[39m\u001b[32m3\u001b[39m \u001b[43mtpl\u001b[49m\u001b[43m.\u001b[49m\u001b[43mappend\u001b[49m(\u001b[32m3\u001b[39m)\n",
      "\u001b[31mAttributeError\u001b[39m: 'tuple' object has no attribute 'append'"
     ]
    }
   ],
   "source": [
    "# We cannot change a tuple.\n",
    "tpl = (1, 2)\n",
    "tpl.append(3)"
   ]
  },
  {
   "cell_type": "code",
   "execution_count": 42,
   "metadata": {
    "ExecuteTime": {
     "end_time": "2025-03-15T07:55:24.185059Z",
     "start_time": "2025-03-15T07:55:24.182301Z"
    },
    "id": "0CcOEdv9Vmke"
   },
   "outputs": [
    {
     "name": "stdout",
     "output_type": "stream",
     "text": [
      "1\n",
      "2\n",
      "3\n",
      "4\n",
      "5\n"
     ]
    }
   ],
   "source": [
    "# Going through a tuple.\n",
    "for i in (1, 2, 3, 4, 5):\n",
    "  print(i)"
   ]
  },
  {
   "cell_type": "code",
   "execution_count": 43,
   "metadata": {
    "ExecuteTime": {
     "end_time": "2025-03-15T07:55:31.586805Z",
     "start_time": "2025-03-15T07:55:31.584366Z"
    },
    "id": "uN5FQrXN4Z1u"
   },
   "outputs": [
    {
     "name": "stdout",
     "output_type": "stream",
     "text": [
      "2\n"
     ]
    }
   ],
   "source": [
    "# Index, the same as for list.\n",
    "tpl = (1, 2, 3)\n",
    "print(tpl.index(3))\n"
   ]
  },
  {
   "cell_type": "markdown",
   "metadata": {
    "id": "ohdHZ_je-djl"
   },
   "source": [
    "#### Неявное применение кортежей\n",
    "\n",
    "Кортежи также неявно применяются в местах, где их использование очевидно. Например, если идет последовательность элементов, разделенных запятой - она будет интерпретирована как кортеж. "
   ]
  },
  {
   "cell_type": "code",
   "execution_count": 44,
   "metadata": {
    "ExecuteTime": {
     "end_time": "2025-03-15T08:07:29.698255Z",
     "start_time": "2025-03-15T08:07:29.695756Z"
    },
    "id": "mdseL5UI-1te"
   },
   "outputs": [
    {
     "name": "stdout",
     "output_type": "stream",
     "text": [
      "(1, 2, 3) <class 'tuple'>\n"
     ]
    }
   ],
   "source": [
    "# No need for () to create a tuple.\n",
    "var = 1, 2, 3\n",
    "print(var, type(var))"
   ]
  },
  {
   "cell_type": "code",
   "execution_count": 46,
   "metadata": {
    "ExecuteTime": {
     "end_time": "2025-03-15T08:08:57.526219Z",
     "start_time": "2025-03-15T08:08:57.524337Z"
    },
    "id": "6Vvk72bO-7pV"
   },
   "outputs": [
    {
     "name": "stdout",
     "output_type": "stream",
     "text": [
      "(1,) <class 'tuple'>\n"
     ]
    }
   ],
   "source": [
    "# The same for tuples with 1 element.\n",
    "var = 1,\n",
    "print(var, type(var))"
   ]
  },
  {
   "cell_type": "code",
   "execution_count": 47,
   "metadata": {
    "ExecuteTime": {
     "end_time": "2025-03-15T08:09:12.284286Z",
     "start_time": "2025-03-15T08:09:12.281654Z"
    },
    "id": "f_TFBppk_MTq"
   },
   "outputs": [
    {
     "name": "stdout",
     "output_type": "stream",
     "text": [
      "1\n",
      "2\n",
      "rr\n",
      "[1, 2]\n"
     ]
    }
   ],
   "source": [
    "# The same in for loop.\n",
    "for element in 1, 2, \"rr\", [1, 2]:\n",
    "    print(element)"
   ]
  },
  {
   "cell_type": "code",
   "execution_count": 49,
   "metadata": {
    "ExecuteTime": {
     "end_time": "2025-03-15T08:10:22.271502Z",
     "start_time": "2025-03-15T08:10:22.269261Z"
    },
    "id": "L07aV6h8An5N"
   },
   "outputs": [
    {
     "name": "stdout",
     "output_type": "stream",
     "text": [
      "1 23\n"
     ]
    }
   ],
   "source": [
    "# Assign multiple variables on one line.\n",
    "a, b = 1, 23\n",
    "print(a, b)"
   ]
  },
  {
   "cell_type": "code",
   "execution_count": 48,
   "metadata": {
    "ExecuteTime": {
     "end_time": "2025-03-15T08:10:18.838014Z",
     "start_time": "2025-03-15T08:10:18.835909Z"
    },
    "id": "SD02iIivAts1"
   },
   "outputs": [
    {
     "name": "stdout",
     "output_type": "stream",
     "text": [
      "1 23\n"
     ]
    }
   ],
   "source": [
    "# The same as code above.\n",
    "(a, b) = (1, 23)\n",
    "print(a, b)"
   ]
  },
  {
   "cell_type": "code",
   "execution_count": 51,
   "metadata": {
    "ExecuteTime": {
     "end_time": "2025-03-15T08:11:51.745370Z",
     "start_time": "2025-03-15T08:11:51.742419Z"
    },
    "id": "8cccVDvMmyoN"
   },
   "outputs": [
    {
     "name": "stdout",
     "output_type": "stream",
     "text": [
      "a =  1 b =  23\n",
      "\n",
      "a =  23 b =  1\n"
     ]
    }
   ],
   "source": [
    "# Swap values, under the hood - tuples.\n",
    "a, b = 1, 23\n",
    "print(\"a = \", a, \"b = \", b)\n",
    "print()\n",
    "\n",
    "b, a = a, b\n",
    "print(\"a = \", a, \"b = \", b)"
   ]
  },
  {
   "cell_type": "code",
   "execution_count": 52,
   "metadata": {
    "ExecuteTime": {
     "end_time": "2025-03-15T08:12:06.666012Z",
     "start_time": "2025-03-15T08:12:06.662538Z"
    },
    "id": "2mhA_vTgAk6Z"
   },
   "outputs": [
    {
     "name": "stdout",
     "output_type": "stream",
     "text": [
      "24 10\n"
     ]
    }
   ],
   "source": [
    "# More complex example.\n",
    "a, b = 1, 23\n",
    "a, b = a + b, a * 10\n",
    "print(a, b)"
   ]
  },
  {
   "cell_type": "markdown",
   "metadata": {
    "id": "DlUs1GsiCx1c"
   },
   "source": [
    "## Словари"
   ]
  },
  {
   "cell_type": "markdown",
   "metadata": {
    "id": "34CJ4ph3ChUG"
   },
   "source": [
    "### Теоретические сведения\n"
   ]
  },
  {
   "cell_type": "markdown",
   "metadata": {
    "id": "jUFffMy4LOWO"
   },
   "source": [
    "#### Определения\n",
    "**Словарь** - коллекция, представляющая собой набор пар ключ-значения. Вообще словари в Python представляют собой такую структуру данных как хеш-таблица. \n",
    "\n",
    "Хеш таблицы сами по себе - неупорядоченные структуры данных, однако в Python, начиная с версии 3.6 сохраняется порядок добавления элементов в словарь. Подробнее об этом в [PEP468](https://www.python.org/dev/peps/pep-0468/). \n",
    "\n",
    "Тем не менее, ввиду того что на реальных проектах могут быть разные версии Python, нужно либо не рассчитыватт на то что словарь будет упорядочен по времени добавления элементов, либо внимательно смотреть за версией интерпретатора. \n",
    "\n",
    "**Литералы словарей:** \n",
    "\n",
    "``` python\n",
    " a = {1: 2, 3: 4}\n",
    " b = {1: \"string\", \"key\": [1, 2]}\n",
    "```\n"
   ]
  },
  {
   "cell_type": "markdown",
   "metadata": {
    "id": "EjdDzlFCZLX-"
   },
   "source": [
    "#### Базовые операции со словарями\n",
    "\n",
    "- Получение значения по ключу: \n",
    "\n",
    "    `dct[key]` - получение знаение, которое соответствует ключу key.\n",
    "\n",
    "- Присвоение значения ключу:\n",
    "\n",
    "    `dct[key] = object` - присвоение ключу key элементу.\n",
    "\n",
    "- Удаление пары из словаря:\n",
    "\n",
    "    `del dct[key]` - удаляет из словаря пару ключ-значение.\n"
   ]
  },
  {
   "cell_type": "markdown",
   "metadata": {
    "id": "2LlWupTfaCvf"
   },
   "source": [
    "#### Дополнительные методы работы со словарями\n",
    "\n",
    "- `fromkeys(iterable[, value])` - создает словарь, с ключами из `iterable` и значениями `value`, или `None`, если `value` не передается. \n",
    "\n",
    "- `dict.update(other)` - обновляет словарь парами ключ-значение из other, если ключ существует - обновляет их значения. \n",
    "\n",
    "- `dict.items()` - возвращает итерируемый объект, состоящий из кортежей, первый элемент которых ключ, а второй - значение. \n",
    "\n",
    "- `dict.values()` - возвращает итерируемый объект, элементами которого являются значения в словаре. \n",
    "\n",
    "- `dict.clear()` - очищает словарь.\n",
    "\n",
    "- `dict.copy()` - возвращает копию словаря.\n",
    "\n",
    "- `dict.get(key[, default])` - получает элемент словаря по ключу, если он отсутствует в словаре, возвращает `default`, а если он не указан - `None`.\n",
    "\n",
    "- `dict.pop(key[, default])` - возвращает значение соответствующее ключу `key` и удаляет пару из словаря. \n",
    "\n",
    "- `dict.popitem()` - возвращает кортеж содержащий ключ и значение (пара выбирается произвольно), удаляя их из словаря. \n",
    "\n",
    "- `dict.setdefault(key[, default])` - возвращает значение ключа, но в случае его отсутствия, создает ключ с значением `default` (по умолчанию `None`).\n"
   ]
  },
  {
   "cell_type": "markdown",
   "metadata": {
    "id": "JK1eGJtoFfSI"
   },
   "source": [
    "### Code Snippets"
   ]
  },
  {
   "cell_type": "markdown",
   "metadata": {
    "id": "b7UV4SvWbeDO"
   },
   "source": [
    "#### Создание словарей"
   ]
  },
  {
   "cell_type": "code",
   "execution_count": 53,
   "metadata": {
    "ExecuteTime": {
     "end_time": "2025-03-15T08:20:15.651609Z",
     "start_time": "2025-03-15T08:20:15.649598Z"
    },
    "id": "HyFPvFivBEGc"
   },
   "outputs": [
    {
     "name": "stdout",
     "output_type": "stream",
     "text": [
      "{1: 'one', 2: 'two', 3: 'three'}\n"
     ]
    }
   ],
   "source": [
    "# Create a dict.\n",
    "dct = {1: \"one\", 2: \"two\", 3: \"three\"}\n",
    "print(dct)"
   ]
  },
  {
   "cell_type": "code",
   "execution_count": 54,
   "metadata": {
    "ExecuteTime": {
     "end_time": "2025-03-15T08:20:49.093266Z",
     "start_time": "2025-03-15T08:20:49.091200Z"
    },
    "id": "1jACHSzFKZTZ"
   },
   "outputs": [
    {
     "name": "stdout",
     "output_type": "stream",
     "text": [
      "dct =  {} <class 'dict'>\n",
      "dct1 =  {} <class 'dict'>\n"
     ]
    }
   ],
   "source": [
    "# Other ways to create a dict.\n",
    "dct = dict()\n",
    "dct1 = {}\n",
    "print(\"dct = \", dct, type(dct))\n",
    "print(\"dct1 = \", dct1, type(dct1))\n"
   ]
  },
  {
   "cell_type": "code",
   "execution_count": 58,
   "metadata": {
    "ExecuteTime": {
     "end_time": "2025-03-15T08:22:24.765066Z",
     "start_time": "2025-03-15T08:22:24.763058Z"
    },
    "id": "ijgvfZ3uOUEc"
   },
   "outputs": [
    {
     "name": "stdout",
     "output_type": "stream",
     "text": [
      "{'a': None, 'b': None}\n"
     ]
    }
   ],
   "source": [
    "# Create a dict with fromkeys().\n",
    "dct = dict.fromkeys([\"a\", \"b\"])\n",
    "print(dct)"
   ]
  },
  {
   "cell_type": "code",
   "execution_count": 60,
   "metadata": {
    "ExecuteTime": {
     "end_time": "2025-03-15T08:23:09.002536Z",
     "start_time": "2025-03-15T08:23:09.000236Z"
    },
    "id": "wjGL30BLrNSR"
   },
   "outputs": [
    {
     "name": "stdout",
     "output_type": "stream",
     "text": [
      "{1: 'one', 2: 'two', 3: 'three'}\n"
     ]
    }
   ],
   "source": [
    "# Create a dict form list of pairs.\n",
    "dct = dict([[1, \"one\"], (2, \"two\"), (3, \"three\")])\n",
    "print(dct)"
   ]
  },
  {
   "cell_type": "code",
   "execution_count": 63,
   "metadata": {
    "ExecuteTime": {
     "end_time": "2025-03-15T08:25:36.058630Z",
     "start_time": "2025-03-15T08:25:36.055570Z"
    },
    "id": "07c9LJ9zHJR2"
   },
   "outputs": [
    {
     "name": "stdout",
     "output_type": "stream",
     "text": [
      "{1: [1, 2, 3, 4], (1, 2, 3): 't'}\n"
     ]
    }
   ],
   "source": [
    "# Key can be any hashable object.\n",
    "dct = {}\n",
    "dct[1] = [1, 2, 3, 4]\n",
    "dct[(1, 2, 3)] = \"t\"\n",
    "print(dct)"
   ]
  },
  {
   "cell_type": "code",
   "execution_count": 64,
   "metadata": {
    "ExecuteTime": {
     "end_time": "2025-03-15T08:25:58.649704Z",
     "start_time": "2025-03-15T08:25:58.633211Z"
    },
    "id": "Fvn98ODFNwm9"
   },
   "outputs": [
    {
     "ename": "TypeError",
     "evalue": "unhashable type: 'list'",
     "output_type": "error",
     "traceback": [
      "\u001b[31m---------------------------------------------------------------------------\u001b[39m",
      "\u001b[31mTypeError\u001b[39m                                 Traceback (most recent call last)",
      "\u001b[36mCell\u001b[39m\u001b[36m \u001b[39m\u001b[32mIn[64]\u001b[39m\u001b[32m, line 4\u001b[39m\n\u001b[32m      1\u001b[39m \u001b[38;5;66;03m# Кортежи могут быть ключами словаря, но для этого необходимо чтобы все их\u001b[39;00m\n\u001b[32m      2\u001b[39m \u001b[38;5;66;03m# элементы были хешируемыми.\u001b[39;00m\n\u001b[32m      3\u001b[39m dct = {}\n\u001b[32m----> \u001b[39m\u001b[32m4\u001b[39m \u001b[43mdct\u001b[49m\u001b[43m[\u001b[49m\u001b[43m(\u001b[49m\u001b[32;43m1\u001b[39;49m\u001b[43m,\u001b[49m\u001b[43m \u001b[49m\u001b[32;43m2\u001b[39;49m\u001b[43m,\u001b[49m\u001b[43m \u001b[49m\u001b[43m[\u001b[49m\u001b[43m]\u001b[49m\u001b[43m)\u001b[49m\u001b[43m]\u001b[49m = \u001b[33m'\u001b[39m\u001b[33mt\u001b[39m\u001b[33m'\u001b[39m\n\u001b[32m      5\u001b[39m \u001b[38;5;28mprint\u001b[39m(dct)\n",
      "\u001b[31mTypeError\u001b[39m: unhashable type: 'list'"
     ]
    }
   ],
   "source": [
    "# Tuples can be keys in a dict, but for this all items of a tuple must be hashable.\n",
    "dct = {}\n",
    "dct[(1, 2, [])] = \"t\"\n",
    "print(dct)"
   ]
  },
  {
   "cell_type": "code",
   "execution_count": 85,
   "metadata": {
    "ExecuteTime": {
     "end_time": "2025-03-15T08:35:42.287330Z",
     "start_time": "2025-03-15T08:35:42.271893Z"
    }
   },
   "outputs": [
    {
     "name": "stdout",
     "output_type": "stream",
     "text": [
      "hash 1 1293462952874008718\n",
      "hash 2 529344067295497451\n"
     ]
    },
    {
     "ename": "TypeError",
     "evalue": "unhashable type: 'list'",
     "output_type": "error",
     "traceback": [
      "\u001b[31m---------------------------------------------------------------------------\u001b[39m",
      "\u001b[31mTypeError\u001b[39m                                 Traceback (most recent call last)",
      "\u001b[36mCell\u001b[39m\u001b[36m \u001b[39m\u001b[32mIn[85]\u001b[39m\u001b[32m, line 4\u001b[39m\n\u001b[32m      2\u001b[39m \u001b[38;5;28mprint\u001b[39m(\u001b[33m\"\u001b[39m\u001b[33mhash 1\u001b[39m\u001b[33m\"\u001b[39m, \u001b[38;5;28mhash\u001b[39m(\u001b[33m\"\u001b[39m\u001b[33m1_000_000_000\u001b[39m\u001b[33m\"\u001b[39m))  \u001b[38;5;66;03m# MD5, SHA256\u001b[39;00m\n\u001b[32m      3\u001b[39m \u001b[38;5;28mprint\u001b[39m(\u001b[33m\"\u001b[39m\u001b[33mhash 2\u001b[39m\u001b[33m\"\u001b[39m, \u001b[38;5;28mhash\u001b[39m((\u001b[32m1\u001b[39m, \u001b[32m2\u001b[39m, \u001b[32m3\u001b[39m)))\n\u001b[32m----> \u001b[39m\u001b[32m4\u001b[39m \u001b[38;5;28mprint\u001b[39m(\u001b[33m\"\u001b[39m\u001b[33mhash 2\u001b[39m\u001b[33m\"\u001b[39m, \u001b[38;5;28;43mhash\u001b[39;49m\u001b[43m(\u001b[49m\u001b[43m(\u001b[49m\u001b[32;43m1\u001b[39;49m\u001b[43m,\u001b[49m\u001b[43m \u001b[49m\u001b[32;43m2\u001b[39;49m\u001b[43m,\u001b[49m\u001b[43m \u001b[49m\u001b[32;43m3\u001b[39;49m\u001b[43m,\u001b[49m\u001b[43m \u001b[49m\u001b[43m[\u001b[49m\u001b[43m]\u001b[49m\u001b[43m)\u001b[49m\u001b[43m)\u001b[49m)\n\u001b[32m      5\u001b[39m \u001b[38;5;66;03m# print(\"hash 2\", hash({}))\u001b[39;00m\n",
      "\u001b[31mTypeError\u001b[39m: unhashable type: 'list'"
     ]
    }
   ],
   "source": [
    "# Hashing\n",
    "print(\"hash 1\", hash(\"1_000_000_000\"))  # MD5, SHA256\n",
    "print(\"hash 2\", hash((1, 2, 3)))\n",
    "print(\"hash 2\", hash((1, 2, 3, [])))\n",
    "# print(\"hash 2\", hash({}))"
   ]
  },
  {
   "cell_type": "markdown",
   "metadata": {
    "id": "Tlo0_J8OOnlx"
   },
   "source": [
    "#### Изменение словарей"
   ]
  },
  {
   "cell_type": "code",
   "execution_count": 87,
   "metadata": {
    "ExecuteTime": {
     "end_time": "2025-03-15T08:36:40.426032Z",
     "start_time": "2025-03-15T08:36:40.413330Z"
    },
    "id": "tXhL90QMN2wk"
   },
   "outputs": [
    {
     "ename": "TypeError",
     "evalue": "unsupported operand type(s) for +=: 'dict' and 'dict'",
     "output_type": "error",
     "traceback": [
      "\u001b[31m---------------------------------------------------------------------------\u001b[39m",
      "\u001b[31mTypeError\u001b[39m                                 Traceback (most recent call last)",
      "\u001b[36mCell\u001b[39m\u001b[36m \u001b[39m\u001b[32mIn[87]\u001b[39m\u001b[32m, line 4\u001b[39m\n\u001b[32m      2\u001b[39m dct1 = {\u001b[32m1\u001b[39m: \u001b[33m'\u001b[39m\u001b[33mone\u001b[39m\u001b[33m'\u001b[39m, \u001b[32m3\u001b[39m: \u001b[33m'\u001b[39m\u001b[33mthree\u001b[39m\u001b[33m'\u001b[39m}\n\u001b[32m      3\u001b[39m dct2 = {\u001b[32m5\u001b[39m: \u001b[33m'\u001b[39m\u001b[33mfive\u001b[39m\u001b[33m'\u001b[39m, \u001b[32m7\u001b[39m: \u001b[33m'\u001b[39m\u001b[33mseven\u001b[39m\u001b[33m'\u001b[39m}\n\u001b[32m----> \u001b[39m\u001b[32m4\u001b[39m \u001b[43mdct1\u001b[49m\u001b[43m \u001b[49m\u001b[43m+\u001b[49m\u001b[43m=\u001b[49m\u001b[43m \u001b[49m\u001b[43mdct2\u001b[49m\n\u001b[32m      5\u001b[39m \u001b[38;5;28mprint\u001b[39m(dct1)\n",
      "\u001b[31mTypeError\u001b[39m: unsupported operand type(s) for +=: 'dict' and 'dict'"
     ]
    }
   ],
   "source": [
    "# + does not work for dicts.\n",
    "dct1 = {1: \"one\", 3: \"three\"}\n",
    "dct2 = {5: \"five\", 7: \"seven\"}\n",
    "dct1 += dct2\n",
    "print(dct1)"
   ]
  },
  {
   "cell_type": "code",
   "execution_count": 89,
   "metadata": {
    "ExecuteTime": {
     "end_time": "2025-03-15T08:37:40.249658Z",
     "start_time": "2025-03-15T08:37:40.247406Z"
    },
    "id": "iPl50D9EOCo0"
   },
   "outputs": [
    {
     "name": "stdout",
     "output_type": "stream",
     "text": [
      "{1: 'one', 3: 'three', 5: 'five', 7: 'seven'}\n",
      "{1: 'one', 3: 'three', 5: 'five', 7: 'seven'}\n"
     ]
    }
   ],
   "source": [
    "# Instead, use update, or | and |=.\n",
    "dct1 = {1: \"one\", 3: \"three\"}\n",
    "dct2 = {5: \"five\", 7: \"seven\"}\n",
    "dct1.update(dct2)\n",
    "print(dct1)\n",
    "\n",
    "dct1 = {1: \"one\", 3: \"three\"}\n",
    "dct2 = {5: \"five\", 7: \"seven\"}\n",
    "dct1 |= dct2\n",
    "print(dct1)"
   ]
  },
  {
   "cell_type": "code",
   "execution_count": 90,
   "metadata": {
    "ExecuteTime": {
     "end_time": "2025-03-15T08:38:17.912531Z",
     "start_time": "2025-03-15T08:38:17.909600Z"
    },
    "id": "77ErUyYaOJjV"
   },
   "outputs": [
    {
     "name": "stdout",
     "output_type": "stream",
     "text": [
      "{1: 'one', 3: 'Three', 7: 'seven'}\n"
     ]
    }
   ],
   "source": [
    "# If keys match, the value is updated.\n",
    "dct1 = {1: \"one\", 3: \"three\"}\n",
    "dct2 = {3: \"Three\", 7: \"seven\"}\n",
    "dct1.update(dct2)\n",
    "print(dct1)"
   ]
  },
  {
   "cell_type": "markdown",
   "metadata": {
    "id": "-JGtNMnJPG5Z"
   },
   "source": [
    "#### Итерирование по словарям"
   ]
  },
  {
   "cell_type": "code",
   "execution_count": 92,
   "metadata": {
    "ExecuteTime": {
     "end_time": "2025-03-15T08:40:00.354134Z",
     "start_time": "2025-03-15T08:40:00.351791Z"
    },
    "id": "U7gJJlmcOfXr"
   },
   "outputs": [
    {
     "name": "stdout",
     "output_type": "stream",
     "text": [
      "1: one\n",
      "3: three\n"
     ]
    }
   ],
   "source": [
    "# Loop over keys.\n",
    "dct = {1: \"one\", 3: \"three\"}\n",
    "for key in dct:\n",
    "    print(str(key) + \": \" + str(dct[key]))"
   ]
  },
  {
   "cell_type": "code",
   "execution_count": 93,
   "metadata": {
    "ExecuteTime": {
     "end_time": "2025-03-15T08:40:19.237514Z",
     "start_time": "2025-03-15T08:40:19.233261Z"
    },
    "id": "q9FBikZcO9Qj"
   },
   "outputs": [
    {
     "name": "stdout",
     "output_type": "stream",
     "text": [
      "(1, 'one')\n",
      "(3, 'three')\n"
     ]
    }
   ],
   "source": [
    "# Loop over keys and values.\n",
    "dct = {1: \"one\", 3: \"three\"}\n",
    "for element in dct.items():\n",
    "  print(element)\n"
   ]
  },
  {
   "cell_type": "code",
   "execution_count": 94,
   "metadata": {
    "ExecuteTime": {
     "end_time": "2025-03-15T08:40:48.342777Z",
     "start_time": "2025-03-15T08:40:48.340142Z"
    },
    "id": "I0EsC8NKtOLA"
   },
   "outputs": [
    {
     "name": "stdout",
     "output_type": "stream",
     "text": [
      "1 one\n",
      "3 three\n"
     ]
    }
   ],
   "source": [
    "dct = {1: \"one\", 3: \"three\"}\n",
    "for key, value in dct.items():\n",
    "  print(key, value)\n"
   ]
  },
  {
   "cell_type": "code",
   "execution_count": 95,
   "metadata": {
    "ExecuteTime": {
     "end_time": "2025-03-15T08:41:01.801319Z",
     "start_time": "2025-03-15T08:41:01.799144Z"
    },
    "id": "A_SjT17-O9Im"
   },
   "outputs": [
    {
     "name": "stdout",
     "output_type": "stream",
     "text": [
      "one\n",
      "three\n"
     ]
    }
   ],
   "source": [
    "# Loop over values().\n",
    "dct = {1: \"one\", 3: \"three\"}\n",
    "for element in dct.values():\n",
    "  print(element)"
   ]
  },
  {
   "cell_type": "code",
   "execution_count": 96,
   "metadata": {
    "ExecuteTime": {
     "end_time": "2025-03-15T08:41:23.856339Z",
     "start_time": "2025-03-15T08:41:23.853320Z"
    },
    "id": "8iq_vO2GO8t8"
   },
   "outputs": [
    {
     "name": "stdout",
     "output_type": "stream",
     "text": [
      "1\n",
      "3\n"
     ]
    }
   ],
   "source": [
    "# Loop over keys. The same as `for element in dct:`.\n",
    "dct = {1: \"one\", 3: \"three\"}\n",
    "for element in dct.keys():\n",
    "  print(element)"
   ]
  },
  {
   "cell_type": "markdown",
   "metadata": {
    "id": "W1C9eBdBPaOb"
   },
   "source": [
    "#### Получение элемента словаря."
   ]
  },
  {
   "cell_type": "code",
   "execution_count": 97,
   "metadata": {
    "ExecuteTime": {
     "end_time": "2025-03-15T08:41:49.145105Z",
     "start_time": "2025-03-15T08:41:49.142181Z"
    },
    "id": "pG0zAO6SPehd"
   },
   "outputs": [
    {
     "name": "stdout",
     "output_type": "stream",
     "text": [
      "kawabungo\n"
     ]
    }
   ],
   "source": [
    "# Get a value by key.\n",
    "dct = {(1, ): \"kawabungo\", 2:\"my_item\"}\n",
    "print(dct[(1, )])"
   ]
  },
  {
   "cell_type": "code",
   "execution_count": 98,
   "metadata": {
    "ExecuteTime": {
     "end_time": "2025-03-15T08:42:03.539144Z",
     "start_time": "2025-03-15T08:42:03.523807Z"
    },
    "id": "3TAzeFuePjly"
   },
   "outputs": [
    {
     "ename": "KeyError",
     "evalue": "'1'",
     "output_type": "error",
     "traceback": [
      "\u001b[31m---------------------------------------------------------------------------\u001b[39m",
      "\u001b[31mKeyError\u001b[39m                                  Traceback (most recent call last)",
      "\u001b[36mCell\u001b[39m\u001b[36m \u001b[39m\u001b[32mIn[98]\u001b[39m\u001b[32m, line 4\u001b[39m\n\u001b[32m      1\u001b[39m \u001b[38;5;66;03m# Проблемы возникают, когда мы пытаемся получить значение по ключу, которого\u001b[39;00m\n\u001b[32m      2\u001b[39m \u001b[38;5;66;03m# в словаре нет.\u001b[39;00m\n\u001b[32m      3\u001b[39m dct = {\u001b[32m1\u001b[39m: \u001b[33m'\u001b[39m\u001b[33mkawabungo\u001b[39m\u001b[33m'\u001b[39m, \u001b[32m2\u001b[39m:\u001b[33m'\u001b[39m\u001b[33mmy_item\u001b[39m\u001b[33m'\u001b[39m}\n\u001b[32m----> \u001b[39m\u001b[32m4\u001b[39m \u001b[38;5;28mprint\u001b[39m(\u001b[43mdct\u001b[49m\u001b[43m[\u001b[49m\u001b[33;43m'\u001b[39;49m\u001b[33;43m1\u001b[39;49m\u001b[33;43m'\u001b[39;49m\u001b[43m]\u001b[49m)\n",
      "\u001b[31mKeyError\u001b[39m: '1'"
     ]
    }
   ],
   "source": [
    "# If no key in dict -> an error.\n",
    "dct = {1: \"kawabungo\", 2:\"my_item\"}\n",
    "print(dct[\"1\"])"
   ]
  },
  {
   "cell_type": "code",
   "execution_count": 99,
   "metadata": {
    "ExecuteTime": {
     "end_time": "2025-03-15T08:42:19.806575Z",
     "start_time": "2025-03-15T08:42:19.802983Z"
    },
    "id": "lfWa-kTTPl4d"
   },
   "outputs": [
    {
     "name": "stdout",
     "output_type": "stream",
     "text": [
      "None\n"
     ]
    }
   ],
   "source": [
    "# get(key) returns a value or None\n",
    "dct = {1: \"kawabungo\", 2:\"my_item\"}\n",
    "print(dct.get(\"1\"))"
   ]
  },
  {
   "cell_type": "code",
   "execution_count": 100,
   "metadata": {
    "ExecuteTime": {
     "end_time": "2025-03-15T08:43:11.558870Z",
     "start_time": "2025-03-15T08:43:11.556708Z"
    },
    "id": "lNBL-ZT3PrT0"
   },
   "outputs": [
    {
     "name": "stdout",
     "output_type": "stream",
     "text": [
      "THIS IS DEFAULT ELEMENT\n"
     ]
    }
   ],
   "source": [
    "# Or another default value can be used.\n",
    "dct = {1: \"kawabungo\", 2:\"my_item\"}\n",
    "print(dct.get(\"1\", \"THIS IS DEFAULT ELEMENT\"))"
   ]
  },
  {
   "cell_type": "code",
   "execution_count": 104,
   "metadata": {
    "ExecuteTime": {
     "end_time": "2025-03-15T08:45:04.740618Z",
     "start_time": "2025-03-15T08:45:04.738497Z"
    },
    "id": "oViU7S7HsVDe"
   },
   "outputs": [
    {
     "name": "stdout",
     "output_type": "stream",
     "text": [
      "(3, 'three')\n",
      "(1, 'one')\n"
     ]
    }
   ],
   "source": [
    "# popitem removes items, returning them.\n",
    "dct = {1: \"one\", 3: \"three\"}\n",
    "while dct:\n",
    "    print(dct.popitem())"
   ]
  },
  {
   "cell_type": "markdown",
   "metadata": {
    "id": "iSyLJiLhLm24"
   },
   "source": [
    "## Множества\n"
   ]
  },
  {
   "cell_type": "markdown",
   "metadata": {
    "id": "SLcyNGlkn_Kl"
   },
   "source": [
    "### Теоретические сведения"
   ]
  },
  {
   "cell_type": "markdown",
   "metadata": {
    "id": "HjJUcKsHjJXl"
   },
   "source": [
    "#### Определения\n",
    "Множества представляют собой совокупность некоторых объектов, и вообще говоря в математике являются неопределяемым понятием.\n",
    "\n",
    "**Некоторые свойства множеств:**\n",
    "- Множество - неупорядоченный тип данных.\n",
    "\n",
    "- Множество может содержать только хешируемые объекты, из стандартных типов данных - это неизменяемые обхекты. \n",
    "\n",
    "- Множество не может содержать повторяющиеся элементы, также как в словаре не может быть повторяющихся ключей.\n",
    "\n",
    "****\n",
    "\n",
    "**Литералы множеств:** \n",
    "\n",
    "``` python\n",
    " a = {1, 3}\n",
    " b = {\"string\", 1}\n",
    "```"
   ]
  },
  {
   "cell_type": "markdown",
   "metadata": {
    "id": "oGPeLg7ckbws"
   },
   "source": [
    "#### Основные методы работы с множествами\n",
    "\n",
    "*Математические операции над множествами:*\n",
    "\n",
    "- `set.update(other)`; `set |= other`, `set1 | set2` - объединение множеств.\n",
    "\n",
    "- `set.intersection_update(other)`; `set &= other`, `set1 & set2` - пересечение множеств.\n",
    "\n",
    "- `set.difference_update(other, ...)`; `set -= other` `set1 - set2` - разность множеств.\n",
    "\n",
    "- `set.symmetric_difference_update(other)`; `set ^= other`, `set1 ^ set2` - симметрическая разность множеств. Симметрическая разность - это множество из элементов, встречающихся в одном из множеств, но не встречающиеся в обоих.\n",
    "\n",
    "*Работа с элементами множеств*:\n",
    "\n",
    "- `set.add(elem)` - добавляет элемент в множество.\n",
    "\n",
    "- `set.remove(elem)` - удаляет элемент из множества. KeyError, если такого элемента не существует.\n",
    "\n",
    "- `set.discard(elem)` - удаляет элемент, если он находится в множестве.\n",
    "\n",
    "- `set.pop()` - удаляет некоторый элемент из множества. Так как множества не упорядочены, нельзя точно сказать, какой элемент будет удален.\n",
    "\n",
    "- `set.clear()` - очистка множества."
   ]
  },
  {
   "cell_type": "markdown",
   "metadata": {
    "id": "ueB1TBXzoFii"
   },
   "source": [
    "### Code Snippets"
   ]
  },
  {
   "cell_type": "markdown",
   "metadata": {
    "id": "X5zKSbT9PHNz"
   },
   "source": [
    "#### Базовые операции с множествами"
   ]
  },
  {
   "cell_type": "code",
   "execution_count": 107,
   "metadata": {
    "ExecuteTime": {
     "end_time": "2025-03-15T08:48:01.898624Z",
     "start_time": "2025-03-15T08:48:01.896644Z"
    },
    "id": "ojht_NmOBbxF"
   },
   "outputs": [
    {
     "name": "stdout",
     "output_type": "stream",
     "text": [
      "{1, 2, 3} <class 'set'>\n"
     ]
    }
   ],
   "source": [
    "# Create a set.\n",
    "a = {1, 2, 3}\n",
    "print(a, type(a))"
   ]
  },
  {
   "cell_type": "code",
   "execution_count": 108,
   "metadata": {
    "ExecuteTime": {
     "end_time": "2025-03-15T08:48:28.973045Z",
     "start_time": "2025-03-15T08:48:28.971173Z"
    },
    "id": "0L8jmP6dNjHA"
   },
   "outputs": [
    {
     "name": "stdout",
     "output_type": "stream",
     "text": [
      "{} <class 'dict'>\n"
     ]
    }
   ],
   "source": [
    "# An empty set cannot be created with {}.\n",
    "a = {}\n",
    "print(a, type(a))"
   ]
  },
  {
   "cell_type": "code",
   "execution_count": 109,
   "metadata": {
    "ExecuteTime": {
     "end_time": "2025-03-15T08:48:36.038385Z",
     "start_time": "2025-03-15T08:48:36.036642Z"
    },
    "id": "MUdL_9LzqSE3"
   },
   "outputs": [
    {
     "name": "stdout",
     "output_type": "stream",
     "text": [
      "set() <class 'set'>\n"
     ]
    }
   ],
   "source": [
    "# Use set() to create an empty one.\n",
    "b = set()\n",
    "print(b, type(b))"
   ]
  },
  {
   "cell_type": "code",
   "execution_count": 110,
   "metadata": {
    "ExecuteTime": {
     "end_time": "2025-03-15T08:48:43.088638Z",
     "start_time": "2025-03-15T08:48:43.073001Z"
    },
    "id": "m57a2iF-V5qp"
   },
   "outputs": [
    {
     "ename": "TypeError",
     "evalue": "unhashable type: 'list'",
     "output_type": "error",
     "traceback": [
      "\u001b[31m---------------------------------------------------------------------------\u001b[39m",
      "\u001b[31mTypeError\u001b[39m                                 Traceback (most recent call last)",
      "\u001b[36mCell\u001b[39m\u001b[36m \u001b[39m\u001b[32mIn[110]\u001b[39m\u001b[32m, line 2\u001b[39m\n\u001b[32m      1\u001b[39m \u001b[38;5;66;03m# Множества могут содержать только хешируемые (неизменяемые) объекты.\u001b[39;00m\n\u001b[32m----> \u001b[39m\u001b[32m2\u001b[39m a = {\u001b[33m\"\u001b[39m\u001b[33m1\u001b[39m\u001b[33m\"\u001b[39m, \u001b[32m2\u001b[39m, \u001b[32m3\u001b[39m, [\u001b[33m\"\u001b[39m\u001b[33mt\u001b[39m\u001b[33m\"\u001b[39m, \u001b[33m\"\u001b[39m\u001b[33my\u001b[39m\u001b[33m\"\u001b[39m, \u001b[33m\"\u001b[39m\u001b[33mf\u001b[39m\u001b[33m\"\u001b[39m], (\u001b[32m0\u001b[39m, \u001b[32m1\u001b[39m)}\n\u001b[32m      3\u001b[39m \u001b[38;5;28mprint\u001b[39m(a, \u001b[38;5;28mtype\u001b[39m(a))\n",
      "\u001b[31mTypeError\u001b[39m: unhashable type: 'list'"
     ]
    }
   ],
   "source": [
    "# Set can contain only hashable types (just like dict keys).\n",
    "a = {\"1\", 2, 3, [\"t\", \"y\", \"f\"], (0, 1)}\n",
    "print(a, type(a))"
   ]
  },
  {
   "cell_type": "code",
   "execution_count": 111,
   "metadata": {
    "ExecuteTime": {
     "end_time": "2025-03-15T08:49:00.801726Z",
     "start_time": "2025-03-15T08:49:00.787328Z"
    },
    "id": "-c88Pzs6g8ax"
   },
   "outputs": [
    {
     "ename": "TypeError",
     "evalue": "unhashable type: 'list'",
     "output_type": "error",
     "traceback": [
      "\u001b[31m---------------------------------------------------------------------------\u001b[39m",
      "\u001b[31mTypeError\u001b[39m                                 Traceback (most recent call last)",
      "\u001b[36mCell\u001b[39m\u001b[36m \u001b[39m\u001b[32mIn[111]\u001b[39m\u001b[32m, line 3\u001b[39m\n\u001b[32m      1\u001b[39m \u001b[38;5;66;03m# И совершенно не важно как глубоко во вложенных конструкциях \u001b[39;00m\n\u001b[32m      2\u001b[39m \u001b[38;5;66;03m# спрячется нехешируемый объект. \u001b[39;00m\n\u001b[32m----> \u001b[39m\u001b[32m3\u001b[39m a = {\u001b[33m\"\u001b[39m\u001b[33m1\u001b[39m\u001b[33m\"\u001b[39m, \u001b[32m2\u001b[39m, \u001b[32m3\u001b[39m, (\u001b[33m\"\u001b[39m\u001b[33mt\u001b[39m\u001b[33m\"\u001b[39m, [\u001b[33m\"\u001b[39m\u001b[33my\u001b[39m\u001b[33m\"\u001b[39m], \u001b[33m\"\u001b[39m\u001b[33mf\u001b[39m\u001b[33m\"\u001b[39m), (\u001b[32m0\u001b[39m, \u001b[32m1\u001b[39m)}\n\u001b[32m      4\u001b[39m \u001b[38;5;28mprint\u001b[39m(a)\n",
      "\u001b[31mTypeError\u001b[39m: unhashable type: 'list'"
     ]
    }
   ],
   "source": [
    "a = {\"1\", 2, 3, (\"t\", [\"y\"], \"f\"), (0, 1)}\n",
    "print(a)"
   ]
  },
  {
   "cell_type": "code",
   "execution_count": 112,
   "metadata": {
    "ExecuteTime": {
     "end_time": "2025-03-15T08:49:23.918222Z",
     "start_time": "2025-03-15T08:49:23.915477Z"
    },
    "id": "qUeRhhBWgxDz"
   },
   "outputs": [
    {
     "name": "stdout",
     "output_type": "stream",
     "text": [
      "{1, 2, 3}\n"
     ]
    }
   ],
   "source": [
    "# Items in set should be unique and cannot repeat.\n",
    "a = {1, 2, 2, 3}\n",
    "print(a)"
   ]
  },
  {
   "cell_type": "code",
   "execution_count": 113,
   "metadata": {
    "ExecuteTime": {
     "end_time": "2025-03-15T08:49:30.738205Z",
     "start_time": "2025-03-15T08:49:30.735688Z"
    },
    "id": "sj1USKnDhL5S"
   },
   "outputs": [
    {
     "name": "stdout",
     "output_type": "stream",
     "text": [
      "{1, 2, 3}\n"
     ]
    }
   ],
   "source": [
    "# Create a set from a list.\n",
    "a = set([1, 2, 2, 3])\n",
    "print(a)"
   ]
  },
  {
   "cell_type": "code",
   "execution_count": 116,
   "metadata": {
    "ExecuteTime": {
     "end_time": "2025-03-15T08:50:07.943200Z",
     "start_time": "2025-03-15T08:50:07.940908Z"
    },
    "id": "ksx0TDz6QA4Z"
   },
   "outputs": [
    {
     "name": "stdout",
     "output_type": "stream",
     "text": [
      "(2, 3)\n",
      "1\n",
      "2\n"
     ]
    }
   ],
   "source": [
    "# Loop over set. No order.\n",
    "for element in {1, (2, 3), 2}:\n",
    "    print(element)\n"
   ]
  },
  {
   "cell_type": "markdown",
   "metadata": {
    "id": "xSbJvY9_PMzS"
   },
   "source": [
    "#### Операции над множествами"
   ]
  },
  {
   "cell_type": "code",
   "execution_count": 117,
   "metadata": {
    "ExecuteTime": {
     "end_time": "2025-03-15T08:50:52.130005Z",
     "start_time": "2025-03-15T08:50:52.115503Z"
    },
    "id": "5AJj8m-CjXS3"
   },
   "outputs": [
    {
     "ename": "TypeError",
     "evalue": "unsupported operand type(s) for +: 'set' and 'set'",
     "output_type": "error",
     "traceback": [
      "\u001b[31m---------------------------------------------------------------------------\u001b[39m",
      "\u001b[31mTypeError\u001b[39m                                 Traceback (most recent call last)",
      "\u001b[36mCell\u001b[39m\u001b[36m \u001b[39m\u001b[32mIn[117]\u001b[39m\u001b[32m, line 4\u001b[39m\n\u001b[32m      2\u001b[39m a = {\u001b[32m1\u001b[39m, \u001b[32m2\u001b[39m, \u001b[32m3\u001b[39m}\n\u001b[32m      3\u001b[39m b = {\u001b[32m3\u001b[39m, \u001b[32m4\u001b[39m, \u001b[32m5\u001b[39m}\n\u001b[32m----> \u001b[39m\u001b[32m4\u001b[39m a = \u001b[43ma\u001b[49m\u001b[43m \u001b[49m\u001b[43m+\u001b[49m\u001b[43m \u001b[49m\u001b[43mb\u001b[49m\n\u001b[32m      5\u001b[39m \u001b[38;5;28mprint\u001b[39m(a)\n",
      "\u001b[31mTypeError\u001b[39m: unsupported operand type(s) for +: 'set' and 'set'"
     ]
    }
   ],
   "source": [
    "# Adding up sets returns an error.\n",
    "a = {1, 2, 3}\n",
    "b = {3, 4, 5}\n",
    "a = a + b\n",
    "print(a)"
   ]
  },
  {
   "cell_type": "code",
   "execution_count": 118,
   "metadata": {
    "ExecuteTime": {
     "end_time": "2025-03-15T08:50:58.988253Z",
     "start_time": "2025-03-15T08:50:58.986010Z"
    },
    "id": "d3-tV9IPPVxd"
   },
   "outputs": [
    {
     "name": "stdout",
     "output_type": "stream",
     "text": [
      "{1, 2, 3, 4, 5}\n"
     ]
    }
   ],
   "source": [
    "# Instead, sets support union operation.\n",
    "a = {1, 2, 3}\n",
    "b = {3, 4, 5}\n",
    "a = a | b\n",
    "print(a)"
   ]
  },
  {
   "cell_type": "code",
   "execution_count": 119,
   "metadata": {
    "ExecuteTime": {
     "end_time": "2025-03-15T08:51:26.693133Z",
     "start_time": "2025-03-15T08:51:26.689759Z"
    },
    "id": "3n-Rsw1oPcd1"
   },
   "outputs": [
    {
     "name": "stdout",
     "output_type": "stream",
     "text": [
      "{3}\n"
     ]
    }
   ],
   "source": [
    "# Set intersection.\n",
    "a = {1, 2, 3}\n",
    "b = {3, 4, 5}\n",
    "a = a & b\n",
    "print(a)"
   ]
  },
  {
   "cell_type": "code",
   "execution_count": 121,
   "metadata": {
    "ExecuteTime": {
     "end_time": "2025-03-15T08:51:52.091027Z",
     "start_time": "2025-03-15T08:51:52.089042Z"
    },
    "id": "Po872QFhPlo6"
   },
   "outputs": [
    {
     "name": "stdout",
     "output_type": "stream",
     "text": [
      "{1, 2}\n"
     ]
    }
   ],
   "source": [
    "# Set diff.\n",
    "a = {1, 2, 3}\n",
    "b = {3, 4, 5}\n",
    "a = a - b\n",
    "print(a)"
   ]
  },
  {
   "cell_type": "code",
   "execution_count": 122,
   "metadata": {
    "ExecuteTime": {
     "end_time": "2025-03-15T08:52:38.910696Z",
     "start_time": "2025-03-15T08:52:38.908570Z"
    },
    "id": "xpdaRdy_PpcD"
   },
   "outputs": [
    {
     "name": "stdout",
     "output_type": "stream",
     "text": [
      "{1, 2, 4, 5}\n"
     ]
    }
   ],
   "source": [
    "# Symmetric diff.\n",
    "a = {1, 2, 3}\n",
    "b = {3, 4, 5}\n",
    "a = a ^ b\n",
    "print(a)"
   ]
  },
  {
   "cell_type": "code",
   "execution_count": 127,
   "metadata": {
    "ExecuteTime": {
     "end_time": "2025-03-15T08:53:47.742203Z",
     "start_time": "2025-03-15T08:53:47.739628Z"
    },
    "id": "cmlpMaIZCqlp"
   },
   "outputs": [
    {
     "name": "stdout",
     "output_type": "stream",
     "text": [
      "{2, 3} 1\n",
      "{3} 2\n"
     ]
    }
   ],
   "source": [
    "# Get an item from a set.\n",
    "a = {1, 2, 3}\n",
    "item = a.pop()\n",
    "print(a, item)\n",
    "\n",
    "item = a.pop()\n",
    "print(a, item)"
   ]
  },
  {
   "cell_type": "code",
   "execution_count": null,
   "metadata": {},
   "outputs": [],
   "source": [
    "numbers_l = [2, 3, 0, 1, 10, 5, 4]\n",
    "print(10 in numbers_l) # O(n)\n",
    "\n",
    "numbers_d = {1: \"one\", 2: \"two\", 3: \"three\"}\n",
    "print(4 in numbers_d)  # O(1)\n",
    "\n",
    "numbers_s = {2, 3, 0, 1, 10, 5, 4}\n",
    "print(5 in numbers_s)  # O(1)"
   ]
  },
  {
   "cell_type": "markdown",
   "metadata": {
    "id": "Ge9F5bPXq4zM"
   },
   "source": [
    "## Генераторы списков, словарей, множеств"
   ]
  },
  {
   "cell_type": "markdown",
   "metadata": {
    "id": "kXBQIiC7hjNi"
   },
   "source": [
    "### Теоретическая часть\n"
   ]
  },
  {
   "cell_type": "markdown",
   "metadata": {
    "id": "5KMD7UAUh-bc"
   },
   "source": [
    "#### Основные определения\n",
    "****\n",
    "**Генератор списков** \n",
    "\n",
    "Общий синтаксис: \n",
    "```python\n",
    "[operation for element1 in iterable1 for element2 in iterable2... if conditions]\n",
    "```\n",
    "Генератор списков - это синтаксическая конструкция, которая к каждому элементу итерируемого объекта, удовлетворяющего условиям `conditions`, применяет операцию `operation` и возвращает список состоящий из результатов применения. \n",
    "\n",
    "Таким образом, генератор списков - простая и удобная конструкция для создания списков, имеющая человекочитаемый синтаксис.\n",
    "\n",
    "****\n",
    "**Генератор словарей** \n",
    "\n",
    "Все аналогично со списками. \n",
    "Общий синтаксис: \n",
    "```python\n",
    "{create_key:create_value for element1 in iterable1 for element2 in iterable2... if conditions}\n",
    "```\n",
    "Генератор словарей - это синтаксическая конструкция, которая к каждому элементу итерируемого объекта, удовлетворяющего условиям `conditions`, применяет операцию `create_key` для создания ключа, операцию `create_value` для создания значения, и возвращает словарь состоящий из результатов применения. \n",
    "\n",
    "\n",
    "****\n",
    "**Генератор множеств** \n",
    "\n",
    "Все аналогично со списками. \n",
    "Общий синтаксис: \n",
    "```python\n",
    "{operation for element1 in iterable1 for element2 in iterable2... if conditions}\n",
    "```\n",
    "Генератор множеств - это синтаксическая конструкция, которая к каждому элементу итерируемого объекта, удовлетворяющего условиям `conditions`, применяет операцию `operation` и возвращает множество состоящее из результатов применения. \n",
    "\n",
    "****\n",
    "Общие замечания к генераторам:\n",
    "- Генераторов кортежей не существует, есть выражения-генераторы, но это совершенно другая сущность, о которой позже. \n",
    "- Как видно по общему синтаксису, в генераторе может участвовать несколько итерируемых объектов (`iterable1`, `iterable2`, ... ). В таком случае операции будут применены к каждому возможному набору из `element1`, `element2` и т.д. \n",
    "- В выполняемой инструкции может быть только одно выражение. Использовать `;` для записи нескольких инструкций недопустимо. \n",
    "- В операции может быть вызвана сторонняя фукнция, если необходимы сложные преобразования данных. \n",
    "- Генераторы могут быть достаточно громоздкими. Наша задача - в случае, если они становятся чересчур сложными для понимания, возможно, стоит переписать это под обычный цикл `for`.\n",
    "\n"
   ]
  },
  {
   "cell_type": "markdown",
   "metadata": {
    "id": "PrtaZomshmb5"
   },
   "source": [
    "### Code Snippets"
   ]
  },
  {
   "cell_type": "code",
   "execution_count": 147,
   "metadata": {
    "ExecuteTime": {
     "end_time": "2025-03-15T09:35:15.384485Z",
     "start_time": "2025-03-15T09:35:15.382255Z"
    }
   },
   "outputs": [
    {
     "name": "stdout",
     "output_type": "stream",
     "text": [
      "1\n",
      "3\n",
      "5\n",
      "[1, 9, 25]\n"
     ]
    }
   ],
   "source": [
    "# Loop for\n",
    "lst = []\n",
    "for el in range(10):\n",
    "    if el % 2 == 0:\n",
    "        continue\n",
    "    lst.append(el ** 2)\n",
    "    print(el)\n",
    "    if el == 5:\n",
    "        break\n",
    "else:\n",
    "    print(\"the end\")\n",
    "\n",
    "print(lst)"
   ]
  },
  {
   "cell_type": "code",
   "execution_count": 152,
   "metadata": {
    "ExecuteTime": {
     "end_time": "2025-03-15T09:40:07.172227Z",
     "start_time": "2025-03-15T09:40:07.168967Z"
    }
   },
   "outputs": [
    {
     "name": "stdout",
     "output_type": "stream",
     "text": [
      "[1, 3, 5]\n"
     ]
    }
   ],
   "source": [
    "# Loop while\n",
    "i = 0\n",
    "lst = []\n",
    "while len(lst) < 10:\n",
    "    i += 1\n",
    "    if i % 2 == 0:\n",
    "        continue\n",
    "    lst.append(i)\n",
    "    if i == 5:\n",
    "        break\n",
    "else:\n",
    "    print(\"the end\")\n",
    "\n",
    "print(lst)"
   ]
  },
  {
   "cell_type": "markdown",
   "metadata": {
    "id": "M0fhhkYAnJEG"
   },
   "source": [
    "#### Генераторы списков"
   ]
  },
  {
   "cell_type": "code",
   "execution_count": 128,
   "metadata": {
    "ExecuteTime": {
     "end_time": "2025-03-15T09:24:53.603941Z",
     "start_time": "2025-03-15T09:24:53.599941Z"
    },
    "id": "Jcq9TthOmksC"
   },
   "outputs": [
    {
     "name": "stdout",
     "output_type": "stream",
     "text": [
      "[0, 1, 4, 9, 16]\n"
     ]
    }
   ],
   "source": [
    "lst = [el ** 2 for el in range(5)]\n",
    "print(lst)"
   ]
  },
  {
   "cell_type": "code",
   "execution_count": 129,
   "metadata": {
    "ExecuteTime": {
     "end_time": "2025-03-15T09:25:28.543776Z",
     "start_time": "2025-03-15T09:25:28.541493Z"
    },
    "id": "gv75kk2Nrlfk"
   },
   "outputs": [
    {
     "name": "stdout",
     "output_type": "stream",
     "text": [
      "[[0, 0], [0, 1], [1, 0], [1, 1]]\n"
     ]
    }
   ],
   "source": [
    "lst1 = [[a, b] for a in range(2) for b in range(2)]\n",
    "print(lst1)"
   ]
  },
  {
   "cell_type": "code",
   "execution_count": 130,
   "metadata": {
    "ExecuteTime": {
     "end_time": "2025-03-15T09:26:05.637172Z",
     "start_time": "2025-03-15T09:26:05.634474Z"
    },
    "id": "nC1MyPCWsXcJ"
   },
   "outputs": [
    {
     "name": "stdout",
     "output_type": "stream",
     "text": [
      "['q', 'e', 't']\n"
     ]
    }
   ],
   "source": [
    "lst1 = [element for element in \"qWeRtY\" if \"a\" <= element <= \"z\"]\n",
    "print(lst1)"
   ]
  },
  {
   "cell_type": "markdown",
   "metadata": {
    "id": "l6kK5ngqnUdy"
   },
   "source": [
    "#### Генераторы словарей"
   ]
  },
  {
   "cell_type": "code",
   "execution_count": 131,
   "metadata": {
    "ExecuteTime": {
     "end_time": "2025-03-15T09:26:45.896566Z",
     "start_time": "2025-03-15T09:26:45.894208Z"
    },
    "id": "KrgfTI58t2fP"
   },
   "outputs": [
    {
     "name": "stdout",
     "output_type": "stream",
     "text": [
      "{'0': 1, '1': 2, '2': 3} <class 'dict'>\n"
     ]
    }
   ],
   "source": [
    "dct = {str(element): element + 1 for element in range(3)}\n",
    "print(dct, type(dct))"
   ]
  },
  {
   "cell_type": "code",
   "execution_count": 134,
   "metadata": {
    "ExecuteTime": {
     "end_time": "2025-03-15T09:27:18.018214Z",
     "start_time": "2025-03-15T09:27:18.015759Z"
    },
    "id": "XG1jT1NbQrBp"
   },
   "outputs": [
    {
     "name": "stdout",
     "output_type": "stream",
     "text": [
      "{(0, 2): 1, (1, 3): 2, (2, 4): 3}\n"
     ]
    }
   ],
   "source": [
    "dct = {(element, element + 2): element + 1 for element in range(3)}\n",
    "print(dct)"
   ]
  },
  {
   "cell_type": "markdown",
   "metadata": {
    "id": "LRo-_7vfoUha"
   },
   "source": [
    "#### Генераторы множеств"
   ]
  },
  {
   "cell_type": "code",
   "execution_count": 135,
   "metadata": {
    "ExecuteTime": {
     "end_time": "2025-03-15T09:27:45.667011Z",
     "start_time": "2025-03-15T09:27:45.664799Z"
    },
    "id": "PzMrOPE4ivpz"
   },
   "outputs": [
    {
     "name": "stdout",
     "output_type": "stream",
     "text": [
      "{0, 1, 64, 4, 36, 9, 16, 49, 81, 25} <class 'set'>\n"
     ]
    }
   ],
   "source": [
    "a = {i ** 2 for i in range(10)}\n",
    "print(a, type(a))"
   ]
  },
  {
   "cell_type": "code",
   "execution_count": 139,
   "metadata": {
    "ExecuteTime": {
     "end_time": "2025-03-15T09:29:09.728328Z",
     "start_time": "2025-03-15T09:29:09.726035Z"
    },
    "id": "0kcJnMxgiyBG"
   },
   "outputs": [
    {
     "name": "stdout",
     "output_type": "stream",
     "text": [
      "smth\n",
      "smth\n",
      "<class 'set'>\n",
      "{None}\n"
     ]
    }
   ],
   "source": [
    "a = {print(\"smth\") for _ in range(2)}\n",
    "print(type(a))\n",
    "print(a)"
   ]
  }
 ],
 "metadata": {
  "colab": {
   "collapsed_sections": [],
   "name": "5.Итерируемые_объекты_v1.ipynb",
   "provenance": []
  },
  "kernelspec": {
   "display_name": "Python 3 (ipykernel)",
   "language": "python",
   "name": "python3"
  }
 },
 "nbformat": 4,
 "nbformat_minor": 0
}
